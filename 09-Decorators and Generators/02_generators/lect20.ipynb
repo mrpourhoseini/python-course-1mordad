{
 "cells": [
  {
   "cell_type": "markdown",
   "id": "44e4b008",
   "metadata": {},
   "source": [
    "# Generators"
   ]
  },
  {
   "cell_type": "code",
   "execution_count": 1,
   "id": "efc90d3d",
   "metadata": {},
   "outputs": [],
   "source": [
    "def cube(n):\n",
    "    for num in range(n):\n",
    "        yield num**3"
   ]
  },
  {
   "cell_type": "code",
   "execution_count": 3,
   "id": "3235f416",
   "metadata": {},
   "outputs": [
    {
     "data": {
      "text/plain": [
       "[0, 1, 8, 27, 64, 125, 216, 343, 512, 729]"
      ]
     },
     "execution_count": 3,
     "metadata": {},
     "output_type": "execute_result"
    }
   ],
   "source": [
    "list(cube(10))"
   ]
  },
  {
   "cell_type": "code",
   "execution_count": 4,
   "id": "4cdb6a0e",
   "metadata": {},
   "outputs": [
    {
     "name": "stdout",
     "output_type": "stream",
     "text": [
      "0\n",
      "1\n",
      "8\n",
      "27\n",
      "64\n",
      "125\n",
      "216\n",
      "343\n",
      "512\n",
      "729\n"
     ]
    }
   ],
   "source": [
    "for i in cube(10):\n",
    "    print(i)"
   ]
  },
  {
   "cell_type": "markdown",
   "id": "90d44880",
   "metadata": {},
   "source": [
    "## تمرین 1"
   ]
  },
  {
   "cell_type": "code",
   "execution_count": 8,
   "id": "6ccb23b5",
   "metadata": {},
   "outputs": [],
   "source": [
    "def fibo(n):\n",
    "    a,b = 0,1\n",
    "    for _ in range(n):\n",
    "        yield a\n",
    "        a,b = b,a+b"
   ]
  },
  {
   "cell_type": "code",
   "execution_count": 9,
   "id": "7855bf56",
   "metadata": {},
   "outputs": [
    {
     "data": {
      "text/plain": [
       "[0, 1, 1, 2, 3, 5, 8, 13, 21, 34]"
      ]
     },
     "execution_count": 9,
     "metadata": {},
     "output_type": "execute_result"
    }
   ],
   "source": [
    "list(fibo(10))"
   ]
  },
  {
   "cell_type": "markdown",
   "id": "bdf0df3f",
   "metadata": {},
   "source": [
    "## تمرین 2"
   ]
  },
  {
   "cell_type": "code",
   "execution_count": 10,
   "id": "b3d38d54",
   "metadata": {},
   "outputs": [],
   "source": [
    "import random"
   ]
  },
  {
   "cell_type": "code",
   "execution_count": 12,
   "id": "645a04e2",
   "metadata": {},
   "outputs": [
    {
     "data": {
      "text/plain": [
       "31"
      ]
     },
     "execution_count": 12,
     "metadata": {},
     "output_type": "execute_result"
    }
   ],
   "source": [
    "random.randint(20,40)"
   ]
  },
  {
   "cell_type": "code",
   "execution_count": 13,
   "id": "1b2c4b66",
   "metadata": {},
   "outputs": [],
   "source": [
    "def rand_int(low,high,n):\n",
    "    for _ in range(n):\n",
    "        yield random.randint(low,high)"
   ]
  },
  {
   "cell_type": "code",
   "execution_count": 16,
   "id": "ed6e5944",
   "metadata": {},
   "outputs": [
    {
     "data": {
      "text/plain": [
       "[10, 77, 95, 75, 44, 50, 97, 73, 64, 39, 45, 1, 63, 34, 82, 61, 49, 60, 93, 62]"
      ]
     },
     "execution_count": 16,
     "metadata": {},
     "output_type": "execute_result"
    }
   ],
   "source": [
    "list(rand_int(1,100,20))"
   ]
  }
 ],
 "metadata": {
  "kernelspec": {
   "display_name": "Python 3 (ipykernel)",
   "language": "python",
   "name": "python3"
  },
  "language_info": {
   "codemirror_mode": {
    "name": "ipython",
    "version": 3
   },
   "file_extension": ".py",
   "mimetype": "text/x-python",
   "name": "python",
   "nbconvert_exporter": "python",
   "pygments_lexer": "ipython3",
   "version": "3.10.3"
  }
 },
 "nbformat": 4,
 "nbformat_minor": 5
}
