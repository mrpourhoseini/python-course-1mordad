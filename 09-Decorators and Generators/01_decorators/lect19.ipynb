{
 "cells": [
  {
   "cell_type": "markdown",
   "id": "5df00a02",
   "metadata": {},
   "source": [
    "# Decorators"
   ]
  },
  {
   "cell_type": "code",
   "execution_count": 1,
   "id": "f0f856c8",
   "metadata": {},
   "outputs": [],
   "source": [
    "def function_decorator(func):\n",
    "    def inner():\n",
    "        func()\n",
    "        print(\"Bye\")\n",
    "    return inner"
   ]
  },
  {
   "cell_type": "code",
   "execution_count": 14,
   "id": "3e53a9b3",
   "metadata": {},
   "outputs": [],
   "source": [
    "@function_decorator\n",
    "def hello():\n",
    "    print(\"Hello\")"
   ]
  },
  {
   "cell_type": "code",
   "execution_count": 15,
   "id": "d33b54bc",
   "metadata": {},
   "outputs": [
    {
     "data": {
      "text/plain": [
       "<function __main__.function_decorator.<locals>.inner()>"
      ]
     },
     "execution_count": 15,
     "metadata": {},
     "output_type": "execute_result"
    }
   ],
   "source": [
    "hello"
   ]
  },
  {
   "cell_type": "code",
   "execution_count": 16,
   "id": "47227631",
   "metadata": {},
   "outputs": [
    {
     "name": "stdout",
     "output_type": "stream",
     "text": [
      "Hello\n",
      "Bye\n"
     ]
    }
   ],
   "source": [
    "hello()"
   ]
  },
  {
   "cell_type": "code",
   "execution_count": 6,
   "id": "d49427d0",
   "metadata": {},
   "outputs": [],
   "source": [
    "second = function_decorator(hello)"
   ]
  },
  {
   "cell_type": "code",
   "execution_count": 7,
   "id": "70e53895",
   "metadata": {},
   "outputs": [
    {
     "data": {
      "text/plain": [
       "<function __main__.function_decorator.<locals>.inner()>"
      ]
     },
     "execution_count": 7,
     "metadata": {},
     "output_type": "execute_result"
    }
   ],
   "source": [
    "second"
   ]
  },
  {
   "cell_type": "code",
   "execution_count": 8,
   "id": "ce7f63ec",
   "metadata": {},
   "outputs": [
    {
     "name": "stdout",
     "output_type": "stream",
     "text": [
      "Hello\n",
      "Bye\n"
     ]
    }
   ],
   "source": [
    "second()"
   ]
  },
  {
   "cell_type": "markdown",
   "id": "2f8728cf",
   "metadata": {},
   "source": [
    "# ارسال آرگمان به دکوریتور"
   ]
  },
  {
   "cell_type": "code",
   "execution_count": 32,
   "id": "dbaa8093",
   "metadata": {},
   "outputs": [],
   "source": [
    "def function_decorator(func):\n",
    "    def inner(first_name):\n",
    "        func(first_name)\n",
    "        print(f\"Bye {first_name}\")\n",
    "    return inner"
   ]
  },
  {
   "cell_type": "code",
   "execution_count": 33,
   "id": "f2364282",
   "metadata": {},
   "outputs": [],
   "source": [
    "@function_decorator\n",
    "def hello(name):\n",
    "    print(f\"Hello {name}\")"
   ]
  },
  {
   "cell_type": "code",
   "execution_count": 34,
   "id": "d396b21b",
   "metadata": {},
   "outputs": [
    {
     "name": "stdout",
     "output_type": "stream",
     "text": [
      "Hello Ali\n",
      "Bye Ali\n"
     ]
    }
   ],
   "source": [
    "hello(\"Ali\")"
   ]
  },
  {
   "cell_type": "code",
   "execution_count": 35,
   "id": "8ddfa06c",
   "metadata": {},
   "outputs": [],
   "source": [
    "@function_decorator\n",
    "def hi(name, family):\n",
    "    print(f\"Hello {name} {family}\")"
   ]
  },
  {
   "cell_type": "code",
   "execution_count": 36,
   "id": "fe0e6083",
   "metadata": {},
   "outputs": [
    {
     "ename": "TypeError",
     "evalue": "function_decorator.<locals>.inner() takes 1 positional argument but 2 were given",
     "output_type": "error",
     "traceback": [
      "\u001b[1;31m---------------------------------------------------------------------------\u001b[0m",
      "\u001b[1;31mTypeError\u001b[0m                                 Traceback (most recent call last)",
      "Input \u001b[1;32mIn [36]\u001b[0m, in \u001b[0;36m<cell line: 1>\u001b[1;34m()\u001b[0m\n\u001b[1;32m----> 1\u001b[0m \u001b[43mhi\u001b[49m\u001b[43m(\u001b[49m\u001b[38;5;124;43m\"\u001b[39;49m\u001b[38;5;124;43mAli\u001b[39;49m\u001b[38;5;124;43m\"\u001b[39;49m\u001b[43m,\u001b[49m\u001b[43m \u001b[49m\u001b[38;5;124;43m\"\u001b[39;49m\u001b[38;5;124;43mGodarzi\u001b[39;49m\u001b[38;5;124;43m\"\u001b[39;49m\u001b[43m)\u001b[49m\n",
      "\u001b[1;31mTypeError\u001b[0m: function_decorator.<locals>.inner() takes 1 positional argument but 2 were given"
     ]
    }
   ],
   "source": [
    "hi(\"Ali\", \"Godarzi\")"
   ]
  },
  {
   "cell_type": "markdown",
   "id": "e9195db7",
   "metadata": {},
   "source": [
    "# ارسال چند آرگمان به دکوریتور"
   ]
  },
  {
   "cell_type": "code",
   "execution_count": 55,
   "id": "a734115d",
   "metadata": {},
   "outputs": [],
   "source": [
    "def function_decorator(func):\n",
    "    def inner(*args, **kwargs):\n",
    "        func(*args, **kwargs)\n",
    "        print(f\"Bye {args[0]}\")\n",
    "    return inner"
   ]
  },
  {
   "cell_type": "code",
   "execution_count": 56,
   "id": "48515865",
   "metadata": {},
   "outputs": [],
   "source": [
    "@function_decorator\n",
    "def hello(name):\n",
    "    print(f\"Hello {name}\")"
   ]
  },
  {
   "cell_type": "code",
   "execution_count": 57,
   "id": "5cd17042",
   "metadata": {},
   "outputs": [
    {
     "name": "stdout",
     "output_type": "stream",
     "text": [
      "Hello Ali\n",
      "Bye Ali\n"
     ]
    }
   ],
   "source": [
    "hello(\"Ali\")"
   ]
  },
  {
   "cell_type": "code",
   "execution_count": 58,
   "id": "ce724e2c",
   "metadata": {},
   "outputs": [],
   "source": [
    "@function_decorator\n",
    "def hi(name, family):\n",
    "    print(f\"Hello {name} {family}\")"
   ]
  },
  {
   "cell_type": "code",
   "execution_count": 59,
   "id": "fa128381",
   "metadata": {},
   "outputs": [
    {
     "name": "stdout",
     "output_type": "stream",
     "text": [
      "Hello Ali Godarzi\n",
      "Bye Ali\n"
     ]
    }
   ],
   "source": [
    "hi(\"Ali\", \"Godarzi\")"
   ]
  },
  {
   "cell_type": "markdown",
   "id": "e35dbdd9",
   "metadata": {},
   "source": [
    "## برنامه ای بنویسید که مدت زمان اجرای یک برنامه را محاسبه کند"
   ]
  },
  {
   "cell_type": "code",
   "execution_count": 61,
   "id": "2e7beba4",
   "metadata": {},
   "outputs": [],
   "source": [
    "from datetime import datetime\n",
    "\n",
    "def time(func):\n",
    "    def inner():\n",
    "        start = datetime.now()\n",
    "        func()\n",
    "        end = datetime.now()\n",
    "        time_out = end - start\n",
    "        print(f\"Duration of code execution: {time_out}\")\n",
    "    return inner"
   ]
  },
  {
   "cell_type": "code",
   "execution_count": 64,
   "id": "60f67a8d",
   "metadata": {},
   "outputs": [],
   "source": [
    "@time\n",
    "def my_func():\n",
    "    result = 0\n",
    "    for num in range(100000000):\n",
    "        result += num\n",
    "    print(f\"Result: {result}\")"
   ]
  },
  {
   "cell_type": "code",
   "execution_count": 65,
   "id": "d80acfb0",
   "metadata": {},
   "outputs": [
    {
     "name": "stdout",
     "output_type": "stream",
     "text": [
      "Result: 4999999950000000\n",
      "Duration of code execution: 0:00:10.414602\n"
     ]
    }
   ],
   "source": [
    "my_func()"
   ]
  },
  {
   "cell_type": "code",
   "execution_count": 66,
   "id": "c4fdb31d",
   "metadata": {},
   "outputs": [],
   "source": [
    "@time\n",
    "def hello_world():\n",
    "    print(\"Hello World\")"
   ]
  },
  {
   "cell_type": "code",
   "execution_count": 67,
   "id": "b2517796",
   "metadata": {},
   "outputs": [
    {
     "name": "stdout",
     "output_type": "stream",
     "text": [
      "Hello World\n",
      "Duration of code execution: 0:00:00.001006\n"
     ]
    }
   ],
   "source": [
    "hello_world()"
   ]
  }
 ],
 "metadata": {
  "kernelspec": {
   "display_name": "Python 3 (ipykernel)",
   "language": "python",
   "name": "python3"
  },
  "language_info": {
   "codemirror_mode": {
    "name": "ipython",
    "version": 3
   },
   "file_extension": ".py",
   "mimetype": "text/x-python",
   "name": "python",
   "nbconvert_exporter": "python",
   "pygments_lexer": "ipython3",
   "version": "3.10.3"
  }
 },
 "nbformat": 4,
 "nbformat_minor": 5
}
