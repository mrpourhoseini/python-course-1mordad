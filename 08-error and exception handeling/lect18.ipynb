{
 "cells": [
  {
   "cell_type": "markdown",
   "id": "814f06f6",
   "metadata": {},
   "source": [
    "# Error and Exception"
   ]
  },
  {
   "cell_type": "code",
   "execution_count": 3,
   "id": "dc75f719",
   "metadata": {},
   "outputs": [
    {
     "ename": "SyntaxError",
     "evalue": "unterminated string literal (detected at line 1) (686651017.py, line 1)",
     "output_type": "error",
     "traceback": [
      "\u001b[1;36m  Input \u001b[1;32mIn [3]\u001b[1;36m\u001b[0m\n\u001b[1;33m    print(\"python)\u001b[0m\n\u001b[1;37m          ^\u001b[0m\n\u001b[1;31mSyntaxError\u001b[0m\u001b[1;31m:\u001b[0m unterminated string literal (detected at line 1)\n"
     ]
    }
   ],
   "source": [
    "print(\"python)"
   ]
  },
  {
   "cell_type": "markdown",
   "id": "eb1c647e",
   "metadata": {},
   "source": [
    "# try/except/else"
   ]
  },
  {
   "cell_type": "code",
   "execution_count": 9,
   "id": "ba946b1f",
   "metadata": {},
   "outputs": [
    {
     "name": "stdout",
     "output_type": "stream",
     "text": [
      "ERROR: Could not find file or read data\n"
     ]
    }
   ],
   "source": [
    "try:\n",
    "    f = open('testfile.txt', 'r')\n",
    "    f.write(\"Python Programming 'read'\")\n",
    "except:\n",
    "    print(\"ERROR: Could not find file or read data\")\n",
    "else:\n",
    "    print(\"Content written successfully\")\n",
    "    f.close()"
   ]
  },
  {
   "cell_type": "code",
   "execution_count": 10,
   "id": "3017f7c7",
   "metadata": {},
   "outputs": [
    {
     "ename": "ZeroDivisionError",
     "evalue": "division by zero",
     "output_type": "error",
     "traceback": [
      "\u001b[1;31m---------------------------------------------------------------------------\u001b[0m",
      "\u001b[1;31mZeroDivisionError\u001b[0m                         Traceback (most recent call last)",
      "Input \u001b[1;32mIn [10]\u001b[0m, in \u001b[0;36m<cell line: 1>\u001b[1;34m()\u001b[0m\n\u001b[1;32m----> 1\u001b[0m \u001b[38;5;28mprint\u001b[39m(\u001b[38;5;241;43m3\u001b[39;49m\u001b[38;5;241;43m/\u001b[39;49m\u001b[38;5;241;43m0\u001b[39;49m)\n",
      "\u001b[1;31mZeroDivisionError\u001b[0m: division by zero"
     ]
    }
   ],
   "source": [
    "print(3/0)"
   ]
  },
  {
   "cell_type": "markdown",
   "id": "3d870451",
   "metadata": {},
   "source": [
    "# try/except/finally"
   ]
  },
  {
   "cell_type": "code",
   "execution_count": 13,
   "id": "92f31a93",
   "metadata": {},
   "outputs": [
    {
     "name": "stdout",
     "output_type": "stream",
     "text": [
      "ERROR: Could not find file or read data\n",
      "Always execute finally code block\n"
     ]
    }
   ],
   "source": [
    "try:\n",
    "    f = open('testfile.txt', 'r')\n",
    "    f.write(\"Test write statement\")\n",
    "    f.close()\n",
    "except:\n",
    "    print(\"ERROR: Could not find file or read data\")\n",
    "finally:\n",
    "    print(\"Always execute finally code block\")"
   ]
  },
  {
   "cell_type": "code",
   "execution_count": 14,
   "id": "5b975b44",
   "metadata": {},
   "outputs": [
    {
     "name": "stdout",
     "output_type": "stream",
     "text": [
      "Collecting pylint\n",
      "  Using cached pylint-2.15.0-py3-none-any.whl (505 kB)\n",
      "Collecting tomlkit>=0.10.1\n",
      "  Using cached tomlkit-0.11.4-py3-none-any.whl (35 kB)\n",
      "Requirement already satisfied: colorama>=0.4.5 in e:\\gdrive\\_python_mordad_01\\code\\venv\\lib\\site-packages (from pylint) (0.4.5)\n",
      "Collecting isort<6,>=4.2.5\n",
      "  Using cached isort-5.10.1-py3-none-any.whl (103 kB)\n",
      "Collecting platformdirs>=2.2.0\n",
      "  Using cached platformdirs-2.5.2-py3-none-any.whl (14 kB)\n",
      "Collecting tomli>=1.1.0\n",
      "  Using cached tomli-2.0.1-py3-none-any.whl (12 kB)\n",
      "Collecting dill>=0.2\n",
      "  Using cached dill-0.3.5.1-py2.py3-none-any.whl (95 kB)\n",
      "Collecting astroid<=2.14.0-dev0,>=2.12.4\n",
      "  Using cached astroid-2.12.5-py3-none-any.whl (262 kB)\n",
      "Collecting mccabe<0.8,>=0.6\n",
      "  Using cached mccabe-0.7.0-py2.py3-none-any.whl (7.3 kB)\n",
      "Collecting lazy-object-proxy>=1.4.0\n",
      "  Using cached lazy_object_proxy-1.7.1-cp310-cp310-win_amd64.whl (23 kB)\n",
      "Collecting wrapt<2,>=1.11\n",
      "  Using cached wrapt-1.14.1-cp310-cp310-win_amd64.whl (35 kB)\n",
      "Installing collected packages: wrapt, tomlkit, tomli, platformdirs, mccabe, lazy-object-proxy, isort, dill, astroid, pylint\n",
      "Successfully installed astroid-2.12.5 dill-0.3.5.1 isort-5.10.1 lazy-object-proxy-1.7.1 mccabe-0.7.0 platformdirs-2.5.2 pylint-2.15.0 tomli-2.0.1 tomlkit-0.11.4 wrapt-1.14.1\n"
     ]
    },
    {
     "name": "stderr",
     "output_type": "stream",
     "text": [
      "WARNING: You are using pip version 22.0.4; however, version 22.2.2 is available.\n",
      "You should consider upgrading via the 'E:\\gdrive\\_python_mordad_01\\code\\venv\\Scripts\\python.exe -m pip install --upgrade pip' command.\n"
     ]
    }
   ],
   "source": [
    "! pip install pylint"
   ]
  },
  {
   "cell_type": "code",
   "execution_count": 15,
   "id": "b0a2b6da",
   "metadata": {},
   "outputs": [
    {
     "name": "stdout",
     "output_type": "stream",
     "text": [
      "Writing simple1.py\n"
     ]
    }
   ],
   "source": [
    "%%writefile simple1.py\n",
    "a = 1\n",
    "b = 2\n",
    "print(a)\n",
    "print(B)"
   ]
  },
  {
   "cell_type": "code",
   "execution_count": 16,
   "id": "1f311de3",
   "metadata": {},
   "outputs": [
    {
     "name": "stdout",
     "output_type": "stream",
     "text": [
      "************* Module simple1\n",
      "simple1.py:1:0: C0114: Missing module docstring (missing-module-docstring)\n",
      "simple1.py:1:0: C0103: Constant name \"a\" doesn't conform to UPPER_CASE naming style (invalid-name)\n",
      "simple1.py:2:0: C0103: Constant name \"b\" doesn't conform to UPPER_CASE naming style (invalid-name)\n",
      "simple1.py:4:6: E0602: Undefined variable 'B' (undefined-variable)\n",
      "\n",
      "--------------------------------------------------------------------\n",
      "Your code has been rated at 0.00/10 (previous run: 10.00/10, -10.00)\n",
      "\n"
     ]
    }
   ],
   "source": [
    "! pylint simple1.py"
   ]
  },
  {
   "cell_type": "code",
   "execution_count": 23,
   "id": "1ca44cc4",
   "metadata": {},
   "outputs": [
    {
     "name": "stdout",
     "output_type": "stream",
     "text": [
      "Overwriting simple2.py\n"
     ]
    }
   ],
   "source": [
    "%%writefile simple2.py\n",
    "\"\"\"\n",
    "A very simple script\n",
    "\"\"\"\n",
    "\n",
    "def my_func():\n",
    "    \"\"\"\n",
    "    My function\n",
    "    \"\"\"\n",
    "    first = 1\n",
    "    second = 2\n",
    "    print(first)\n",
    "    print(second)\n",
    "\n",
    "my_func()"
   ]
  },
  {
   "cell_type": "code",
   "execution_count": 24,
   "id": "aaf52afa",
   "metadata": {},
   "outputs": [
    {
     "name": "stdout",
     "output_type": "stream",
     "text": [
      "\n",
      "-------------------------------------------------------------------\n",
      "Your code has been rated at 10.00/10 (previous run: 8.33/10, +1.67)\n",
      "\n"
     ]
    }
   ],
   "source": [
    "! pylint simple2.py"
   ]
  },
  {
   "cell_type": "markdown",
   "id": "a326fe9f",
   "metadata": {},
   "source": [
    "# unittest"
   ]
  },
  {
   "cell_type": "code",
   "execution_count": 25,
   "id": "6bd3b26c",
   "metadata": {},
   "outputs": [
    {
     "name": "stdout",
     "output_type": "stream",
     "text": [
      "anyio==3.6.1\n",
      "argon2-cffi==21.3.0\n",
      "argon2-cffi-bindings==21.2.0\n",
      "astroid==2.12.5\n",
      "asttokens==2.0.5\n",
      "attrs==21.4.0\n",
      "Babel==2.10.3\n",
      "backcall==0.2.0\n",
      "beautifulsoup4==4.11.1\n",
      "bleach==5.0.1\n",
      "certifi==2022.6.15\n",
      "cffi==1.15.1\n",
      "charset-normalizer==2.1.0\n",
      "colorama==0.4.5\n",
      "cycler==0.11.0\n",
      "debugpy==1.6.2\n",
      "decorator==5.1.1\n",
      "defusedxml==0.7.1\n",
      "dill==0.3.5.1\n",
      "entrypoints==0.4\n",
      "executing==0.8.3\n",
      "fastjsonschema==2.16.1\n",
      "fonttools==4.34.4\n",
      "idna==3.3\n",
      "ipykernel==6.15.1\n",
      "ipython==8.4.0\n",
      "ipython-genutils==0.2.0\n",
      "isort==5.10.1\n",
      "jedi==0.18.1\n",
      "Jinja2==3.1.2\n",
      "json5==0.9.8\n",
      "jsonschema==4.7.2\n",
      "jupyter-client==7.3.4\n",
      "jupyter-core==4.11.1\n",
      "jupyter-server==1.18.1\n",
      "jupyterlab==3.4.4\n",
      "jupyterlab-pygments==0.2.2\n",
      "jupyterlab-server==2.15.0\n",
      "jupyterthemes==0.20.0\n",
      "kiwisolver==1.4.4\n",
      "lazy-object-proxy==1.7.1\n",
      "lesscpy==0.15.0\n",
      "MarkupSafe==2.1.1\n",
      "matplotlib==3.5.2\n",
      "matplotlib-inline==0.1.3\n",
      "mccabe==0.7.0\n",
      "mistune==0.8.4\n",
      "nbclassic==0.4.3\n",
      "nbclient==0.6.6\n",
      "nbconvert==6.5.0\n",
      "nbformat==5.4.0\n",
      "nest-asyncio==1.5.5\n",
      "notebook==6.4.12\n",
      "notebook-shim==0.1.0\n",
      "numpy==1.23.1\n",
      "packaging==21.3\n",
      "pandocfilters==1.5.0\n",
      "parso==0.8.3\n",
      "pickleshare==0.7.5\n",
      "Pillow==9.2.0\n",
      "platformdirs==2.5.2\n",
      "ply==3.11\n",
      "prometheus-client==0.14.1\n",
      "prompt-toolkit==3.0.30\n",
      "psutil==5.9.1\n",
      "pure-eval==0.2.2\n",
      "pycparser==2.21\n",
      "Pygments==2.12.0\n",
      "pylint==2.15.0\n",
      "pyparsing==3.0.9\n",
      "pyrsistent==0.18.1\n",
      "python-dateutil==2.8.2\n",
      "pytz==2022.1\n",
      "pywin32==304\n",
      "pywinpty==2.0.6\n",
      "pyzmq==23.2.0\n",
      "requests==2.28.1\n",
      "Send2Trash==1.8.0\n",
      "six==1.16.0\n",
      "sniffio==1.2.0\n",
      "soupsieve==2.3.2.post1\n",
      "stack-data==0.3.0\n",
      "terminado==0.15.0\n",
      "tinycss2==1.1.1\n",
      "tomli==2.0.1\n",
      "tomlkit==0.11.4\n",
      "tornado==6.2\n",
      "traitlets==5.3.0\n",
      "urllib3==1.26.11\n",
      "wcwidth==0.2.5\n",
      "webencodings==0.5.1\n",
      "websocket-client==1.3.3\n",
      "wrapt==1.14.1\n"
     ]
    }
   ],
   "source": [
    "! pip freeze"
   ]
  },
  {
   "cell_type": "code",
   "execution_count": 26,
   "id": "a27d0306",
   "metadata": {},
   "outputs": [
    {
     "name": "stdout",
     "output_type": "stream",
     "text": [
      "pylint 2.15.0\n",
      "astroid 2.12.5\n",
      "Python 3.10.3 (tags/v3.10.3:a342a49, Mar 16 2022, 13:07:40) [MSC v.1929 64 bit (AMD64)]\n"
     ]
    }
   ],
   "source": [
    "! pylint --version"
   ]
  },
  {
   "cell_type": "code",
   "execution_count": 37,
   "id": "2f2bbc73",
   "metadata": {},
   "outputs": [
    {
     "name": "stdout",
     "output_type": "stream",
     "text": [
      "Overwriting cap.py\n"
     ]
    }
   ],
   "source": [
    "%%writefile cap.py\n",
    "def cap_text(text):\n",
    "    return text.title()"
   ]
  },
  {
   "cell_type": "code",
   "execution_count": 43,
   "id": "59c07dc6",
   "metadata": {},
   "outputs": [
    {
     "name": "stdout",
     "output_type": "stream",
     "text": [
      "Overwriting test_cap.py\n"
     ]
    }
   ],
   "source": [
    "%%writefile test_cap.py\n",
    "import unittest\n",
    "import cap\n",
    "\n",
    "class TestCap(unittest.TestCase):\n",
    "    \n",
    "    def test_one_word(self):\n",
    "        text = \"python\"\n",
    "        result = cap.cap_text(text)\n",
    "        self.assertEqual(result, \"Python\")\n",
    "        \n",
    "    def test_multiple_words(self):\n",
    "        text = \"python language\"\n",
    "        result = cap.cap_text(text)\n",
    "        self.assertEqual(result, \"Python Language\")\n",
    "        \n",
    "        \n",
    "if __name__ == '__main__':\n",
    "    unittest.main()"
   ]
  },
  {
   "cell_type": "code",
   "execution_count": 44,
   "id": "84c06ac2",
   "metadata": {},
   "outputs": [
    {
     "name": "stderr",
     "output_type": "stream",
     "text": [
      "..\n",
      "----------------------------------------------------------------------\n",
      "Ran 2 tests in 0.000s\n",
      "\n",
      "OK\n"
     ]
    }
   ],
   "source": [
    "! python test_cap.py"
   ]
  }
 ],
 "metadata": {
  "kernelspec": {
   "display_name": "Python 3 (ipykernel)",
   "language": "python",
   "name": "python3"
  },
  "language_info": {
   "codemirror_mode": {
    "name": "ipython",
    "version": 3
   },
   "file_extension": ".py",
   "mimetype": "text/x-python",
   "name": "python",
   "nbconvert_exporter": "python",
   "pygments_lexer": "ipython3",
   "version": "3.10.3"
  }
 },
 "nbformat": 4,
 "nbformat_minor": 5
}
