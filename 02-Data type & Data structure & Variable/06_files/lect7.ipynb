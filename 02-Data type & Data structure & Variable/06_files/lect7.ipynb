{
 "cells": [
  {
   "cell_type": "code",
   "execution_count": 6,
   "id": "dfcaefc6-3338-450e-a074-34a3e3002173",
   "metadata": {},
   "outputs": [],
   "source": [
    "my_file = open('test.txt')"
   ]
  },
  {
   "cell_type": "code",
   "execution_count": 7,
   "id": "089651bc-b5f3-404c-9baf-4072edf6b38a",
   "metadata": {},
   "outputs": [
    {
     "data": {
      "text/plain": [
       "'0. line0\\n1. line1\\n2. line2\\n3. line3\\n4. line4\\n5. line5\\n6. line6\\n7. line7\\n8. line8\\n9. line9\\n10. line10'"
      ]
     },
     "execution_count": 7,
     "metadata": {},
     "output_type": "execute_result"
    }
   ],
   "source": [
    "my_file.read()"
   ]
  },
  {
   "cell_type": "code",
   "execution_count": 8,
   "id": "1799cf59-ab2f-40a4-9985-d8a2cff7ace1",
   "metadata": {},
   "outputs": [
    {
     "data": {
      "text/plain": [
       "''"
      ]
     },
     "execution_count": 8,
     "metadata": {},
     "output_type": "execute_result"
    }
   ],
   "source": [
    "my_file.read()"
   ]
  },
  {
   "cell_type": "code",
   "execution_count": 9,
   "id": "5ae6a1c1-926a-427d-b5e2-bc43fa045650",
   "metadata": {},
   "outputs": [
    {
     "data": {
      "text/plain": [
       "0"
      ]
     },
     "execution_count": 9,
     "metadata": {},
     "output_type": "execute_result"
    }
   ],
   "source": [
    "my_file.seek(0)"
   ]
  },
  {
   "cell_type": "code",
   "execution_count": 10,
   "id": "8680cde9-2d1e-4bf9-8205-3ba3f55dec7b",
   "metadata": {},
   "outputs": [
    {
     "data": {
      "text/plain": [
       "'0. line0\\n1. line1\\n2. line2\\n3. line3\\n4. line4\\n5. line5\\n6. line6\\n7. line7\\n8. line8\\n9. line9\\n10. line10'"
      ]
     },
     "execution_count": 10,
     "metadata": {},
     "output_type": "execute_result"
    }
   ],
   "source": [
    "my_file.read()"
   ]
  },
  {
   "cell_type": "code",
   "execution_count": 12,
   "id": "507e830e-3efa-4c3a-89a5-8bcf6f846fc9",
   "metadata": {},
   "outputs": [
    {
     "name": "stdout",
     "output_type": "stream",
     "text": [
      "False\n"
     ]
    }
   ],
   "source": [
    "print(my_file.closed)"
   ]
  },
  {
   "cell_type": "code",
   "execution_count": 13,
   "id": "6481dbbc-72dc-4837-8b2c-c52ef116ca97",
   "metadata": {},
   "outputs": [],
   "source": [
    "my_file.close()"
   ]
  },
  {
   "cell_type": "code",
   "execution_count": 14,
   "id": "cb24d8b8-499e-4f7a-bdb1-1bbaca978c36",
   "metadata": {},
   "outputs": [
    {
     "name": "stdout",
     "output_type": "stream",
     "text": [
      "True\n"
     ]
    }
   ],
   "source": [
    "print(my_file.closed)"
   ]
  },
  {
   "cell_type": "code",
   "execution_count": 20,
   "id": "b7e0460e-b114-4d6d-b944-049a8266f752",
   "metadata": {},
   "outputs": [],
   "source": [
    "my_new_file = open('test.txt')"
   ]
  },
  {
   "cell_type": "code",
   "execution_count": 21,
   "id": "0dbcb5be-8394-4520-9e32-ccddc4650951",
   "metadata": {},
   "outputs": [
    {
     "data": {
      "text/plain": [
       "['0. line0\\n',\n",
       " '1. line1\\n',\n",
       " '2. line2\\n',\n",
       " '3. line3\\n',\n",
       " '4. line4\\n',\n",
       " '5. line5\\n',\n",
       " '6. line6\\n',\n",
       " '7. line7\\n',\n",
       " '8. line8\\n',\n",
       " '9. line9\\n',\n",
       " '10. line10']"
      ]
     },
     "execution_count": 21,
     "metadata": {},
     "output_type": "execute_result"
    }
   ],
   "source": [
    "my_new_file.readlines()"
   ]
  },
  {
   "cell_type": "code",
   "execution_count": 22,
   "id": "9ee9101c-59cd-497c-ab41-97e70d205b4e",
   "metadata": {},
   "outputs": [],
   "source": [
    "my_new_file.close()"
   ]
  },
  {
   "cell_type": "markdown",
   "id": "d8691f3b-9584-43ea-afe3-0e57d25ff551",
   "metadata": {},
   "source": [
    "# with"
   ]
  },
  {
   "cell_type": "code",
   "execution_count": 27,
   "id": "14c887c6-7bb0-4fbc-9f42-353920ef3747",
   "metadata": {},
   "outputs": [],
   "source": [
    "with open('test.txt') as f:\n",
    "    contents = f.read()"
   ]
  },
  {
   "cell_type": "code",
   "execution_count": 28,
   "id": "7a71a485-c06c-4b83-b12f-e83d7c1f44fe",
   "metadata": {},
   "outputs": [
    {
     "data": {
      "text/plain": [
       "'\\nHello World\\n'"
      ]
     },
     "execution_count": 28,
     "metadata": {},
     "output_type": "execute_result"
    }
   ],
   "source": [
    "contents"
   ]
  },
  {
   "cell_type": "code",
   "execution_count": 25,
   "id": "25ec0f08-9e1b-4516-9ac5-196b3c0f90ec",
   "metadata": {},
   "outputs": [
    {
     "data": {
      "text/plain": [
       "True"
      ]
     },
     "execution_count": 25,
     "metadata": {},
     "output_type": "execute_result"
    }
   ],
   "source": [
    "f.closed"
   ]
  },
  {
   "cell_type": "markdown",
   "id": "23bd25ae-0892-4b6d-8f38-936526827d66",
   "metadata": {},
   "source": [
    "# نوشتن در فایل"
   ]
  },
  {
   "cell_type": "code",
   "execution_count": 34,
   "id": "5f4ad2ba-d9ea-4577-9a7f-bf35819f1555",
   "metadata": {},
   "outputs": [],
   "source": [
    "with open('test.txt', mode='a') as f:\n",
    "    contents = f.write('\\nHello')"
   ]
  },
  {
   "cell_type": "code",
   "execution_count": 36,
   "id": "9f391964-9165-4eca-be08-12fd0c237187",
   "metadata": {},
   "outputs": [
    {
     "data": {
      "text/plain": [
       "6"
      ]
     },
     "execution_count": 36,
     "metadata": {},
     "output_type": "execute_result"
    }
   ],
   "source": [
    "contents"
   ]
  },
  {
   "cell_type": "code",
   "execution_count": 39,
   "id": "b033f0ac-0363-471e-aeb9-a6ef0356c349",
   "metadata": {},
   "outputs": [
    {
     "ename": "FileExistsError",
     "evalue": "[Errno 17] File exists: 'file.txt'",
     "output_type": "error",
     "traceback": [
      "\u001b[1;31m---------------------------------------------------------------------------\u001b[0m",
      "\u001b[1;31mFileExistsError\u001b[0m                           Traceback (most recent call last)",
      "Input \u001b[1;32mIn [39]\u001b[0m, in \u001b[0;36m<cell line: 1>\u001b[1;34m()\u001b[0m\n\u001b[1;32m----> 1\u001b[0m \u001b[38;5;28;01mwith\u001b[39;00m \u001b[38;5;28;43mopen\u001b[39;49m\u001b[43m(\u001b[49m\u001b[38;5;124;43m'\u001b[39;49m\u001b[38;5;124;43mfile.txt\u001b[39;49m\u001b[38;5;124;43m'\u001b[39;49m\u001b[43m,\u001b[49m\u001b[43m \u001b[49m\u001b[43mmode\u001b[49m\u001b[38;5;241;43m=\u001b[39;49m\u001b[38;5;124;43m'\u001b[39;49m\u001b[38;5;124;43mx\u001b[39;49m\u001b[38;5;124;43m'\u001b[39;49m\u001b[43m)\u001b[49m \u001b[38;5;28;01mas\u001b[39;00m f:\n\u001b[0;32m      2\u001b[0m     contents \u001b[38;5;241m=\u001b[39m f\u001b[38;5;241m.\u001b[39mwrite(\u001b[38;5;124m'\u001b[39m\u001b[38;5;124mPython\u001b[39m\u001b[38;5;124m'\u001b[39m)\n",
      "\u001b[1;31mFileExistsError\u001b[0m: [Errno 17] File exists: 'file.txt'"
     ]
    }
   ],
   "source": [
    "with open('file.txt', mode='x') as f:\n",
    "    contents = f.write('Python')"
   ]
  },
  {
   "cell_type": "code",
   "execution_count": 38,
   "id": "f588118f-7d42-42a6-b246-9f20437c6306",
   "metadata": {},
   "outputs": [
    {
     "data": {
      "text/plain": [
       "6"
      ]
     },
     "execution_count": 38,
     "metadata": {},
     "output_type": "execute_result"
    }
   ],
   "source": [
    "contents"
   ]
  }
 ],
 "metadata": {
  "kernelspec": {
   "display_name": "Python 3 (ipykernel)",
   "language": "python",
   "name": "python3"
  },
  "language_info": {
   "codemirror_mode": {
    "name": "ipython",
    "version": 3
   },
   "file_extension": ".py",
   "mimetype": "text/x-python",
   "name": "python",
   "nbconvert_exporter": "python",
   "pygments_lexer": "ipython3",
   "version": "3.10.3"
  }
 },
 "nbformat": 4,
 "nbformat_minor": 5
}
