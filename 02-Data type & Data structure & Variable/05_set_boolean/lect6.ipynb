{
 "cells": [
  {
   "cell_type": "markdown",
   "id": "6e91974b-8c3d-4154-869a-273935f33118",
   "metadata": {
    "tags": []
   },
   "source": [
    "# Set"
   ]
  },
  {
   "cell_type": "code",
   "execution_count": 1,
   "id": "982c7185-6bff-4c6d-baf0-c76d24334e62",
   "metadata": {},
   "outputs": [],
   "source": [
    "my_set = set()"
   ]
  },
  {
   "cell_type": "code",
   "execution_count": 2,
   "id": "b6dfd5f6-e24d-4502-aa10-001989df4ff9",
   "metadata": {},
   "outputs": [
    {
     "data": {
      "text/plain": [
       "set"
      ]
     },
     "execution_count": 2,
     "metadata": {},
     "output_type": "execute_result"
    }
   ],
   "source": [
    "type(my_set)"
   ]
  },
  {
   "cell_type": "code",
   "execution_count": 3,
   "id": "381f40ee-a4ed-44a1-9cdc-d5388d144e8b",
   "metadata": {},
   "outputs": [],
   "source": [
    "my_set.add(1)"
   ]
  },
  {
   "cell_type": "code",
   "execution_count": 4,
   "id": "c6d1efc0-c277-4cef-9de0-65714a6c4fe5",
   "metadata": {},
   "outputs": [],
   "source": [
    "my_set.add(3)"
   ]
  },
  {
   "cell_type": "code",
   "execution_count": 5,
   "id": "0d419d8d-61ea-4ae2-b0c5-46d1c3be07f6",
   "metadata": {},
   "outputs": [],
   "source": [
    "my_set.add(8)"
   ]
  },
  {
   "cell_type": "code",
   "execution_count": 6,
   "id": "86739ee4-c9a4-4643-8385-3607006e9bce",
   "metadata": {},
   "outputs": [],
   "source": [
    "my_set.add(10)"
   ]
  },
  {
   "cell_type": "code",
   "execution_count": 7,
   "id": "af280297-6cc3-4adc-b7e9-658d3b628987",
   "metadata": {},
   "outputs": [
    {
     "data": {
      "text/plain": [
       "{1, 3, 8, 10}"
      ]
     },
     "execution_count": 7,
     "metadata": {},
     "output_type": "execute_result"
    }
   ],
   "source": [
    "my_set"
   ]
  },
  {
   "cell_type": "code",
   "execution_count": 8,
   "id": "fc788517-4983-4ce3-8b5f-f0ae4d58c917",
   "metadata": {},
   "outputs": [],
   "source": [
    "my_set.add(3)"
   ]
  },
  {
   "cell_type": "code",
   "execution_count": 9,
   "id": "a1daa543-0f33-48a0-9185-4ac0757cb985",
   "metadata": {},
   "outputs": [
    {
     "data": {
      "text/plain": [
       "{1, 3, 8, 10}"
      ]
     },
     "execution_count": 9,
     "metadata": {},
     "output_type": "execute_result"
    }
   ],
   "source": [
    "my_set"
   ]
  },
  {
   "cell_type": "code",
   "execution_count": 10,
   "id": "a6ef2d7b-7954-49bd-8d9a-c79ffeb27dc9",
   "metadata": {},
   "outputs": [],
   "source": [
    "my_list = [1, 2, 3, 3, 6, 8, 8, 8, 20]"
   ]
  },
  {
   "cell_type": "code",
   "execution_count": 11,
   "id": "50c9f295-3887-4189-b324-acb61623c035",
   "metadata": {},
   "outputs": [],
   "source": [
    "my_s = set(my_list)"
   ]
  },
  {
   "cell_type": "code",
   "execution_count": 12,
   "id": "81cf4d7a-c4de-4eab-9ae1-932ed24dbdef",
   "metadata": {},
   "outputs": [
    {
     "data": {
      "text/plain": [
       "{1, 2, 3, 6, 8, 20}"
      ]
     },
     "execution_count": 12,
     "metadata": {},
     "output_type": "execute_result"
    }
   ],
   "source": [
    "my_s"
   ]
  },
  {
   "cell_type": "markdown",
   "id": "5a26b000-d6dd-4059-878c-39dca7477ab4",
   "metadata": {
    "tags": []
   },
   "source": [
    "# Boolean"
   ]
  },
  {
   "cell_type": "code",
   "execution_count": 14,
   "id": "d25ecc81-6433-4f21-a380-31d796fbfa2a",
   "metadata": {},
   "outputs": [],
   "source": [
    "is_active = True\n",
    "is_user = False"
   ]
  },
  {
   "cell_type": "code",
   "execution_count": 16,
   "id": "82600dd4-a49e-4ddc-9152-7793845f0a92",
   "metadata": {},
   "outputs": [
    {
     "name": "stdout",
     "output_type": "stream",
     "text": [
      "<class 'bool'>\n",
      "<class 'bool'>\n"
     ]
    }
   ],
   "source": [
    "print(type(is_active))\n",
    "print(type(is_user))"
   ]
  },
  {
   "cell_type": "code",
   "execution_count": 17,
   "id": "719357be-fca1-4b03-8320-1ba9e28567fa",
   "metadata": {},
   "outputs": [
    {
     "data": {
      "text/plain": [
       "False"
      ]
     },
     "execution_count": 17,
     "metadata": {},
     "output_type": "execute_result"
    }
   ],
   "source": [
    "1 > 2"
   ]
  },
  {
   "cell_type": "code",
   "execution_count": 18,
   "id": "cba6e9ba-f560-4e70-9fdf-bf8ee1bad427",
   "metadata": {},
   "outputs": [
    {
     "data": {
      "text/plain": [
       "True"
      ]
     },
     "execution_count": 18,
     "metadata": {},
     "output_type": "execute_result"
    }
   ],
   "source": [
    "1 == 1"
   ]
  },
  {
   "cell_type": "code",
   "execution_count": 19,
   "id": "70ac9971-7bf2-44da-87b1-787508af3990",
   "metadata": {},
   "outputs": [
    {
     "data": {
      "text/plain": [
       "True"
      ]
     },
     "execution_count": 19,
     "metadata": {},
     "output_type": "execute_result"
    }
   ],
   "source": [
    "2 < 6"
   ]
  },
  {
   "cell_type": "markdown",
   "id": "f7bede39-1b93-4ae1-8dae-92b108993e0f",
   "metadata": {},
   "source": [
    "## None"
   ]
  },
  {
   "cell_type": "code",
   "execution_count": 23,
   "id": "fc0a18cf-51d7-435d-bde4-d1d0917b563f",
   "metadata": {},
   "outputs": [],
   "source": [
    "b = None"
   ]
  },
  {
   "cell_type": "code",
   "execution_count": 21,
   "id": "d23598e9-e5e1-42cf-899c-650687cf5210",
   "metadata": {},
   "outputs": [
    {
     "data": {
      "text/plain": [
       "NoneType"
      ]
     },
     "execution_count": 21,
     "metadata": {},
     "output_type": "execute_result"
    }
   ],
   "source": [
    "type(b)"
   ]
  }
 ],
 "metadata": {
  "kernelspec": {
   "display_name": "Python 3 (ipykernel)",
   "language": "python",
   "name": "python3"
  },
  "language_info": {
   "codemirror_mode": {
    "name": "ipython",
    "version": 3
   },
   "file_extension": ".py",
   "mimetype": "text/x-python",
   "name": "python",
   "nbconvert_exporter": "python",
   "pygments_lexer": "ipython3",
   "version": "3.10.3"
  }
 },
 "nbformat": 4,
 "nbformat_minor": 5
}
