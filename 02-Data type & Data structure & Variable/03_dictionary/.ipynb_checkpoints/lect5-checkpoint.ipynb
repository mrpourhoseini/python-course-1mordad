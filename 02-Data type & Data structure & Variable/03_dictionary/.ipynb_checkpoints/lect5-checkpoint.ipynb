{
 "cells": [
  {
   "cell_type": "markdown",
   "id": "d4f04fc7-c20c-483c-960f-81eea09619da",
   "metadata": {},
   "source": [
    "# دیکشنری"
   ]
  },
  {
   "cell_type": "code",
   "execution_count": 1,
   "id": "5521c5ff-c0bd-4f5f-b0e8-43224db2d2f8",
   "metadata": {},
   "outputs": [],
   "source": [
    "my_dict = {'k1': 'v1', 'k2': 'v2', 'k3': 'v3'}"
   ]
  },
  {
   "cell_type": "code",
   "execution_count": 2,
   "id": "df5bba5f-590c-4ffc-82eb-c0b05a3aedd0",
   "metadata": {},
   "outputs": [
    {
     "data": {
      "text/plain": [
       "{'k1': 'v1', 'k2': 'v2', 'k3': 'v3'}"
      ]
     },
     "execution_count": 2,
     "metadata": {},
     "output_type": "execute_result"
    }
   ],
   "source": [
    "my_dict"
   ]
  },
  {
   "cell_type": "code",
   "execution_count": 3,
   "id": "2b6d345f-941e-4571-9ff9-050ca0d6ff2d",
   "metadata": {},
   "outputs": [
    {
     "data": {
      "text/plain": [
       "dict"
      ]
     },
     "execution_count": 3,
     "metadata": {},
     "output_type": "execute_result"
    }
   ],
   "source": [
    "type(my_dict)"
   ]
  },
  {
   "cell_type": "code",
   "execution_count": 4,
   "id": "35d983df-f306-49d1-b729-0ca676d9b7f6",
   "metadata": {},
   "outputs": [
    {
     "data": {
      "text/plain": [
       "'v2'"
      ]
     },
     "execution_count": 4,
     "metadata": {},
     "output_type": "execute_result"
    }
   ],
   "source": [
    "my_dict['k2']"
   ]
  },
  {
   "cell_type": "markdown",
   "id": "0418684a-98e9-4f63-a9f7-381e2484705f",
   "metadata": {},
   "source": [
    "### پاسخ تمرین"
   ]
  },
  {
   "cell_type": "code",
   "execution_count": 5,
   "id": "f5529864-c711-4bd8-a5a2-f94157362c78",
   "metadata": {},
   "outputs": [],
   "source": [
    "my_d = {'key1': 123, 'key2': [12, 23, 33], 'key3': ['item0', 'item1', 'item2']}"
   ]
  },
  {
   "cell_type": "code",
   "execution_count": 10,
   "id": "92453555-a035-4fbb-b2c7-05404027cac9",
   "metadata": {},
   "outputs": [
    {
     "name": "stdout",
     "output_type": "stream",
     "text": [
      "['item0', 'item1', 'item2']\n"
     ]
    }
   ],
   "source": [
    "# Answer 1\n",
    "print(my_d['key3'])"
   ]
  },
  {
   "cell_type": "code",
   "execution_count": 11,
   "id": "c0195ac5-192c-4b33-bbfb-4821b0e99d90",
   "metadata": {},
   "outputs": [
    {
     "name": "stdout",
     "output_type": "stream",
     "text": [
      "item0\n"
     ]
    }
   ],
   "source": [
    "# Answer 2\n",
    "print(my_d['key3'][0])"
   ]
  },
  {
   "cell_type": "code",
   "execution_count": 13,
   "id": "958d3e53-59c5-4056-9b1a-ae4af88a9855",
   "metadata": {},
   "outputs": [
    {
     "name": "stdout",
     "output_type": "stream",
     "text": [
      "ITEM0\n"
     ]
    }
   ],
   "source": [
    "# Answer 3\n",
    "print(my_d['key3'][0].upper())"
   ]
  },
  {
   "cell_type": "code",
   "execution_count": 19,
   "id": "e15cd370-cea5-45ff-b87a-582dbb23408f",
   "metadata": {},
   "outputs": [],
   "source": [
    "# Answer 4\n",
    "#my_d['key1'] = my_d['key1'] * -1\n",
    "my_d['key1'] *= -1"
   ]
  },
  {
   "cell_type": "code",
   "execution_count": 20,
   "id": "0e6872f3-984c-417f-8811-a073f28ecac2",
   "metadata": {},
   "outputs": [
    {
     "name": "stdout",
     "output_type": "stream",
     "text": [
      "{'key1': -123, 'key2': [12, 23, 33], 'key3': ['item0', 'item1', 'item2']}\n"
     ]
    }
   ],
   "source": [
    "print(my_d)"
   ]
  },
  {
   "cell_type": "markdown",
   "id": "b2a3eb9e-e363-4023-adca-31c638152fde",
   "metadata": {},
   "source": [
    "## keys() and values() and items() method"
   ]
  },
  {
   "cell_type": "code",
   "execution_count": 21,
   "id": "ed75c288-3231-46e2-b9c0-93a9d11d64c6",
   "metadata": {},
   "outputs": [
    {
     "data": {
      "text/plain": [
       "{'key1': -123, 'key2': [12, 23, 33], 'key3': ['item0', 'item1', 'item2']}"
      ]
     },
     "execution_count": 21,
     "metadata": {},
     "output_type": "execute_result"
    }
   ],
   "source": [
    "my_d"
   ]
  },
  {
   "cell_type": "code",
   "execution_count": 24,
   "id": "c1f240da-0106-4063-8b4e-c0cf1db54b58",
   "metadata": {},
   "outputs": [
    {
     "data": {
      "text/plain": [
       "dict_keys(['key1', 'key2', 'key3'])"
      ]
     },
     "execution_count": 24,
     "metadata": {},
     "output_type": "execute_result"
    }
   ],
   "source": [
    "my_d.keys()"
   ]
  },
  {
   "cell_type": "code",
   "execution_count": 25,
   "id": "121e5042-461b-46a8-aa60-6b239eb8086d",
   "metadata": {},
   "outputs": [
    {
     "data": {
      "text/plain": [
       "dict_values([-123, [12, 23, 33], ['item0', 'item1', 'item2']])"
      ]
     },
     "execution_count": 25,
     "metadata": {},
     "output_type": "execute_result"
    }
   ],
   "source": [
    "my_d.values()"
   ]
  },
  {
   "cell_type": "code",
   "execution_count": 28,
   "id": "60b87f69-8976-4833-9ec2-a86aa0f347de",
   "metadata": {},
   "outputs": [
    {
     "data": {
      "text/plain": [
       "dict_items([('key1', -123), ('key2', [12, 23, 33]), ('key3', ['item0', 'item1', 'item2'])])"
      ]
     },
     "execution_count": 28,
     "metadata": {},
     "output_type": "execute_result"
    }
   ],
   "source": [
    "my_d.items()"
   ]
  },
  {
   "cell_type": "code",
   "execution_count": 36,
   "id": "97704d52-bcc0-443d-8dd7-23784fc94a6a",
   "metadata": {},
   "outputs": [],
   "source": [
    "my_tuple = ('key1',) # tuple\n",
    "my_str = ('key1') # str"
   ]
  },
  {
   "cell_type": "code",
   "execution_count": 38,
   "id": "b1f56eb2-29f6-493c-a0c4-b9c055e17148",
   "metadata": {},
   "outputs": [
    {
     "name": "stdout",
     "output_type": "stream",
     "text": [
      "<class 'tuple'>\n",
      "<class 'str'>\n"
     ]
    }
   ],
   "source": [
    "print(type(my_tuple))\n",
    "print(type(my_str))"
   ]
  }
 ],
 "metadata": {
  "kernelspec": {
   "display_name": "Python 3 (ipykernel)",
   "language": "python",
   "name": "python3"
  },
  "language_info": {
   "codemirror_mode": {
    "name": "ipython",
    "version": 3
   },
   "file_extension": ".py",
   "mimetype": "text/x-python",
   "name": "python",
   "nbconvert_exporter": "python",
   "pygments_lexer": "ipython3",
   "version": "3.10.3"
  }
 },
 "nbformat": 4,
 "nbformat_minor": 5
}
