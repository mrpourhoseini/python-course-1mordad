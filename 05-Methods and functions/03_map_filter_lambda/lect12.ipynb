{
 "cells": [
  {
   "cell_type": "markdown",
   "id": "e8f898bf-7429-444d-970c-eee7b4073180",
   "metadata": {},
   "source": [
    "# map function"
   ]
  },
  {
   "cell_type": "code",
   "execution_count": 1,
   "id": "c688a19b-4d86-4bea-a5f4-a055457f6bb3",
   "metadata": {},
   "outputs": [],
   "source": [
    "def square(num):\n",
    "    return num**2"
   ]
  },
  {
   "cell_type": "code",
   "execution_count": 3,
   "id": "e17bc4d8-72de-4941-a414-f784d60f6742",
   "metadata": {},
   "outputs": [],
   "source": [
    "my_nums = [1,2,3,4,5]"
   ]
  },
  {
   "cell_type": "code",
   "execution_count": 8,
   "id": "404e3696-3571-4ee5-b5f2-b82174248812",
   "metadata": {},
   "outputs": [
    {
     "data": {
      "text/plain": [
       "[1, 4, 9, 16, 25]"
      ]
     },
     "execution_count": 8,
     "metadata": {},
     "output_type": "execute_result"
    }
   ],
   "source": [
    "list(map(square,my_nums))"
   ]
  },
  {
   "cell_type": "code",
   "execution_count": 9,
   "id": "e2882fc6-c36a-4a7b-a74f-5b18971f0dc9",
   "metadata": {},
   "outputs": [],
   "source": [
    "my_names = ['Ali', 'Reza', 'Sara', 'Sam']"
   ]
  },
  {
   "cell_type": "code",
   "execution_count": 10,
   "id": "2b5cb6ce-fa41-497a-89bc-4e22923f0b10",
   "metadata": {},
   "outputs": [],
   "source": [
    "def splicer(my_name):\n",
    "    if len(my_name) % 2 == 0:\n",
    "        return 'even'\n",
    "    else:\n",
    "        return my_name[0]"
   ]
  },
  {
   "cell_type": "code",
   "execution_count": 11,
   "id": "0e807e76-9c89-478d-b832-bb2f5f180a32",
   "metadata": {},
   "outputs": [
    {
     "data": {
      "text/plain": [
       "['A', 'even', 'even', 'S']"
      ]
     },
     "execution_count": 11,
     "metadata": {},
     "output_type": "execute_result"
    }
   ],
   "source": [
    "list(map(splicer,my_names))"
   ]
  },
  {
   "cell_type": "markdown",
   "id": "3ca8b198-4e79-4043-8a96-6e7ad3b84b80",
   "metadata": {},
   "source": [
    "# filter function"
   ]
  },
  {
   "cell_type": "code",
   "execution_count": 14,
   "id": "6d8a05f9-4229-4366-867e-60ba0f3ea383",
   "metadata": {},
   "outputs": [],
   "source": [
    "nums = list(range(0,11))"
   ]
  },
  {
   "cell_type": "code",
   "execution_count": 21,
   "id": "5bf7e4e3-0b64-42a3-874d-acd0ccc0cd47",
   "metadata": {},
   "outputs": [],
   "source": [
    "def check_even(num):\n",
    "    return num % 2 == 0"
   ]
  },
  {
   "cell_type": "code",
   "execution_count": 22,
   "id": "17d08d04-9a73-465f-aefd-8ddadb9cb39b",
   "metadata": {},
   "outputs": [
    {
     "data": {
      "text/plain": [
       "[0, 2, 4, 6, 8, 10]"
      ]
     },
     "execution_count": 22,
     "metadata": {},
     "output_type": "execute_result"
    }
   ],
   "source": [
    "list(filter(check_even,nums))"
   ]
  },
  {
   "cell_type": "markdown",
   "id": "9445eac5-93b0-47e9-a1b9-6fb15ac1f3de",
   "metadata": {},
   "source": [
    "# lambda expression"
   ]
  },
  {
   "cell_type": "code",
   "execution_count": 31,
   "id": "80ba071e-5724-4460-8956-0cde692a1728",
   "metadata": {},
   "outputs": [],
   "source": [
    "square2 = lambda num: num**2"
   ]
  },
  {
   "cell_type": "code",
   "execution_count": 32,
   "id": "f153c8c7-c2ed-4373-a997-4c0ae2dc96ee",
   "metadata": {},
   "outputs": [
    {
     "data": {
      "text/plain": [
       "16"
      ]
     },
     "execution_count": 32,
     "metadata": {},
     "output_type": "execute_result"
    }
   ],
   "source": [
    "square2(4)"
   ]
  },
  {
   "cell_type": "code",
   "execution_count": 38,
   "id": "32b1a3d3-0f36-4263-8d29-6f5a5a701881",
   "metadata": {},
   "outputs": [
    {
     "data": {
      "text/plain": [
       "[1, 3, 5, 7, 9, 11, 13, 15, 17, 19]"
      ]
     },
     "execution_count": 38,
     "metadata": {},
     "output_type": "execute_result"
    }
   ],
   "source": [
    "list(filter(lambda num: num % 2 == 1,list(range(0,21))))"
   ]
  },
  {
   "cell_type": "code",
   "execution_count": 39,
   "id": "6d93907c-ab3c-4e32-b6b3-3dfc6df02bb8",
   "metadata": {},
   "outputs": [
    {
     "data": {
      "text/plain": [
       "[0, 1, 4, 9, 16, 25, 36, 49, 64, 81, 100]"
      ]
     },
     "execution_count": 39,
     "metadata": {},
     "output_type": "execute_result"
    }
   ],
   "source": [
    "list(map(lambda num: num**2,list(range(0,11))))"
   ]
  }
 ],
 "metadata": {
  "kernelspec": {
   "display_name": "Python 3 (ipykernel)",
   "language": "python",
   "name": "python3"
  },
  "language_info": {
   "codemirror_mode": {
    "name": "ipython",
    "version": 3
   },
   "file_extension": ".py",
   "mimetype": "text/x-python",
   "name": "python",
   "nbconvert_exporter": "python",
   "pygments_lexer": "ipython3",
   "version": "3.10.3"
  }
 },
 "nbformat": 4,
 "nbformat_minor": 5
}
