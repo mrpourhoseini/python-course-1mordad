{
 "cells": [
  {
   "cell_type": "markdown",
   "id": "eea144c4",
   "metadata": {},
   "source": [
    "# scope"
   ]
  },
  {
   "cell_type": "code",
   "execution_count": 1,
   "id": "2a33e1ff",
   "metadata": {},
   "outputs": [
    {
     "name": "stdout",
     "output_type": "stream",
     "text": [
      "25\n",
      "50\n"
     ]
    }
   ],
   "source": [
    "x = 25\n",
    "\n",
    "def printer():\n",
    "    x = 50\n",
    "    return x\n",
    "\n",
    "print(x)\n",
    "print(printer())"
   ]
  },
  {
   "cell_type": "markdown",
   "id": "e18c2e49",
   "metadata": {},
   "source": [
    "## Enclosing function and global"
   ]
  },
  {
   "cell_type": "code",
   "execution_count": 15,
   "id": "6b23fe10",
   "metadata": {},
   "outputs": [
    {
     "name": "stdout",
     "output_type": "stream",
     "text": [
      "This a global name\n",
      "hello This a global name\n"
     ]
    }
   ],
   "source": [
    "name = \"This a global name\"\n",
    "\n",
    "def greet():\n",
    "\n",
    "    global name\n",
    "    \n",
    "    def hello():\n",
    "        print('hello ' + name)\n",
    "    \n",
    "    hello()\n",
    "\n",
    "print(name)\n",
    "greet()"
   ]
  },
  {
   "cell_type": "markdown",
   "id": "33bbcdb3",
   "metadata": {},
   "source": [
    "# `*args/**kwarsg`"
   ]
  },
  {
   "cell_type": "code",
   "execution_count": 17,
   "id": "ed283acb",
   "metadata": {},
   "outputs": [
    {
     "name": "stdout",
     "output_type": "stream",
     "text": [
      "Help on built-in function sum in module builtins:\n",
      "\n",
      "sum(iterable, /, start=0)\n",
      "    Return the sum of a 'start' value (default: 0) plus an iterable of numbers\n",
      "    \n",
      "    When the iterable is empty, return the start value.\n",
      "    This function is intended specifically for use with numeric values and may\n",
      "    reject non-numeric types.\n",
      "\n"
     ]
    }
   ],
   "source": [
    "help(sum)"
   ]
  },
  {
   "cell_type": "code",
   "execution_count": 44,
   "id": "96414342",
   "metadata": {},
   "outputs": [],
   "source": [
    "def my_func(*args):\n",
    "    return sum((args)) * .05"
   ]
  },
  {
   "cell_type": "code",
   "execution_count": 45,
   "id": "67c1b6e1",
   "metadata": {},
   "outputs": [
    {
     "data": {
      "text/plain": [
       "13.0"
      ]
     },
     "execution_count": 45,
     "metadata": {},
     "output_type": "execute_result"
    }
   ],
   "source": [
    "my_func(50,60,80,70)"
   ]
  },
  {
   "cell_type": "code",
   "execution_count": 46,
   "id": "ea21f72d",
   "metadata": {},
   "outputs": [],
   "source": [
    "def func(*args):\n",
    "    print(args)"
   ]
  },
  {
   "cell_type": "code",
   "execution_count": 47,
   "id": "4c8922f1",
   "metadata": {},
   "outputs": [
    {
     "name": "stdout",
     "output_type": "stream",
     "text": [
      "('a', 'b', 'c')\n"
     ]
    }
   ],
   "source": [
    "func('a','b','c')"
   ]
  },
  {
   "cell_type": "code",
   "execution_count": 65,
   "id": "d27e22a7",
   "metadata": {},
   "outputs": [],
   "source": [
    "def nums(*args):\n",
    "    for item in args[0]:\n",
    "        print(item)"
   ]
  },
  {
   "cell_type": "code",
   "execution_count": 66,
   "id": "0ef425c2",
   "metadata": {},
   "outputs": [
    {
     "name": "stdout",
     "output_type": "stream",
     "text": [
      "1\n",
      "2\n",
      "3\n",
      "4\n",
      "5\n",
      "6\n",
      "7\n",
      "8\n",
      "9\n"
     ]
    }
   ],
   "source": [
    "nums(list(range(1,10)))"
   ]
  },
  {
   "cell_type": "code",
   "execution_count": 76,
   "id": "dc782fef",
   "metadata": {},
   "outputs": [],
   "source": [
    "def my_user(**kwargs):\n",
    "    if 'admin' in kwargs:\n",
    "        print(f\"Welcome {kwargs['admin']}\")\n",
    "    else:\n",
    "        print('Please login')"
   ]
  },
  {
   "cell_type": "code",
   "execution_count": 78,
   "id": "0bc40420",
   "metadata": {},
   "outputs": [
    {
     "name": "stdout",
     "output_type": "stream",
     "text": [
      "Welcome Reza\n"
     ]
    }
   ],
   "source": [
    "my_user(admin=\"Reza\",editor=\"Ali\",user=\"Sara\")"
   ]
  },
  {
   "cell_type": "code",
   "execution_count": 79,
   "id": "2f2ee119",
   "metadata": {},
   "outputs": [],
   "source": [
    "def func2(**kwargs):\n",
    "    print(kwargs)"
   ]
  },
  {
   "cell_type": "code",
   "execution_count": 80,
   "id": "d6d315ee",
   "metadata": {},
   "outputs": [
    {
     "name": "stdout",
     "output_type": "stream",
     "text": [
      "{'admin': 'Reza', 'editor': 'Ali', 'user': 'Sara'}\n"
     ]
    }
   ],
   "source": [
    "func2(admin=\"Reza\",editor=\"Ali\",user=\"Sara\")"
   ]
  },
  {
   "cell_type": "code",
   "execution_count": 82,
   "id": "e064e7b9",
   "metadata": {},
   "outputs": [],
   "source": [
    "def my_function(*args, **kwargs):\n",
    "    print(args)\n",
    "    print(kwargs)"
   ]
  },
  {
   "cell_type": "code",
   "execution_count": 86,
   "id": "e0f77665",
   "metadata": {},
   "outputs": [
    {
     "ename": "SyntaxError",
     "evalue": "positional argument follows keyword argument (3102971284.py, line 1)",
     "output_type": "error",
     "traceback": [
      "\u001b[1;36m  Input \u001b[1;32mIn [86]\u001b[1;36m\u001b[0m\n\u001b[1;33m    my_function(50,60,80,70,admin=\"Reza\",editor=\"Ali\",user=\"Sara\",100)\u001b[0m\n\u001b[1;37m                                                                     ^\u001b[0m\n\u001b[1;31mSyntaxError\u001b[0m\u001b[1;31m:\u001b[0m positional argument follows keyword argument\n"
     ]
    }
   ],
   "source": [
    "my_function(50,60,80,70,admin=\"Reza\",editor=\"Ali\",user=\"Sara\",100)"
   ]
  }
 ],
 "metadata": {
  "kernelspec": {
   "display_name": "Python 3 (ipykernel)",
   "language": "python",
   "name": "python3"
  },
  "language_info": {
   "codemirror_mode": {
    "name": "ipython",
    "version": 3
   },
   "file_extension": ".py",
   "mimetype": "text/x-python",
   "name": "python",
   "nbconvert_exporter": "python",
   "pygments_lexer": "ipython3",
   "version": "3.10.3"
  }
 },
 "nbformat": 4,
 "nbformat_minor": 5
}
