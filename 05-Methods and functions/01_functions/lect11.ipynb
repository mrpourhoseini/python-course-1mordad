{
 "cells": [
  {
   "cell_type": "markdown",
   "id": "2b82c031",
   "metadata": {},
   "source": [
    "# Functions"
   ]
  },
  {
   "cell_type": "code",
   "execution_count": 1,
   "id": "1349daad",
   "metadata": {},
   "outputs": [],
   "source": [
    "def say_hello():\n",
    "    '''\n",
    "    Print Hello\n",
    "    '''\n",
    "    print(\"Hello\")"
   ]
  },
  {
   "cell_type": "code",
   "execution_count": 3,
   "id": "65901106",
   "metadata": {},
   "outputs": [
    {
     "name": "stdout",
     "output_type": "stream",
     "text": [
      "Hello\n"
     ]
    }
   ],
   "source": [
    "say_hello()"
   ]
  },
  {
   "cell_type": "code",
   "execution_count": 5,
   "id": "e9df7ed6",
   "metadata": {},
   "outputs": [
    {
     "name": "stdout",
     "output_type": "stream",
     "text": [
      "Help on function say_hello in module __main__:\n",
      "\n",
      "say_hello()\n",
      "    Print Hello\n",
      "\n"
     ]
    }
   ],
   "source": [
    "help(say_hello)"
   ]
  },
  {
   "cell_type": "code",
   "execution_count": 11,
   "id": "4b583e7a",
   "metadata": {},
   "outputs": [],
   "source": [
    "def hello(name):\n",
    "    print(\"Hello \" + name)"
   ]
  },
  {
   "cell_type": "code",
   "execution_count": 12,
   "id": "b0ade6dd",
   "metadata": {},
   "outputs": [
    {
     "name": "stdout",
     "output_type": "stream",
     "text": [
      "Hello Ali\n"
     ]
    }
   ],
   "source": [
    "hello(\"Ali\")"
   ]
  },
  {
   "cell_type": "markdown",
   "id": "4cf2a645",
   "metadata": {},
   "source": [
    "# return"
   ]
  },
  {
   "cell_type": "code",
   "execution_count": 21,
   "id": "2b2ee60c",
   "metadata": {},
   "outputs": [],
   "source": [
    "def add_num(num1, num2):\n",
    "    #print(num1+num2)\n",
    "    return num1+num2"
   ]
  },
  {
   "cell_type": "code",
   "execution_count": 22,
   "id": "d64adfd8",
   "metadata": {},
   "outputs": [],
   "source": [
    "result = add_num(5,15)"
   ]
  },
  {
   "cell_type": "code",
   "execution_count": 24,
   "id": "5eccf618",
   "metadata": {},
   "outputs": [
    {
     "name": "stdout",
     "output_type": "stream",
     "text": [
      "40\n"
     ]
    }
   ],
   "source": [
    "print(result*2)"
   ]
  },
  {
   "cell_type": "markdown",
   "id": "004396f1",
   "metadata": {},
   "source": [
    "## تمرین اول"
   ]
  },
  {
   "cell_type": "code",
   "execution_count": 1,
   "id": "0926a8f1",
   "metadata": {},
   "outputs": [],
   "source": [
    "def odd_even():\n",
    "    num = int(input(\"Enter Number: \"))\n",
    "    if num % 2 == 0:\n",
    "        print(num, 'is even')\n",
    "    else:\n",
    "        print(num, 'is odd')"
   ]
  },
  {
   "cell_type": "code",
   "execution_count": 2,
   "id": "a3ad5d2a",
   "metadata": {},
   "outputs": [
    {
     "name": "stdout",
     "output_type": "stream",
     "text": [
      "Enter Number: 20\n",
      "20 is even\n"
     ]
    }
   ],
   "source": [
    "odd_even()"
   ]
  },
  {
   "cell_type": "code",
   "execution_count": 3,
   "id": "87b6237e",
   "metadata": {},
   "outputs": [
    {
     "name": "stdout",
     "output_type": "stream",
     "text": [
      "Enter Number: 21\n",
      "21 is odd\n"
     ]
    }
   ],
   "source": [
    "odd_even()"
   ]
  },
  {
   "cell_type": "markdown",
   "id": "453609a5",
   "metadata": {},
   "source": [
    "## تمرین دوم"
   ]
  },
  {
   "cell_type": "code",
   "execution_count": 18,
   "id": "b5d400a3",
   "metadata": {},
   "outputs": [],
   "source": [
    "def even_list(my_list):\n",
    "    new_list = []\n",
    "    for num in my_list:\n",
    "        if num % 2 == 0:\n",
    "            new_list.append(num)\n",
    "    print(new_list)"
   ]
  },
  {
   "cell_type": "code",
   "execution_count": 19,
   "id": "e8e9caf1",
   "metadata": {},
   "outputs": [
    {
     "name": "stdout",
     "output_type": "stream",
     "text": [
      "[10, 2, 2000, 112]\n"
     ]
    }
   ],
   "source": [
    "even_list([10,2,2000,515,112])"
   ]
  },
  {
   "cell_type": "code",
   "execution_count": 20,
   "id": "f87d0023",
   "metadata": {},
   "outputs": [
    {
     "name": "stdout",
     "output_type": "stream",
     "text": [
      "[10, 2, 22]\n"
     ]
    }
   ],
   "source": [
    "even_list([10,2,13,3,22])"
   ]
  },
  {
   "cell_type": "markdown",
   "id": "9bebf080",
   "metadata": {},
   "source": [
    "## تمرین سوم"
   ]
  },
  {
   "cell_type": "code",
   "execution_count": 43,
   "id": "add91bbd",
   "metadata": {},
   "outputs": [],
   "source": [
    "work_hours = [('Amir',400),('Ali',100),('Reza',800)]"
   ]
  },
  {
   "cell_type": "code",
   "execution_count": 44,
   "id": "fccdd68d",
   "metadata": {},
   "outputs": [],
   "source": [
    "def check(my_list):\n",
    "    max_hours = 0\n",
    "    max_hours_name = ''\n",
    "    for name,hours in my_list:\n",
    "        if hours > max_hours:\n",
    "            max_hours = hours\n",
    "            max_hours_name = name\n",
    "    print((max_hours_name, max_hours))\n"
   ]
  },
  {
   "cell_type": "code",
   "execution_count": 45,
   "id": "f1dbda74",
   "metadata": {},
   "outputs": [
    {
     "name": "stdout",
     "output_type": "stream",
     "text": [
      "('Reza', 800)\n"
     ]
    }
   ],
   "source": [
    "check(work_hours)"
   ]
  }
 ],
 "metadata": {
  "kernelspec": {
   "display_name": "Python 3 (ipykernel)",
   "language": "python",
   "name": "python3"
  },
  "language_info": {
   "codemirror_mode": {
    "name": "ipython",
    "version": 3
   },
   "file_extension": ".py",
   "mimetype": "text/x-python",
   "name": "python",
   "nbconvert_exporter": "python",
   "pygments_lexer": "ipython3",
   "version": "3.10.3"
  }
 },
 "nbformat": 4,
 "nbformat_minor": 5
}
