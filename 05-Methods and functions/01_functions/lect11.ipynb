{
 "cells": [
  {
   "cell_type": "markdown",
   "id": "0b351490",
   "metadata": {},
   "source": [
    "# Functions"
   ]
  },
  {
   "cell_type": "code",
   "execution_count": 1,
   "id": "17ff8f26",
   "metadata": {},
   "outputs": [],
   "source": [
    "def say_hello():\n",
    "    '''\n",
    "    Print Hello\n",
    "    '''\n",
    "    print(\"Hello\")"
   ]
  },
  {
   "cell_type": "code",
   "execution_count": 3,
   "id": "40acd18c",
   "metadata": {},
   "outputs": [
    {
     "name": "stdout",
     "output_type": "stream",
     "text": [
      "Hello\n"
     ]
    }
   ],
   "source": [
    "say_hello()"
   ]
  },
  {
   "cell_type": "code",
   "execution_count": 5,
   "id": "4ad74dba",
   "metadata": {},
   "outputs": [
    {
     "name": "stdout",
     "output_type": "stream",
     "text": [
      "Help on function say_hello in module __main__:\n",
      "\n",
      "say_hello()\n",
      "    Print Hello\n",
      "\n"
     ]
    }
   ],
   "source": [
    "help(say_hello)"
   ]
  },
  {
   "cell_type": "code",
   "execution_count": 11,
   "id": "2e53f332",
   "metadata": {},
   "outputs": [],
   "source": [
    "def hello(name):\n",
    "    print(\"Hello \" + name)"
   ]
  },
  {
   "cell_type": "code",
   "execution_count": 12,
   "id": "05f1535e",
   "metadata": {},
   "outputs": [
    {
     "name": "stdout",
     "output_type": "stream",
     "text": [
      "Hello Ali\n"
     ]
    }
   ],
   "source": [
    "hello(\"Ali\")"
   ]
  },
  {
   "cell_type": "markdown",
   "id": "f57f70e7",
   "metadata": {},
   "source": [
    "# return"
   ]
  },
  {
   "cell_type": "code",
   "execution_count": 21,
   "id": "cfccc441",
   "metadata": {},
   "outputs": [],
   "source": [
    "def add_num(num1, num2):\n",
    "    #print(num1+num2)\n",
    "    return num1+num2"
   ]
  },
  {
   "cell_type": "code",
   "execution_count": 22,
   "id": "04492777",
   "metadata": {},
   "outputs": [],
   "source": [
    "result = add_num(5,15)"
   ]
  },
  {
   "cell_type": "code",
   "execution_count": 24,
   "id": "7c979708",
   "metadata": {},
   "outputs": [
    {
     "name": "stdout",
     "output_type": "stream",
     "text": [
      "40\n"
     ]
    }
   ],
   "source": [
    "print(result*2)"
   ]
  },
  {
   "cell_type": "markdown",
   "id": "321b8e79",
   "metadata": {},
   "source": [
    "## تمرین اول"
   ]
  },
  {
   "cell_type": "code",
   "execution_count": 1,
   "id": "9dd3018f",
   "metadata": {},
   "outputs": [],
   "source": [
    "def odd_even():\n",
    "    num = int(input(\"Enter Number: \"))\n",
    "    if num % 2 == 0:\n",
    "        print(num, 'is even')\n",
    "    else:\n",
    "        print(num, 'is odd')"
   ]
  },
  {
   "cell_type": "code",
   "execution_count": 2,
   "id": "2679a7f4",
   "metadata": {},
   "outputs": [
    {
     "name": "stdout",
     "output_type": "stream",
     "text": [
      "Enter Number: 20\n",
      "20 is even\n"
     ]
    }
   ],
   "source": [
    "odd_even()"
   ]
  },
  {
   "cell_type": "code",
   "execution_count": 3,
   "id": "27a3c258",
   "metadata": {},
   "outputs": [
    {
     "name": "stdout",
     "output_type": "stream",
     "text": [
      "Enter Number: 21\n",
      "21 is odd\n"
     ]
    }
   ],
   "source": [
    "odd_even()"
   ]
  },
  {
   "cell_type": "markdown",
   "id": "ef800f8b",
   "metadata": {},
   "source": [
    "## تمرین دوم"
   ]
  },
  {
   "cell_type": "code",
   "execution_count": 18,
   "id": "050eb2cb",
   "metadata": {},
   "outputs": [],
   "source": [
    "def even_list(my_list):\n",
    "    new_list = []\n",
    "    for num in my_list:\n",
    "        if num % 2 == 0:\n",
    "            new_list.append(num)\n",
    "    print(new_list)"
   ]
  },
  {
   "cell_type": "code",
   "execution_count": 19,
   "id": "d2bbb855",
   "metadata": {},
   "outputs": [
    {
     "name": "stdout",
     "output_type": "stream",
     "text": [
      "[10, 2, 2000, 112]\n"
     ]
    }
   ],
   "source": [
    "even_list([10,2,2000,515,112])"
   ]
  },
  {
   "cell_type": "code",
   "execution_count": 20,
   "id": "c3f61698",
   "metadata": {},
   "outputs": [
    {
     "name": "stdout",
     "output_type": "stream",
     "text": [
      "[10, 2, 22]\n"
     ]
    }
   ],
   "source": [
    "even_list([10,2,13,3,22])"
   ]
  },
  {
   "cell_type": "markdown",
   "id": "9d999108",
   "metadata": {},
   "source": [
    "## تمرین سوم"
   ]
  },
  {
   "cell_type": "code",
   "execution_count": 32,
   "id": "4641ccb8",
   "metadata": {},
   "outputs": [],
   "source": [
    "work_hours = [('Ali',100),('Amir',400),('Reza',800)]"
   ]
  },
  {
   "cell_type": "code",
   "execution_count": 35,
   "id": "20e0a0f0",
   "metadata": {},
   "outputs": [],
   "source": [
    "def check(my_list):\n",
    "    max_hours = 0\n",
    "    max_hours_name = ''\n",
    "    for name,hours in my_list:\n",
    "        if hours > max_hours:\n",
    "            max_hours = hours\n",
    "            max_hours_name = name\n",
    "            print((max_hours_name, max_hours))\n"
   ]
  },
  {
   "cell_type": "code",
   "execution_count": 36,
   "id": "fbc22423",
   "metadata": {},
   "outputs": [
    {
     "name": "stdout",
     "output_type": "stream",
     "text": [
      "('Ali', 100)\n",
      "('Amir', 400)\n",
      "('Reza', 800)\n"
     ]
    }
   ],
   "source": [
    "check(work_hours)"
   ]
  },
  {
   "cell_type": "code",
   "execution_count": null,
   "id": "53be8554",
   "metadata": {},
   "outputs": [],
   "source": []
  }
 ],
 "metadata": {
  "kernelspec": {
   "display_name": "Python 3 (ipykernel)",
   "language": "python",
   "name": "python3"
  },
  "language_info": {
   "codemirror_mode": {
    "name": "ipython",
    "version": 3
   },
   "file_extension": ".py",
   "mimetype": "text/x-python",
   "name": "python",
   "nbconvert_exporter": "python",
   "pygments_lexer": "ipython3",
   "version": "3.10.3"
  }
 },
 "nbformat": 4,
 "nbformat_minor": 5
}
