{
 "cells": [
  {
   "cell_type": "code",
   "execution_count": 1,
   "id": "17a78a2b",
   "metadata": {},
   "outputs": [
    {
     "data": {
      "text/plain": [
       "'Hello World'"
      ]
     },
     "execution_count": 1,
     "metadata": {},
     "output_type": "execute_result"
    }
   ],
   "source": [
    "\"Hello World\""
   ]
  },
  {
   "cell_type": "code",
   "execution_count": 2,
   "id": "9293bc3b",
   "metadata": {},
   "outputs": [
    {
     "name": "stdout",
     "output_type": "stream",
     "text": [
      "Hello World\n"
     ]
    }
   ],
   "source": [
    "print(\"Hello World\")"
   ]
  },
  {
   "cell_type": "code",
   "execution_count": 7,
   "id": "a8fec685",
   "metadata": {},
   "outputs": [
    {
     "ename": "SyntaxError",
     "evalue": "unterminated string literal (detected at line 1) (2298932629.py, line 1)",
     "output_type": "error",
     "traceback": [
      "\u001b[1;36m  Input \u001b[1;32mIn [7]\u001b[1;36m\u001b[0m\n\u001b[1;33m    print(\"I don\"t do that\")\u001b[0m\n\u001b[1;37m                          ^\u001b[0m\n\u001b[1;31mSyntaxError\u001b[0m\u001b[1;31m:\u001b[0m unterminated string literal (detected at line 1)\n"
     ]
    }
   ],
   "source": [
    "print(\"I don\"t do that\")"
   ]
  },
  {
   "cell_type": "code",
   "execution_count": 4,
   "id": "ef2b8539",
   "metadata": {},
   "outputs": [
    {
     "name": "stdout",
     "output_type": "stream",
     "text": [
      "I don't do that\n"
     ]
    }
   ],
   "source": [
    "print(\"I don't do that\")"
   ]
  },
  {
   "cell_type": "code",
   "execution_count": 6,
   "id": "d336fb7b",
   "metadata": {},
   "outputs": [
    {
     "name": "stdout",
     "output_type": "stream",
     "text": [
      "I dont \"do\" that\n"
     ]
    }
   ],
   "source": [
    "print('I dont \"do\" that')"
   ]
  },
  {
   "cell_type": "markdown",
   "id": "02bc200b",
   "metadata": {},
   "source": [
    "## اندیس در رشته ها"
   ]
  },
  {
   "cell_type": "code",
   "execution_count": 9,
   "id": "6d81e0e3",
   "metadata": {},
   "outputs": [],
   "source": [
    "my_str = \"Python Programming\""
   ]
  },
  {
   "cell_type": "code",
   "execution_count": 10,
   "id": "9a226e70",
   "metadata": {
    "scrolled": true
   },
   "outputs": [
    {
     "name": "stdout",
     "output_type": "stream",
     "text": [
      "Python Programming\n"
     ]
    }
   ],
   "source": [
    "print(my_str)"
   ]
  },
  {
   "cell_type": "code",
   "execution_count": 11,
   "id": "c55d5122",
   "metadata": {},
   "outputs": [
    {
     "data": {
      "text/plain": [
       "'P'"
      ]
     },
     "execution_count": 11,
     "metadata": {},
     "output_type": "execute_result"
    }
   ],
   "source": [
    "my_str[0]"
   ]
  },
  {
   "cell_type": "code",
   "execution_count": 12,
   "id": "49efba04",
   "metadata": {},
   "outputs": [
    {
     "data": {
      "text/plain": [
       "'n'"
      ]
     },
     "execution_count": 12,
     "metadata": {},
     "output_type": "execute_result"
    }
   ],
   "source": [
    "my_str[5]"
   ]
  },
  {
   "cell_type": "code",
   "execution_count": 13,
   "id": "58b5547a",
   "metadata": {},
   "outputs": [
    {
     "data": {
      "text/plain": [
       "' '"
      ]
     },
     "execution_count": 13,
     "metadata": {},
     "output_type": "execute_result"
    }
   ],
   "source": [
    "my_str[6]"
   ]
  },
  {
   "cell_type": "code",
   "execution_count": 14,
   "id": "a5b9579e",
   "metadata": {},
   "outputs": [
    {
     "data": {
      "text/plain": [
       "'g'"
      ]
     },
     "execution_count": 14,
     "metadata": {},
     "output_type": "execute_result"
    }
   ],
   "source": [
    "my_str[-1]"
   ]
  },
  {
   "cell_type": "code",
   "execution_count": 15,
   "id": "0b233a28",
   "metadata": {},
   "outputs": [
    {
     "ename": "TypeError",
     "evalue": "'str' object does not support item assignment",
     "output_type": "error",
     "traceback": [
      "\u001b[1;31m---------------------------------------------------------------------------\u001b[0m",
      "\u001b[1;31mTypeError\u001b[0m                                 Traceback (most recent call last)",
      "Input \u001b[1;32mIn [15]\u001b[0m, in \u001b[0;36m<cell line: 1>\u001b[1;34m()\u001b[0m\n\u001b[1;32m----> 1\u001b[0m my_str[\u001b[38;5;241m-\u001b[39m\u001b[38;5;241m1\u001b[39m] \u001b[38;5;241m=\u001b[39m \u001b[38;5;124m\"\u001b[39m\u001b[38;5;124mf\u001b[39m\u001b[38;5;124m\"\u001b[39m\n",
      "\u001b[1;31mTypeError\u001b[0m: 'str' object does not support item assignment"
     ]
    }
   ],
   "source": [
    "my_str[-1] = \"f\""
   ]
  },
  {
   "cell_type": "markdown",
   "id": "9efedda7",
   "metadata": {},
   "source": [
    "## الحاق رشته ها"
   ]
  },
  {
   "cell_type": "code",
   "execution_count": 20,
   "id": "97b9f810",
   "metadata": {},
   "outputs": [],
   "source": [
    "first_name = \"Ali\"\n",
    "last_name = \"Moradi\""
   ]
  },
  {
   "cell_type": "code",
   "execution_count": 21,
   "id": "c858f8f7",
   "metadata": {},
   "outputs": [
    {
     "name": "stdout",
     "output_type": "stream",
     "text": [
      "HelloAliMoradi\n"
     ]
    }
   ],
   "source": [
    "print(\"Hello\" + first_name + last_name)"
   ]
  },
  {
   "cell_type": "code",
   "execution_count": 29,
   "id": "ca6d08d7",
   "metadata": {},
   "outputs": [],
   "source": [
    "first_name = \" Ali \"\n",
    "last_name = \"Moradi\""
   ]
  },
  {
   "cell_type": "code",
   "execution_count": 23,
   "id": "b84c108d",
   "metadata": {},
   "outputs": [
    {
     "data": {
      "text/plain": [
       "'Hello Ali Moradi'"
      ]
     },
     "execution_count": 23,
     "metadata": {},
     "output_type": "execute_result"
    }
   ],
   "source": [
    "\"Hello\" + first_name + last_name"
   ]
  },
  {
   "cell_type": "code",
   "execution_count": 24,
   "id": "f947e370",
   "metadata": {},
   "outputs": [],
   "source": [
    "first_name = \"Ali\"\n",
    "last_name = \"Moradi\""
   ]
  },
  {
   "cell_type": "code",
   "execution_count": 25,
   "id": "6809df45",
   "metadata": {},
   "outputs": [
    {
     "data": {
      "text/plain": [
       "'Hello Ali Moradi'"
      ]
     },
     "execution_count": 25,
     "metadata": {},
     "output_type": "execute_result"
    }
   ],
   "source": [
    "\"Hello\" + \" \" + first_name + \" \" + last_name"
   ]
  },
  {
   "cell_type": "markdown",
   "id": "d2f5dba7",
   "metadata": {},
   "source": [
    "### تکرار رشته"
   ]
  },
  {
   "cell_type": "code",
   "execution_count": 62,
   "id": "26eb511d",
   "metadata": {},
   "outputs": [],
   "source": [
    "my_char = \"M \""
   ]
  },
  {
   "cell_type": "code",
   "execution_count": 63,
   "id": "c3180a98",
   "metadata": {},
   "outputs": [
    {
     "data": {
      "text/plain": [
       "'M M M M M M M M M M '"
      ]
     },
     "execution_count": 63,
     "metadata": {},
     "output_type": "execute_result"
    }
   ],
   "source": [
    "my_char * 10"
   ]
  },
  {
   "cell_type": "markdown",
   "id": "2c37a375",
   "metadata": {},
   "source": [
    "#### تمرین 1"
   ]
  },
  {
   "cell_type": "code",
   "execution_count": 31,
   "id": "99461bf7",
   "metadata": {},
   "outputs": [],
   "source": [
    "my_string = \"Hello\""
   ]
  },
  {
   "cell_type": "code",
   "execution_count": 32,
   "id": "b75243ae",
   "metadata": {},
   "outputs": [
    {
     "name": "stdout",
     "output_type": "stream",
     "text": [
      "Gello\n"
     ]
    }
   ],
   "source": [
    "print(\"G\" + my_string[1] + my_string[2] + my_string[3] + my_string[4])"
   ]
  },
  {
   "cell_type": "code",
   "execution_count": 40,
   "id": "e99ae1c7",
   "metadata": {},
   "outputs": [
    {
     "name": "stdout",
     "output_type": "stream",
     "text": [
      "Gello\n"
     ]
    }
   ],
   "source": [
    "print(\"G\" + my_string[1:])"
   ]
  },
  {
   "cell_type": "markdown",
   "id": "e3ef874b",
   "metadata": {},
   "source": [
    "## برش رشته ها"
   ]
  },
  {
   "cell_type": "code",
   "execution_count": 41,
   "id": "7f700d92",
   "metadata": {},
   "outputs": [],
   "source": [
    "my_slice_string = \"abcdefgh\""
   ]
  },
  {
   "cell_type": "code",
   "execution_count": 42,
   "id": "32cebc18",
   "metadata": {},
   "outputs": [
    {
     "data": {
      "text/plain": [
       "'abcdefgh'"
      ]
     },
     "execution_count": 42,
     "metadata": {},
     "output_type": "execute_result"
    }
   ],
   "source": [
    "my_slice_string[:]"
   ]
  },
  {
   "cell_type": "code",
   "execution_count": 43,
   "id": "23bb9a42",
   "metadata": {},
   "outputs": [
    {
     "data": {
      "text/plain": [
       "'abcdefgh'"
      ]
     },
     "execution_count": 43,
     "metadata": {},
     "output_type": "execute_result"
    }
   ],
   "source": [
    "my_slice_string[0:]"
   ]
  },
  {
   "cell_type": "code",
   "execution_count": 45,
   "id": "7f264716",
   "metadata": {},
   "outputs": [
    {
     "data": {
      "text/plain": [
       "'abcdefgh'"
      ]
     },
     "execution_count": 45,
     "metadata": {},
     "output_type": "execute_result"
    }
   ],
   "source": [
    "my_slice_string[::]"
   ]
  },
  {
   "cell_type": "code",
   "execution_count": 46,
   "id": "bc04ef45",
   "metadata": {},
   "outputs": [
    {
     "data": {
      "text/plain": [
       "'abcdefgh'"
      ]
     },
     "execution_count": 46,
     "metadata": {},
     "output_type": "execute_result"
    }
   ],
   "source": [
    "my_slice_string[::1]"
   ]
  },
  {
   "cell_type": "code",
   "execution_count": 51,
   "id": "e3d8df7c",
   "metadata": {},
   "outputs": [
    {
     "data": {
      "text/plain": [
       "'aceg'"
      ]
     },
     "execution_count": 51,
     "metadata": {},
     "output_type": "execute_result"
    }
   ],
   "source": [
    "my_slice_string[::2]"
   ]
  },
  {
   "cell_type": "code",
   "execution_count": 52,
   "id": "bdb639b3",
   "metadata": {},
   "outputs": [
    {
     "data": {
      "text/plain": [
       "'adg'"
      ]
     },
     "execution_count": 52,
     "metadata": {},
     "output_type": "execute_result"
    }
   ],
   "source": [
    "my_slice_string[::3]"
   ]
  },
  {
   "cell_type": "code",
   "execution_count": 47,
   "id": "81012374",
   "metadata": {},
   "outputs": [
    {
     "ename": "ValueError",
     "evalue": "slice step cannot be zero",
     "output_type": "error",
     "traceback": [
      "\u001b[1;31m---------------------------------------------------------------------------\u001b[0m",
      "\u001b[1;31mValueError\u001b[0m                                Traceback (most recent call last)",
      "Input \u001b[1;32mIn [47]\u001b[0m, in \u001b[0;36m<cell line: 1>\u001b[1;34m()\u001b[0m\n\u001b[1;32m----> 1\u001b[0m \u001b[43mmy_slice_string\u001b[49m\u001b[43m[\u001b[49m\u001b[43m:\u001b[49m\u001b[43m:\u001b[49m\u001b[38;5;241;43m0\u001b[39;49m\u001b[43m]\u001b[49m\n",
      "\u001b[1;31mValueError\u001b[0m: slice step cannot be zero"
     ]
    }
   ],
   "source": [
    "my_slice_string[::0]"
   ]
  },
  {
   "cell_type": "code",
   "execution_count": 49,
   "id": "f8009170",
   "metadata": {},
   "outputs": [
    {
     "data": {
      "text/plain": [
       "'abcdefgh'"
      ]
     },
     "execution_count": 49,
     "metadata": {},
     "output_type": "execute_result"
    }
   ],
   "source": [
    "my_slice_string"
   ]
  },
  {
   "cell_type": "code",
   "execution_count": 48,
   "id": "7c81b6e9",
   "metadata": {},
   "outputs": [
    {
     "data": {
      "text/plain": [
       "'hgfedcba'"
      ]
     },
     "execution_count": 48,
     "metadata": {},
     "output_type": "execute_result"
    }
   ],
   "source": [
    "my_slice_string[::-1]"
   ]
  },
  {
   "cell_type": "code",
   "execution_count": 50,
   "id": "0a43e06b",
   "metadata": {},
   "outputs": [
    {
     "data": {
      "text/plain": [
       "'abcdefg'"
      ]
     },
     "execution_count": 50,
     "metadata": {},
     "output_type": "execute_result"
    }
   ],
   "source": [
    "my_slice_string[:-1]"
   ]
  },
  {
   "cell_type": "code",
   "execution_count": 53,
   "id": "dde82d63",
   "metadata": {},
   "outputs": [
    {
     "data": {
      "text/plain": [
       "'ce'"
      ]
     },
     "execution_count": 53,
     "metadata": {},
     "output_type": "execute_result"
    }
   ],
   "source": [
    "my_slice_string[2:6:2]"
   ]
  },
  {
   "cell_type": "markdown",
   "id": "31051b2d",
   "metadata": {},
   "source": [
    "#### تمرین 2"
   ]
  },
  {
   "cell_type": "code",
   "execution_count": 54,
   "id": "09042bf6",
   "metadata": {},
   "outputs": [],
   "source": [
    "string = \"I don't do that\""
   ]
  },
  {
   "cell_type": "code",
   "execution_count": 55,
   "id": "92232ca5",
   "metadata": {},
   "outputs": [
    {
     "name": "stdout",
     "output_type": "stream",
     "text": [
      "do\n"
     ]
    }
   ],
   "source": [
    "print(string[8:10])"
   ]
  },
  {
   "cell_type": "markdown",
   "id": "d810d153",
   "metadata": {},
   "source": [
    "---"
   ]
  },
  {
   "cell_type": "markdown",
   "id": "375c3ef0",
   "metadata": {},
   "source": [
    "### چند نکته درباره الحاق رشته"
   ]
  },
  {
   "cell_type": "code",
   "execution_count": 64,
   "id": "17542b9c",
   "metadata": {},
   "outputs": [
    {
     "data": {
      "text/plain": [
       "5"
      ]
     },
     "execution_count": 64,
     "metadata": {},
     "output_type": "execute_result"
    }
   ],
   "source": [
    "2 + 3"
   ]
  },
  {
   "cell_type": "code",
   "execution_count": 65,
   "id": "ab7dd40b",
   "metadata": {},
   "outputs": [
    {
     "data": {
      "text/plain": [
       "'23'"
      ]
     },
     "execution_count": 65,
     "metadata": {},
     "output_type": "execute_result"
    }
   ],
   "source": [
    "'2' + '3'"
   ]
  },
  {
   "cell_type": "code",
   "execution_count": 66,
   "id": "101f80ad",
   "metadata": {},
   "outputs": [
    {
     "ename": "TypeError",
     "evalue": "unsupported operand type(s) for +: 'int' and 'str'",
     "output_type": "error",
     "traceback": [
      "\u001b[1;31m---------------------------------------------------------------------------\u001b[0m",
      "\u001b[1;31mTypeError\u001b[0m                                 Traceback (most recent call last)",
      "Input \u001b[1;32mIn [66]\u001b[0m, in \u001b[0;36m<cell line: 1>\u001b[1;34m()\u001b[0m\n\u001b[1;32m----> 1\u001b[0m \u001b[38;5;241;43m2\u001b[39;49m\u001b[43m \u001b[49m\u001b[38;5;241;43m+\u001b[39;49m\u001b[43m \u001b[49m\u001b[38;5;124;43m'\u001b[39;49m\u001b[38;5;124;43m3\u001b[39;49m\u001b[38;5;124;43m'\u001b[39;49m\n",
      "\u001b[1;31mTypeError\u001b[0m: unsupported operand type(s) for +: 'int' and 'str'"
     ]
    }
   ],
   "source": [
    "2 + '3'"
   ]
  },
  {
   "cell_type": "code",
   "execution_count": 67,
   "id": "83adfe2a",
   "metadata": {},
   "outputs": [
    {
     "ename": "TypeError",
     "evalue": "can only concatenate str (not \"int\") to str",
     "output_type": "error",
     "traceback": [
      "\u001b[1;31m---------------------------------------------------------------------------\u001b[0m",
      "\u001b[1;31mTypeError\u001b[0m                                 Traceback (most recent call last)",
      "Input \u001b[1;32mIn [67]\u001b[0m, in \u001b[0;36m<cell line: 1>\u001b[1;34m()\u001b[0m\n\u001b[1;32m----> 1\u001b[0m \u001b[38;5;124;43m'\u001b[39;49m\u001b[38;5;124;43m2\u001b[39;49m\u001b[38;5;124;43m'\u001b[39;49m\u001b[43m \u001b[49m\u001b[38;5;241;43m+\u001b[39;49m\u001b[43m \u001b[49m\u001b[38;5;241;43m3\u001b[39;49m\n",
      "\u001b[1;31mTypeError\u001b[0m: can only concatenate str (not \"int\") to str"
     ]
    }
   ],
   "source": [
    "'2' + 3"
   ]
  },
  {
   "cell_type": "markdown",
   "id": "b1d9848c",
   "metadata": {},
   "source": [
    "# توابع و متد های رشته"
   ]
  },
  {
   "cell_type": "markdown",
   "id": "e6cfd61b",
   "metadata": {},
   "source": [
    "### 1. len()"
   ]
  },
  {
   "cell_type": "code",
   "execution_count": 68,
   "id": "a7bb7be1",
   "metadata": {},
   "outputs": [],
   "source": [
    "my_str = \"Hello World\""
   ]
  },
  {
   "cell_type": "code",
   "execution_count": 69,
   "id": "f0c48bf0",
   "metadata": {},
   "outputs": [
    {
     "data": {
      "text/plain": [
       "11"
      ]
     },
     "execution_count": 69,
     "metadata": {},
     "output_type": "execute_result"
    }
   ],
   "source": [
    "len(my_str)"
   ]
  },
  {
   "cell_type": "markdown",
   "id": "bc55d250",
   "metadata": {},
   "source": [
    "### 2. upper()"
   ]
  },
  {
   "cell_type": "code",
   "execution_count": 70,
   "id": "4fd6b286",
   "metadata": {},
   "outputs": [
    {
     "data": {
      "text/plain": [
       "'HELLO WORLD'"
      ]
     },
     "execution_count": 70,
     "metadata": {},
     "output_type": "execute_result"
    }
   ],
   "source": [
    "my_str.upper()"
   ]
  },
  {
   "cell_type": "markdown",
   "id": "d1eccd9e",
   "metadata": {},
   "source": [
    "### 3. lower()"
   ]
  },
  {
   "cell_type": "code",
   "execution_count": 71,
   "id": "8c72554c",
   "metadata": {},
   "outputs": [
    {
     "data": {
      "text/plain": [
       "'hello world'"
      ]
     },
     "execution_count": 71,
     "metadata": {},
     "output_type": "execute_result"
    }
   ],
   "source": [
    "my_str.lower()"
   ]
  },
  {
   "cell_type": "markdown",
   "id": "ce8cbc6e",
   "metadata": {},
   "source": [
    "### 4. split()"
   ]
  },
  {
   "cell_type": "code",
   "execution_count": 72,
   "id": "4a56eb76",
   "metadata": {},
   "outputs": [
    {
     "data": {
      "text/plain": [
       "['Hello', 'World']"
      ]
     },
     "execution_count": 72,
     "metadata": {},
     "output_type": "execute_result"
    }
   ],
   "source": [
    "my_str.split()"
   ]
  },
  {
   "cell_type": "code",
   "execution_count": 73,
   "id": "ec15868c",
   "metadata": {},
   "outputs": [
    {
     "data": {
      "text/plain": [
       "list"
      ]
     },
     "execution_count": 73,
     "metadata": {},
     "output_type": "execute_result"
    }
   ],
   "source": [
    "type(my_str.split())"
   ]
  },
  {
   "cell_type": "code",
   "execution_count": 74,
   "id": "37162379",
   "metadata": {},
   "outputs": [],
   "source": [
    "my_str_two = \"HelloWorld\""
   ]
  },
  {
   "cell_type": "code",
   "execution_count": 75,
   "id": "2017b629",
   "metadata": {},
   "outputs": [
    {
     "data": {
      "text/plain": [
       "['HelloWorld']"
      ]
     },
     "execution_count": 75,
     "metadata": {},
     "output_type": "execute_result"
    }
   ],
   "source": [
    "my_str_two.split()"
   ]
  },
  {
   "cell_type": "markdown",
   "id": "5617ee03",
   "metadata": {},
   "source": [
    "---"
   ]
  },
  {
   "cell_type": "code",
   "execution_count": 77,
   "id": "5caaeec5",
   "metadata": {},
   "outputs": [
    {
     "data": {
      "text/plain": [
       "'Hello World'"
      ]
     },
     "execution_count": 77,
     "metadata": {},
     "output_type": "execute_result"
    }
   ],
   "source": [
    "my_str"
   ]
  },
  {
   "cell_type": "code",
   "execution_count": 76,
   "id": "dfc6d01e",
   "metadata": {},
   "outputs": [
    {
     "data": {
      "text/plain": [
       "['Hell', ' W', 'rld']"
      ]
     },
     "execution_count": 76,
     "metadata": {},
     "output_type": "execute_result"
    }
   ],
   "source": [
    "my_str.split('o')"
   ]
  },
  {
   "cell_type": "code",
   "execution_count": 78,
   "id": "da826c0b",
   "metadata": {},
   "outputs": [
    {
     "data": {
      "text/plain": [
       "['He', '', 'o Wor', 'd']"
      ]
     },
     "execution_count": 78,
     "metadata": {},
     "output_type": "execute_result"
    }
   ],
   "source": [
    "my_str.split('l')"
   ]
  },
  {
   "cell_type": "code",
   "execution_count": 81,
   "id": "b8fe857c",
   "metadata": {},
   "outputs": [],
   "source": [
    "my_str_three = \"mohammadm\""
   ]
  },
  {
   "cell_type": "code",
   "execution_count": 82,
   "id": "07963d1f",
   "metadata": {},
   "outputs": [
    {
     "data": {
      "text/plain": [
       "['', 'oha', '', 'ad', '']"
      ]
     },
     "execution_count": 82,
     "metadata": {},
     "output_type": "execute_result"
    }
   ],
   "source": [
    "my_str_three.split('m')"
   ]
  }
 ],
 "metadata": {
  "kernelspec": {
   "display_name": "Python 3 (ipykernel)",
   "language": "python",
   "name": "python3"
  },
  "language_info": {
   "codemirror_mode": {
    "name": "ipython",
    "version": 3
   },
   "file_extension": ".py",
   "mimetype": "text/x-python",
   "name": "python",
   "nbconvert_exporter": "python",
   "pygments_lexer": "ipython3",
   "version": "3.10.3"
  }
 },
 "nbformat": 4,
 "nbformat_minor": 5
}
