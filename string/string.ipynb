{
 "cells": [
  {
   "cell_type": "code",
   "execution_count": 1,
   "id": "2bd904ab",
   "metadata": {},
   "outputs": [
    {
     "data": {
      "text/plain": [
       "'Hello World'"
      ]
     },
     "execution_count": 1,
     "metadata": {},
     "output_type": "execute_result"
    }
   ],
   "source": [
    "\"Hello World\""
   ]
  },
  {
   "cell_type": "code",
   "execution_count": 2,
   "id": "194d69e0",
   "metadata": {},
   "outputs": [
    {
     "name": "stdout",
     "output_type": "stream",
     "text": [
      "Hello World\n"
     ]
    }
   ],
   "source": [
    "print(\"Hello World\")"
   ]
  },
  {
   "cell_type": "code",
   "execution_count": 7,
   "id": "83834caa",
   "metadata": {},
   "outputs": [
    {
     "ename": "SyntaxError",
     "evalue": "unterminated string literal (detected at line 1) (2298932629.py, line 1)",
     "output_type": "error",
     "traceback": [
      "\u001b[1;36m  Input \u001b[1;32mIn [7]\u001b[1;36m\u001b[0m\n\u001b[1;33m    print(\"I don\"t do that\")\u001b[0m\n\u001b[1;37m                          ^\u001b[0m\n\u001b[1;31mSyntaxError\u001b[0m\u001b[1;31m:\u001b[0m unterminated string literal (detected at line 1)\n"
     ]
    }
   ],
   "source": [
    "print(\"I don\"t do that\")"
   ]
  },
  {
   "cell_type": "code",
   "execution_count": 4,
   "id": "ee3566dc",
   "metadata": {},
   "outputs": [
    {
     "name": "stdout",
     "output_type": "stream",
     "text": [
      "I don't do that\n"
     ]
    }
   ],
   "source": [
    "print(\"I don't do that\")"
   ]
  },
  {
   "cell_type": "code",
   "execution_count": 6,
   "id": "2759fde9",
   "metadata": {},
   "outputs": [
    {
     "name": "stdout",
     "output_type": "stream",
     "text": [
      "I dont \"do\" that\n"
     ]
    }
   ],
   "source": [
    "print('I dont \"do\" that')"
   ]
  },
  {
   "cell_type": "markdown",
   "id": "09810f9a",
   "metadata": {},
   "source": [
    "## اندیس در رشته ها"
   ]
  },
  {
   "cell_type": "code",
   "execution_count": 9,
   "id": "0a558399",
   "metadata": {},
   "outputs": [],
   "source": [
    "my_str = \"Python Programming\""
   ]
  },
  {
   "cell_type": "code",
   "execution_count": 10,
   "id": "a29dc3da",
   "metadata": {
    "scrolled": true
   },
   "outputs": [
    {
     "name": "stdout",
     "output_type": "stream",
     "text": [
      "Python Programming\n"
     ]
    }
   ],
   "source": [
    "print(my_str)"
   ]
  },
  {
   "cell_type": "code",
   "execution_count": 11,
   "id": "20aa8d24",
   "metadata": {},
   "outputs": [
    {
     "data": {
      "text/plain": [
       "'P'"
      ]
     },
     "execution_count": 11,
     "metadata": {},
     "output_type": "execute_result"
    }
   ],
   "source": [
    "my_str[0]"
   ]
  },
  {
   "cell_type": "code",
   "execution_count": 12,
   "id": "aa5c2b1c",
   "metadata": {},
   "outputs": [
    {
     "data": {
      "text/plain": [
       "'n'"
      ]
     },
     "execution_count": 12,
     "metadata": {},
     "output_type": "execute_result"
    }
   ],
   "source": [
    "my_str[5]"
   ]
  },
  {
   "cell_type": "code",
   "execution_count": 13,
   "id": "be5b825f",
   "metadata": {},
   "outputs": [
    {
     "data": {
      "text/plain": [
       "' '"
      ]
     },
     "execution_count": 13,
     "metadata": {},
     "output_type": "execute_result"
    }
   ],
   "source": [
    "my_str[6]"
   ]
  },
  {
   "cell_type": "code",
   "execution_count": 14,
   "id": "1642c8fd",
   "metadata": {},
   "outputs": [
    {
     "data": {
      "text/plain": [
       "'g'"
      ]
     },
     "execution_count": 14,
     "metadata": {},
     "output_type": "execute_result"
    }
   ],
   "source": [
    "my_str[-1]"
   ]
  },
  {
   "cell_type": "code",
   "execution_count": 15,
   "id": "3e76911b",
   "metadata": {},
   "outputs": [
    {
     "ename": "TypeError",
     "evalue": "'str' object does not support item assignment",
     "output_type": "error",
     "traceback": [
      "\u001b[1;31m---------------------------------------------------------------------------\u001b[0m",
      "\u001b[1;31mTypeError\u001b[0m                                 Traceback (most recent call last)",
      "Input \u001b[1;32mIn [15]\u001b[0m, in \u001b[0;36m<cell line: 1>\u001b[1;34m()\u001b[0m\n\u001b[1;32m----> 1\u001b[0m my_str[\u001b[38;5;241m-\u001b[39m\u001b[38;5;241m1\u001b[39m] \u001b[38;5;241m=\u001b[39m \u001b[38;5;124m\"\u001b[39m\u001b[38;5;124mf\u001b[39m\u001b[38;5;124m\"\u001b[39m\n",
      "\u001b[1;31mTypeError\u001b[0m: 'str' object does not support item assignment"
     ]
    }
   ],
   "source": [
    "my_str[-1] = \"f\""
   ]
  },
  {
   "cell_type": "markdown",
   "id": "72a59af8",
   "metadata": {},
   "source": [
    "## الحاق رشته ها"
   ]
  },
  {
   "cell_type": "code",
   "execution_count": 20,
   "id": "405e857e",
   "metadata": {},
   "outputs": [],
   "source": [
    "first_name = \"Ali\"\n",
    "last_name = \"Moradi\""
   ]
  },
  {
   "cell_type": "code",
   "execution_count": 21,
   "id": "f0c5a2e5",
   "metadata": {},
   "outputs": [
    {
     "name": "stdout",
     "output_type": "stream",
     "text": [
      "HelloAliMoradi\n"
     ]
    }
   ],
   "source": [
    "print(\"Hello\" + first_name + last_name)"
   ]
  },
  {
   "cell_type": "code",
   "execution_count": 29,
   "id": "b5adcf6b",
   "metadata": {},
   "outputs": [],
   "source": [
    "first_name = \" Ali \"\n",
    "last_name = \"Moradi\""
   ]
  },
  {
   "cell_type": "code",
   "execution_count": 23,
   "id": "a002bc72",
   "metadata": {},
   "outputs": [
    {
     "data": {
      "text/plain": [
       "'Hello Ali Moradi'"
      ]
     },
     "execution_count": 23,
     "metadata": {},
     "output_type": "execute_result"
    }
   ],
   "source": [
    "\"Hello\" + first_name + last_name"
   ]
  },
  {
   "cell_type": "code",
   "execution_count": 24,
   "id": "43a5451f",
   "metadata": {},
   "outputs": [],
   "source": [
    "first_name = \"Ali\"\n",
    "last_name = \"Moradi\""
   ]
  },
  {
   "cell_type": "code",
   "execution_count": 25,
   "id": "a21afe1b",
   "metadata": {},
   "outputs": [
    {
     "data": {
      "text/plain": [
       "'Hello Ali Moradi'"
      ]
     },
     "execution_count": 25,
     "metadata": {},
     "output_type": "execute_result"
    }
   ],
   "source": [
    "\"Hello\" + \" \" + first_name + \" \" + last_name"
   ]
  },
  {
   "cell_type": "markdown",
   "id": "8cad6525",
   "metadata": {},
   "source": [
    "### تکرار رشته"
   ]
  },
  {
   "cell_type": "code",
   "execution_count": 62,
   "id": "e224e8f6",
   "metadata": {},
   "outputs": [],
   "source": [
    "my_char = \"M \""
   ]
  },
  {
   "cell_type": "code",
   "execution_count": 63,
   "id": "416cafe7",
   "metadata": {},
   "outputs": [
    {
     "data": {
      "text/plain": [
       "'M M M M M M M M M M '"
      ]
     },
     "execution_count": 63,
     "metadata": {},
     "output_type": "execute_result"
    }
   ],
   "source": [
    "my_char * 10"
   ]
  },
  {
   "cell_type": "markdown",
   "id": "2d6a858a",
   "metadata": {},
   "source": [
    "#### تمرین 1"
   ]
  },
  {
   "cell_type": "code",
   "execution_count": 31,
   "id": "3430a219",
   "metadata": {},
   "outputs": [],
   "source": [
    "my_string = \"Hello\""
   ]
  },
  {
   "cell_type": "code",
   "execution_count": 32,
   "id": "380cb5bd",
   "metadata": {},
   "outputs": [
    {
     "name": "stdout",
     "output_type": "stream",
     "text": [
      "Gello\n"
     ]
    }
   ],
   "source": [
    "print(\"G\" + my_string[1] + my_string[2] + my_string[3] + my_string[4])"
   ]
  },
  {
   "cell_type": "code",
   "execution_count": 40,
   "id": "da954ac6",
   "metadata": {},
   "outputs": [
    {
     "name": "stdout",
     "output_type": "stream",
     "text": [
      "Gello\n"
     ]
    }
   ],
   "source": [
    "print(\"G\" + my_string[1:])"
   ]
  },
  {
   "cell_type": "markdown",
   "id": "dc698bcd",
   "metadata": {},
   "source": [
    "## برش رشته ها"
   ]
  },
  {
   "cell_type": "code",
   "execution_count": 41,
   "id": "ce288473",
   "metadata": {},
   "outputs": [],
   "source": [
    "my_slice_string = \"abcdefgh\""
   ]
  },
  {
   "cell_type": "code",
   "execution_count": 42,
   "id": "c960b699",
   "metadata": {},
   "outputs": [
    {
     "data": {
      "text/plain": [
       "'abcdefgh'"
      ]
     },
     "execution_count": 42,
     "metadata": {},
     "output_type": "execute_result"
    }
   ],
   "source": [
    "my_slice_string[:]"
   ]
  },
  {
   "cell_type": "code",
   "execution_count": 43,
   "id": "46462146",
   "metadata": {},
   "outputs": [
    {
     "data": {
      "text/plain": [
       "'abcdefgh'"
      ]
     },
     "execution_count": 43,
     "metadata": {},
     "output_type": "execute_result"
    }
   ],
   "source": [
    "my_slice_string[0:]"
   ]
  },
  {
   "cell_type": "code",
   "execution_count": 45,
   "id": "9a5a80f0",
   "metadata": {},
   "outputs": [
    {
     "data": {
      "text/plain": [
       "'abcdefgh'"
      ]
     },
     "execution_count": 45,
     "metadata": {},
     "output_type": "execute_result"
    }
   ],
   "source": [
    "my_slice_string[::]"
   ]
  },
  {
   "cell_type": "code",
   "execution_count": 46,
   "id": "58914420",
   "metadata": {},
   "outputs": [
    {
     "data": {
      "text/plain": [
       "'abcdefgh'"
      ]
     },
     "execution_count": 46,
     "metadata": {},
     "output_type": "execute_result"
    }
   ],
   "source": [
    "my_slice_string[::1]"
   ]
  },
  {
   "cell_type": "code",
   "execution_count": 51,
   "id": "ef4082ec",
   "metadata": {},
   "outputs": [
    {
     "data": {
      "text/plain": [
       "'aceg'"
      ]
     },
     "execution_count": 51,
     "metadata": {},
     "output_type": "execute_result"
    }
   ],
   "source": [
    "my_slice_string[::2]"
   ]
  },
  {
   "cell_type": "code",
   "execution_count": 52,
   "id": "ab2bc050",
   "metadata": {},
   "outputs": [
    {
     "data": {
      "text/plain": [
       "'adg'"
      ]
     },
     "execution_count": 52,
     "metadata": {},
     "output_type": "execute_result"
    }
   ],
   "source": [
    "my_slice_string[::3]"
   ]
  },
  {
   "cell_type": "code",
   "execution_count": 47,
   "id": "3b40500f",
   "metadata": {},
   "outputs": [
    {
     "ename": "ValueError",
     "evalue": "slice step cannot be zero",
     "output_type": "error",
     "traceback": [
      "\u001b[1;31m---------------------------------------------------------------------------\u001b[0m",
      "\u001b[1;31mValueError\u001b[0m                                Traceback (most recent call last)",
      "Input \u001b[1;32mIn [47]\u001b[0m, in \u001b[0;36m<cell line: 1>\u001b[1;34m()\u001b[0m\n\u001b[1;32m----> 1\u001b[0m \u001b[43mmy_slice_string\u001b[49m\u001b[43m[\u001b[49m\u001b[43m:\u001b[49m\u001b[43m:\u001b[49m\u001b[38;5;241;43m0\u001b[39;49m\u001b[43m]\u001b[49m\n",
      "\u001b[1;31mValueError\u001b[0m: slice step cannot be zero"
     ]
    }
   ],
   "source": [
    "my_slice_string[::0]"
   ]
  },
  {
   "cell_type": "code",
   "execution_count": 49,
   "id": "38c10d9d",
   "metadata": {},
   "outputs": [
    {
     "data": {
      "text/plain": [
       "'abcdefgh'"
      ]
     },
     "execution_count": 49,
     "metadata": {},
     "output_type": "execute_result"
    }
   ],
   "source": [
    "my_slice_string"
   ]
  },
  {
   "cell_type": "code",
   "execution_count": 48,
   "id": "35c9acd9",
   "metadata": {},
   "outputs": [
    {
     "data": {
      "text/plain": [
       "'hgfedcba'"
      ]
     },
     "execution_count": 48,
     "metadata": {},
     "output_type": "execute_result"
    }
   ],
   "source": [
    "my_slice_string[::-1]"
   ]
  },
  {
   "cell_type": "code",
   "execution_count": 50,
   "id": "7cdfb167",
   "metadata": {},
   "outputs": [
    {
     "data": {
      "text/plain": [
       "'abcdefg'"
      ]
     },
     "execution_count": 50,
     "metadata": {},
     "output_type": "execute_result"
    }
   ],
   "source": [
    "my_slice_string[:-1]"
   ]
  },
  {
   "cell_type": "code",
   "execution_count": 53,
   "id": "abef1d4e",
   "metadata": {},
   "outputs": [
    {
     "data": {
      "text/plain": [
       "'ce'"
      ]
     },
     "execution_count": 53,
     "metadata": {},
     "output_type": "execute_result"
    }
   ],
   "source": [
    "my_slice_string[2:6:2]"
   ]
  },
  {
   "cell_type": "markdown",
   "id": "aee26fdb",
   "metadata": {},
   "source": [
    "#### تمرین 2"
   ]
  },
  {
   "cell_type": "code",
   "execution_count": 54,
   "id": "86312528",
   "metadata": {},
   "outputs": [],
   "source": [
    "string = \"I don't do that\""
   ]
  },
  {
   "cell_type": "code",
   "execution_count": 55,
   "id": "ff636b0e",
   "metadata": {},
   "outputs": [
    {
     "name": "stdout",
     "output_type": "stream",
     "text": [
      "do\n"
     ]
    }
   ],
   "source": [
    "print(string[8:10])"
   ]
  },
  {
   "cell_type": "markdown",
   "id": "e2d80cde",
   "metadata": {},
   "source": [
    "---"
   ]
  },
  {
   "cell_type": "markdown",
   "id": "a7dcb3dd",
   "metadata": {},
   "source": [
    "### چند نکته درباره الحاق رشته"
   ]
  },
  {
   "cell_type": "code",
   "execution_count": 64,
   "id": "f5887bc9",
   "metadata": {},
   "outputs": [
    {
     "data": {
      "text/plain": [
       "5"
      ]
     },
     "execution_count": 64,
     "metadata": {},
     "output_type": "execute_result"
    }
   ],
   "source": [
    "2 + 3"
   ]
  },
  {
   "cell_type": "code",
   "execution_count": 65,
   "id": "98b69db8",
   "metadata": {},
   "outputs": [
    {
     "data": {
      "text/plain": [
       "'23'"
      ]
     },
     "execution_count": 65,
     "metadata": {},
     "output_type": "execute_result"
    }
   ],
   "source": [
    "'2' + '3'"
   ]
  },
  {
   "cell_type": "code",
   "execution_count": 66,
   "id": "560db202",
   "metadata": {},
   "outputs": [
    {
     "ename": "TypeError",
     "evalue": "unsupported operand type(s) for +: 'int' and 'str'",
     "output_type": "error",
     "traceback": [
      "\u001b[1;31m---------------------------------------------------------------------------\u001b[0m",
      "\u001b[1;31mTypeError\u001b[0m                                 Traceback (most recent call last)",
      "Input \u001b[1;32mIn [66]\u001b[0m, in \u001b[0;36m<cell line: 1>\u001b[1;34m()\u001b[0m\n\u001b[1;32m----> 1\u001b[0m \u001b[38;5;241;43m2\u001b[39;49m\u001b[43m \u001b[49m\u001b[38;5;241;43m+\u001b[39;49m\u001b[43m \u001b[49m\u001b[38;5;124;43m'\u001b[39;49m\u001b[38;5;124;43m3\u001b[39;49m\u001b[38;5;124;43m'\u001b[39;49m\n",
      "\u001b[1;31mTypeError\u001b[0m: unsupported operand type(s) for +: 'int' and 'str'"
     ]
    }
   ],
   "source": [
    "2 + '3'"
   ]
  },
  {
   "cell_type": "code",
   "execution_count": 67,
   "id": "a12d00b7",
   "metadata": {},
   "outputs": [
    {
     "ename": "TypeError",
     "evalue": "can only concatenate str (not \"int\") to str",
     "output_type": "error",
     "traceback": [
      "\u001b[1;31m---------------------------------------------------------------------------\u001b[0m",
      "\u001b[1;31mTypeError\u001b[0m                                 Traceback (most recent call last)",
      "Input \u001b[1;32mIn [67]\u001b[0m, in \u001b[0;36m<cell line: 1>\u001b[1;34m()\u001b[0m\n\u001b[1;32m----> 1\u001b[0m \u001b[38;5;124;43m'\u001b[39;49m\u001b[38;5;124;43m2\u001b[39;49m\u001b[38;5;124;43m'\u001b[39;49m\u001b[43m \u001b[49m\u001b[38;5;241;43m+\u001b[39;49m\u001b[43m \u001b[49m\u001b[38;5;241;43m3\u001b[39;49m\n",
      "\u001b[1;31mTypeError\u001b[0m: can only concatenate str (not \"int\") to str"
     ]
    }
   ],
   "source": [
    "'2' + 3"
   ]
  },
  {
   "cell_type": "markdown",
   "id": "d3be6f19",
   "metadata": {},
   "source": [
    "# توابع و متد های رشته"
   ]
  },
  {
   "cell_type": "markdown",
   "id": "13788eb5",
   "metadata": {},
   "source": [
    "### 1. len()"
   ]
  },
  {
   "cell_type": "code",
   "execution_count": 68,
   "id": "2dad7e6d",
   "metadata": {},
   "outputs": [],
   "source": [
    "my_str = \"Hello World\""
   ]
  },
  {
   "cell_type": "code",
   "execution_count": 69,
   "id": "dcfdfb73",
   "metadata": {},
   "outputs": [
    {
     "data": {
      "text/plain": [
       "11"
      ]
     },
     "execution_count": 69,
     "metadata": {},
     "output_type": "execute_result"
    }
   ],
   "source": [
    "len(my_str)"
   ]
  },
  {
   "cell_type": "markdown",
   "id": "85a62b56",
   "metadata": {},
   "source": [
    "### 2. upper()"
   ]
  },
  {
   "cell_type": "code",
   "execution_count": 70,
   "id": "58bc58dd",
   "metadata": {},
   "outputs": [
    {
     "data": {
      "text/plain": [
       "'HELLO WORLD'"
      ]
     },
     "execution_count": 70,
     "metadata": {},
     "output_type": "execute_result"
    }
   ],
   "source": [
    "my_str.upper()"
   ]
  },
  {
   "cell_type": "markdown",
   "id": "f51f921c",
   "metadata": {},
   "source": [
    "### 3. lower()"
   ]
  },
  {
   "cell_type": "code",
   "execution_count": 71,
   "id": "8d694ea6",
   "metadata": {},
   "outputs": [
    {
     "data": {
      "text/plain": [
       "'hello world'"
      ]
     },
     "execution_count": 71,
     "metadata": {},
     "output_type": "execute_result"
    }
   ],
   "source": [
    "my_str.lower()"
   ]
  },
  {
   "cell_type": "markdown",
   "id": "fa3dd30c",
   "metadata": {},
   "source": [
    "### 4. split()"
   ]
  },
  {
   "cell_type": "code",
   "execution_count": 72,
   "id": "cc0a224c",
   "metadata": {},
   "outputs": [
    {
     "data": {
      "text/plain": [
       "['Hello', 'World']"
      ]
     },
     "execution_count": 72,
     "metadata": {},
     "output_type": "execute_result"
    }
   ],
   "source": [
    "my_str.split()"
   ]
  },
  {
   "cell_type": "code",
   "execution_count": 73,
   "id": "91024c4d",
   "metadata": {},
   "outputs": [
    {
     "data": {
      "text/plain": [
       "list"
      ]
     },
     "execution_count": 73,
     "metadata": {},
     "output_type": "execute_result"
    }
   ],
   "source": [
    "type(my_str.split())"
   ]
  },
  {
   "cell_type": "code",
   "execution_count": 74,
   "id": "3be0aa5b",
   "metadata": {},
   "outputs": [],
   "source": [
    "my_str_two = \"HelloWorld\""
   ]
  },
  {
   "cell_type": "code",
   "execution_count": 75,
   "id": "5efe6d46",
   "metadata": {},
   "outputs": [
    {
     "data": {
      "text/plain": [
       "['HelloWorld']"
      ]
     },
     "execution_count": 75,
     "metadata": {},
     "output_type": "execute_result"
    }
   ],
   "source": [
    "my_str_two.split()"
   ]
  },
  {
   "cell_type": "markdown",
   "id": "f621ae5c",
   "metadata": {},
   "source": [
    "---"
   ]
  },
  {
   "cell_type": "code",
   "execution_count": 77,
   "id": "fd5fdd23",
   "metadata": {},
   "outputs": [
    {
     "data": {
      "text/plain": [
       "'Hello World'"
      ]
     },
     "execution_count": 77,
     "metadata": {},
     "output_type": "execute_result"
    }
   ],
   "source": [
    "my_str"
   ]
  },
  {
   "cell_type": "code",
   "execution_count": 76,
   "id": "ca8fd9c4",
   "metadata": {},
   "outputs": [
    {
     "data": {
      "text/plain": [
       "['Hell', ' W', 'rld']"
      ]
     },
     "execution_count": 76,
     "metadata": {},
     "output_type": "execute_result"
    }
   ],
   "source": [
    "my_str.split('o')"
   ]
  },
  {
   "cell_type": "code",
   "execution_count": 78,
   "id": "2191111f",
   "metadata": {},
   "outputs": [
    {
     "data": {
      "text/plain": [
       "['He', '', 'o Wor', 'd']"
      ]
     },
     "execution_count": 78,
     "metadata": {},
     "output_type": "execute_result"
    }
   ],
   "source": [
    "my_str.split('l')"
   ]
  },
  {
   "cell_type": "code",
   "execution_count": 81,
   "id": "c3e52bf6",
   "metadata": {},
   "outputs": [],
   "source": [
    "my_str_three = \"mohammadm\""
   ]
  },
  {
   "cell_type": "code",
   "execution_count": 82,
   "id": "73ca2c19",
   "metadata": {},
   "outputs": [
    {
     "data": {
      "text/plain": [
       "['', 'oha', '', 'ad', '']"
      ]
     },
     "execution_count": 82,
     "metadata": {},
     "output_type": "execute_result"
    }
   ],
   "source": [
    "my_str_three.split('m')"
   ]
  },
  {
   "cell_type": "code",
   "execution_count": null,
   "id": "ef51bbb3",
   "metadata": {},
   "outputs": [],
   "source": []
  }
 ],
 "metadata": {
  "kernelspec": {
   "display_name": "Python 3 (ipykernel)",
   "language": "python",
   "name": "python3"
  },
  "language_info": {
   "codemirror_mode": {
    "name": "ipython",
    "version": 3
   },
   "file_extension": ".py",
   "mimetype": "text/x-python",
   "name": "python",
   "nbconvert_exporter": "python",
   "pygments_lexer": "ipython3",
   "version": "3.10.3"
  }
 },
 "nbformat": 4,
 "nbformat_minor": 5
}
