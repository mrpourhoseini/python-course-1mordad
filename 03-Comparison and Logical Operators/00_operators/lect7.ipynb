{
 "cells": [
  {
   "cell_type": "markdown",
   "id": "cc22abe1-bd49-4362-a1a6-51667b077b1b",
   "metadata": {},
   "source": [
    "# and or not"
   ]
  },
  {
   "cell_type": "code",
   "execution_count": 1,
   "id": "9706901e-619b-46bc-b4ca-d35f33e729ee",
   "metadata": {},
   "outputs": [],
   "source": [
    "a = 2.5\n",
    "b = 3"
   ]
  },
  {
   "cell_type": "code",
   "execution_count": 2,
   "id": "67637acb-8725-4ea5-80c3-96a185e4c947",
   "metadata": {},
   "outputs": [
    {
     "data": {
      "text/plain": [
       "False"
      ]
     },
     "execution_count": 2,
     "metadata": {},
     "output_type": "execute_result"
    }
   ],
   "source": [
    "a > b"
   ]
  },
  {
   "cell_type": "code",
   "execution_count": 3,
   "id": "a7b500d1-0bbe-48fa-aeb2-9233ed63451e",
   "metadata": {},
   "outputs": [
    {
     "data": {
      "text/plain": [
       "True"
      ]
     },
     "execution_count": 3,
     "metadata": {},
     "output_type": "execute_result"
    }
   ],
   "source": [
    "a <= b"
   ]
  },
  {
   "cell_type": "code",
   "execution_count": 4,
   "id": "6bd8c818-e227-4a0d-91bf-17a1aade8bb9",
   "metadata": {},
   "outputs": [
    {
     "data": {
      "text/plain": [
       "True"
      ]
     },
     "execution_count": 4,
     "metadata": {},
     "output_type": "execute_result"
    }
   ],
   "source": [
    "a > b or a > 2"
   ]
  },
  {
   "cell_type": "code",
   "execution_count": 5,
   "id": "dd06fafc-9043-4f80-8a40-ed947b7d51d9",
   "metadata": {},
   "outputs": [
    {
     "data": {
      "text/plain": [
       "False"
      ]
     },
     "execution_count": 5,
     "metadata": {},
     "output_type": "execute_result"
    }
   ],
   "source": [
    "a > b and a > 2"
   ]
  },
  {
   "cell_type": "code",
   "execution_count": 6,
   "id": "6fbfa884-eee0-4e83-8858-879ab939dae3",
   "metadata": {},
   "outputs": [],
   "source": [
    "is_active = True"
   ]
  },
  {
   "cell_type": "code",
   "execution_count": 8,
   "id": "d1a73e85-2050-4388-9ca7-b160ea654dcf",
   "metadata": {},
   "outputs": [
    {
     "name": "stdout",
     "output_type": "stream",
     "text": [
      "False\n"
     ]
    }
   ],
   "source": [
    "print(not is_active)"
   ]
  }
 ],
 "metadata": {
  "kernelspec": {
   "display_name": "Python 3 (ipykernel)",
   "language": "python",
   "name": "python3"
  },
  "language_info": {
   "codemirror_mode": {
    "name": "ipython",
    "version": 3
   },
   "file_extension": ".py",
   "mimetype": "text/x-python",
   "name": "python",
   "nbconvert_exporter": "python",
   "pygments_lexer": "ipython3",
   "version": "3.10.3"
  }
 },
 "nbformat": 4,
 "nbformat_minor": 5
}
