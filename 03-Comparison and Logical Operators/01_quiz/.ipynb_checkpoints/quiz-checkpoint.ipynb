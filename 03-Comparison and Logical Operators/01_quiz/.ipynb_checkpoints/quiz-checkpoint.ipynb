{
 "cells": [
  {
   "cell_type": "markdown",
   "id": "b5179a70-259d-4393-aa83-9c16a7ff0799",
   "metadata": {},
   "source": [
    "### 1. James -> Jms | mohammad -> mmd"
   ]
  },
  {
   "cell_type": "code",
   "execution_count": 4,
   "id": "800c51ba-125c-4ec2-b8c6-0553a4f35e7b",
   "metadata": {},
   "outputs": [
    {
     "data": {
      "text/plain": [
       "int"
      ]
     },
     "execution_count": 4,
     "metadata": {},
     "output_type": "execute_result"
    }
   ],
   "source": [
    "age = '20'\n",
    "type(int(age))"
   ]
  },
  {
   "cell_type": "code",
   "execution_count": 18,
   "id": "725b28b2-f2c3-4e52-9acb-031a23cad3bd",
   "metadata": {},
   "outputs": [
    {
     "name": "stdout",
     "output_type": "stream",
     "text": [
      "Jms\n"
     ]
    }
   ],
   "source": [
    "str1 = 'James'\n",
    "l = int(len(str1))\n",
    "first_char = str1[0]\n",
    "middle_char = str1[l // 2]\n",
    "last_char = str1[-1]\n",
    "print(f\"{first_char}{middle_char}{last_char}\")"
   ]
  },
  {
   "cell_type": "markdown",
   "id": "1e365ab8-2b16-4035-87c8-d37aed521d6c",
   "metadata": {},
   "source": [
    "### 2. یافتن تعداد یک کلمه در یک جمله"
   ]
  },
  {
   "cell_type": "code",
   "execution_count": 5,
   "id": "d64274cf-be68-49dd-9d0e-6c4386993014",
   "metadata": {},
   "outputs": [],
   "source": [
    "str_x = \"Ali is good developer. Ali is a backend developer\""
   ]
  },
  {
   "cell_type": "code",
   "execution_count": 21,
   "id": "3bfcf61a-1b94-4196-afde-2e72c202d0e5",
   "metadata": {},
   "outputs": [
    {
     "data": {
      "text/plain": [
       "2"
      ]
     },
     "execution_count": 21,
     "metadata": {},
     "output_type": "execute_result"
    }
   ],
   "source": [
    "str_x.count('Ali')"
   ]
  }
 ],
 "metadata": {
  "kernelspec": {
   "display_name": "Python 3 (ipykernel)",
   "language": "python",
   "name": "python3"
  },
  "language_info": {
   "codemirror_mode": {
    "name": "ipython",
    "version": 3
   },
   "file_extension": ".py",
   "mimetype": "text/x-python",
   "name": "python",
   "nbconvert_exporter": "python",
   "pygments_lexer": "ipython3",
   "version": "3.10.3"
  }
 },
 "nbformat": 4,
 "nbformat_minor": 5
}
