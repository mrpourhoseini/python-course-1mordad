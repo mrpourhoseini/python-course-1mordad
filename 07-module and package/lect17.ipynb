{
 "cells": [
  {
   "cell_type": "markdown",
   "id": "72cbe4d4",
   "metadata": {},
   "source": [
    "# Module"
   ]
  },
  {
   "cell_type": "code",
   "execution_count": 24,
   "id": "cb13ca86",
   "metadata": {},
   "outputs": [],
   "source": [
    "import myfibo\n",
    "# from fibo import *"
   ]
  },
  {
   "cell_type": "code",
   "execution_count": 25,
   "id": "c85c5eda",
   "metadata": {},
   "outputs": [
    {
     "data": {
      "text/plain": [
       "'myfibo'"
      ]
     },
     "execution_count": 25,
     "metadata": {},
     "output_type": "execute_result"
    }
   ],
   "source": [
    "myfibo.__name__"
   ]
  },
  {
   "cell_type": "code",
   "execution_count": 26,
   "id": "fa20851a",
   "metadata": {},
   "outputs": [
    {
     "name": "stdout",
     "output_type": "stream",
     "text": [
      "0 1 1 2 3 5 8 13 \n"
     ]
    }
   ],
   "source": [
    "myfibo.fib(20)"
   ]
  },
  {
   "cell_type": "code",
   "execution_count": 27,
   "id": "0445523f",
   "metadata": {},
   "outputs": [
    {
     "data": {
      "text/plain": [
       "[0, 1, 1, 2, 3, 5, 8, 13, 21, 34]"
      ]
     },
     "execution_count": 27,
     "metadata": {},
     "output_type": "execute_result"
    }
   ],
   "source": [
    "myfibo.fib2(50)"
   ]
  },
  {
   "cell_type": "code",
   "execution_count": 28,
   "id": "3e1474f5",
   "metadata": {},
   "outputs": [],
   "source": [
    "from myfibo import fib"
   ]
  },
  {
   "cell_type": "code",
   "execution_count": 29,
   "id": "aa705bec",
   "metadata": {},
   "outputs": [
    {
     "name": "stdout",
     "output_type": "stream",
     "text": [
      "0 1 1 2 3 5 8 13 21 \n"
     ]
    }
   ],
   "source": [
    "fib(30)"
   ]
  },
  {
   "cell_type": "code",
   "execution_count": 30,
   "id": "184fc5eb",
   "metadata": {},
   "outputs": [],
   "source": [
    "from myfibo import fib as fibonacci"
   ]
  },
  {
   "cell_type": "code",
   "execution_count": 31,
   "id": "af142934",
   "metadata": {},
   "outputs": [
    {
     "name": "stdout",
     "output_type": "stream",
     "text": [
      "0 1 1 2 3 5 8 13 21 34 \n"
     ]
    }
   ],
   "source": [
    "fibonacci(40)"
   ]
  },
  {
   "cell_type": "markdown",
   "id": "41c46c94",
   "metadata": {},
   "source": [
    "## dir() function"
   ]
  },
  {
   "cell_type": "code",
   "execution_count": 32,
   "id": "0c0f4443",
   "metadata": {},
   "outputs": [
    {
     "data": {
      "text/plain": [
       "['__builtins__',\n",
       " '__cached__',\n",
       " '__doc__',\n",
       " '__file__',\n",
       " '__loader__',\n",
       " '__name__',\n",
       " '__package__',\n",
       " '__spec__',\n",
       " 'fib',\n",
       " 'fib2']"
      ]
     },
     "execution_count": 32,
     "metadata": {},
     "output_type": "execute_result"
    }
   ],
   "source": [
    "dir(myfibo)"
   ]
  },
  {
   "cell_type": "code",
   "execution_count": 34,
   "id": "cd59ce16",
   "metadata": {},
   "outputs": [],
   "source": [
    "import numpy as np"
   ]
  },
  {
   "cell_type": "code",
   "execution_count": 35,
   "id": "8f43a8b7",
   "metadata": {},
   "outputs": [
    {
     "data": {
      "text/plain": [
       "(1, 6)"
      ]
     },
     "execution_count": 35,
     "metadata": {},
     "output_type": "execute_result"
    }
   ],
   "source": [
    "a = np.arange(6)\n",
    "a2 = a[np.newaxis, :]\n",
    "a2.shape"
   ]
  }
 ],
 "metadata": {
  "kernelspec": {
   "display_name": "Python 3 (ipykernel)",
   "language": "python",
   "name": "python3"
  },
  "language_info": {
   "codemirror_mode": {
    "name": "ipython",
    "version": 3
   },
   "file_extension": ".py",
   "mimetype": "text/x-python",
   "name": "python",
   "nbconvert_exporter": "python",
   "pygments_lexer": "ipython3",
   "version": "3.10.3"
  }
 },
 "nbformat": 4,
 "nbformat_minor": 5
}
