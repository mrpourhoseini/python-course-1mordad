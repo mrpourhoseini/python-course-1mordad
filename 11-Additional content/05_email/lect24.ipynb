{
 "cells": [
  {
   "cell_type": "markdown",
   "id": "676dd54f",
   "metadata": {},
   "source": [
    "# Email in python"
   ]
  },
  {
   "cell_type": "code",
   "execution_count": 1,
   "id": "fbb72b2d",
   "metadata": {},
   "outputs": [],
   "source": [
    "import smtplib"
   ]
  },
  {
   "cell_type": "code",
   "execution_count": 2,
   "id": "7b1c8de0",
   "metadata": {},
   "outputs": [],
   "source": [
    "smtp_object = smtplib.SMTP(\"smtp.gmail.com\",587)"
   ]
  },
  {
   "cell_type": "code",
   "execution_count": 3,
   "id": "fb892153",
   "metadata": {},
   "outputs": [
    {
     "data": {
      "text/plain": [
       "(250,\n",
       " b'smtp.gmail.com at your service, [5.127.243.7]\\nSIZE 35882577\\n8BITMIME\\nSTARTTLS\\nENHANCEDSTATUSCODES\\nPIPELINING\\nCHUNKING\\nSMTPUTF8')"
      ]
     },
     "execution_count": 3,
     "metadata": {},
     "output_type": "execute_result"
    }
   ],
   "source": [
    "smtp_object.ehlo()"
   ]
  },
  {
   "cell_type": "code",
   "execution_count": 4,
   "id": "5bdaebdf",
   "metadata": {},
   "outputs": [
    {
     "data": {
      "text/plain": [
       "(220, b'2.0.0 Ready to start TLS')"
      ]
     },
     "execution_count": 4,
     "metadata": {},
     "output_type": "execute_result"
    }
   ],
   "source": [
    "smtp_object.starttls()"
   ]
  },
  {
   "cell_type": "code",
   "execution_count": 5,
   "id": "70d009ac",
   "metadata": {},
   "outputs": [
    {
     "name": "stdout",
     "output_type": "stream",
     "text": [
      "Enter your password: 1234\n"
     ]
    },
    {
     "data": {
      "text/plain": [
       "'1234'"
      ]
     },
     "execution_count": 5,
     "metadata": {},
     "output_type": "execute_result"
    }
   ],
   "source": [
    "input(\"Enter your password: \")"
   ]
  },
  {
   "cell_type": "markdown",
   "id": "30091042",
   "metadata": {},
   "source": [
    "## getpass lib"
   ]
  },
  {
   "cell_type": "code",
   "execution_count": 6,
   "id": "214cf30c",
   "metadata": {},
   "outputs": [],
   "source": [
    "import getpass"
   ]
  },
  {
   "cell_type": "code",
   "execution_count": 7,
   "id": "02cb4a92",
   "metadata": {},
   "outputs": [
    {
     "name": "stdout",
     "output_type": "stream",
     "text": [
      "Enter your password:········\n"
     ]
    },
    {
     "data": {
      "text/plain": [
       "'1234'"
      ]
     },
     "execution_count": 7,
     "metadata": {},
     "output_type": "execute_result"
    }
   ],
   "source": [
    "getpass.getpass(\"Enter your password:\")"
   ]
  },
  {
   "cell_type": "markdown",
   "id": "102c9f00",
   "metadata": {},
   "source": [
    "# login Email"
   ]
  },
  {
   "cell_type": "code",
   "execution_count": 5,
   "id": "ea4588d7",
   "metadata": {},
   "outputs": [
    {
     "data": {
      "text/plain": [
       "(235, b'2.7.0 Accepted')"
      ]
     },
     "execution_count": 5,
     "metadata": {},
     "output_type": "execute_result"
    }
   ],
   "source": [
    "# email = getpass.getpass(\"Enter your email: \")\n",
    "email = 'mrpour1995@gmail.com'\n",
    "# password = getpass.getpass(\"Enter your password: \")\n",
    "password = 'rkgtapareinzhxrx'\n",
    "smtp_object.login(email,password)"
   ]
  },
  {
   "cell_type": "code",
   "execution_count": 7,
   "id": "c210a9aa",
   "metadata": {},
   "outputs": [
    {
     "name": "stdout",
     "output_type": "stream",
     "text": [
      "Enter the email of recipient:········\n",
      "Enter your subject: python\n",
      "Enter your message: test\n"
     ]
    },
    {
     "data": {
      "text/plain": [
       "{}"
      ]
     },
     "execution_count": 7,
     "metadata": {},
     "output_type": "execute_result"
    }
   ],
   "source": [
    "import getpass\n",
    "from_address = email\n",
    "to_address = getpass.getpass(\"Enter the email of recipient:\")\n",
    "subject = input(\"Enter your subject: \")\n",
    "message = input(\"Enter your message: \")\n",
    "msg = \"Subject: \" + subject + \"\\n\" + message\n",
    "smtp_object.sendmail(from_address,to_address,msg)"
   ]
  },
  {
   "cell_type": "code",
   "execution_count": 10,
   "id": "769c5778",
   "metadata": {},
   "outputs": [
    {
     "data": {
      "text/plain": [
       "{}"
      ]
     },
     "execution_count": 10,
     "metadata": {},
     "output_type": "execute_result"
    }
   ],
   "source": [
    "from_address = email\n",
    "to_address = 'mpourhoseini995@gmail.com'\n",
    "subject = 'Hello'\n",
    "message = 'Hello World'\n",
    "msg = \"Subject: \" + subject + \"\\n\" + message\n",
    "smtp_object.sendmail(from_address,to_address,msg)"
   ]
  },
  {
   "cell_type": "code",
   "execution_count": null,
   "id": "c23d72d6",
   "metadata": {},
   "outputs": [],
   "source": [
    "smtp_object.quit()"
   ]
  }
 ],
 "metadata": {
  "kernelspec": {
   "display_name": "Python 3 (ipykernel)",
   "language": "python",
   "name": "python3"
  },
  "language_info": {
   "codemirror_mode": {
    "name": "ipython",
    "version": 3
   },
   "file_extension": ".py",
   "mimetype": "text/x-python",
   "name": "python",
   "nbconvert_exporter": "python",
   "pygments_lexer": "ipython3",
   "version": "3.10.3"
  }
 },
 "nbformat": 4,
 "nbformat_minor": 5
}
