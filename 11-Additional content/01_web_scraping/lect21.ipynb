{
 "cells": [
  {
   "cell_type": "markdown",
   "id": "78f5759f",
   "metadata": {},
   "source": [
    "# Web Scraping"
   ]
  },
  {
   "cell_type": "code",
   "execution_count": null,
   "id": "53e5821b",
   "metadata": {},
   "outputs": [],
   "source": [
    "! pip install requests lxml bs4"
   ]
  },
  {
   "cell_type": "code",
   "execution_count": 2,
   "id": "24b12ec9",
   "metadata": {},
   "outputs": [],
   "source": [
    "import requests\n",
    "import lxml\n",
    "import bs4"
   ]
  },
  {
   "cell_type": "markdown",
   "id": "7bff1dd9",
   "metadata": {},
   "source": [
    "## مثال1"
   ]
  },
  {
   "cell_type": "code",
   "execution_count": 3,
   "id": "dc383558",
   "metadata": {},
   "outputs": [],
   "source": [
    "res = requests.get('https://example.com/')"
   ]
  },
  {
   "cell_type": "code",
   "execution_count": 4,
   "id": "d61c3591",
   "metadata": {},
   "outputs": [
    {
     "data": {
      "text/plain": [
       "requests.models.Response"
      ]
     },
     "execution_count": 4,
     "metadata": {},
     "output_type": "execute_result"
    }
   ],
   "source": [
    "type(res)"
   ]
  },
  {
   "cell_type": "code",
   "execution_count": 5,
   "id": "93dd22fa",
   "metadata": {},
   "outputs": [
    {
     "data": {
      "text/plain": [
       "<Response [200]>"
      ]
     },
     "execution_count": 5,
     "metadata": {},
     "output_type": "execute_result"
    }
   ],
   "source": [
    "res"
   ]
  },
  {
   "cell_type": "code",
   "execution_count": 6,
   "id": "6b61dd9e",
   "metadata": {},
   "outputs": [
    {
     "data": {
      "text/plain": [
       "200"
      ]
     },
     "execution_count": 6,
     "metadata": {},
     "output_type": "execute_result"
    }
   ],
   "source": [
    "res.status_code"
   ]
  },
  {
   "cell_type": "code",
   "execution_count": 7,
   "id": "8f283ad5",
   "metadata": {
    "scrolled": true
   },
   "outputs": [
    {
     "data": {
      "text/plain": [
       "'<!doctype html>\\n<html>\\n<head>\\n    <title>Example Domain</title>\\n\\n    <meta charset=\"utf-8\" />\\n    <meta http-equiv=\"Content-type\" content=\"text/html; charset=utf-8\" />\\n    <meta name=\"viewport\" content=\"width=device-width, initial-scale=1\" />\\n    <style type=\"text/css\">\\n    body {\\n        background-color: #f0f0f2;\\n        margin: 0;\\n        padding: 0;\\n        font-family: -apple-system, system-ui, BlinkMacSystemFont, \"Segoe UI\", \"Open Sans\", \"Helvetica Neue\", Helvetica, Arial, sans-serif;\\n        \\n    }\\n    div {\\n        width: 600px;\\n        margin: 5em auto;\\n        padding: 2em;\\n        background-color: #fdfdff;\\n        border-radius: 0.5em;\\n        box-shadow: 2px 3px 7px 2px rgba(0,0,0,0.02);\\n    }\\n    a:link, a:visited {\\n        color: #38488f;\\n        text-decoration: none;\\n    }\\n    @media (max-width: 700px) {\\n        div {\\n            margin: 0 auto;\\n            width: auto;\\n        }\\n    }\\n    </style>    \\n</head>\\n\\n<body>\\n<div>\\n    <h1>Example Domain</h1>\\n    <p>This domain is for use in illustrative examples in documents. You may use this\\n    domain in literature without prior coordination or asking for permission.</p>\\n    <p><a href=\"https://www.iana.org/domains/example\">More information...</a></p>\\n</div>\\n</body>\\n</html>\\n'"
      ]
     },
     "execution_count": 7,
     "metadata": {},
     "output_type": "execute_result"
    }
   ],
   "source": [
    "res.text"
   ]
  },
  {
   "cell_type": "code",
   "execution_count": 8,
   "id": "b1160559",
   "metadata": {},
   "outputs": [],
   "source": [
    "example_com = bs4.BeautifulSoup(res.text, 'lxml')"
   ]
  },
  {
   "cell_type": "code",
   "execution_count": 9,
   "id": "dfa64bd2",
   "metadata": {},
   "outputs": [
    {
     "data": {
      "text/plain": [
       "<!DOCTYPE html>\n",
       "<html>\n",
       "<head>\n",
       "<title>Example Domain</title>\n",
       "<meta charset=\"utf-8\"/>\n",
       "<meta content=\"text/html; charset=utf-8\" http-equiv=\"Content-type\"/>\n",
       "<meta content=\"width=device-width, initial-scale=1\" name=\"viewport\"/>\n",
       "<style type=\"text/css\">\n",
       "    body {\n",
       "        background-color: #f0f0f2;\n",
       "        margin: 0;\n",
       "        padding: 0;\n",
       "        font-family: -apple-system, system-ui, BlinkMacSystemFont, \"Segoe UI\", \"Open Sans\", \"Helvetica Neue\", Helvetica, Arial, sans-serif;\n",
       "        \n",
       "    }\n",
       "    div {\n",
       "        width: 600px;\n",
       "        margin: 5em auto;\n",
       "        padding: 2em;\n",
       "        background-color: #fdfdff;\n",
       "        border-radius: 0.5em;\n",
       "        box-shadow: 2px 3px 7px 2px rgba(0,0,0,0.02);\n",
       "    }\n",
       "    a:link, a:visited {\n",
       "        color: #38488f;\n",
       "        text-decoration: none;\n",
       "    }\n",
       "    @media (max-width: 700px) {\n",
       "        div {\n",
       "            margin: 0 auto;\n",
       "            width: auto;\n",
       "        }\n",
       "    }\n",
       "    </style>\n",
       "</head>\n",
       "<body>\n",
       "<div>\n",
       "<h1>Example Domain</h1>\n",
       "<p>This domain is for use in illustrative examples in documents. You may use this\n",
       "    domain in literature without prior coordination or asking for permission.</p>\n",
       "<p><a href=\"https://www.iana.org/domains/example\">More information...</a></p>\n",
       "</div>\n",
       "</body>\n",
       "</html>"
      ]
     },
     "execution_count": 9,
     "metadata": {},
     "output_type": "execute_result"
    }
   ],
   "source": [
    "example_com"
   ]
  },
  {
   "cell_type": "code",
   "execution_count": 15,
   "id": "e2318304",
   "metadata": {},
   "outputs": [
    {
     "data": {
      "text/plain": [
       "'Example Domain'"
      ]
     },
     "execution_count": 15,
     "metadata": {},
     "output_type": "execute_result"
    }
   ],
   "source": [
    "example_com.select('title')[0].getText()"
   ]
  },
  {
   "cell_type": "code",
   "execution_count": 18,
   "id": "757ebdee",
   "metadata": {},
   "outputs": [
    {
     "data": {
      "text/plain": [
       "'More information...'"
      ]
     },
     "execution_count": 18,
     "metadata": {},
     "output_type": "execute_result"
    }
   ],
   "source": [
    "example_com.select('p')[1].getText()"
   ]
  },
  {
   "cell_type": "code",
   "execution_count": 20,
   "id": "63e04b2c",
   "metadata": {},
   "outputs": [
    {
     "name": "stdout",
     "output_type": "stream",
     "text": [
      "This domain is for use in illustrative examples in documents. You may use this\n",
      "    domain in literature without prior coordination or asking for permission.\n",
      "--------------\n",
      "More information...\n",
      "--------------\n"
     ]
    }
   ],
   "source": [
    "for item in example_com.select('p'):\n",
    "    print(item.getText())\n",
    "    print(\"--------------\")"
   ]
  },
  {
   "cell_type": "code",
   "execution_count": 24,
   "id": "4a1a5903",
   "metadata": {},
   "outputs": [
    {
     "name": "stdout",
     "output_type": "stream",
     "text": [
      "1_This domain is for use in illustrative examples in documents. You may use this\n",
      "    domain in literature without prior coordination or asking for permission.\n",
      "2_More information...\n"
     ]
    }
   ],
   "source": [
    "for i,item in enumerate(example_com.select('p')):\n",
    "    print(f\"{i+1}_{item.getText()}\")"
   ]
  },
  {
   "cell_type": "markdown",
   "id": "ea969267",
   "metadata": {},
   "source": [
    "# مثال2"
   ]
  },
  {
   "cell_type": "code",
   "execution_count": 25,
   "id": "70dbef03",
   "metadata": {},
   "outputs": [],
   "source": [
    "result = requests.get(\"https://www.python.org/\")"
   ]
  },
  {
   "cell_type": "code",
   "execution_count": 26,
   "id": "8b89bd27",
   "metadata": {},
   "outputs": [
    {
     "data": {
      "text/plain": [
       "'<!doctype html>\\n<!--[if lt IE 7]>   <html class=\"no-js ie6 lt-ie7 lt-ie8 lt-ie9\">   <![endif]-->\\n<!--[if IE 7]>      <html class=\"no-js ie7 lt-ie8 lt-ie9\">          <![endif]-->\\n<!--[if IE 8]>      <html class=\"no-js ie8 lt-ie9\">                 <![endif]-->\\n<!--[if gt IE 8]><!--><html class=\"no-js\" lang=\"en\" dir=\"ltr\">  <!--<![endif]-->\\n\\n<head>\\n    <meta charset=\"utf-8\">\\n    <meta http-equiv=\"X-UA-Compatible\" content=\"IE=edge\">\\n\\n    <link rel=\"prefetch\" href=\"//ajax.googleapis.com/ajax/libs/jquery/1.8.2/jquery.min.js\">\\n    <link rel=\"prefetch\" href=\"//ajax.googleapis.com/ajax/libs/jqueryui/1.12.1/jquery-ui.min.js\">\\n\\n    <meta name=\"application-name\" content=\"Python.org\">\\n    <meta name=\"msapplication-tooltip\" content=\"The official home of the Python Programming Language\">\\n    <meta name=\"apple-mobile-web-app-title\" content=\"Python.org\">\\n    <meta name=\"apple-mobile-web-app-capable\" content=\"yes\">\\n    <meta name=\"apple-mobile-web-app-status-bar-style\" content=\"black\">\\n\\n    <meta name=\"viewport\" content=\"width=device-width, initial-scale=1.0\">\\n    <meta name=\"HandheldFriendly\" content=\"True\">\\n    <meta name=\"format-detection\" content=\"telephone=no\">\\n    <meta http-equiv=\"cleartype\" content=\"on\">\\n    <meta http-equiv=\"imagetoolbar\" content=\"false\">\\n\\n    <script async\\n            src=\"https://media.ethicalads.io/media/client/v1.4.0/ethicalads.min.js\"\\n            integrity=\"sha256-U3hKDidudIaxBDEzwGJApJgPEf2mWk6cfMWghrAa6i0= sha384-UcmsCqcNRSLW/dV3Lo1oCi2/VaurXbib6p4HyUEOeIa/4OpsrnucrugAefzVZJfI sha512-q4t1L4xEjGV2R4hzqCa41P8jrgFUS8xTb8rdNv4FGvw7FpydVj/kkxBJHOiaoxHa8olCcx1Slk9K+3sNbsM4ug==\"\\n            crossorigin=\"anonymous\"\\n    ></script>\\n    <script src=\"/static/js/libs/modernizr.js\"></script>\\n\\n    <link href=\"/static/stylesheets/style.2135bffe4dde.css\" rel=\"stylesheet\" type=\"text/css\" media=\"all\" title=\"default\" />\\n    <link href=\"/static/stylesheets/mq.f9187444a4a1.css\" rel=\"stylesheet\" type=\"text/css\" media=\"not print, braille, embossed, speech, tty\" />\\n    \\n\\n    <!--[if (lte IE 8)&(!IEMobile)]>\\n    <link href=\"/static/stylesheets/no-mq.bf0c425cdb73.css\" rel=\"stylesheet\" type=\"text/css\" media=\"screen\" />\\n    \\n    \\n    <![endif]-->\\n    <link rel=\"stylesheet\" href=\"//ajax.googleapis.com/ajax/libs/jqueryui/1.12.1/themes/smoothness/jquery-ui.css\">\\n\\n    \\n    <link rel=\"icon\" type=\"image/x-icon\" href=\"/static/favicon.ico\">\\n    <link rel=\"apple-touch-icon-precomposed\" sizes=\"144x144\" href=\"/static/apple-touch-icon-144x144-precomposed.png\">\\n    <link rel=\"apple-touch-icon-precomposed\" sizes=\"114x114\" href=\"/static/apple-touch-icon-114x114-precomposed.png\">\\n    <link rel=\"apple-touch-icon-precomposed\" sizes=\"72x72\" href=\"/static/apple-touch-icon-72x72-precomposed.png\">\\n    <link rel=\"apple-touch-icon-precomposed\" href=\"/static/apple-touch-icon-precomposed.png\">\\n    <link rel=\"apple-touch-icon\" href=\"/static/apple-touch-icon-precomposed.png\">\\n\\n    \\n    <meta name=\"msapplication-TileImage\" content=\"/static/metro-icon-144x144-precomposed.png\"><!-- white shape -->\\n    <meta name=\"msapplication-TileColor\" content=\"#3673a5\"><!-- python blue -->\\n    <meta name=\"msapplication-navbutton-color\" content=\"#3673a5\">\\n\\n    <title>Welcome to Python.org</title>\\n\\n    <meta name=\"description\" content=\"The official home of the Python Programming Language\">\\n    <meta name=\"keywords\" content=\"Python programming language object oriented web free open source software license documentation download community\">\\n\\n    \\n    <meta property=\"og:type\" content=\"website\">\\n    <meta property=\"og:site_name\" content=\"Python.org\">\\n    <meta property=\"og:title\" content=\"Welcome to Python.org\">\\n    <meta property=\"og:description\" content=\"The official home of the Python Programming Language\">\\n    \\n    <meta property=\"og:image\" content=\"https://www.python.org/static/opengraph-icon-200x200.png\">\\n    <meta property=\"og:image:secure_url\" content=\"https://www.python.org/static/opengraph-icon-200x200.png\">\\n    \\n    <meta property=\"og:url\" content=\"https://www.python.org/\">\\n\\n    <link rel=\"author\" href=\"/static/humans.txt\">\\n\\n    <link rel=\"alternate\" type=\"application/rss+xml\" title=\"Python Enhancement Proposals\"\\n          href=\"https://www.python.org/dev/peps/peps.rss/\">\\n    <link rel=\"alternate\" type=\"application/rss+xml\" title=\"Python Job Opportunities\"\\n          href=\"https://www.python.org/jobs/feed/rss/\">\\n    <link rel=\"alternate\" type=\"application/rss+xml\" title=\"Python Software Foundation News\"\\n          href=\"https://feeds.feedburner.com/PythonSoftwareFoundationNews\">\\n    <link rel=\"alternate\" type=\"application/rss+xml\" title=\"Python Insider\"\\n          href=\"https://feeds.feedburner.com/PythonInsider\">\\n\\n    \\n\\n    \\n    <script type=\"application/ld+json\">\\n     {\\n       \"@context\": \"https://schema.org\",\\n       \"@type\": \"WebSite\",\\n       \"url\": \"https://www.python.org/\",\\n       \"potentialAction\": {\\n         \"@type\": \"SearchAction\",\\n         \"target\": \"https://www.python.org/search/?q={search_term_string}\",\\n         \"query-input\": \"required name=search_term_string\"\\n       }\\n     }\\n    </script>\\n\\n    \\n    <script type=\"text/javascript\">\\n    var _gaq = _gaq || [];\\n    _gaq.push([\\'_setAccount\\', \\'UA-39055973-1\\']);\\n    _gaq.push([\\'_trackPageview\\']);\\n\\n    (function() {\\n        var ga = document.createElement(\\'script\\'); ga.type = \\'text/javascript\\'; ga.async = true;\\n        ga.src = (\\'https:\\' == document.location.protocol ? \\'https://ssl\\' : \\'http://www\\') + \\'.google-analytics.com/ga.js\\';\\n        var s = document.getElementsByTagName(\\'script\\')[0]; s.parentNode.insertBefore(ga, s);\\n    })();\\n    </script>\\n    \\n</head>\\n\\n<body class=\"python home\" id=\"homepage\">\\n\\n    <div id=\"touchnav-wrapper\">\\n\\n        <div id=\"nojs\" class=\"do-not-print\">\\n            <p><strong>Notice:</strong> While JavaScript is not essential for this website, your interaction with the content will be limited. Please turn JavaScript on for the full experience. </p>\\n        </div>\\n\\n        <!--[if lte IE 8]>\\n        <div id=\"oldie-warning\" class=\"do-not-print\">\\n            <p>\\n                <strong>Notice:</strong> Your browser is <em>ancient</em>. Please\\n                <a href=\"http://browsehappy.com/\">upgrade to a different browser</a> to experience a better web.\\n            </p>\\n        </div>\\n        <![endif]-->\\n\\n        <!-- Sister Site Links -->\\n        <div id=\"top\" class=\"top-bar do-not-print\">\\n\\n            <nav class=\"meta-navigation container\" role=\"navigation\">\\n\\n                \\n                <div class=\"skip-link screen-reader-text\">\\n                    <a href=\"#content\" title=\"Skip to content\">Skip to content</a>\\n                </div>\\n\\n                \\n                <a id=\"close-python-network\" class=\"jump-link\" href=\"#python-network\" aria-hidden=\"true\">\\n                    <span aria-hidden=\"true\" class=\"icon-arrow-down\"><span>&#9660;</span></span> Close\\n                </a>\\n\\n                \\n\\n<ul class=\"menu\" role=\"tree\">\\n    \\n    <li class=\"python-meta current_item selectedcurrent_branch selected\">\\n        <a href=\"/\" title=\"The Python Programming Language\" class=\"current_item selectedcurrent_branch selected\">Python</a>\\n    </li>\\n    \\n    <li class=\"psf-meta \">\\n        <a href=\"/psf-landing/\" title=\"The Python Software Foundation\" >PSF</a>\\n    </li>\\n    \\n    <li class=\"docs-meta \">\\n        <a href=\"https://docs.python.org\" title=\"Python Documentation\" >Docs</a>\\n    </li>\\n    \\n    <li class=\"pypi-meta \">\\n        <a href=\"https://pypi.org/\" title=\"Python Package Index\" >PyPI</a>\\n    </li>\\n    \\n    <li class=\"jobs-meta \">\\n        <a href=\"/jobs/\" title=\"Python Job Board\" >Jobs</a>\\n    </li>\\n    \\n    <li class=\"shop-meta \">\\n        <a href=\"/community-landing/\"  >Community</a>\\n    </li>\\n    \\n</ul>\\n\\n\\n                <a id=\"python-network\" class=\"jump-link\" href=\"#top\" aria-hidden=\"true\">\\n                    <span aria-hidden=\"true\" class=\"icon-arrow-up\"><span>&#9650;</span></span> The Python Network\\n                </a>\\n\\n            </nav>\\n\\n        </div>\\n\\n        <!-- Header elements -->\\n        <header class=\"main-header\" role=\"banner\">\\n            <div class=\"container\">\\n\\n                <h1 class=\"site-headline\">\\n                    <a href=\"/\"><img class=\"python-logo\" src=\"/static/img/python-logo.png\" alt=\"python&trade;\"></a>\\n                </h1>\\n\\n                <div class=\"options-bar-container do-not-print\">\\n                    <a href=\"https://psfmember.org/civicrm/contribute/transact?reset=1&id=2\" class=\"donate-button\">Donate</a>\\n                    <div class=\"options-bar\">\\n                        \\n                        <a id=\"site-map-link\" class=\"jump-to-menu\" href=\"#site-map\"><span class=\"menu-icon\">&equiv;</span> Menu</a><form class=\"search-the-site\" action=\"/search/\" method=\"get\">\\n                            <fieldset title=\"Search Python.org\">\\n\\n                                <span aria-hidden=\"true\" class=\"icon-search\"></span>\\n\\n                                <label class=\"screen-reader-text\" for=\"id-search-field\">Search This Site</label>\\n                                <input id=\"id-search-field\" name=\"q\" type=\"search\" role=\"textbox\" class=\"search-field\" placeholder=\"Search\" value=\"\" tabindex=\"1\">\\n\\n                                <button type=\"submit\" name=\"submit\" id=\"submit\" class=\"search-button\" title=\"Submit this Search\" tabindex=\"3\">\\n                                    GO\\n                                </button>\\n\\n                                \\n                                <!--[if IE]><input type=\"text\" style=\"display: none;\" disabled=\"disabled\" size=\"1\" tabindex=\"4\"><![endif]-->\\n\\n                            </fieldset>\\n                        </form><span class=\"breaker\"></span><div class=\"adjust-font-size\" aria-hidden=\"true\">\\n                            <ul class=\"navigation menu\" aria-label=\"Adjust Text Size on Page\">\\n                                <li class=\"tier-1 last\" aria-haspopup=\"true\">\\n                                    <a href=\"#\" class=\"action-trigger\"><strong><small>A</small> A</strong></a>\\n                                    <ul class=\"subnav menu\">\\n                                        <li class=\"tier-2 element-1\" role=\"treeitem\"><a class=\"text-shrink\" title=\"Make Text Smaller\" href=\"javascript:;\">Smaller</a></li>\\n                                        <li class=\"tier-2 element-2\" role=\"treeitem\"><a class=\"text-grow\" title=\"Make Text Larger\" href=\"javascript:;\">Larger</a></li>\\n                                        <li class=\"tier-2 element-3\" role=\"treeitem\"><a class=\"text-reset\" title=\"Reset any font size changes I have made\" href=\"javascript:;\">Reset</a></li>\\n                                    </ul>\\n                                </li>\\n                            </ul>\\n                        </div><div class=\"winkwink-nudgenudge\">\\n                            <ul class=\"navigation menu\" aria-label=\"Social Media Navigation\">\\n                                <li class=\"tier-1 last\" aria-haspopup=\"true\">\\n                                    <a href=\"#\" class=\"action-trigger\">Socialize</a>\\n                                    <ul class=\"subnav menu\">\\n                                        <li class=\"tier-2 element-1\" role=\"treeitem\"><a href=\"https://www.facebook.com/pythonlang?fref=ts\"><span aria-hidden=\"true\" class=\"icon-facebook\"></span>Facebook</a></li>\\n                                        <li class=\"tier-2 element-2\" role=\"treeitem\"><a href=\"https://twitter.com/ThePSF\"><span aria-hidden=\"true\" class=\"icon-twitter\"></span>Twitter</a></li>\\n                                        <li class=\"tier-2 element-3\" role=\"treeitem\"><a href=\"/community/irc/\"><span aria-hidden=\"true\" class=\"icon-freenode\"></span>Chat on IRC</a></li>\\n                                    </ul>\\n                                </li>\\n                            </ul>\\n                        </div>\\n                        <span data-html-include=\"/authenticated\"></span>\\n                    </div><!-- end options-bar -->\\n                </div>\\n\\n                <nav id=\"mainnav\" class=\"python-navigation main-navigation do-not-print\" role=\"navigation\">\\n                    \\n                        \\n<ul class=\"navigation menu\" role=\"menubar\" aria-label=\"Main Navigation\">\\n  \\n    \\n    \\n    <li id=\"about\" class=\"tier-1 element-1  \" aria-haspopup=\"true\">\\n        <a href=\"/about/\" title=\"\" class=\"\">About</a>\\n        \\n            \\n\\n<ul class=\"subnav menu\" role=\"menu\" aria-hidden=\"true\">\\n    \\n        <li class=\"tier-2 element-1\" role=\"treeitem\"><a href=\"/about/apps/\" title=\"\">Applications</a></li>\\n    \\n        <li class=\"tier-2 element-2\" role=\"treeitem\"><a href=\"/about/quotes/\" title=\"\">Quotes</a></li>\\n    \\n        <li class=\"tier-2 element-3\" role=\"treeitem\"><a href=\"/about/gettingstarted/\" title=\"\">Getting Started</a></li>\\n    \\n        <li class=\"tier-2 element-4\" role=\"treeitem\"><a href=\"/about/help/\" title=\"\">Help</a></li>\\n    \\n        <li class=\"tier-2 element-5\" role=\"treeitem\"><a href=\"http://brochure.getpython.info/\" title=\"\">Python Brochure</a></li>\\n    \\n</ul>\\n\\n        \\n    </li>\\n    \\n    \\n    \\n    <li id=\"downloads\" class=\"tier-1 element-2  \" aria-haspopup=\"true\">\\n        <a href=\"/downloads/\" title=\"\" class=\"\">Downloads</a>\\n        \\n            \\n\\n<ul class=\"subnav menu\" role=\"menu\" aria-hidden=\"true\">\\n    \\n        <li class=\"tier-2 element-1\" role=\"treeitem\"><a href=\"/downloads/\" title=\"\">All releases</a></li>\\n    \\n        <li class=\"tier-2 element-2\" role=\"treeitem\"><a href=\"/downloads/source/\" title=\"\">Source code</a></li>\\n    \\n        <li class=\"tier-2 element-3\" role=\"treeitem\"><a href=\"/downloads/windows/\" title=\"\">Windows</a></li>\\n    \\n        <li class=\"tier-2 element-4\" role=\"treeitem\"><a href=\"/downloads/macos/\" title=\"\">macOS</a></li>\\n    \\n        <li class=\"tier-2 element-5\" role=\"treeitem\"><a href=\"/download/other/\" title=\"\">Other Platforms</a></li>\\n    \\n        <li class=\"tier-2 element-6\" role=\"treeitem\"><a href=\"https://docs.python.org/3/license.html\" title=\"\">License</a></li>\\n    \\n        <li class=\"tier-2 element-7\" role=\"treeitem\"><a href=\"/download/alternatives\" title=\"\">Alternative Implementations</a></li>\\n    \\n</ul>\\n\\n        \\n    </li>\\n    \\n    \\n    \\n    <li id=\"documentation\" class=\"tier-1 element-3  \" aria-haspopup=\"true\">\\n        <a href=\"/doc/\" title=\"\" class=\"\">Documentation</a>\\n        \\n            \\n\\n<ul class=\"subnav menu\" role=\"menu\" aria-hidden=\"true\">\\n    \\n        <li class=\"tier-2 element-1\" role=\"treeitem\"><a href=\"/doc/\" title=\"\">Docs</a></li>\\n    \\n        <li class=\"tier-2 element-2\" role=\"treeitem\"><a href=\"/doc/av\" title=\"\">Audio/Visual Talks</a></li>\\n    \\n        <li class=\"tier-2 element-3\" role=\"treeitem\"><a href=\"https://wiki.python.org/moin/BeginnersGuide\" title=\"\">Beginner&#39;s Guide</a></li>\\n    \\n        <li class=\"tier-2 element-4\" role=\"treeitem\"><a href=\"https://devguide.python.org/\" title=\"\">Developer&#39;s Guide</a></li>\\n    \\n        <li class=\"tier-2 element-5\" role=\"treeitem\"><a href=\"https://docs.python.org/faq/\" title=\"\">FAQ</a></li>\\n    \\n        <li class=\"tier-2 element-6\" role=\"treeitem\"><a href=\"http://wiki.python.org/moin/Languages\" title=\"\">Non-English Docs</a></li>\\n    \\n        <li class=\"tier-2 element-7\" role=\"treeitem\"><a href=\"http://python.org/dev/peps/\" title=\"\">PEP Index</a></li>\\n    \\n        <li class=\"tier-2 element-8\" role=\"treeitem\"><a href=\"https://wiki.python.org/moin/PythonBooks\" title=\"\">Python Books</a></li>\\n    \\n        <li class=\"tier-2 element-9\" role=\"treeitem\"><a href=\"/doc/essays/\" title=\"\">Python Essays</a></li>\\n    \\n</ul>\\n\\n        \\n    </li>\\n    \\n    \\n    \\n    <li id=\"community\" class=\"tier-1 element-4  \" aria-haspopup=\"true\">\\n        <a href=\"/community/\" title=\"\" class=\"\">Community</a>\\n        \\n            \\n\\n<ul class=\"subnav menu\" role=\"menu\" aria-hidden=\"true\">\\n    \\n        <li class=\"tier-2 element-1\" role=\"treeitem\"><a href=\"/community/diversity/\" title=\"\">Diversity</a></li>\\n    \\n        <li class=\"tier-2 element-2\" role=\"treeitem\"><a href=\"/community/lists/\" title=\"\">Mailing Lists</a></li>\\n    \\n        <li class=\"tier-2 element-3\" role=\"treeitem\"><a href=\"/community/irc/\" title=\"\">IRC</a></li>\\n    \\n        <li class=\"tier-2 element-4\" role=\"treeitem\"><a href=\"/community/forums/\" title=\"\">Forums</a></li>\\n    \\n        <li class=\"tier-2 element-5\" role=\"treeitem\"><a href=\"/psf/annual-report/2021/\" title=\"\">PSF Annual Impact Report</a></li>\\n    \\n        <li class=\"tier-2 element-6\" role=\"treeitem\"><a href=\"/community/workshops/\" title=\"\">Python Conferences</a></li>\\n    \\n        <li class=\"tier-2 element-7\" role=\"treeitem\"><a href=\"/community/sigs/\" title=\"\">Special Interest Groups</a></li>\\n    \\n        <li class=\"tier-2 element-8\" role=\"treeitem\"><a href=\"/community/logos/\" title=\"\">Python Logo</a></li>\\n    \\n        <li class=\"tier-2 element-9\" role=\"treeitem\"><a href=\"https://wiki.python.org/moin/\" title=\"\">Python Wiki</a></li>\\n    \\n        <li class=\"tier-2 element-10\" role=\"treeitem\"><a href=\"/community/merchandise/\" title=\"\">Merchandise</a></li>\\n    \\n        <li class=\"tier-2 element-11\" role=\"treeitem\"><a href=\"/community/awards\" title=\"\">Community Awards</a></li>\\n    \\n        <li class=\"tier-2 element-12\" role=\"treeitem\"><a href=\"/psf/conduct/\" title=\"\">Code of Conduct</a></li>\\n    \\n        <li class=\"tier-2 element-13\" role=\"treeitem\"><a href=\"/psf/get-involved/\" title=\"\">Get Involved</a></li>\\n    \\n        <li class=\"tier-2 element-14\" role=\"treeitem\"><a href=\"/psf/community-stories/\" title=\"\">Shared Stories</a></li>\\n    \\n</ul>\\n\\n        \\n    </li>\\n    \\n    \\n    \\n    <li id=\"success-stories\" class=\"tier-1 element-5  \" aria-haspopup=\"true\">\\n        <a href=\"/success-stories/\" title=\"success-stories\" class=\"\">Success Stories</a>\\n        \\n            \\n\\n<ul class=\"subnav menu\" role=\"menu\" aria-hidden=\"true\">\\n    \\n        <li class=\"tier-2 element-1\" role=\"treeitem\"><a href=\"/success-stories/category/arts/\" title=\"\">Arts</a></li>\\n    \\n        <li class=\"tier-2 element-2\" role=\"treeitem\"><a href=\"/success-stories/category/business/\" title=\"\">Business</a></li>\\n    \\n        <li class=\"tier-2 element-3\" role=\"treeitem\"><a href=\"/success-stories/category/education/\" title=\"\">Education</a></li>\\n    \\n        <li class=\"tier-2 element-4\" role=\"treeitem\"><a href=\"/success-stories/category/engineering/\" title=\"\">Engineering</a></li>\\n    \\n        <li class=\"tier-2 element-5\" role=\"treeitem\"><a href=\"/success-stories/category/government/\" title=\"\">Government</a></li>\\n    \\n        <li class=\"tier-2 element-6\" role=\"treeitem\"><a href=\"/success-stories/category/scientific/\" title=\"\">Scientific</a></li>\\n    \\n        <li class=\"tier-2 element-7\" role=\"treeitem\"><a href=\"/success-stories/category/software-development/\" title=\"\">Software Development</a></li>\\n    \\n</ul>\\n\\n        \\n    </li>\\n    \\n    \\n    \\n    <li id=\"news\" class=\"tier-1 element-6  \" aria-haspopup=\"true\">\\n        <a href=\"/blogs/\" title=\"News from around the Python world\" class=\"\">News</a>\\n        \\n            \\n\\n<ul class=\"subnav menu\" role=\"menu\" aria-hidden=\"true\">\\n    \\n        <li class=\"tier-2 element-1\" role=\"treeitem\"><a href=\"/blogs/\" title=\"Python Insider Blog Posts\">Python News</a></li>\\n    \\n        <li class=\"tier-2 element-2\" role=\"treeitem\"><a href=\"/psf/newsletter/\" title=\"Python Software Foundation Newsletter\">PSF Newsletter</a></li>\\n    \\n        <li class=\"tier-2 element-3\" role=\"treeitem\"><a href=\"http://planetpython.org/\" title=\"Planet Python\">Community News</a></li>\\n    \\n        <li class=\"tier-2 element-4\" role=\"treeitem\"><a href=\"http://pyfound.blogspot.com/\" title=\"PSF Blog\">PSF News</a></li>\\n    \\n        <li class=\"tier-2 element-5\" role=\"treeitem\"><a href=\"http://pycon.blogspot.com/\" title=\"PyCon Blog\">PyCon News</a></li>\\n    \\n</ul>\\n\\n        \\n    </li>\\n    \\n    \\n    \\n    <li id=\"events\" class=\"tier-1 element-7  \" aria-haspopup=\"true\">\\n        <a href=\"/events/\" title=\"\" class=\"\">Events</a>\\n        \\n            \\n\\n<ul class=\"subnav menu\" role=\"menu\" aria-hidden=\"true\">\\n    \\n        <li class=\"tier-2 element-1\" role=\"treeitem\"><a href=\"/events/python-events/\" title=\"\">Python Events</a></li>\\n    \\n        <li class=\"tier-2 element-2\" role=\"treeitem\"><a href=\"/events/python-user-group/\" title=\"\">User Group Events</a></li>\\n    \\n        <li class=\"tier-2 element-3\" role=\"treeitem\"><a href=\"/events/python-events/past/\" title=\"\">Python Events Archive</a></li>\\n    \\n        <li class=\"tier-2 element-4\" role=\"treeitem\"><a href=\"/events/python-user-group/past/\" title=\"\">User Group Events Archive</a></li>\\n    \\n        <li class=\"tier-2 element-5\" role=\"treeitem\"><a href=\"https://wiki.python.org/moin/PythonEventsCalendar#Submitting_an_Event\" title=\"\">Submit an Event</a></li>\\n    \\n</ul>\\n\\n        \\n    </li>\\n    \\n    \\n    \\n    \\n  \\n</ul>\\n\\n                    \\n                </nav>\\n\\n                <div class=\"header-banner \"> <!-- for optional \"do-not-print\" class -->\\n                    \\n        <div id=\"dive-into-python\" class=\"flex-slideshow slideshow\">\\n\\n            <ul class=\"launch-shell menu\" id=\"launch-shell\">\\n                <li>\\n                    <a class=\"button prompt\" id=\"start-shell\" data-shell-container=\"#dive-into-python\" href=\"/shell/\">&gt;_\\n                        <span class=\"message\">Launch Interactive Shell</span>\\n                    </a>\\n                </li>\\n            </ul>\\n\\n            <ul class=\"slides menu\">\\n                \\n                <li>\\n                    <div class=\"slide-code\"><pre><code><span class=\"comment\"># Python 3: Fibonacci series up to n</span>\\r\\n>>> def fib(n):\\r\\n>>>     a, b = 0, 1\\r\\n>>>     while a &lt; n:\\r\\n>>>         print(a, end=\\' \\')\\r\\n>>>         a, b = b, a+b\\r\\n>>>     print()\\r\\n>>> fib(1000)\\r\\n<span class=\"output\">0 1 1 2 3 5 8 13 21 34 55 89 144 233 377 610 987</span></code></pre></div>\\n                    <div class=\"slide-copy\"><h1>Functions Defined</h1>\\r\\n<p>The core of extensible programming is defining functions. Python allows mandatory and optional arguments, keyword arguments, and even arbitrary argument lists. <a href=\"//docs.python.org/3/tutorial/controlflow.html#defining-functions\">More about defining functions in Python&nbsp;3</a></p></div>\\n                </li>\\n                \\n                <li>\\n                    <div class=\"slide-code\"><pre><code><span class=\"comment\"># Python 3: List comprehensions</span>\\r\\n>>> fruits = [\\'Banana\\', \\'Apple\\', \\'Lime\\']\\r\\n>>> loud_fruits = [fruit.upper() for fruit in fruits]\\r\\n>>> print(loud_fruits)\\r\\n<span class=\"output\">[\\'BANANA\\', \\'APPLE\\', \\'LIME\\']</span>\\r\\n\\r\\n<span class=\"comment\"># List and the enumerate function</span>\\r\\n>>> list(enumerate(fruits))\\r\\n<span class=\"output\">[(0, \\'Banana\\'), (1, \\'Apple\\'), (2, \\'Lime\\')]</span></code></pre></div>\\n                    <div class=\"slide-copy\"><h1>Compound Data Types</h1>\\r\\n<p>Lists (known as arrays in other languages) are one of the compound data types that Python understands. Lists can be indexed, sliced and manipulated with other built-in functions. <a href=\"//docs.python.org/3/tutorial/introduction.html#lists\">More about lists in Python&nbsp;3</a></p></div>\\n                </li>\\n                \\n                <li>\\n                    <div class=\"slide-code\"><pre><code><span class=\"comment\"># Python 3: Simple arithmetic</span>\\r\\n>>> 1 / 2\\r\\n<span class=\"output\">0.5</span>\\r\\n>>> 2 ** 3\\r\\n<span class=\"output\">8</span>\\r\\n>>> 17 / 3  <span class=\"comment\"># classic division returns a float</span>\\r\\n<span class=\"output\">5.666666666666667</span>\\r\\n>>> 17 // 3  <span class=\"comment\"># floor division</span>\\r\\n<span class=\"output\">5</span></code></pre></div>\\n                    <div class=\"slide-copy\"><h1>Intuitive Interpretation</h1>\\r\\n<p>Calculations are simple with Python, and expression syntax is straightforward: the operators <code>+</code>, <code>-</code>, <code>*</code> and <code>/</code> work as expected; parentheses <code>()</code> can be used for grouping. <a href=\"http://docs.python.org/3/tutorial/introduction.html#using-python-as-a-calculator\">More about simple math functions in Python&nbsp;3</a>.</p></div>\\n                </li>\\n                \\n                <li>\\n                    <div class=\"slide-code\"><pre><code><span class=\"comment\"># Python 3: Simple output (with Unicode)</span>\\r\\n>>> print(\"Hello, I\\'m Python!\")\\r\\n<span class=\"output\">Hello, I\\'m Python!</span>\\r\\n\\r\\n<span class=\"comment\"># Input, assignment</span>\\r\\n>>> name = input(\\'What is your name?\\\\n\\')\\r\\n>>> print(\\'Hi, %s.\\' % name)\\r\\n<span class=\"output\">What is your name?\\r\\nPython\\r\\nHi, Python.</span></code></pre></div>\\n                    <div class=\"slide-copy\"><h1>Quick &amp; Easy to Learn</h1>\\r\\n<p>Experienced programmers in any other language can pick up Python very quickly, and beginners find the clean syntax and indentation structure easy to learn. <a href=\"//docs.python.org/3/tutorial/\">Whet your appetite</a> with our Python&nbsp;3 overview.</p>\\r\\n                   </div>\\n                </li>\\n                \\n                <li>\\n                    <div class=\"slide-code\"><pre><code><span class=\"comment\"># For loop on a list</span>\\r\\n>>> numbers = [2, 4, 6, 8]\\r\\n>>> product = 1\\r\\n>>> for number in numbers:\\r\\n...    product = product * number\\r\\n... \\r\\n>>> print(\\'The product is:\\', product)\\r\\n<span class=\"output\">The product is: 384</span></code></pre></div>\\n                    <div class=\"slide-copy\"><h1>All the Flow You&rsquo;d Expect</h1>\\r\\n<p>Python knows the usual control flow statements that other languages speak &mdash; <code>if</code>, <code>for</code>, <code>while</code> and <code>range</code> &mdash; with some of its own twists, of course. <a href=\"//docs.python.org/3/tutorial/controlflow.html\">More control flow tools in Python&nbsp;3</a></p></div>\\n                </li>\\n                \\n            </ul>\\n        </div>\\n\\n\\n                </div>\\n\\n                \\n        <div class=\"introduction\">\\n            <p>Python is a programming language that lets you work quickly <span class=\"breaker\"></span>and integrate systems more effectively. <a class=\"readmore\" href=\"/doc/\">Learn More</a></p>\\n        </div>\\n\\n\\n             </div><!-- end .container -->\\n        </header>\\n\\n        <div id=\"content\" class=\"content-wrapper\">\\n            <!-- Main Content Column -->\\n            <div class=\"container\">\\n\\n                <section class=\"main-content \" role=\"main\">\\n\\n                    \\n                    \\n\\n                    \\n\\n                    \\n\\n                \\n\\n                <div class=\"row\">\\n\\n                    <div class=\"small-widget get-started-widget\">\\n                        <h2 class=\"widget-title\"><span aria-hidden=\"true\" class=\"icon-get-started\"></span>Get Started</h2>\\r\\n<p>Whether you\\'re new to programming or an experienced developer, it\\'s easy to learn and use Python.</p>\\r\\n<p><a href=\"/about/gettingstarted/\">Start with our Beginner&rsquo;s Guide</a></p>\\n                    </div>\\n\\n                    <div class=\"small-widget download-widget\">\\n                        <h2 class=\"widget-title\"><span aria-hidden=\"true\" class=\"icon-download\"></span>Download</h2>\\n<p>Python source code and installers are available for download for all versions!</p>\\n<p>Latest: <a href=\"/downloads/release/python-3107/\">Python 3.10.7</a></p>\\n                    </div>\\n\\n                    <div class=\"small-widget documentation-widget\">\\n                        <h2 class=\"widget-title\"><span aria-hidden=\"true\" class=\"icon-documentation\"></span>Docs</h2>\\r\\n<p>Documentation for Python\\'s standard library, along with tutorials and guides, are available online.</p>\\r\\n<p><a href=\"https://docs.python.org\">docs.python.org</a></p>\\n                    </div>\\n\\n                    <div class=\"small-widget jobs-widget last\">\\n                        <h2 class=\"widget-title\"><span aria-hidden=\"true\" class=\"icon-jobs\"></span>Jobs</h2>\\r\\n<p>Looking for work or have a Python related position that you\\'re trying to hire for? Our <strong>relaunched community-run job board</strong> is the place to go.</p>\\r\\n<p><a href=\"//jobs.python.org\">jobs.python.org</a></p>\\n                    </div>\\n\\n                </div>\\n\\n                <div class=\"list-widgets row\">\\n\\n                    <div class=\"medium-widget blog-widget\">\\n                        \\n                        <div class=\"shrubbery\">\\n                        \\n                            <h2 class=\"widget-title\"><span aria-hidden=\"true\" class=\"icon-news\"></span>Latest News</h2>\\n                            <p class=\"give-me-more\"><a href=\"https://blog.python.org\" title=\"More News\">More</a></p>\\n                            \\n                            <ul class=\"menu\">\\n                                \\n                                \\n                                <li>\\n<time datetime=\"2022-09-12T11:26:00+00:00\"><span class=\"say-no-more\">2022-</span>09-12</time>\\n <a href=\"https://pythoninsider.blogspot.com/2022/09/python-3110rc2-is-now-available.html\">Python 3.11.0rc2 is now available</a></li>\\n                                \\n                                <li>\\n<time datetime=\"2022-09-07T13:03:00.000002+00:00\"><span class=\"say-no-more\">2022-</span>09-07</time>\\n <a href=\"https://pythoninsider.blogspot.com/2022/09/python-releases-3107-3914-3814-and-3714.html\">Python releases 3.10.7, 3.9.14, 3.8.14, and 3.7.14 are now available</a></li>\\n                                \\n                                <li>\\n<time datetime=\"2022-08-08T17:17:00+00:00\"><span class=\"say-no-more\">2022-</span>08-08</time>\\n <a href=\"https://pythoninsider.blogspot.com/2022/08/python-3110rc1-is-now-available.html\">Python 3.11.0rc1 is now available</a></li>\\n                                \\n                                <li>\\n<time datetime=\"2022-08-02T10:14:00.000001+00:00\"><span class=\"say-no-more\">2022-</span>08-02</time>\\n <a href=\"https://pythoninsider.blogspot.com/2022/08/python-3106-is-available.html\">Python 3.10.6 is available</a></li>\\n                                \\n                                <li>\\n<time datetime=\"2022-07-26T10:29:00.000001+00:00\"><span class=\"say-no-more\">2022-</span>07-26</time>\\n <a href=\"https://pythoninsider.blogspot.com/2022/07/python-3110b5-is-now-available.html\">Python 3.11.0b5 is now available</a></li>\\n                                \\n                            </ul>\\n                        </div><!-- end .shrubbery -->\\n\\n                    </div>\\n\\n                    <div class=\"medium-widget event-widget last\">\\n                        \\n                        <div class=\"shrubbery\">\\n                        \\n                            <h2 class=\"widget-title\"><span aria-hidden=\"true\" class=\"icon-calendar\"></span>Upcoming Events</h2>\\n                            <p class=\"give-me-more\"><a href=\"/events/calendars/\" title=\"More Events\">More</a></p>\\n                            \\n                            <ul class=\"menu\">\\n                                \\n                                \\n                                \\n                                <li>\\n<time datetime=\"2022-09-16T00:00:00+00:00\"><span class=\"say-no-more\">2022-</span>09-16</time>\\n <a href=\"/events/python-events/1091/\">PyCon UK 2022</a></li>\\n                                \\n                                \\n                                \\n                                <li>\\n<time datetime=\"2022-09-21T00:00:00+00:00\"><span class=\"say-no-more\">2022-</span>09-21</time>\\n <a href=\"/events/python-events/1209/\">DjangoCon Europe 2022</a></li>\\n                                \\n                                \\n                                \\n                                <li>\\n<time datetime=\"2022-09-21T06:30:00+00:00\"><span class=\"say-no-more\">2022-</span>09-21</time>\\n <a href=\"/events/python-user-group/1337/\">An applied introduction to Finite State Machines</a></li>\\n                                \\n                                \\n                                \\n                                <li>\\n<time datetime=\"2022-09-24T00:00:00+00:00\"><span class=\"say-no-more\">2022-</span>09-24</time>\\n <a href=\"/events/python-events/1208/\">PyCon Portugal 2022</a></li>\\n                                \\n                                \\n                                \\n                                <li>\\n<time datetime=\"2022-09-26T00:00:00+00:00\"><span class=\"say-no-more\">2022-</span>09-26</time>\\n <a href=\"/events/python-user-group/1334/\">Scikit-learn Sprint Salta AR 2022</a></li>\\n                                \\n                                \\n                            </ul>\\n                        </div>\\n\\n                    </div>\\n\\n                </div>\\n\\n                <div class=\"row\">\\n\\n                    <div class=\"medium-widget success-stories-widget\">\\n                        \\n\\n\\n\\n                        <div class=\"shrubbery\">\\n                            \\n\\n                            <h2 class=\"widget-title\"><span aria-hidden=\"true\" class=\"icon-success-stories\"></span>Success Stories</h2>\\n                            <p class=\"give-me-more\"><a href=\"/success-stories/\" title=\"More Success Stories\">More</a></p>\\n\\n                            \\n                            <div class=\"success-story-item\" id=\"success-story-1101\">\\n\\n                            <blockquote>\\n                                <a href=\"/success-stories/a-startup-healthcare-tech-firm-is-now-poised-for-the-future/\">“We feel much better equipped now to handle the challenges. And if we run into an issue, we’ll come to Caktus to hammer it out,&quot; said Stephen Johnston, VP of Engineering, at Force Therapeutics.</a>\\n                            </blockquote>\\n\\n                            <table cellpadding=\"0\" cellspacing=\"0\" border=\"0\" width=\"100%\" class=\"quote-from\">\\n                                <tbody>\\n                                    <tr>\\n                                        \\n                                        <td><p><a href=\"/success-stories/a-startup-healthcare-tech-firm-is-now-poised-for-the-future/\">A Startup Healthcare Tech Firm Is Now Poised for the Future</a> <em>by Caktus Group</em></p></td>\\n                                    </tr>\\n                                </tbody>\\n                            </table>\\n                            </div>\\n                            \\n\\n                        </div><!-- end .shrubbery -->\\n\\n                    </div>\\n\\n                    <div class=\"medium-widget applications-widget last\">\\n                        <div class=\"shrubbery\">\\n                            <h2 class=\"widget-title\"><span aria-hidden=\"true\" class=\"icon-python\"></span>Use Python for&hellip;</h2>\\r\\n<p class=\"give-me-more\"><a href=\"/about/apps\" title=\"More Applications\">More</a></p>\\r\\n\\r\\n<ul class=\"menu\">\\r\\n    <li><b>Web Development</b>:\\r\\n        <span class=\"tag-wrapper\"><a class=\"tag\" href=\"http://www.djangoproject.com/\">Django</a>, <a class=\"tag\" href=\"http://www.pylonsproject.org/\">Pyramid</a>, <a class=\"tag\" href=\"http://bottlepy.org\">Bottle</a>, <a class=\"tag\" href=\"http://tornadoweb.org\">Tornado</a>, <a href=\"http://flask.pocoo.org/\" class=\"tag\">Flask</a>, <a class=\"tag\" href=\"http://www.web2py.com/\">web2py</a></span></li>\\r\\n    <li><b>GUI Development</b>:\\r\\n        <span class=\"tag-wrapper\"><a class=\"tag\" href=\"http://wiki.python.org/moin/TkInter\">tkInter</a>, <a class=\"tag\" href=\"https://wiki.gnome.org/Projects/PyGObject\">PyGObject</a>, <a class=\"tag\" href=\"http://www.riverbankcomputing.co.uk/software/pyqt/intro\">PyQt</a>, <a class=\"tag\" href=\"https://wiki.qt.io/PySide\">PySide</a>, <a class=\"tag\" href=\"https://kivy.org/\">Kivy</a>, <a class=\"tag\" href=\"http://www.wxpython.org/\">wxPython</a></span></li>\\r\\n    <li><b>Scientific and Numeric</b>:\\r\\n        <span class=\"tag-wrapper\">\\r\\n<a class=\"tag\" href=\"http://www.scipy.org\">SciPy</a>, <a class=\"tag\" href=\"http://pandas.pydata.org/\">Pandas</a>, <a href=\"http://ipython.org\" class=\"tag\">IPython</a></span></li>\\r\\n    <li><b>Software Development</b>:\\r\\n        <span class=\"tag-wrapper\"><a class=\"tag\" href=\"http://buildbot.net/\">Buildbot</a>, <a class=\"tag\" href=\"http://trac.edgewall.org/\">Trac</a>, <a class=\"tag\" href=\"http://roundup.sourceforge.net/\">Roundup</a></span></li>\\r\\n    <li><b>System Administration</b>:\\r\\n        <span class=\"tag-wrapper\"><a class=\"tag\" href=\"http://www.ansible.com\">Ansible</a>, <a class=\"tag\" href=\"https://saltproject.io\">Salt</a>, <a class=\"tag\" href=\"https://www.openstack.org\">OpenStack</a>, <a class=\"tag\" href=\"https://xon.sh\">xonsh</a></span></li>\\r\\n</ul>\\n                        </div><!-- end .shrubbery -->\\n                    </div>\\n\\n                </div>\\n\\n                \\n                <div class=\"pep-widget\">\\n\\n                    <h2 class=\"widget-title\">\\n                        <span class=\"prompt\">&gt;&gt;&gt;</span> <a href=\"/dev/peps/\">Python Enhancement Proposals<span class=\"say-no-more\"> (PEPs)</span></a>: The future of Python<span class=\"say-no-more\"> is discussed here.</span>\\n                        <a aria-hidden=\"true\" class=\"rss-link\" href=\"/dev/peps/peps.rss\"><span class=\"icon-feed\"></span> RSS</a>\\n                    </h2>\\n\\n\\n                    \\n                    \\n                </div>\\n\\n                                <div class=\"psf-widget\">\\n\\n                    <div class=\"python-logo\"></div>\\n                    \\n                    <h2 class=\"widget-title\">\\r\\n    <span class=\"prompt\">&gt;&gt;&gt;</span> <a href=\"/psf/\">Python Software Foundation</a>\\r\\n</h2>\\r\\n<p>The mission of the Python Software Foundation is to promote, protect, and advance the Python programming language, and to support and facilitate the growth of a diverse and international community of Python programmers. <a class=\"readmore\" href=\"/psf/\">Learn more</a> </p>\\r\\n<p class=\"click-these\">\\r\\n    <a class=\"button\" href=\"/users/membership/\">Become a Member</a>\\r\\n    <a class=\"button\" href=\"/psf/donations/\">Donate to the PSF</a>\\r\\n</p>\\n                </div>\\n\\n\\n\\n\\n                </section>\\n\\n                \\n                \\n\\n                \\n                \\n\\n\\n            </div><!-- end .container -->\\n        </div><!-- end #content .content-wrapper -->\\n\\n        <!-- Footer and social media list -->\\n        \\n        <footer id=\"site-map\" class=\"main-footer\" role=\"contentinfo\">\\n            <div class=\"main-footer-links\">\\n                <div class=\"container\">\\n\\n                    \\n                    <a id=\"back-to-top-1\" class=\"jump-link\" href=\"#python-network\"><span aria-hidden=\"true\" class=\"icon-arrow-up\"><span>&#9650;</span></span> Back to Top</a>\\n\\n                    \\n\\n<ul class=\"sitemap navigation menu do-not-print\" role=\"tree\" id=\"container\">\\n    \\n    <li class=\"tier-1 element-1\">\\n        <a href=\"/about/\" >About</a>\\n        \\n            \\n\\n<ul class=\"subnav menu\">\\n    \\n        <li class=\"tier-2 element-1\" role=\"treeitem\"><a href=\"/about/apps/\" title=\"\">Applications</a></li>\\n    \\n        <li class=\"tier-2 element-2\" role=\"treeitem\"><a href=\"/about/quotes/\" title=\"\">Quotes</a></li>\\n    \\n        <li class=\"tier-2 element-3\" role=\"treeitem\"><a href=\"/about/gettingstarted/\" title=\"\">Getting Started</a></li>\\n    \\n        <li class=\"tier-2 element-4\" role=\"treeitem\"><a href=\"/about/help/\" title=\"\">Help</a></li>\\n    \\n        <li class=\"tier-2 element-5\" role=\"treeitem\"><a href=\"http://brochure.getpython.info/\" title=\"\">Python Brochure</a></li>\\n    \\n</ul>\\n\\n        \\n    </li>\\n    \\n    <li class=\"tier-1 element-2\">\\n        <a href=\"/downloads/\" >Downloads</a>\\n        \\n            \\n\\n<ul class=\"subnav menu\">\\n    \\n        <li class=\"tier-2 element-1\" role=\"treeitem\"><a href=\"/downloads/\" title=\"\">All releases</a></li>\\n    \\n        <li class=\"tier-2 element-2\" role=\"treeitem\"><a href=\"/downloads/source/\" title=\"\">Source code</a></li>\\n    \\n        <li class=\"tier-2 element-3\" role=\"treeitem\"><a href=\"/downloads/windows/\" title=\"\">Windows</a></li>\\n    \\n        <li class=\"tier-2 element-4\" role=\"treeitem\"><a href=\"/downloads/macos/\" title=\"\">macOS</a></li>\\n    \\n        <li class=\"tier-2 element-5\" role=\"treeitem\"><a href=\"/download/other/\" title=\"\">Other Platforms</a></li>\\n    \\n        <li class=\"tier-2 element-6\" role=\"treeitem\"><a href=\"https://docs.python.org/3/license.html\" title=\"\">License</a></li>\\n    \\n        <li class=\"tier-2 element-7\" role=\"treeitem\"><a href=\"/download/alternatives\" title=\"\">Alternative Implementations</a></li>\\n    \\n</ul>\\n\\n        \\n    </li>\\n    \\n    <li class=\"tier-1 element-3\">\\n        <a href=\"/doc/\" >Documentation</a>\\n        \\n            \\n\\n<ul class=\"subnav menu\">\\n    \\n        <li class=\"tier-2 element-1\" role=\"treeitem\"><a href=\"/doc/\" title=\"\">Docs</a></li>\\n    \\n        <li class=\"tier-2 element-2\" role=\"treeitem\"><a href=\"/doc/av\" title=\"\">Audio/Visual Talks</a></li>\\n    \\n        <li class=\"tier-2 element-3\" role=\"treeitem\"><a href=\"https://wiki.python.org/moin/BeginnersGuide\" title=\"\">Beginner&#39;s Guide</a></li>\\n    \\n        <li class=\"tier-2 element-4\" role=\"treeitem\"><a href=\"https://devguide.python.org/\" title=\"\">Developer&#39;s Guide</a></li>\\n    \\n        <li class=\"tier-2 element-5\" role=\"treeitem\"><a href=\"https://docs.python.org/faq/\" title=\"\">FAQ</a></li>\\n    \\n        <li class=\"tier-2 element-6\" role=\"treeitem\"><a href=\"http://wiki.python.org/moin/Languages\" title=\"\">Non-English Docs</a></li>\\n    \\n        <li class=\"tier-2 element-7\" role=\"treeitem\"><a href=\"http://python.org/dev/peps/\" title=\"\">PEP Index</a></li>\\n    \\n        <li class=\"tier-2 element-8\" role=\"treeitem\"><a href=\"https://wiki.python.org/moin/PythonBooks\" title=\"\">Python Books</a></li>\\n    \\n        <li class=\"tier-2 element-9\" role=\"treeitem\"><a href=\"/doc/essays/\" title=\"\">Python Essays</a></li>\\n    \\n</ul>\\n\\n        \\n    </li>\\n    \\n    <li class=\"tier-1 element-4\">\\n        <a href=\"/community/\" >Community</a>\\n        \\n            \\n\\n<ul class=\"subnav menu\">\\n    \\n        <li class=\"tier-2 element-1\" role=\"treeitem\"><a href=\"/community/diversity/\" title=\"\">Diversity</a></li>\\n    \\n        <li class=\"tier-2 element-2\" role=\"treeitem\"><a href=\"/community/lists/\" title=\"\">Mailing Lists</a></li>\\n    \\n        <li class=\"tier-2 element-3\" role=\"treeitem\"><a href=\"/community/irc/\" title=\"\">IRC</a></li>\\n    \\n        <li class=\"tier-2 element-4\" role=\"treeitem\"><a href=\"/community/forums/\" title=\"\">Forums</a></li>\\n    \\n        <li class=\"tier-2 element-5\" role=\"treeitem\"><a href=\"/psf/annual-report/2021/\" title=\"\">PSF Annual Impact Report</a></li>\\n    \\n        <li class=\"tier-2 element-6\" role=\"treeitem\"><a href=\"/community/workshops/\" title=\"\">Python Conferences</a></li>\\n    \\n        <li class=\"tier-2 element-7\" role=\"treeitem\"><a href=\"/community/sigs/\" title=\"\">Special Interest Groups</a></li>\\n    \\n        <li class=\"tier-2 element-8\" role=\"treeitem\"><a href=\"/community/logos/\" title=\"\">Python Logo</a></li>\\n    \\n        <li class=\"tier-2 element-9\" role=\"treeitem\"><a href=\"https://wiki.python.org/moin/\" title=\"\">Python Wiki</a></li>\\n    \\n        <li class=\"tier-2 element-10\" role=\"treeitem\"><a href=\"/community/merchandise/\" title=\"\">Merchandise</a></li>\\n    \\n        <li class=\"tier-2 element-11\" role=\"treeitem\"><a href=\"/community/awards\" title=\"\">Community Awards</a></li>\\n    \\n        <li class=\"tier-2 element-12\" role=\"treeitem\"><a href=\"/psf/conduct/\" title=\"\">Code of Conduct</a></li>\\n    \\n        <li class=\"tier-2 element-13\" role=\"treeitem\"><a href=\"/psf/get-involved/\" title=\"\">Get Involved</a></li>\\n    \\n        <li class=\"tier-2 element-14\" role=\"treeitem\"><a href=\"/psf/community-stories/\" title=\"\">Shared Stories</a></li>\\n    \\n</ul>\\n\\n        \\n    </li>\\n    \\n    <li class=\"tier-1 element-5\">\\n        <a href=\"/success-stories/\" title=\"success-stories\">Success Stories</a>\\n        \\n            \\n\\n<ul class=\"subnav menu\">\\n    \\n        <li class=\"tier-2 element-1\" role=\"treeitem\"><a href=\"/success-stories/category/arts/\" title=\"\">Arts</a></li>\\n    \\n        <li class=\"tier-2 element-2\" role=\"treeitem\"><a href=\"/success-stories/category/business/\" title=\"\">Business</a></li>\\n    \\n        <li class=\"tier-2 element-3\" role=\"treeitem\"><a href=\"/success-stories/category/education/\" title=\"\">Education</a></li>\\n    \\n        <li class=\"tier-2 element-4\" role=\"treeitem\"><a href=\"/success-stories/category/engineering/\" title=\"\">Engineering</a></li>\\n    \\n        <li class=\"tier-2 element-5\" role=\"treeitem\"><a href=\"/success-stories/category/government/\" title=\"\">Government</a></li>\\n    \\n        <li class=\"tier-2 element-6\" role=\"treeitem\"><a href=\"/success-stories/category/scientific/\" title=\"\">Scientific</a></li>\\n    \\n        <li class=\"tier-2 element-7\" role=\"treeitem\"><a href=\"/success-stories/category/software-development/\" title=\"\">Software Development</a></li>\\n    \\n</ul>\\n\\n        \\n    </li>\\n    \\n    <li class=\"tier-1 element-6\">\\n        <a href=\"/blogs/\" title=\"News from around the Python world\">News</a>\\n        \\n            \\n\\n<ul class=\"subnav menu\">\\n    \\n        <li class=\"tier-2 element-1\" role=\"treeitem\"><a href=\"/blogs/\" title=\"Python Insider Blog Posts\">Python News</a></li>\\n    \\n        <li class=\"tier-2 element-2\" role=\"treeitem\"><a href=\"/psf/newsletter/\" title=\"Python Software Foundation Newsletter\">PSF Newsletter</a></li>\\n    \\n        <li class=\"tier-2 element-3\" role=\"treeitem\"><a href=\"http://planetpython.org/\" title=\"Planet Python\">Community News</a></li>\\n    \\n        <li class=\"tier-2 element-4\" role=\"treeitem\"><a href=\"http://pyfound.blogspot.com/\" title=\"PSF Blog\">PSF News</a></li>\\n    \\n        <li class=\"tier-2 element-5\" role=\"treeitem\"><a href=\"http://pycon.blogspot.com/\" title=\"PyCon Blog\">PyCon News</a></li>\\n    \\n</ul>\\n\\n        \\n    </li>\\n    \\n    <li class=\"tier-1 element-7\">\\n        <a href=\"/events/\" >Events</a>\\n        \\n            \\n\\n<ul class=\"subnav menu\">\\n    \\n        <li class=\"tier-2 element-1\" role=\"treeitem\"><a href=\"/events/python-events/\" title=\"\">Python Events</a></li>\\n    \\n        <li class=\"tier-2 element-2\" role=\"treeitem\"><a href=\"/events/python-user-group/\" title=\"\">User Group Events</a></li>\\n    \\n        <li class=\"tier-2 element-3\" role=\"treeitem\"><a href=\"/events/python-events/past/\" title=\"\">Python Events Archive</a></li>\\n    \\n        <li class=\"tier-2 element-4\" role=\"treeitem\"><a href=\"/events/python-user-group/past/\" title=\"\">User Group Events Archive</a></li>\\n    \\n        <li class=\"tier-2 element-5\" role=\"treeitem\"><a href=\"https://wiki.python.org/moin/PythonEventsCalendar#Submitting_an_Event\" title=\"\">Submit an Event</a></li>\\n    \\n</ul>\\n\\n        \\n    </li>\\n    \\n    <li class=\"tier-1 element-8\">\\n        <a href=\"/dev/\" >Contributing</a>\\n        \\n            \\n\\n<ul class=\"subnav menu\">\\n    \\n        <li class=\"tier-2 element-1\" role=\"treeitem\"><a href=\"https://devguide.python.org/\" title=\"\">Developer&#39;s Guide</a></li>\\n    \\n        <li class=\"tier-2 element-2\" role=\"treeitem\"><a href=\"https://bugs.python.org/\" title=\"\">Issue Tracker</a></li>\\n    \\n        <li class=\"tier-2 element-3\" role=\"treeitem\"><a href=\"https://mail.python.org/mailman/listinfo/python-dev\" title=\"\">python-dev list</a></li>\\n    \\n        <li class=\"tier-2 element-4\" role=\"treeitem\"><a href=\"/dev/core-mentorship/\" title=\"\">Core Mentorship</a></li>\\n    \\n        <li class=\"tier-2 element-5\" role=\"treeitem\"><a href=\"/dev/security/\" title=\"\">Report a Security Issue</a></li>\\n    \\n</ul>\\n\\n        \\n    </li>\\n    \\n</ul>\\n\\n\\n                    <a id=\"back-to-top-2\" class=\"jump-link\" href=\"#python-network\"><span aria-hidden=\"true\" class=\"icon-arrow-up\"><span>&#9650;</span></span> Back to Top</a>\\n                    \\n\\n                </div><!-- end .container -->\\n            </div> <!-- end .main-footer-links -->\\n\\n            <div class=\"site-base\">\\n                <div class=\"container\">\\n                    \\n                    <ul class=\"footer-links navigation menu do-not-print\" role=\"tree\">\\n                        <li class=\"tier-1 element-1\"><a href=\"/about/help/\">Help &amp; <span class=\"say-no-more\">General</span> Contact</a></li>\\n                        <li class=\"tier-1 element-2\"><a href=\"/community/diversity/\">Diversity <span class=\"say-no-more\">Initiatives</span></a></li>\\n                        <li class=\"tier-1 element-3\"><a href=\"https://github.com/python/pythondotorg/issues\">Submit Website Bug</a></li>\\n                        <li class=\"tier-1 element-4\">\\n                            <a href=\"https://status.python.org/\">Status <span class=\"python-status-indicator-default\" id=\"python-status-indicator\"></span></a>\\n                        </li>\\n                    </ul>\\n\\n                    <div class=\"copyright\">\\n                        <p><small>\\n                            <span class=\"pre\">Copyright &copy;2001-2022.</span>\\n                            &nbsp;<span class=\"pre\"><a href=\"/psf-landing/\">Python Software Foundation</a></span>\\n                            &nbsp;<span class=\"pre\"><a href=\"/about/legal/\">Legal Statements</a></span>\\n                            &nbsp;<span class=\"pre\"><a href=\"/privacy/\">Privacy Policy</a></span>\\n                            &nbsp;<span class=\"pre\"><a href=\"/psf/sponsorship/sponsors/#heroku\">Powered by Heroku</a></span>\\n                        </small></p>\\n                    </div>\\n\\n                </div><!-- end .container -->\\n            </div><!-- end .site-base -->\\n\\n        </footer>\\n        \\n\\n    </div><!-- end #touchnav-wrapper -->\\n\\n    \\n    <script src=\"//ajax.googleapis.com/ajax/libs/jquery/1.8.2/jquery.min.js\"></script>\\n    <script>window.jQuery || document.write(\\'<script src=\"/static/js/libs/jquery-1.8.2.min.js\"><\\\\/script>\\')</script>\\n    <script src=\"//ajax.googleapis.com/ajax/libs/jqueryui/1.12.1/jquery-ui.min.js\"></script>\\n    <script>window.jQuery || document.write(\\'<script src=\"/static/js/libs/jquery-ui-1.12.1.min.js\"><\\\\/script>\\')</script>\\n\\n    <script src=\"/static/js/libs/masonry.pkgd.min.js\"></script>\\n    <script src=\"/static/js/libs/html-includes.js\"></script>\\n\\n    <script type=\"text/javascript\" src=\"/static/js/main-min.dd72c1659644.js\" charset=\"utf-8\"></script>\\n    \\n\\n    <!--[if lte IE 7]>\\n    <script type=\"text/javascript\" src=\"/static/js/plugins/IE8-min.8af6e26c7a3b.js\" charset=\"utf-8\"></script>\\n    \\n    \\n    <![endif]-->\\n\\n    <!--[if lte IE 8]>\\n    <script type=\"text/javascript\" src=\"/static/js/plugins/getComputedStyle-min.d41d8cd98f00.js\" charset=\"utf-8\"></script>\\n    \\n    \\n    <![endif]-->\\n\\n    \\n\\n    \\n    \\n\\n</body>\\n</html>\\n'"
      ]
     },
     "execution_count": 26,
     "metadata": {},
     "output_type": "execute_result"
    }
   ],
   "source": [
    "result.text"
   ]
  },
  {
   "cell_type": "code",
   "execution_count": 27,
   "id": "79ef3c2c",
   "metadata": {},
   "outputs": [],
   "source": [
    "python_org = bs4.BeautifulSoup(result.text, 'lxml')"
   ]
  },
  {
   "cell_type": "code",
   "execution_count": 28,
   "id": "84999249",
   "metadata": {},
   "outputs": [
    {
     "data": {
      "text/plain": [
       "<!DOCTYPE html>\n",
       "<!--[if lt IE 7]>   <html class=\"no-js ie6 lt-ie7 lt-ie8 lt-ie9\">   <![endif]--><!--[if IE 7]>      <html class=\"no-js ie7 lt-ie8 lt-ie9\">          <![endif]--><!--[if IE 8]>      <html class=\"no-js ie8 lt-ie9\">                 <![endif]--><!--[if gt IE 8]><!--><html class=\"no-js\" dir=\"ltr\" lang=\"en\"> <!--<![endif]-->\n",
       "<head>\n",
       "<meta charset=\"utf-8\"/>\n",
       "<meta content=\"IE=edge\" http-equiv=\"X-UA-Compatible\"/>\n",
       "<link href=\"//ajax.googleapis.com/ajax/libs/jquery/1.8.2/jquery.min.js\" rel=\"prefetch\"/>\n",
       "<link href=\"//ajax.googleapis.com/ajax/libs/jqueryui/1.12.1/jquery-ui.min.js\" rel=\"prefetch\"/>\n",
       "<meta content=\"Python.org\" name=\"application-name\"/>\n",
       "<meta content=\"The official home of the Python Programming Language\" name=\"msapplication-tooltip\"/>\n",
       "<meta content=\"Python.org\" name=\"apple-mobile-web-app-title\"/>\n",
       "<meta content=\"yes\" name=\"apple-mobile-web-app-capable\"/>\n",
       "<meta content=\"black\" name=\"apple-mobile-web-app-status-bar-style\"/>\n",
       "<meta content=\"width=device-width, initial-scale=1.0\" name=\"viewport\"/>\n",
       "<meta content=\"True\" name=\"HandheldFriendly\"/>\n",
       "<meta content=\"telephone=no\" name=\"format-detection\"/>\n",
       "<meta content=\"on\" http-equiv=\"cleartype\"/>\n",
       "<meta content=\"false\" http-equiv=\"imagetoolbar\"/>\n",
       "<script async=\"\" crossorigin=\"anonymous\" integrity=\"sha256-U3hKDidudIaxBDEzwGJApJgPEf2mWk6cfMWghrAa6i0= sha384-UcmsCqcNRSLW/dV3Lo1oCi2/VaurXbib6p4HyUEOeIa/4OpsrnucrugAefzVZJfI sha512-q4t1L4xEjGV2R4hzqCa41P8jrgFUS8xTb8rdNv4FGvw7FpydVj/kkxBJHOiaoxHa8olCcx1Slk9K+3sNbsM4ug==\" src=\"https://media.ethicalads.io/media/client/v1.4.0/ethicalads.min.js\"></script>\n",
       "<script src=\"/static/js/libs/modernizr.js\"></script>\n",
       "<link href=\"/static/stylesheets/style.2135bffe4dde.css\" media=\"all\" rel=\"stylesheet\" title=\"default\" type=\"text/css\"/>\n",
       "<link href=\"/static/stylesheets/mq.f9187444a4a1.css\" media=\"not print, braille, embossed, speech, tty\" rel=\"stylesheet\" type=\"text/css\"/>\n",
       "<!--[if (lte IE 8)&(!IEMobile)]>\n",
       "    <link href=\"/static/stylesheets/no-mq.bf0c425cdb73.css\" rel=\"stylesheet\" type=\"text/css\" media=\"screen\" />\n",
       "    \n",
       "    \n",
       "    <![endif]-->\n",
       "<link href=\"//ajax.googleapis.com/ajax/libs/jqueryui/1.12.1/themes/smoothness/jquery-ui.css\" rel=\"stylesheet\"/>\n",
       "<link href=\"/static/favicon.ico\" rel=\"icon\" type=\"image/x-icon\"/>\n",
       "<link href=\"/static/apple-touch-icon-144x144-precomposed.png\" rel=\"apple-touch-icon-precomposed\" sizes=\"144x144\"/>\n",
       "<link href=\"/static/apple-touch-icon-114x114-precomposed.png\" rel=\"apple-touch-icon-precomposed\" sizes=\"114x114\"/>\n",
       "<link href=\"/static/apple-touch-icon-72x72-precomposed.png\" rel=\"apple-touch-icon-precomposed\" sizes=\"72x72\"/>\n",
       "<link href=\"/static/apple-touch-icon-precomposed.png\" rel=\"apple-touch-icon-precomposed\"/>\n",
       "<link href=\"/static/apple-touch-icon-precomposed.png\" rel=\"apple-touch-icon\"/>\n",
       "<meta content=\"/static/metro-icon-144x144-precomposed.png\" name=\"msapplication-TileImage\"/><!-- white shape -->\n",
       "<meta content=\"#3673a5\" name=\"msapplication-TileColor\"/><!-- python blue -->\n",
       "<meta content=\"#3673a5\" name=\"msapplication-navbutton-color\"/>\n",
       "<title>Welcome to Python.org</title>\n",
       "<meta content=\"The official home of the Python Programming Language\" name=\"description\"/>\n",
       "<meta content=\"Python programming language object oriented web free open source software license documentation download community\" name=\"keywords\"/>\n",
       "<meta content=\"website\" property=\"og:type\"/>\n",
       "<meta content=\"Python.org\" property=\"og:site_name\"/>\n",
       "<meta content=\"Welcome to Python.org\" property=\"og:title\"/>\n",
       "<meta content=\"The official home of the Python Programming Language\" property=\"og:description\"/>\n",
       "<meta content=\"https://www.python.org/static/opengraph-icon-200x200.png\" property=\"og:image\"/>\n",
       "<meta content=\"https://www.python.org/static/opengraph-icon-200x200.png\" property=\"og:image:secure_url\"/>\n",
       "<meta content=\"https://www.python.org/\" property=\"og:url\"/>\n",
       "<link href=\"/static/humans.txt\" rel=\"author\"/>\n",
       "<link href=\"https://www.python.org/dev/peps/peps.rss/\" rel=\"alternate\" title=\"Python Enhancement Proposals\" type=\"application/rss+xml\"/>\n",
       "<link href=\"https://www.python.org/jobs/feed/rss/\" rel=\"alternate\" title=\"Python Job Opportunities\" type=\"application/rss+xml\"/>\n",
       "<link href=\"https://feeds.feedburner.com/PythonSoftwareFoundationNews\" rel=\"alternate\" title=\"Python Software Foundation News\" type=\"application/rss+xml\"/>\n",
       "<link href=\"https://feeds.feedburner.com/PythonInsider\" rel=\"alternate\" title=\"Python Insider\" type=\"application/rss+xml\"/>\n",
       "<script type=\"application/ld+json\">\n",
       "     {\n",
       "       \"@context\": \"https://schema.org\",\n",
       "       \"@type\": \"WebSite\",\n",
       "       \"url\": \"https://www.python.org/\",\n",
       "       \"potentialAction\": {\n",
       "         \"@type\": \"SearchAction\",\n",
       "         \"target\": \"https://www.python.org/search/?q={search_term_string}\",\n",
       "         \"query-input\": \"required name=search_term_string\"\n",
       "       }\n",
       "     }\n",
       "    </script>\n",
       "<script type=\"text/javascript\">\n",
       "    var _gaq = _gaq || [];\n",
       "    _gaq.push(['_setAccount', 'UA-39055973-1']);\n",
       "    _gaq.push(['_trackPageview']);\n",
       "\n",
       "    (function() {\n",
       "        var ga = document.createElement('script'); ga.type = 'text/javascript'; ga.async = true;\n",
       "        ga.src = ('https:' == document.location.protocol ? 'https://ssl' : 'http://www') + '.google-analytics.com/ga.js';\n",
       "        var s = document.getElementsByTagName('script')[0]; s.parentNode.insertBefore(ga, s);\n",
       "    })();\n",
       "    </script>\n",
       "</head>\n",
       "<body class=\"python home\" id=\"homepage\">\n",
       "<div id=\"touchnav-wrapper\">\n",
       "<div class=\"do-not-print\" id=\"nojs\">\n",
       "<p><strong>Notice:</strong> While JavaScript is not essential for this website, your interaction with the content will be limited. Please turn JavaScript on for the full experience. </p>\n",
       "</div>\n",
       "<!--[if lte IE 8]>\n",
       "        <div id=\"oldie-warning\" class=\"do-not-print\">\n",
       "            <p>\n",
       "                <strong>Notice:</strong> Your browser is <em>ancient</em>. Please\n",
       "                <a href=\"http://browsehappy.com/\">upgrade to a different browser</a> to experience a better web.\n",
       "            </p>\n",
       "        </div>\n",
       "        <![endif]-->\n",
       "<!-- Sister Site Links -->\n",
       "<div class=\"top-bar do-not-print\" id=\"top\">\n",
       "<nav class=\"meta-navigation container\" role=\"navigation\">\n",
       "<div class=\"skip-link screen-reader-text\">\n",
       "<a href=\"#content\" title=\"Skip to content\">Skip to content</a>\n",
       "</div>\n",
       "<a aria-hidden=\"true\" class=\"jump-link\" href=\"#python-network\" id=\"close-python-network\">\n",
       "<span aria-hidden=\"true\" class=\"icon-arrow-down\"><span>▼</span></span> Close\n",
       "                </a>\n",
       "<ul class=\"menu\" role=\"tree\">\n",
       "<li class=\"python-meta current_item selectedcurrent_branch selected\">\n",
       "<a class=\"current_item selectedcurrent_branch selected\" href=\"/\" title=\"The Python Programming Language\">Python</a>\n",
       "</li>\n",
       "<li class=\"psf-meta\">\n",
       "<a href=\"/psf-landing/\" title=\"The Python Software Foundation\">PSF</a>\n",
       "</li>\n",
       "<li class=\"docs-meta\">\n",
       "<a href=\"https://docs.python.org\" title=\"Python Documentation\">Docs</a>\n",
       "</li>\n",
       "<li class=\"pypi-meta\">\n",
       "<a href=\"https://pypi.org/\" title=\"Python Package Index\">PyPI</a>\n",
       "</li>\n",
       "<li class=\"jobs-meta\">\n",
       "<a href=\"/jobs/\" title=\"Python Job Board\">Jobs</a>\n",
       "</li>\n",
       "<li class=\"shop-meta\">\n",
       "<a href=\"/community-landing/\">Community</a>\n",
       "</li>\n",
       "</ul>\n",
       "<a aria-hidden=\"true\" class=\"jump-link\" href=\"#top\" id=\"python-network\">\n",
       "<span aria-hidden=\"true\" class=\"icon-arrow-up\"><span>▲</span></span> The Python Network\n",
       "                </a>\n",
       "</nav>\n",
       "</div>\n",
       "<!-- Header elements -->\n",
       "<header class=\"main-header\" role=\"banner\">\n",
       "<div class=\"container\">\n",
       "<h1 class=\"site-headline\">\n",
       "<a href=\"/\"><img alt=\"python™\" class=\"python-logo\" src=\"/static/img/python-logo.png\"/></a>\n",
       "</h1>\n",
       "<div class=\"options-bar-container do-not-print\">\n",
       "<a class=\"donate-button\" href=\"https://psfmember.org/civicrm/contribute/transact?reset=1&amp;id=2\">Donate</a>\n",
       "<div class=\"options-bar\">\n",
       "<a class=\"jump-to-menu\" href=\"#site-map\" id=\"site-map-link\"><span class=\"menu-icon\">≡</span> Menu</a><form action=\"/search/\" class=\"search-the-site\" method=\"get\">\n",
       "<fieldset title=\"Search Python.org\">\n",
       "<span aria-hidden=\"true\" class=\"icon-search\"></span>\n",
       "<label class=\"screen-reader-text\" for=\"id-search-field\">Search This Site</label>\n",
       "<input class=\"search-field\" id=\"id-search-field\" name=\"q\" placeholder=\"Search\" role=\"textbox\" tabindex=\"1\" type=\"search\" value=\"\"/>\n",
       "<button class=\"search-button\" id=\"submit\" name=\"submit\" tabindex=\"3\" title=\"Submit this Search\" type=\"submit\">\n",
       "                                    GO\n",
       "                                </button>\n",
       "<!--[if IE]><input type=\"text\" style=\"display: none;\" disabled=\"disabled\" size=\"1\" tabindex=\"4\"><![endif]-->\n",
       "</fieldset>\n",
       "</form><span class=\"breaker\"></span><div aria-hidden=\"true\" class=\"adjust-font-size\">\n",
       "<ul aria-label=\"Adjust Text Size on Page\" class=\"navigation menu\">\n",
       "<li aria-haspopup=\"true\" class=\"tier-1 last\">\n",
       "<a class=\"action-trigger\" href=\"#\"><strong><small>A</small> A</strong></a>\n",
       "<ul class=\"subnav menu\">\n",
       "<li class=\"tier-2 element-1\" role=\"treeitem\"><a class=\"text-shrink\" href=\"javascript:;\" title=\"Make Text Smaller\">Smaller</a></li>\n",
       "<li class=\"tier-2 element-2\" role=\"treeitem\"><a class=\"text-grow\" href=\"javascript:;\" title=\"Make Text Larger\">Larger</a></li>\n",
       "<li class=\"tier-2 element-3\" role=\"treeitem\"><a class=\"text-reset\" href=\"javascript:;\" title=\"Reset any font size changes I have made\">Reset</a></li>\n",
       "</ul>\n",
       "</li>\n",
       "</ul>\n",
       "</div><div class=\"winkwink-nudgenudge\">\n",
       "<ul aria-label=\"Social Media Navigation\" class=\"navigation menu\">\n",
       "<li aria-haspopup=\"true\" class=\"tier-1 last\">\n",
       "<a class=\"action-trigger\" href=\"#\">Socialize</a>\n",
       "<ul class=\"subnav menu\">\n",
       "<li class=\"tier-2 element-1\" role=\"treeitem\"><a href=\"https://www.facebook.com/pythonlang?fref=ts\"><span aria-hidden=\"true\" class=\"icon-facebook\"></span>Facebook</a></li>\n",
       "<li class=\"tier-2 element-2\" role=\"treeitem\"><a href=\"https://twitter.com/ThePSF\"><span aria-hidden=\"true\" class=\"icon-twitter\"></span>Twitter</a></li>\n",
       "<li class=\"tier-2 element-3\" role=\"treeitem\"><a href=\"/community/irc/\"><span aria-hidden=\"true\" class=\"icon-freenode\"></span>Chat on IRC</a></li>\n",
       "</ul>\n",
       "</li>\n",
       "</ul>\n",
       "</div>\n",
       "<span data-html-include=\"/authenticated\"></span>\n",
       "</div><!-- end options-bar -->\n",
       "</div>\n",
       "<nav class=\"python-navigation main-navigation do-not-print\" id=\"mainnav\" role=\"navigation\">\n",
       "<ul aria-label=\"Main Navigation\" class=\"navigation menu\" role=\"menubar\">\n",
       "<li aria-haspopup=\"true\" class=\"tier-1 element-1\" id=\"about\">\n",
       "<a class=\"\" href=\"/about/\" title=\"\">About</a>\n",
       "<ul aria-hidden=\"true\" class=\"subnav menu\" role=\"menu\">\n",
       "<li class=\"tier-2 element-1\" role=\"treeitem\"><a href=\"/about/apps/\" title=\"\">Applications</a></li>\n",
       "<li class=\"tier-2 element-2\" role=\"treeitem\"><a href=\"/about/quotes/\" title=\"\">Quotes</a></li>\n",
       "<li class=\"tier-2 element-3\" role=\"treeitem\"><a href=\"/about/gettingstarted/\" title=\"\">Getting Started</a></li>\n",
       "<li class=\"tier-2 element-4\" role=\"treeitem\"><a href=\"/about/help/\" title=\"\">Help</a></li>\n",
       "<li class=\"tier-2 element-5\" role=\"treeitem\"><a href=\"http://brochure.getpython.info/\" title=\"\">Python Brochure</a></li>\n",
       "</ul>\n",
       "</li>\n",
       "<li aria-haspopup=\"true\" class=\"tier-1 element-2\" id=\"downloads\">\n",
       "<a class=\"\" href=\"/downloads/\" title=\"\">Downloads</a>\n",
       "<ul aria-hidden=\"true\" class=\"subnav menu\" role=\"menu\">\n",
       "<li class=\"tier-2 element-1\" role=\"treeitem\"><a href=\"/downloads/\" title=\"\">All releases</a></li>\n",
       "<li class=\"tier-2 element-2\" role=\"treeitem\"><a href=\"/downloads/source/\" title=\"\">Source code</a></li>\n",
       "<li class=\"tier-2 element-3\" role=\"treeitem\"><a href=\"/downloads/windows/\" title=\"\">Windows</a></li>\n",
       "<li class=\"tier-2 element-4\" role=\"treeitem\"><a href=\"/downloads/macos/\" title=\"\">macOS</a></li>\n",
       "<li class=\"tier-2 element-5\" role=\"treeitem\"><a href=\"/download/other/\" title=\"\">Other Platforms</a></li>\n",
       "<li class=\"tier-2 element-6\" role=\"treeitem\"><a href=\"https://docs.python.org/3/license.html\" title=\"\">License</a></li>\n",
       "<li class=\"tier-2 element-7\" role=\"treeitem\"><a href=\"/download/alternatives\" title=\"\">Alternative Implementations</a></li>\n",
       "</ul>\n",
       "</li>\n",
       "<li aria-haspopup=\"true\" class=\"tier-1 element-3\" id=\"documentation\">\n",
       "<a class=\"\" href=\"/doc/\" title=\"\">Documentation</a>\n",
       "<ul aria-hidden=\"true\" class=\"subnav menu\" role=\"menu\">\n",
       "<li class=\"tier-2 element-1\" role=\"treeitem\"><a href=\"/doc/\" title=\"\">Docs</a></li>\n",
       "<li class=\"tier-2 element-2\" role=\"treeitem\"><a href=\"/doc/av\" title=\"\">Audio/Visual Talks</a></li>\n",
       "<li class=\"tier-2 element-3\" role=\"treeitem\"><a href=\"https://wiki.python.org/moin/BeginnersGuide\" title=\"\">Beginner's Guide</a></li>\n",
       "<li class=\"tier-2 element-4\" role=\"treeitem\"><a href=\"https://devguide.python.org/\" title=\"\">Developer's Guide</a></li>\n",
       "<li class=\"tier-2 element-5\" role=\"treeitem\"><a href=\"https://docs.python.org/faq/\" title=\"\">FAQ</a></li>\n",
       "<li class=\"tier-2 element-6\" role=\"treeitem\"><a href=\"http://wiki.python.org/moin/Languages\" title=\"\">Non-English Docs</a></li>\n",
       "<li class=\"tier-2 element-7\" role=\"treeitem\"><a href=\"http://python.org/dev/peps/\" title=\"\">PEP Index</a></li>\n",
       "<li class=\"tier-2 element-8\" role=\"treeitem\"><a href=\"https://wiki.python.org/moin/PythonBooks\" title=\"\">Python Books</a></li>\n",
       "<li class=\"tier-2 element-9\" role=\"treeitem\"><a href=\"/doc/essays/\" title=\"\">Python Essays</a></li>\n",
       "</ul>\n",
       "</li>\n",
       "<li aria-haspopup=\"true\" class=\"tier-1 element-4\" id=\"community\">\n",
       "<a class=\"\" href=\"/community/\" title=\"\">Community</a>\n",
       "<ul aria-hidden=\"true\" class=\"subnav menu\" role=\"menu\">\n",
       "<li class=\"tier-2 element-1\" role=\"treeitem\"><a href=\"/community/diversity/\" title=\"\">Diversity</a></li>\n",
       "<li class=\"tier-2 element-2\" role=\"treeitem\"><a href=\"/community/lists/\" title=\"\">Mailing Lists</a></li>\n",
       "<li class=\"tier-2 element-3\" role=\"treeitem\"><a href=\"/community/irc/\" title=\"\">IRC</a></li>\n",
       "<li class=\"tier-2 element-4\" role=\"treeitem\"><a href=\"/community/forums/\" title=\"\">Forums</a></li>\n",
       "<li class=\"tier-2 element-5\" role=\"treeitem\"><a href=\"/psf/annual-report/2021/\" title=\"\">PSF Annual Impact Report</a></li>\n",
       "<li class=\"tier-2 element-6\" role=\"treeitem\"><a href=\"/community/workshops/\" title=\"\">Python Conferences</a></li>\n",
       "<li class=\"tier-2 element-7\" role=\"treeitem\"><a href=\"/community/sigs/\" title=\"\">Special Interest Groups</a></li>\n",
       "<li class=\"tier-2 element-8\" role=\"treeitem\"><a href=\"/community/logos/\" title=\"\">Python Logo</a></li>\n",
       "<li class=\"tier-2 element-9\" role=\"treeitem\"><a href=\"https://wiki.python.org/moin/\" title=\"\">Python Wiki</a></li>\n",
       "<li class=\"tier-2 element-10\" role=\"treeitem\"><a href=\"/community/merchandise/\" title=\"\">Merchandise</a></li>\n",
       "<li class=\"tier-2 element-11\" role=\"treeitem\"><a href=\"/community/awards\" title=\"\">Community Awards</a></li>\n",
       "<li class=\"tier-2 element-12\" role=\"treeitem\"><a href=\"/psf/conduct/\" title=\"\">Code of Conduct</a></li>\n",
       "<li class=\"tier-2 element-13\" role=\"treeitem\"><a href=\"/psf/get-involved/\" title=\"\">Get Involved</a></li>\n",
       "<li class=\"tier-2 element-14\" role=\"treeitem\"><a href=\"/psf/community-stories/\" title=\"\">Shared Stories</a></li>\n",
       "</ul>\n",
       "</li>\n",
       "<li aria-haspopup=\"true\" class=\"tier-1 element-5\" id=\"success-stories\">\n",
       "<a class=\"\" href=\"/success-stories/\" title=\"success-stories\">Success Stories</a>\n",
       "<ul aria-hidden=\"true\" class=\"subnav menu\" role=\"menu\">\n",
       "<li class=\"tier-2 element-1\" role=\"treeitem\"><a href=\"/success-stories/category/arts/\" title=\"\">Arts</a></li>\n",
       "<li class=\"tier-2 element-2\" role=\"treeitem\"><a href=\"/success-stories/category/business/\" title=\"\">Business</a></li>\n",
       "<li class=\"tier-2 element-3\" role=\"treeitem\"><a href=\"/success-stories/category/education/\" title=\"\">Education</a></li>\n",
       "<li class=\"tier-2 element-4\" role=\"treeitem\"><a href=\"/success-stories/category/engineering/\" title=\"\">Engineering</a></li>\n",
       "<li class=\"tier-2 element-5\" role=\"treeitem\"><a href=\"/success-stories/category/government/\" title=\"\">Government</a></li>\n",
       "<li class=\"tier-2 element-6\" role=\"treeitem\"><a href=\"/success-stories/category/scientific/\" title=\"\">Scientific</a></li>\n",
       "<li class=\"tier-2 element-7\" role=\"treeitem\"><a href=\"/success-stories/category/software-development/\" title=\"\">Software Development</a></li>\n",
       "</ul>\n",
       "</li>\n",
       "<li aria-haspopup=\"true\" class=\"tier-1 element-6\" id=\"news\">\n",
       "<a class=\"\" href=\"/blogs/\" title=\"News from around the Python world\">News</a>\n",
       "<ul aria-hidden=\"true\" class=\"subnav menu\" role=\"menu\">\n",
       "<li class=\"tier-2 element-1\" role=\"treeitem\"><a href=\"/blogs/\" title=\"Python Insider Blog Posts\">Python News</a></li>\n",
       "<li class=\"tier-2 element-2\" role=\"treeitem\"><a href=\"/psf/newsletter/\" title=\"Python Software Foundation Newsletter\">PSF Newsletter</a></li>\n",
       "<li class=\"tier-2 element-3\" role=\"treeitem\"><a href=\"http://planetpython.org/\" title=\"Planet Python\">Community News</a></li>\n",
       "<li class=\"tier-2 element-4\" role=\"treeitem\"><a href=\"http://pyfound.blogspot.com/\" title=\"PSF Blog\">PSF News</a></li>\n",
       "<li class=\"tier-2 element-5\" role=\"treeitem\"><a href=\"http://pycon.blogspot.com/\" title=\"PyCon Blog\">PyCon News</a></li>\n",
       "</ul>\n",
       "</li>\n",
       "<li aria-haspopup=\"true\" class=\"tier-1 element-7\" id=\"events\">\n",
       "<a class=\"\" href=\"/events/\" title=\"\">Events</a>\n",
       "<ul aria-hidden=\"true\" class=\"subnav menu\" role=\"menu\">\n",
       "<li class=\"tier-2 element-1\" role=\"treeitem\"><a href=\"/events/python-events/\" title=\"\">Python Events</a></li>\n",
       "<li class=\"tier-2 element-2\" role=\"treeitem\"><a href=\"/events/python-user-group/\" title=\"\">User Group Events</a></li>\n",
       "<li class=\"tier-2 element-3\" role=\"treeitem\"><a href=\"/events/python-events/past/\" title=\"\">Python Events Archive</a></li>\n",
       "<li class=\"tier-2 element-4\" role=\"treeitem\"><a href=\"/events/python-user-group/past/\" title=\"\">User Group Events Archive</a></li>\n",
       "<li class=\"tier-2 element-5\" role=\"treeitem\"><a href=\"https://wiki.python.org/moin/PythonEventsCalendar#Submitting_an_Event\" title=\"\">Submit an Event</a></li>\n",
       "</ul>\n",
       "</li>\n",
       "</ul>\n",
       "</nav>\n",
       "<div class=\"header-banner\"> <!-- for optional \"do-not-print\" class -->\n",
       "<div class=\"flex-slideshow slideshow\" id=\"dive-into-python\">\n",
       "<ul class=\"launch-shell menu\" id=\"launch-shell\">\n",
       "<li>\n",
       "<a class=\"button prompt\" data-shell-container=\"#dive-into-python\" href=\"/shell/\" id=\"start-shell\">&gt;_\n",
       "                        <span class=\"message\">Launch Interactive Shell</span>\n",
       "</a>\n",
       "</li>\n",
       "</ul>\n",
       "<ul class=\"slides menu\">\n",
       "<li>\n",
       "<div class=\"slide-code\"><pre><code><span class=\"comment\"># Python 3: Fibonacci series up to n</span>\n",
       "&gt;&gt;&gt; def fib(n):\n",
       "&gt;&gt;&gt;     a, b = 0, 1\n",
       "&gt;&gt;&gt;     while a &lt; n:\n",
       "&gt;&gt;&gt;         print(a, end=' ')\n",
       "&gt;&gt;&gt;         a, b = b, a+b\n",
       "&gt;&gt;&gt;     print()\n",
       "&gt;&gt;&gt; fib(1000)\n",
       "<span class=\"output\">0 1 1 2 3 5 8 13 21 34 55 89 144 233 377 610 987</span></code></pre></div>\n",
       "<div class=\"slide-copy\"><h1>Functions Defined</h1>\n",
       "<p>The core of extensible programming is defining functions. Python allows mandatory and optional arguments, keyword arguments, and even arbitrary argument lists. <a href=\"//docs.python.org/3/tutorial/controlflow.html#defining-functions\">More about defining functions in Python 3</a></p></div>\n",
       "</li>\n",
       "<li>\n",
       "<div class=\"slide-code\"><pre><code><span class=\"comment\"># Python 3: List comprehensions</span>\n",
       "&gt;&gt;&gt; fruits = ['Banana', 'Apple', 'Lime']\n",
       "&gt;&gt;&gt; loud_fruits = [fruit.upper() for fruit in fruits]\n",
       "&gt;&gt;&gt; print(loud_fruits)\n",
       "<span class=\"output\">['BANANA', 'APPLE', 'LIME']</span>\n",
       "\n",
       "<span class=\"comment\"># List and the enumerate function</span>\n",
       "&gt;&gt;&gt; list(enumerate(fruits))\n",
       "<span class=\"output\">[(0, 'Banana'), (1, 'Apple'), (2, 'Lime')]</span></code></pre></div>\n",
       "<div class=\"slide-copy\"><h1>Compound Data Types</h1>\n",
       "<p>Lists (known as arrays in other languages) are one of the compound data types that Python understands. Lists can be indexed, sliced and manipulated with other built-in functions. <a href=\"//docs.python.org/3/tutorial/introduction.html#lists\">More about lists in Python 3</a></p></div>\n",
       "</li>\n",
       "<li>\n",
       "<div class=\"slide-code\"><pre><code><span class=\"comment\"># Python 3: Simple arithmetic</span>\n",
       "&gt;&gt;&gt; 1 / 2\n",
       "<span class=\"output\">0.5</span>\n",
       "&gt;&gt;&gt; 2 ** 3\n",
       "<span class=\"output\">8</span>\n",
       "&gt;&gt;&gt; 17 / 3  <span class=\"comment\"># classic division returns a float</span>\n",
       "<span class=\"output\">5.666666666666667</span>\n",
       "&gt;&gt;&gt; 17 // 3  <span class=\"comment\"># floor division</span>\n",
       "<span class=\"output\">5</span></code></pre></div>\n",
       "<div class=\"slide-copy\"><h1>Intuitive Interpretation</h1>\n",
       "<p>Calculations are simple with Python, and expression syntax is straightforward: the operators <code>+</code>, <code>-</code>, <code>*</code> and <code>/</code> work as expected; parentheses <code>()</code> can be used for grouping. <a href=\"http://docs.python.org/3/tutorial/introduction.html#using-python-as-a-calculator\">More about simple math functions in Python 3</a>.</p></div>\n",
       "</li>\n",
       "<li>\n",
       "<div class=\"slide-code\"><pre><code><span class=\"comment\"># Python 3: Simple output (with Unicode)</span>\n",
       "&gt;&gt;&gt; print(\"Hello, I'm Python!\")\n",
       "<span class=\"output\">Hello, I'm Python!</span>\n",
       "\n",
       "<span class=\"comment\"># Input, assignment</span>\n",
       "&gt;&gt;&gt; name = input('What is your name?\\n')\n",
       "&gt;&gt;&gt; print('Hi, %s.' % name)\n",
       "<span class=\"output\">What is your name?\n",
       "Python\n",
       "Hi, Python.</span></code></pre></div>\n",
       "<div class=\"slide-copy\"><h1>Quick &amp; Easy to Learn</h1>\n",
       "<p>Experienced programmers in any other language can pick up Python very quickly, and beginners find the clean syntax and indentation structure easy to learn. <a href=\"//docs.python.org/3/tutorial/\">Whet your appetite</a> with our Python 3 overview.</p>\n",
       "</div>\n",
       "</li>\n",
       "<li>\n",
       "<div class=\"slide-code\"><pre><code><span class=\"comment\"># For loop on a list</span>\n",
       "&gt;&gt;&gt; numbers = [2, 4, 6, 8]\n",
       "&gt;&gt;&gt; product = 1\n",
       "&gt;&gt;&gt; for number in numbers:\n",
       "...    product = product * number\n",
       "... \n",
       "&gt;&gt;&gt; print('The product is:', product)\n",
       "<span class=\"output\">The product is: 384</span></code></pre></div>\n",
       "<div class=\"slide-copy\"><h1>All the Flow You’d Expect</h1>\n",
       "<p>Python knows the usual control flow statements that other languages speak — <code>if</code>, <code>for</code>, <code>while</code> and <code>range</code> — with some of its own twists, of course. <a href=\"//docs.python.org/3/tutorial/controlflow.html\">More control flow tools in Python 3</a></p></div>\n",
       "</li>\n",
       "</ul>\n",
       "</div>\n",
       "</div>\n",
       "<div class=\"introduction\">\n",
       "<p>Python is a programming language that lets you work quickly <span class=\"breaker\"></span>and integrate systems more effectively. <a class=\"readmore\" href=\"/doc/\">Learn More</a></p>\n",
       "</div>\n",
       "</div><!-- end .container -->\n",
       "</header>\n",
       "<div class=\"content-wrapper\" id=\"content\">\n",
       "<!-- Main Content Column -->\n",
       "<div class=\"container\">\n",
       "<section class=\"main-content\" role=\"main\">\n",
       "<div class=\"row\">\n",
       "<div class=\"small-widget get-started-widget\">\n",
       "<h2 class=\"widget-title\"><span aria-hidden=\"true\" class=\"icon-get-started\"></span>Get Started</h2>\n",
       "<p>Whether you're new to programming or an experienced developer, it's easy to learn and use Python.</p>\n",
       "<p><a href=\"/about/gettingstarted/\">Start with our Beginner’s Guide</a></p>\n",
       "</div>\n",
       "<div class=\"small-widget download-widget\">\n",
       "<h2 class=\"widget-title\"><span aria-hidden=\"true\" class=\"icon-download\"></span>Download</h2>\n",
       "<p>Python source code and installers are available for download for all versions!</p>\n",
       "<p>Latest: <a href=\"/downloads/release/python-3107/\">Python 3.10.7</a></p>\n",
       "</div>\n",
       "<div class=\"small-widget documentation-widget\">\n",
       "<h2 class=\"widget-title\"><span aria-hidden=\"true\" class=\"icon-documentation\"></span>Docs</h2>\n",
       "<p>Documentation for Python's standard library, along with tutorials and guides, are available online.</p>\n",
       "<p><a href=\"https://docs.python.org\">docs.python.org</a></p>\n",
       "</div>\n",
       "<div class=\"small-widget jobs-widget last\">\n",
       "<h2 class=\"widget-title\"><span aria-hidden=\"true\" class=\"icon-jobs\"></span>Jobs</h2>\n",
       "<p>Looking for work or have a Python related position that you're trying to hire for? Our <strong>relaunched community-run job board</strong> is the place to go.</p>\n",
       "<p><a href=\"//jobs.python.org\">jobs.python.org</a></p>\n",
       "</div>\n",
       "</div>\n",
       "<div class=\"list-widgets row\">\n",
       "<div class=\"medium-widget blog-widget\">\n",
       "<div class=\"shrubbery\">\n",
       "<h2 class=\"widget-title\"><span aria-hidden=\"true\" class=\"icon-news\"></span>Latest News</h2>\n",
       "<p class=\"give-me-more\"><a href=\"https://blog.python.org\" title=\"More News\">More</a></p>\n",
       "<ul class=\"menu\">\n",
       "<li>\n",
       "<time datetime=\"2022-09-12T11:26:00+00:00\"><span class=\"say-no-more\">2022-</span>09-12</time>\n",
       "<a href=\"https://pythoninsider.blogspot.com/2022/09/python-3110rc2-is-now-available.html\">Python 3.11.0rc2 is now available</a></li>\n",
       "<li>\n",
       "<time datetime=\"2022-09-07T13:03:00.000002+00:00\"><span class=\"say-no-more\">2022-</span>09-07</time>\n",
       "<a href=\"https://pythoninsider.blogspot.com/2022/09/python-releases-3107-3914-3814-and-3714.html\">Python releases 3.10.7, 3.9.14, 3.8.14, and 3.7.14 are now available</a></li>\n",
       "<li>\n",
       "<time datetime=\"2022-08-08T17:17:00+00:00\"><span class=\"say-no-more\">2022-</span>08-08</time>\n",
       "<a href=\"https://pythoninsider.blogspot.com/2022/08/python-3110rc1-is-now-available.html\">Python 3.11.0rc1 is now available</a></li>\n",
       "<li>\n",
       "<time datetime=\"2022-08-02T10:14:00.000001+00:00\"><span class=\"say-no-more\">2022-</span>08-02</time>\n",
       "<a href=\"https://pythoninsider.blogspot.com/2022/08/python-3106-is-available.html\">Python 3.10.6 is available</a></li>\n",
       "<li>\n",
       "<time datetime=\"2022-07-26T10:29:00.000001+00:00\"><span class=\"say-no-more\">2022-</span>07-26</time>\n",
       "<a href=\"https://pythoninsider.blogspot.com/2022/07/python-3110b5-is-now-available.html\">Python 3.11.0b5 is now available</a></li>\n",
       "</ul>\n",
       "</div><!-- end .shrubbery -->\n",
       "</div>\n",
       "<div class=\"medium-widget event-widget last\">\n",
       "<div class=\"shrubbery\">\n",
       "<h2 class=\"widget-title\"><span aria-hidden=\"true\" class=\"icon-calendar\"></span>Upcoming Events</h2>\n",
       "<p class=\"give-me-more\"><a href=\"/events/calendars/\" title=\"More Events\">More</a></p>\n",
       "<ul class=\"menu\">\n",
       "<li>\n",
       "<time datetime=\"2022-09-16T00:00:00+00:00\"><span class=\"say-no-more\">2022-</span>09-16</time>\n",
       "<a href=\"/events/python-events/1091/\">PyCon UK 2022</a></li>\n",
       "<li>\n",
       "<time datetime=\"2022-09-21T00:00:00+00:00\"><span class=\"say-no-more\">2022-</span>09-21</time>\n",
       "<a href=\"/events/python-events/1209/\">DjangoCon Europe 2022</a></li>\n",
       "<li>\n",
       "<time datetime=\"2022-09-21T06:30:00+00:00\"><span class=\"say-no-more\">2022-</span>09-21</time>\n",
       "<a href=\"/events/python-user-group/1337/\">An applied introduction to Finite State Machines</a></li>\n",
       "<li>\n",
       "<time datetime=\"2022-09-24T00:00:00+00:00\"><span class=\"say-no-more\">2022-</span>09-24</time>\n",
       "<a href=\"/events/python-events/1208/\">PyCon Portugal 2022</a></li>\n",
       "<li>\n",
       "<time datetime=\"2022-09-26T00:00:00+00:00\"><span class=\"say-no-more\">2022-</span>09-26</time>\n",
       "<a href=\"/events/python-user-group/1334/\">Scikit-learn Sprint Salta AR 2022</a></li>\n",
       "</ul>\n",
       "</div>\n",
       "</div>\n",
       "</div>\n",
       "<div class=\"row\">\n",
       "<div class=\"medium-widget success-stories-widget\">\n",
       "<div class=\"shrubbery\">\n",
       "<h2 class=\"widget-title\"><span aria-hidden=\"true\" class=\"icon-success-stories\"></span>Success Stories</h2>\n",
       "<p class=\"give-me-more\"><a href=\"/success-stories/\" title=\"More Success Stories\">More</a></p>\n",
       "<div class=\"success-story-item\" id=\"success-story-1101\">\n",
       "<blockquote>\n",
       "<a href=\"/success-stories/a-startup-healthcare-tech-firm-is-now-poised-for-the-future/\">“We feel much better equipped now to handle the challenges. And if we run into an issue, we’ll come to Caktus to hammer it out,\" said Stephen Johnston, VP of Engineering, at Force Therapeutics.</a>\n",
       "</blockquote>\n",
       "<table border=\"0\" cellpadding=\"0\" cellspacing=\"0\" class=\"quote-from\" width=\"100%\">\n",
       "<tbody>\n",
       "<tr>\n",
       "<td><p><a href=\"/success-stories/a-startup-healthcare-tech-firm-is-now-poised-for-the-future/\">A Startup Healthcare Tech Firm Is Now Poised for the Future</a> <em>by Caktus Group</em></p></td>\n",
       "</tr>\n",
       "</tbody>\n",
       "</table>\n",
       "</div>\n",
       "</div><!-- end .shrubbery -->\n",
       "</div>\n",
       "<div class=\"medium-widget applications-widget last\">\n",
       "<div class=\"shrubbery\">\n",
       "<h2 class=\"widget-title\"><span aria-hidden=\"true\" class=\"icon-python\"></span>Use Python for…</h2>\n",
       "<p class=\"give-me-more\"><a href=\"/about/apps\" title=\"More Applications\">More</a></p>\n",
       "<ul class=\"menu\">\n",
       "<li><b>Web Development</b>:\n",
       "        <span class=\"tag-wrapper\"><a class=\"tag\" href=\"http://www.djangoproject.com/\">Django</a>, <a class=\"tag\" href=\"http://www.pylonsproject.org/\">Pyramid</a>, <a class=\"tag\" href=\"http://bottlepy.org\">Bottle</a>, <a class=\"tag\" href=\"http://tornadoweb.org\">Tornado</a>, <a class=\"tag\" href=\"http://flask.pocoo.org/\">Flask</a>, <a class=\"tag\" href=\"http://www.web2py.com/\">web2py</a></span></li>\n",
       "<li><b>GUI Development</b>:\n",
       "        <span class=\"tag-wrapper\"><a class=\"tag\" href=\"http://wiki.python.org/moin/TkInter\">tkInter</a>, <a class=\"tag\" href=\"https://wiki.gnome.org/Projects/PyGObject\">PyGObject</a>, <a class=\"tag\" href=\"http://www.riverbankcomputing.co.uk/software/pyqt/intro\">PyQt</a>, <a class=\"tag\" href=\"https://wiki.qt.io/PySide\">PySide</a>, <a class=\"tag\" href=\"https://kivy.org/\">Kivy</a>, <a class=\"tag\" href=\"http://www.wxpython.org/\">wxPython</a></span></li>\n",
       "<li><b>Scientific and Numeric</b>:\n",
       "        <span class=\"tag-wrapper\">\n",
       "<a class=\"tag\" href=\"http://www.scipy.org\">SciPy</a>, <a class=\"tag\" href=\"http://pandas.pydata.org/\">Pandas</a>, <a class=\"tag\" href=\"http://ipython.org\">IPython</a></span></li>\n",
       "<li><b>Software Development</b>:\n",
       "        <span class=\"tag-wrapper\"><a class=\"tag\" href=\"http://buildbot.net/\">Buildbot</a>, <a class=\"tag\" href=\"http://trac.edgewall.org/\">Trac</a>, <a class=\"tag\" href=\"http://roundup.sourceforge.net/\">Roundup</a></span></li>\n",
       "<li><b>System Administration</b>:\n",
       "        <span class=\"tag-wrapper\"><a class=\"tag\" href=\"http://www.ansible.com\">Ansible</a>, <a class=\"tag\" href=\"https://saltproject.io\">Salt</a>, <a class=\"tag\" href=\"https://www.openstack.org\">OpenStack</a>, <a class=\"tag\" href=\"https://xon.sh\">xonsh</a></span></li>\n",
       "</ul>\n",
       "</div><!-- end .shrubbery -->\n",
       "</div>\n",
       "</div>\n",
       "<div class=\"pep-widget\">\n",
       "<h2 class=\"widget-title\">\n",
       "<span class=\"prompt\">&gt;&gt;&gt;</span> <a href=\"/dev/peps/\">Python Enhancement Proposals<span class=\"say-no-more\"> (PEPs)</span></a>: The future of Python<span class=\"say-no-more\"> is discussed here.</span>\n",
       "<a aria-hidden=\"true\" class=\"rss-link\" href=\"/dev/peps/peps.rss\"><span class=\"icon-feed\"></span> RSS</a>\n",
       "</h2>\n",
       "</div>\n",
       "<div class=\"psf-widget\">\n",
       "<div class=\"python-logo\"></div>\n",
       "<h2 class=\"widget-title\">\n",
       "<span class=\"prompt\">&gt;&gt;&gt;</span> <a href=\"/psf/\">Python Software Foundation</a>\n",
       "</h2>\n",
       "<p>The mission of the Python Software Foundation is to promote, protect, and advance the Python programming language, and to support and facilitate the growth of a diverse and international community of Python programmers. <a class=\"readmore\" href=\"/psf/\">Learn more</a> </p>\n",
       "<p class=\"click-these\">\n",
       "<a class=\"button\" href=\"/users/membership/\">Become a Member</a>\n",
       "<a class=\"button\" href=\"/psf/donations/\">Donate to the PSF</a>\n",
       "</p>\n",
       "</div>\n",
       "</section>\n",
       "</div><!-- end .container -->\n",
       "</div><!-- end #content .content-wrapper -->\n",
       "<!-- Footer and social media list -->\n",
       "<footer class=\"main-footer\" id=\"site-map\" role=\"contentinfo\">\n",
       "<div class=\"main-footer-links\">\n",
       "<div class=\"container\">\n",
       "<a class=\"jump-link\" href=\"#python-network\" id=\"back-to-top-1\"><span aria-hidden=\"true\" class=\"icon-arrow-up\"><span>▲</span></span> Back to Top</a>\n",
       "<ul class=\"sitemap navigation menu do-not-print\" id=\"container\" role=\"tree\">\n",
       "<li class=\"tier-1 element-1\">\n",
       "<a href=\"/about/\">About</a>\n",
       "<ul class=\"subnav menu\">\n",
       "<li class=\"tier-2 element-1\" role=\"treeitem\"><a href=\"/about/apps/\" title=\"\">Applications</a></li>\n",
       "<li class=\"tier-2 element-2\" role=\"treeitem\"><a href=\"/about/quotes/\" title=\"\">Quotes</a></li>\n",
       "<li class=\"tier-2 element-3\" role=\"treeitem\"><a href=\"/about/gettingstarted/\" title=\"\">Getting Started</a></li>\n",
       "<li class=\"tier-2 element-4\" role=\"treeitem\"><a href=\"/about/help/\" title=\"\">Help</a></li>\n",
       "<li class=\"tier-2 element-5\" role=\"treeitem\"><a href=\"http://brochure.getpython.info/\" title=\"\">Python Brochure</a></li>\n",
       "</ul>\n",
       "</li>\n",
       "<li class=\"tier-1 element-2\">\n",
       "<a href=\"/downloads/\">Downloads</a>\n",
       "<ul class=\"subnav menu\">\n",
       "<li class=\"tier-2 element-1\" role=\"treeitem\"><a href=\"/downloads/\" title=\"\">All releases</a></li>\n",
       "<li class=\"tier-2 element-2\" role=\"treeitem\"><a href=\"/downloads/source/\" title=\"\">Source code</a></li>\n",
       "<li class=\"tier-2 element-3\" role=\"treeitem\"><a href=\"/downloads/windows/\" title=\"\">Windows</a></li>\n",
       "<li class=\"tier-2 element-4\" role=\"treeitem\"><a href=\"/downloads/macos/\" title=\"\">macOS</a></li>\n",
       "<li class=\"tier-2 element-5\" role=\"treeitem\"><a href=\"/download/other/\" title=\"\">Other Platforms</a></li>\n",
       "<li class=\"tier-2 element-6\" role=\"treeitem\"><a href=\"https://docs.python.org/3/license.html\" title=\"\">License</a></li>\n",
       "<li class=\"tier-2 element-7\" role=\"treeitem\"><a href=\"/download/alternatives\" title=\"\">Alternative Implementations</a></li>\n",
       "</ul>\n",
       "</li>\n",
       "<li class=\"tier-1 element-3\">\n",
       "<a href=\"/doc/\">Documentation</a>\n",
       "<ul class=\"subnav menu\">\n",
       "<li class=\"tier-2 element-1\" role=\"treeitem\"><a href=\"/doc/\" title=\"\">Docs</a></li>\n",
       "<li class=\"tier-2 element-2\" role=\"treeitem\"><a href=\"/doc/av\" title=\"\">Audio/Visual Talks</a></li>\n",
       "<li class=\"tier-2 element-3\" role=\"treeitem\"><a href=\"https://wiki.python.org/moin/BeginnersGuide\" title=\"\">Beginner's Guide</a></li>\n",
       "<li class=\"tier-2 element-4\" role=\"treeitem\"><a href=\"https://devguide.python.org/\" title=\"\">Developer's Guide</a></li>\n",
       "<li class=\"tier-2 element-5\" role=\"treeitem\"><a href=\"https://docs.python.org/faq/\" title=\"\">FAQ</a></li>\n",
       "<li class=\"tier-2 element-6\" role=\"treeitem\"><a href=\"http://wiki.python.org/moin/Languages\" title=\"\">Non-English Docs</a></li>\n",
       "<li class=\"tier-2 element-7\" role=\"treeitem\"><a href=\"http://python.org/dev/peps/\" title=\"\">PEP Index</a></li>\n",
       "<li class=\"tier-2 element-8\" role=\"treeitem\"><a href=\"https://wiki.python.org/moin/PythonBooks\" title=\"\">Python Books</a></li>\n",
       "<li class=\"tier-2 element-9\" role=\"treeitem\"><a href=\"/doc/essays/\" title=\"\">Python Essays</a></li>\n",
       "</ul>\n",
       "</li>\n",
       "<li class=\"tier-1 element-4\">\n",
       "<a href=\"/community/\">Community</a>\n",
       "<ul class=\"subnav menu\">\n",
       "<li class=\"tier-2 element-1\" role=\"treeitem\"><a href=\"/community/diversity/\" title=\"\">Diversity</a></li>\n",
       "<li class=\"tier-2 element-2\" role=\"treeitem\"><a href=\"/community/lists/\" title=\"\">Mailing Lists</a></li>\n",
       "<li class=\"tier-2 element-3\" role=\"treeitem\"><a href=\"/community/irc/\" title=\"\">IRC</a></li>\n",
       "<li class=\"tier-2 element-4\" role=\"treeitem\"><a href=\"/community/forums/\" title=\"\">Forums</a></li>\n",
       "<li class=\"tier-2 element-5\" role=\"treeitem\"><a href=\"/psf/annual-report/2021/\" title=\"\">PSF Annual Impact Report</a></li>\n",
       "<li class=\"tier-2 element-6\" role=\"treeitem\"><a href=\"/community/workshops/\" title=\"\">Python Conferences</a></li>\n",
       "<li class=\"tier-2 element-7\" role=\"treeitem\"><a href=\"/community/sigs/\" title=\"\">Special Interest Groups</a></li>\n",
       "<li class=\"tier-2 element-8\" role=\"treeitem\"><a href=\"/community/logos/\" title=\"\">Python Logo</a></li>\n",
       "<li class=\"tier-2 element-9\" role=\"treeitem\"><a href=\"https://wiki.python.org/moin/\" title=\"\">Python Wiki</a></li>\n",
       "<li class=\"tier-2 element-10\" role=\"treeitem\"><a href=\"/community/merchandise/\" title=\"\">Merchandise</a></li>\n",
       "<li class=\"tier-2 element-11\" role=\"treeitem\"><a href=\"/community/awards\" title=\"\">Community Awards</a></li>\n",
       "<li class=\"tier-2 element-12\" role=\"treeitem\"><a href=\"/psf/conduct/\" title=\"\">Code of Conduct</a></li>\n",
       "<li class=\"tier-2 element-13\" role=\"treeitem\"><a href=\"/psf/get-involved/\" title=\"\">Get Involved</a></li>\n",
       "<li class=\"tier-2 element-14\" role=\"treeitem\"><a href=\"/psf/community-stories/\" title=\"\">Shared Stories</a></li>\n",
       "</ul>\n",
       "</li>\n",
       "<li class=\"tier-1 element-5\">\n",
       "<a href=\"/success-stories/\" title=\"success-stories\">Success Stories</a>\n",
       "<ul class=\"subnav menu\">\n",
       "<li class=\"tier-2 element-1\" role=\"treeitem\"><a href=\"/success-stories/category/arts/\" title=\"\">Arts</a></li>\n",
       "<li class=\"tier-2 element-2\" role=\"treeitem\"><a href=\"/success-stories/category/business/\" title=\"\">Business</a></li>\n",
       "<li class=\"tier-2 element-3\" role=\"treeitem\"><a href=\"/success-stories/category/education/\" title=\"\">Education</a></li>\n",
       "<li class=\"tier-2 element-4\" role=\"treeitem\"><a href=\"/success-stories/category/engineering/\" title=\"\">Engineering</a></li>\n",
       "<li class=\"tier-2 element-5\" role=\"treeitem\"><a href=\"/success-stories/category/government/\" title=\"\">Government</a></li>\n",
       "<li class=\"tier-2 element-6\" role=\"treeitem\"><a href=\"/success-stories/category/scientific/\" title=\"\">Scientific</a></li>\n",
       "<li class=\"tier-2 element-7\" role=\"treeitem\"><a href=\"/success-stories/category/software-development/\" title=\"\">Software Development</a></li>\n",
       "</ul>\n",
       "</li>\n",
       "<li class=\"tier-1 element-6\">\n",
       "<a href=\"/blogs/\" title=\"News from around the Python world\">News</a>\n",
       "<ul class=\"subnav menu\">\n",
       "<li class=\"tier-2 element-1\" role=\"treeitem\"><a href=\"/blogs/\" title=\"Python Insider Blog Posts\">Python News</a></li>\n",
       "<li class=\"tier-2 element-2\" role=\"treeitem\"><a href=\"/psf/newsletter/\" title=\"Python Software Foundation Newsletter\">PSF Newsletter</a></li>\n",
       "<li class=\"tier-2 element-3\" role=\"treeitem\"><a href=\"http://planetpython.org/\" title=\"Planet Python\">Community News</a></li>\n",
       "<li class=\"tier-2 element-4\" role=\"treeitem\"><a href=\"http://pyfound.blogspot.com/\" title=\"PSF Blog\">PSF News</a></li>\n",
       "<li class=\"tier-2 element-5\" role=\"treeitem\"><a href=\"http://pycon.blogspot.com/\" title=\"PyCon Blog\">PyCon News</a></li>\n",
       "</ul>\n",
       "</li>\n",
       "<li class=\"tier-1 element-7\">\n",
       "<a href=\"/events/\">Events</a>\n",
       "<ul class=\"subnav menu\">\n",
       "<li class=\"tier-2 element-1\" role=\"treeitem\"><a href=\"/events/python-events/\" title=\"\">Python Events</a></li>\n",
       "<li class=\"tier-2 element-2\" role=\"treeitem\"><a href=\"/events/python-user-group/\" title=\"\">User Group Events</a></li>\n",
       "<li class=\"tier-2 element-3\" role=\"treeitem\"><a href=\"/events/python-events/past/\" title=\"\">Python Events Archive</a></li>\n",
       "<li class=\"tier-2 element-4\" role=\"treeitem\"><a href=\"/events/python-user-group/past/\" title=\"\">User Group Events Archive</a></li>\n",
       "<li class=\"tier-2 element-5\" role=\"treeitem\"><a href=\"https://wiki.python.org/moin/PythonEventsCalendar#Submitting_an_Event\" title=\"\">Submit an Event</a></li>\n",
       "</ul>\n",
       "</li>\n",
       "<li class=\"tier-1 element-8\">\n",
       "<a href=\"/dev/\">Contributing</a>\n",
       "<ul class=\"subnav menu\">\n",
       "<li class=\"tier-2 element-1\" role=\"treeitem\"><a href=\"https://devguide.python.org/\" title=\"\">Developer's Guide</a></li>\n",
       "<li class=\"tier-2 element-2\" role=\"treeitem\"><a href=\"https://bugs.python.org/\" title=\"\">Issue Tracker</a></li>\n",
       "<li class=\"tier-2 element-3\" role=\"treeitem\"><a href=\"https://mail.python.org/mailman/listinfo/python-dev\" title=\"\">python-dev list</a></li>\n",
       "<li class=\"tier-2 element-4\" role=\"treeitem\"><a href=\"/dev/core-mentorship/\" title=\"\">Core Mentorship</a></li>\n",
       "<li class=\"tier-2 element-5\" role=\"treeitem\"><a href=\"/dev/security/\" title=\"\">Report a Security Issue</a></li>\n",
       "</ul>\n",
       "</li>\n",
       "</ul>\n",
       "<a class=\"jump-link\" href=\"#python-network\" id=\"back-to-top-2\"><span aria-hidden=\"true\" class=\"icon-arrow-up\"><span>▲</span></span> Back to Top</a>\n",
       "</div><!-- end .container -->\n",
       "</div> <!-- end .main-footer-links -->\n",
       "<div class=\"site-base\">\n",
       "<div class=\"container\">\n",
       "<ul class=\"footer-links navigation menu do-not-print\" role=\"tree\">\n",
       "<li class=\"tier-1 element-1\"><a href=\"/about/help/\">Help &amp; <span class=\"say-no-more\">General</span> Contact</a></li>\n",
       "<li class=\"tier-1 element-2\"><a href=\"/community/diversity/\">Diversity <span class=\"say-no-more\">Initiatives</span></a></li>\n",
       "<li class=\"tier-1 element-3\"><a href=\"https://github.com/python/pythondotorg/issues\">Submit Website Bug</a></li>\n",
       "<li class=\"tier-1 element-4\">\n",
       "<a href=\"https://status.python.org/\">Status <span class=\"python-status-indicator-default\" id=\"python-status-indicator\"></span></a>\n",
       "</li>\n",
       "</ul>\n",
       "<div class=\"copyright\">\n",
       "<p><small>\n",
       "<span class=\"pre\">Copyright ©2001-2022.</span>\n",
       "                             <span class=\"pre\"><a href=\"/psf-landing/\">Python Software Foundation</a></span>\n",
       "                             <span class=\"pre\"><a href=\"/about/legal/\">Legal Statements</a></span>\n",
       "                             <span class=\"pre\"><a href=\"/privacy/\">Privacy Policy</a></span>\n",
       "                             <span class=\"pre\"><a href=\"/psf/sponsorship/sponsors/#heroku\">Powered by Heroku</a></span>\n",
       "</small></p>\n",
       "</div>\n",
       "</div><!-- end .container -->\n",
       "</div><!-- end .site-base -->\n",
       "</footer>\n",
       "</div><!-- end #touchnav-wrapper -->\n",
       "<script src=\"//ajax.googleapis.com/ajax/libs/jquery/1.8.2/jquery.min.js\"></script>\n",
       "<script>window.jQuery || document.write('<script src=\"/static/js/libs/jquery-1.8.2.min.js\"><\\/script>')</script>\n",
       "<script src=\"//ajax.googleapis.com/ajax/libs/jqueryui/1.12.1/jquery-ui.min.js\"></script>\n",
       "<script>window.jQuery || document.write('<script src=\"/static/js/libs/jquery-ui-1.12.1.min.js\"><\\/script>')</script>\n",
       "<script src=\"/static/js/libs/masonry.pkgd.min.js\"></script>\n",
       "<script src=\"/static/js/libs/html-includes.js\"></script>\n",
       "<script charset=\"utf-8\" src=\"/static/js/main-min.dd72c1659644.js\" type=\"text/javascript\"></script>\n",
       "<!--[if lte IE 7]>\n",
       "    <script type=\"text/javascript\" src=\"/static/js/plugins/IE8-min.8af6e26c7a3b.js\" charset=\"utf-8\"></script>\n",
       "    \n",
       "    \n",
       "    <![endif]-->\n",
       "<!--[if lte IE 8]>\n",
       "    <script type=\"text/javascript\" src=\"/static/js/plugins/getComputedStyle-min.d41d8cd98f00.js\" charset=\"utf-8\"></script>\n",
       "    \n",
       "    \n",
       "    <![endif]-->\n",
       "</body>\n",
       "</html>"
      ]
     },
     "execution_count": 28,
     "metadata": {},
     "output_type": "execute_result"
    }
   ],
   "source": [
    "python_org"
   ]
  },
  {
   "cell_type": "code",
   "execution_count": 29,
   "id": "ef429094",
   "metadata": {},
   "outputs": [
    {
     "data": {
      "text/plain": [
       "[<a aria-hidden=\"true\" class=\"jump-link\" href=\"#python-network\" id=\"close-python-network\">\n",
       " <span aria-hidden=\"true\" class=\"icon-arrow-down\"><span>▼</span></span> Close\n",
       "                 </a>,\n",
       " <a aria-hidden=\"true\" class=\"jump-link\" href=\"#top\" id=\"python-network\">\n",
       " <span aria-hidden=\"true\" class=\"icon-arrow-up\"><span>▲</span></span> The Python Network\n",
       "                 </a>,\n",
       " <a class=\"jump-link\" href=\"#python-network\" id=\"back-to-top-1\"><span aria-hidden=\"true\" class=\"icon-arrow-up\"><span>▲</span></span> Back to Top</a>,\n",
       " <a class=\"jump-link\" href=\"#python-network\" id=\"back-to-top-2\"><span aria-hidden=\"true\" class=\"icon-arrow-up\"><span>▲</span></span> Back to Top</a>]"
      ]
     },
     "execution_count": 29,
     "metadata": {},
     "output_type": "execute_result"
    }
   ],
   "source": [
    "python_org.select('.jump-link')"
   ]
  },
  {
   "cell_type": "code",
   "execution_count": 30,
   "id": "c7d74c84",
   "metadata": {},
   "outputs": [
    {
     "data": {
      "text/plain": [
       "4"
      ]
     },
     "execution_count": 30,
     "metadata": {},
     "output_type": "execute_result"
    }
   ],
   "source": [
    "len(python_org.select('.jump-link'))"
   ]
  },
  {
   "cell_type": "code",
   "execution_count": 31,
   "id": "21f450f1",
   "metadata": {},
   "outputs": [
    {
     "name": "stdout",
     "output_type": "stream",
     "text": [
      "\n",
      "▼ Close\n",
      "                \n",
      "---------------------\n",
      "\n",
      "▲ The Python Network\n",
      "                \n",
      "---------------------\n",
      "▲ Back to Top\n",
      "---------------------\n",
      "▲ Back to Top\n",
      "---------------------\n"
     ]
    }
   ],
   "source": [
    "for link in python_org.select('.jump-link'):\n",
    "    print(link.getText())\n",
    "    print(\"---------------------\")"
   ]
  },
  {
   "cell_type": "code",
   "execution_count": 37,
   "id": "49e494e7",
   "metadata": {},
   "outputs": [
    {
     "data": {
      "text/plain": [
       "[<img alt=\"python™\" class=\"python-logo\" src=\"/static/img/python-logo.png\"/>]"
      ]
     },
     "execution_count": 37,
     "metadata": {},
     "output_type": "execute_result"
    }
   ],
   "source": [
    "python_org.select('img')"
   ]
  },
  {
   "cell_type": "code",
   "execution_count": 38,
   "id": "c37917ef",
   "metadata": {},
   "outputs": [],
   "source": [
    "img = python_org.select('img')[0]"
   ]
  },
  {
   "cell_type": "code",
   "execution_count": 39,
   "id": "f1d0a64f",
   "metadata": {},
   "outputs": [
    {
     "data": {
      "text/plain": [
       "'python™'"
      ]
     },
     "execution_count": 39,
     "metadata": {},
     "output_type": "execute_result"
    }
   ],
   "source": [
    "img['alt']"
   ]
  },
  {
   "cell_type": "code",
   "execution_count": 40,
   "id": "eb282db3",
   "metadata": {},
   "outputs": [
    {
     "data": {
      "text/plain": [
       "['python-logo']"
      ]
     },
     "execution_count": 40,
     "metadata": {},
     "output_type": "execute_result"
    }
   ],
   "source": [
    "img['class']"
   ]
  },
  {
   "cell_type": "code",
   "execution_count": 41,
   "id": "def13b90",
   "metadata": {},
   "outputs": [
    {
     "data": {
      "text/plain": [
       "'/static/img/python-logo.png'"
      ]
     },
     "execution_count": 41,
     "metadata": {},
     "output_type": "execute_result"
    }
   ],
   "source": [
    "img['src']"
   ]
  },
  {
   "cell_type": "markdown",
   "id": "8faf5bd9",
   "metadata": {},
   "source": [
    "## دانلود تصویر"
   ]
  },
  {
   "cell_type": "code",
   "execution_count": 42,
   "id": "f0f0649e",
   "metadata": {},
   "outputs": [],
   "source": [
    "image_link = requests.get('https://www.python.org/static/img/python-logo.png')"
   ]
  },
  {
   "cell_type": "code",
   "execution_count": 43,
   "id": "f48720e4",
   "metadata": {},
   "outputs": [
    {
     "data": {
      "text/plain": [
       "b'\\x89PNG\\r\\n\\x1a\\n\\x00\\x00\\x00\\rIHDR\\x00\\x00\\x01\"\\x00\\x00\\x00R\\x08\\x06\\x00\\x00\\x00\\xf0\\xeb\\xd9\\xc3\\x00\\x00\\x00\\tpHYs\\x00\\x00\\x0b\\x13\\x00\\x00\\x0b\\x13\\x01\\x00\\x9a\\x9c\\x18\\x00\\x00 \\x00IDATx\\x9c\\xed\\x9dw|\\x14e\\xfe\\xc7?\\xcf\\xcc\\xf6M\\xa7(\\x82@\\xe0\\x10\\x944\\x92\\xa04\\x95\\x88\\x05E \\x12\\x08\\x02\\x89(\\x1eV\\x10<\\x8f;\\xf4\\xe4g9\\xcf\\x82\\x87\\x8a\\xa8\\xa7x\\x16H \\x10\\xca!x (\\x87\\x82D !\\x8d\\x00*\\xc7\\x85\"\\x08\\x04R\\xb7\\xcd\\xee\\xcc<\\xbf?6\\xb3L6[\\xc3.\\x01\\x9cw^\\xfb\\xda\\x99\\xc9\\xd3g\\xf7\\xb3\\xdf\\xe7\\xfb\\x94!\\x94R((((\\xb4\\'L{\\x17@AAAA\\x11\"\\x05\\x05\\x85vG\\x11\"\\x05\\x05\\x85vG\\x11\"\\x05\\x05\\x85vG\\x11\"\\x05\\x05\\x85vG\\x11\"\\x05\\x05\\x85vG\\x11\"\\x05\\x05\\x85vG\\x11\"\\x85\\xf6\\xe0w;w\\xee\\x8cl\\xefB(\\\\:(B\\xa4\\x10v\\x08!\\xaa\\xcc\\xcc\\xcc\\xc4u\\xeb\\xd6\\xcd:r\\xe4\\xc8\\x7f(\\xa5\\xc53f\\xcc\\xe8\\xd7\\xde\\xe5R\\xb8tP]\\xcc\\xccH\\xe7\\x84\\x88\\xd8H&\\xfe\\x9a\\xb4\\x91]\\x8d\\x1d\\xbb\\xf5\\xa4v\\xae+%\\xb4#\\xa14\\x8aRh)\\xc0R*\\xdaA\\xa9\\x05\\x94\\xd6\\x8b g\\x18\\x86=~|\\xef\\xa6\\xa3\\\\\\xed\\xd9_\\x1b\\x8eW\\xfd\\xf7b\\x96W!4l\\xdd\\xbau\\xf4m\\xb7\\xddV \\x8a\\xa2\\xd6j\\xb5B\\x14E\\xe8t:\\xa1\\xbd\\xcb\\xa5p\\xe9\\x10v!\"\\xa4\\xab!\\xe9\\xfe\\xa9\\xf7\\xc4\\\\\\xdbo\\xfc\\x98y\\x9f$\\x8b\"\\x1f\\x0f\\n-\\xa5\\x14\\x94\\x8a\\xa0\\x94\\x02\\x94\\x82\\x8a\\x14\\xcek\\x14\\x14\"\\xa8\\xd8|\\x9dR\\xc4\\xc4\\'\\x81\\x02\\xf5\\xc3\\xfe\\\\p\\xd0|\\xbazY\\xf9\\xbf\\x97.\\xa55?6\\x85\\xbb\\xec\\n\\xa1\\xc1j\\xb5\\xc6\\t\\x82\\xa05\\x9b\\xcd\\xd2%\\xb1=\\xcb\\xa3p\\xe9\\x11V!J\\x99<w\\xd8\\xa87\\xf3\\x17\\xaa\\xf5\\x11\\xa9\\x82\\xc3\\x0e\\x87\\xd5\\x04@&:p\\xbeC\\x14]\\xc7\\xb4Y\\x94\\x80\\xf3\\xc7\\x14\\x14\\xa0b\\x0c\\xab\\xd6\\x0c\\x8e\\x89O\\x1e<d\\xdaK\\xbf\\xefs\\xf7cO\\x1c\\xda\\xf4\\xe1\\x0f\\xe1,\\xbfBh\\x10EQ\\x90\\xee-\\x00(\\xeb\\x1b\\x15\\xdc\\t\\x9b\\x8f(e\\xfc\\xb3\\x03~\\x971\\xe5K\\xc2\\xb0\\xa9vK\\x13,\\x16\\x0b\\xacv\\x1e\\x16\\x8e\\x07/\\x8a\\x00\\x9c\\x16\\x0f\\\\\\x82\\x04\\x97u\\x04\\xb9(A\\xb2\\x8c\\x00Q\\x14\\xe0\\xb0\\x9a@\\x18\\x92\\xd2u\\xd0\\xe8M\\xd7e\\xfd\\xf1\\x96p\\x95_!\\xb4\\xb8\\xee\\xa7L\\x90\\x14\\x14$\\xc2b\\x11\\x11B\\xc8\\xa8\\xbf\\xff\\xe7E\\xceT\\x17-\\x8a\\x02\\x1c\\xbc\\x80\\x94\\x1e\\xb1H\\x8b\\xef\\x80\\x9aF+\\xbe\\xd9w\\x12f\\x9b\\x1d,C\\x9a?\\x98\\x00\\xa5\\xa2\\xab+\\xe6\\xfa\\xb0R\\xda\\xe2\\x9aK\\xa4D\\x11vSC\\xf4U\\xfdo\\xf94\\xaao\\xfa\\xa0\\xc6\\x9fJ\\xce\\x86\\xa3\\x1e\\n\\n\\x97\"\\t\\t\\t\\x11\\x9d:u\\xd2\\xd5\\xd6\\xd6Z\\x8dF\\xa3\\xd6h4\\nuuu\\x96\\xbd{\\xf7\\x8a\\x94R\\x97\\xef-;;[SXXho\\xcf\\xb2\\x06JX\\x84\\xa8C\\xb7\\xe4k\\xd4\\xba\\x88\\xc1vK\\x138\\x87\\x80[\\xaf\\xbf\\n\\xcf\\x8eM\\x80\\x8aq\\x1a`\\xe9\\xbd:\\xe2\\xa5\\xd5{\\xc1\\x0b\"\\x08\\xd0Jp\\xa8\\xd7s\\xc8~Q)D\\x87\\xbdw\\xb7\\x94;\\xa7\\x01\\x98\\x1f\\x8ez(x\\x86\\x10\\xc2<\\xf4\\xd0C7\\x97\\x97\\x97\\x1f*--=\\x19H\\x1c\\xa5k\\x16:\\xa6M\\x9b6\\xfe\\xae\\xbb\\xeeJ\\xeb\\xd7\\xaf_\\xff\\x8a\\x8a\\x8a#\\r\\r\\r\\x07\\x93\\x92\\x92,j\\xb5\\xfa.B\\xc8}\\x94Ra\\xe3\\xc6\\x8d\\x0f\\x16\\x16\\x16\\xde\\r`b{\\x977\\x10\\xc2\\xd25\\xe35B\\x17A\\x14:R\\x00\\x0c\\x01\\xb2n\\xec\\xee\\x12!\\x00\\x18r]g\\xdc\\xd05\\x06\\x9c\\x83w\\x13\\x1cx\\xb6\\x82\\xbc\\x88\\x94\\xc8s0^\\xd5k,!D\\x99\\x86\\x10f\\x08!\\xcc\\xe4\\xc9\\x93\\xfb\\x7f\\xf5\\xd5WsO\\x9e<\\xb9\\xeb\\xd3O?\\xfd6**\\xaa\\x7f{\\x97\\xeb\\xb7\\xc8\\x1f\\xfe\\xf0\\x87\\xcf\\xfb\\xf7\\xef?\\x93eY\\xcb\\xf4\\xe9\\xd3\\xdf\\xcc\\xc8\\xc8xs\\xfb\\xf6\\xed\\x11QQQ#\\xb2\\xb2\\xb2\\xfa\\x00@JJ\\xca$\\x8b\\xc5rM{\\x975P\\xc2b\\x111\\x84jA)\\xa1\\xd4\\xe9\\x84f\\x99\\xd6:\\xc1\\x12\\xd2\\xc2\\xc2\\x91D\\xc8\\x9fU\\xd4\\xe2\\x9a(Be\\x88\\xee\\x8c\\xb8\\xdfE\\x00h\\x0cG]\\x14\\x9cl\\xd9\\xb2e\\xf0\\x1dw\\xdc\\xf15\\xc7qz\\x9b\\xcd\\x06\\x8e\\xe3\\xc0q\\x9c#\\xd0\\xf8\\x8aE\\x14\\x16\\x1cj\\xb5\\x9a\\x00\\x80J\\xa5\\xe2\\x00|\\x9b\\x95\\x95u\\xd3]w\\xdde\\xde\\xbcy\\xb3\\xad\\xa1\\xa1\\xe1\\x97v._\\xc0\\x84\\xcf\\x92\\xa0\\x14\\xa0\\x00\\xcf\\x8b\\xf8w\\xe9\\xf1\\x16\\xff\\xaa:^\\x87\\x03\\xbf\\xd4A\\xc3\\x127\\x81\\x11=\\x0bN\\x8bs\\xb4\\x08#\\n\\x02\\x81`g\\xc3V\\x0f\\x05\\x00\\x80\\xd5j\\x8d\\xb1\\xd9lz\\x93\\xc9\\x04\\x9e\\xe7\\x83\\x12\\x13A\\x10\\x14gu\\x98\\x11\\x04A\\xc3\\xf3\\xfcw7\\xdexc\\x9f\\x0f?\\xfcpLyy\\xf9N\\x00\\x97\\xcd\\\\\\xad\\xf0\\x08\\x91\\xe3\\xbcXhU\\x0c6\\x96\\x1d\\xc3\\xcbk\\xca\\xf0u\\xe5\\t,\\xfd\\xeeg\\xbcPX\\x0c3\\xe7pf.\\x1b\\xc6w\\xfdbJ\\xe7p\\xfa\\x82\\\\\"\\x04\\xd9(\\x1ad\\xffW\\x08;\\x82 \\\\6\\x1f\\xea\\xdf\\x10:\\x96e\\x19\\x00\\x88\\x8d\\x8d\\x8d(--\\xfd\\xf9\\xe4\\xc9\\x93\\x86\\xf8\\xf8\\xf8\\t\\xf9\\xf9\\xf9\\xdb\\xf4z}L{\\x170P\\xc26\\x8fH.\\x1c\\x0c\\x01\\xbe\\xd9w\\x02[*\\x8e\\x83R\\n5C\\xa0bda\\\\\\xa2#\\xeb\\xaay\\x11\\xa0V\\xc2\\xa5\\xfc\\xba^4.\\xa4{\\xa5t\\xcdB\\xcf\\xb6m\\xdb\\xb67666\\x00@qqq\\x95\\xd9l>\\xc2\\xf3\\xbcm\\xdf\\xbe}\\xa7\\xb6n\\xddz\\xa8\\xb4\\xb4t\\xd7\\xa0A\\x83\\xda\\xbb\\x98\\x01\\x11\\x1e!R\\xa9\\x08\\xdc\\x84B\\xabb@)\\t|\\x98\\xde\\xa7\\xbf\\x08\\xb2k\\xca$\\xdd\\x8b\\x85\"D\\x97\\x16\\x19\\x19\\x19\\xaf\\xed\\xdb\\xb7\\x0f\\x00\\xf0\\xc7?\\xfe\\xb1P\\xf6\\xaf\\xaf\\x9ex\\xe2\\t\\x00x\\xab=\\xca\\xd5\\x16\\xc23\\x8fH\\xa4<\\xd1\\xe8,\\x8c(PIx@)\\x88\\'\\x81i\\x9e9-RQ\\xa4v\\xbb\\x1e\\xa2\\xa0r\\xfa\\xad}\\x8b\\x92t\\x8d\\x88\\x8a\\x10)(\\\\\\xee\\x84E\\x88\\xceUW\\xec\\xd2_\\xd3\\xeb\\x06B\\x18\\xa7J\\xd8\\x00\\xe8\\x9a\\xdf[`\\x95\\x1d\\x13z\\xdd\\x98\\x19\\x1fDu\\xed;Ztp\\x1eG\\xcd<YFNQ\\x12I8\\xea\\x11J\\x06\\x0c\\x18\\x10\\xc3\\xb2\\xac\\x1e\\x80C\\xa3\\xd1\\x98\\x8b\\x8a\\x8a\\xac~#\\x05@\\x9f>}\\xb4\\x87\\x0e\\x1d\\xe2B\\x91\\x96/x\\x9e\\xb7\\x02-\\xad\\x19\\x8b\\xc5\\x12P\\x1dDQ\\xbc\\xe4,\\xa2\\x84\\x84\\x84\\x08\\x83\\xc1\\x10\\xc1\\xf3<c4\\x1a\\xad;v\\xec\\xa8\\xbb\\x98y\\xeat:[QQQm\\xb8\\xf3\\xbc\\\\h\\xb3\\x10Eu\\xed\\xdb\\x91Q\\xeb\\xba3,1\\x80\\xe7[|\\xb2x\"\\x88\\x0c\\x18\\xbb\\xcb\\x8f\\xac\\x85\\xd3\\xa7\\xacuOE\\xdf\\xfc\\xee\\x00\\x1c\\x00D\\xaam\\xb1\\xf4\\xc3gw\\r\\x00\\x15\\x9d\\xe9\\xaat|\\x9f>\\x91\\x9d\\xbat\\x89\\xb9\\x01\\x0e\\x91\\x97Rg)\\x08O\\x18\\x87J\\xe0\\x8en\\xdbs\\xe6T[\\xeb\\x1a,7\\xddtS\\x87\\x9c\\x9c\\x9c\\xb4\\xf8\\xf8\\xf8!\\x91\\x91\\x91\\xa97\\xdexc\\x97\\x1d;v\\xc4\\x10B\\xf4\\x00\\x1c,\\xcbZ\\x8e\\x1f?^SQQ\\xb1}\\xf9\\xf2\\xe5\\xab\\x97/_^\\x19L\\xfa\\x83\\x06\\r\\xbaj\\xd2\\xa4I\\xb7ddd\\xe4|\\xf0\\xc1\\x07;\\x11\\xe4\\x84NB\\x08\\xf9\\xf2\\xcb/\\xeft8\\x1cq\\x94R\\xaa\\xd5jIqq\\xf1\\xaf/\\xbc\\xf0\\xc2\\xb7\\xf2p\\xf3\\xe6\\xcd\\x8b\\x1f<x\\xf0 \\xab\\xd5jONNN\\xb7X,\\xae\\xffY,\\x16\\xbc\\xf5\\xd6[\\xa3\\xd6\\xacY\\xd3\\x8da\\x185\\x00h\\xb5ZRTTT\\xf4\\xca+\\xaf\\x1c\\r\\xa6<\\x12C\\x87\\x0e\\xed\\xdc\\xb5k\\xd7\\xeb\\xa6N\\x9d\\xda\\x9b\\xe3\\xb8\\xae\\x84\\x10\\x03\\xa5\\xd4\\xa2V\\xab\\x7f\\xca\\xcb\\xcb+-,,\\xacnK\\xba\\x12\\xf7\\xdf\\x7f\\x7fjNN\\xce\\x98\\xa4\\xa4\\xa4[JJJ\\xba\\x08\\x82\\x10\\x01\\x80aY\\xd6z\\xfc\\xf8\\xf1\\xb3\\x15\\x15\\x15\\xa5G\\x8e\\x1c\\xd9\\xb0p\\xe1\\xc2\\xff\\x84B\\xdc\\'O\\x9e\\x9c4i\\xd2\\xa4T\\x9e\\xe7\\x87\\xa6\\xa5\\xa5\\xf5+))\\xe9(\\xe5I)\\xb5Y\\xad\\xd6\\xda\\xb2\\xb2\\xb2\\x83\\xc5\\xc5\\xc5\\x1bV\\xadZ\\xf5\\xd5\\xf7\\xdf\\x7f\\xff\\x9b]\\xc8M\\x82\\xfduJ\\x9a8\\xf7\\x96\\xb8\\x9e\\xfd\\x1f\\x8f\\xe9\\xdew0\\xe5\\x85kEP\\xe6\\xbc@xYM/\\xbf\\xee\\xf1\\xdc\\xf9\\x12\\x1c\\x1c\\xa8\\xc0\\xbb|@\\xde\\xc2\\xc9\\xd3aX\\xcd\\xe1\\xbd\\x8b\\x1e\\xea\\xb7c\\xdd}\\x93\\x87\\x8dI\\\\\\x02\\xb3\\x87\\x19\\xed\\x0c\\xf9e\\xdf\\xbeS\\x1b\\x9f\\x99\\xf7\\xcdK[\\xb6\\x1c\\x0bh&p[\\xc8\\xce\\xceN\\x99={\\xf6\\xf4\\x01\\x03\\x06\\xdc-\\x08B<\\xe0\\x1c\\xba\\xb6\\xd9Z\\x99\\x82`Y\\x16:\\x9d\\x0e,\\xcbZ+**>\\x9b3g\\xce\\xf3\\xfe~\\x95\\xaf\\xbe\\xfaj\\xe3\\xbau\\xeb\\xe6\\'%%\\x8d\\x11E\\xb1\\x9bN\\xa7\\xc3\\xfa\\xf5\\xeb\\x17\\x8c\\x1b7\\xee\\x8f\\xc1\\x94\\x93\\x10\\xc2\\x88\\xa2x\\xc0l6\\xf7\\x05\\x00\\xa3\\xd1\\x88M\\x9b6m\\xbf\\xe7\\x9e{n\\x95\\x87\\xdb\\xb4i\\xd3\\xf4\\x91#G.6\\x9b\\xcd\\xb0\\xd9lp\\x1f8k.\\xbf\\xeb\\xdch4b\\xe3\\xc6\\x8d\\xb9\\xa3F\\x8d\\xca\\x97\\x87[\\xbbv\\xed\\x83w\\xdey\\xe7g\\xd2\\xea\\xfb\\x88\\x88\\x08q\\xe8\\xd0\\xa1\\xe9\\xe5\\xe5\\xe5e\\x84\\x10\\xf5\\xbb\\xef\\xbe;2555\\'55u\\x90 \\x08\\xdd=\\x95\\x99a\\x98s\\x95\\x95\\x95+\\x9fy\\xe6\\x99\\x97v\\xee\\xdcy&\\x98\\xfaN\\x9e<\\xb9\\xff\\x82\\x05\\x0b^\\x8c\\x89\\x89\\x19+\\x08\\x82\\xdaS]d\\xf7\\x03\\xf5\\xf5\\xf5\\xa5\\xabW\\xaf~m\\xe6\\xcc\\x99\\xab\\x83\\xc9\\x07\\x00\\xb2\\xb3\\xb3\\xe3rss\\xefONN\\xce\\xe9\\xd4\\xa9S\\x9a \\x08\\x1a\\x00\\x1e\\xdb\\x0f8\\xdf\\x86:\\x9d\\xee`aa\\xe1\\xcb\\x93\\'O^\\x11l\\x9eW\\x02\\x01[D\\xa4O\\x1fm\\xc6\\x84\\x17\\xe7\\xff\\xee\\xd6\\xac\\'y\\xde\\xc1:,&\\xcf\\xdd%4\\xaf\\xa6\\x97\\x8fxI[z\\xb8V\\xde\\x8bn\\xe7\\xd2\\x1a\\xb2\\xf3\\x8e\\xe8V\\xa3d\\x90\\xe5\\xd5bQ\\xac\\xb3x\\x9cM\\x10`\\xb6\\x03f\\x0fs\\xec(\\xed\\x96xC\\xa7G6\\xe4\\x8f\\xbb\\xf5\\xee\\xdb\\xba\\x8e\\xdd\\xf4\\x9f\\x13?\\x85\\xa8\\xfd\\x00\\x00YYY]\\x9e~\\xfa\\xe9\\x17?\\xff\\xfc\\xf3\\x07\\xecv\\xbb\\xae\\xa1\\xa1\\x01\\xc0\\xf9\\x0f\\x99\\xc1`\\xe0\\x01\\xd4\\xc3i\\xbf\\xc5\\t\\x82\\xc0\\xdal6\\x98L&\\x00\\xd0\\'$$<\\xb1v\\xed\\xda\\x9bF\\x8c\\x18\\x91\\xb5u\\xebV\\xaf\\xd6D\\xaf^\\xbdb\\xd2\\xd3\\xd3\\xa7\\x9c={6\\xdaY-\\n\\x00\\xbc\\xb7\\xf0\\xbehjj\\xb2H\\x16\\x0e\\xa5\\x14V\\xab\\xb5U7K\\xfa\\xe2x\\x9b\\xff\\x13\\xcc\\x9c yX\\x9e\\xe7\\xc5\\x94\\x94\\x14\\xfb\\xfc\\xf9\\xf3\\xef8y\\xf2\\xe4_\\xa3\\xa3\\xa3o\\xb2\\xdb\\xed\\xa8\\xaf\\xaf\\x87J\\xa5\\x82N\\xa7\\x03\\xd0\\xea\\xcb\\xdb!!!\\xe1\\x89u\\xeb\\xd6\\xdd\\xf6\\x97\\xbf\\xfce\\xc2\\xdf\\xfe\\xf6\\xb7\\xaa@\\xf2\\xcd\\xcf\\xcf\\x7f`\\xe9\\xd2\\xa5\\x0b\\xeb\\xea\\xeab\\xe4\\xf7E\\xab\\xd5\\x02\\xce\\xedH\\x04\\x00jA\\x10\\xa4\\xfb\\x01\\x95J\\x95\\xfa\\xf0\\xc3\\x0f\\xaf:s\\xe6\\xcc?\\x86\\x0e\\x1d\\xfat \\xd6\\x11!D\\x93\\x97\\x97\\xf7\\xf0\\xb2e\\xcb\\x9e\\xb1\\xd9l\\xbdm6\\x1b\\x9a\\x9a\\x9a\\xa0\\xd7;\\xad~\\xadV{\\x9aR\\xca\\x11B\\x0c\\x00:J?PR\\xb3\\x9bL\\xa6\\xeb\\xb3\\xb2\\xb2\\n\\x96-[v\\xdd\\x94)S^\\x0e\\xa8Q\\xaf \\x02\\x12\"B\\x88j\\xf4\\xdb\\xdb?c\\xd5\\xdaIvI\\x80\\xe4s|d\\x7f\\xae-=\\xe4C\\xee\\xd2\\x99\\xb4\\xa5\\x87tE\\x96\\x0euO\\xc7\\x83\\x00Av\\xee\\x92 \\x7fP\\x11\\x80\\x08\\x98xh\\xd5\\xa4\\xef\\xbf\\x96g.\\xc9\\xc8\\x88\\x1f\\xbem[uk3\\xa5\\r\\xe4\\xe7\\xe7\\x0f/((\\xf8\\xdcb\\xb1\\xf4hhh\\x90\\x84\\x07*\\x95\\xea\\xbfeee_\\x17\\x17\\x17o)((\\xa8f\\x18\\xa6\\x81a\\x18\\xda\\xa5K\\x97\\xb8\\xd9\\xb3gg\\xa4\\xa6\\xa6>e2\\x99z\\x08\\x82\\x80\\xa6\\xa6&h\\xb5\\xda\\xb4\\xe5\\xcb\\x97\\xafHOO\\x1fQRRb\\xf1\\x94\\x97\\xcdf\\xa3V\\xab\\xd5\\x0c :\\x14e\\xf7GYYY)!\\xe4\\xef\\x1c\\xc7\\xd9\\xfb\\xf7\\xef\\xff\\xbb\\xd8\\xd8\\xd8l\\xb1yp\\x80a\\x18\\x94\\x94\\x94\\x14466V\\x03`\\x01@\\xab\\xd5\\xb2\\xbbw\\xef\\xde7j\\xd4(\\x9f\\xe9\\x9a\\xcdf\\xf1\\x9dw\\xdeY\\xc4\\xb2\\xec\\xadV\\xab\\x951\\x99L\\xd0\\xe9t\\x88\\x8a\\x8a:s\\xf6\\xec\\xd9\\xaa\\xed\\xdb\\xb7W\\x03\\xd0\\xa6\\xa7\\xa7\\'\\xc6\\xc5\\xc5%\\x9bL&\\x10B\\xa4v\\xea\\xf7\\xd4SO\\x15\\x0e\\x1d:t\\xb8?\\xcb(//\\xef\\xb1\\xec\\xec\\xec\\x0fjjj\\x08\\xe0\\xb4z\"\"\"\\xcc\\xbbv\\xed\\xfa\\x97\\xc9dZ\\xbf|\\xf9\\xf2\\xc3\\xd5\\xd5\\xd5\\xc2\\xc4\\x89\\x13\\xbb\\xdet\\xd3M\\xf7\\xa6\\xa4\\xa4d\\x9b\\xcd\\xe6\\x0e<\\xcf\\xa3\\xa1\\xa1\\x01Z\\xad\\xf6\\xf1\\xef\\xbf\\xff\\xfe\\xea>}\\xfaL\\xf2%F\\x0b\\x17.\\x1cx\\xf2\\xe4\\xc9\\xbfGDD\\xdcr\\xf6\\xecY)\\x1f\\xd4\\xd4\\xd4|\\xb7{\\xf7\\xee\\xc2%K\\x96\\xec9v\\xec\\xd8i\\x9e\\xe7mZ\\xad\\xd6\\x98\\x9d\\x9d}\\xed\\xc0\\x81\\x03\\xc7\\xa7\\xa6\\xa6N3\\x99L\\x11\\x82 \\x80\\x10\\x82\\xda\\xdaZ\\x8c\\x1f?\\xfe\\xa5\\xfc\\xfc\\xfc#999K\\x83\\xbb[\\x977\\x01\\t\\xd1\\xf0\\xb9\\xcb\\x9ea\\xd4\\xdaI\\x0e\\xab\\xb9\\xa5PP7\\xa1p\\x9d\\xcb\\x87\\xd7\\xdd\\xac%\\x9f~\\x1f\\xf7k\\x9e\\xd3\\x81K\\x98|A\\x9b}H\\x14\\x80\\xe8<\\xe6(tQ\\xea\\x9b\\xfe\\xfaT\\xf2\\xc3\\x00\\xde\\xbf\\xd0\\xc6{\\xe7\\x9dw\\xae\\x7f\\xf2\\xc9\\'\\xbf8{\\xf6l\\x14\\xe0\\xfc\\xa0\\xdb\\xed\\xf6\\x1f\\x0b\\n\\n^\\xcb\\xcb\\xcb\\xfb\\xa2\\xa4\\xa4\\xa4a\\xe8\\xd0\\xa1\\x98={\\xb6<\\xdaQ\\x00e\\xd9\\xd9\\xd9\\xcb\\x17,X\\xb0B\\xab\\xd5\\xde*\\x08\\x028\\x8eCDD\\xc4\\xa0\\x85\\x0b\\x17\\xbe\\x04`\\x8e\\xd7Z\\x85\\xc8\\xe9\\x1bH:\\xf3\\xe6\\xcd\\xdb\\x0b`/\\x00\\xacZ\\xb5\\xea\\xd6\\x91#GfKV\\x83^\\xaf\\xc73\\xcf<\\xb3\\xb0\\xa2\\xa2b\\xb7<\\x8e7\\x11\\x92\\xe7G\\x08\\xd1X\\xad\\xd6\\x0c\\xc0\\xd9\\x9d\\xab\\xab\\xab+\\xdd\\xbd{\\xf7Gyyy_\\x15\\x16\\x16\\x1e\\xeb\\xd1\\xa3\\x87+\\\\~~~NVV\\xd6\\xbbuuuF\\x00R;]?\\x7f\\xfe\\xfc\\xff\\x030\\xc3[\\xfd\\xf2\\xf2\\xf2\\xee\\x990a\\xc2{\\xb5\\xb5\\xb5\\x04\\x004\\x1a\\rl6[\\xf1\\xe2\\xc5\\x8b\\x1f\\x9b={v)\\x00\\x8c\\x193F\\n^\\x01`\\xe3\\x94)S\\xde\\x9e?\\x7f\\xfe?t:\\xdd\\x08\\xbb\\xdd\\x0e\\x8e\\xe3\\xa0\\xd1h\\xee\\xdb\\xb1c\\xc7;\\x00\\x1e\\xf7\\x94\\xcf\\xa2E\\x8b\\xee\\x9c1c\\xc6\\xdas\\xe7\\xce\\x19M&\\x13X\\x96\\x05\\xc7q{\\n\\n\\n\\xfeo\\xd6\\xacY\\x9b{\\xf4\\xe8\\x81\\xd1\\xa3G\\xcb\\xa3\\xd4\\x008\\x02`\\xc7\\xa2E\\x8b\\n233\\x97k\\xb5\\xdax\\xc9\\xf2\\xab\\xad\\xadEvv\\xf6\\x8bIII\\x1b*++\\xc3\\xee@\\xbfT\\xf0;\\xb3:\\xae\\xf7\\xcd\\xddc\\xbb\\xf5\\xf9\\x13o5;m\\x10\\x9f>\\x1b\\xc9\\x89\\xec\\xdf\\xd9\\x0c\\x99\\xd0xN\\xc7\\xf7|\"\\x9fP\\x11\\xa0B\\xb35\\xd4\\xfc.\\x1d\\x9bl\\xe8\\x9f\\x187\\xbdO\\x1f\\xd2\\xcau\\x1e,\\xbdz\\xf5\\xeaf\\xb5Z\\xa3\\xa4s\\x9dNG\\x9fz\\xea\\xa9i\\xb3f\\xcdZZRR\\xd2\\xe0+naa\\xe1\\xa9\\xd9\\xb3g\\xe7\\x18\\x8d\\xc6\\xe3R}\\x9a\\x9a\\x9a\\x90\\x92\\x92\\xf2\\xd4\\xf8\\xf1\\xe3\\x93.\\xb4la@/owJ)\\x0c\\x06\\x83\\xdeGx\\xafPJ\\xc10\\x0c\\xe2\\xe2\\xe2\\x8e\\xad_\\xbf~\\xfa\\xed\\xb7\\xdf>d\\xf4\\xe8\\xd1\\x8b\\x0b\\x0b\\x0b\\x8f\\xb9\\x85\\xb3O\\x992\\xe5\\xd3U\\xabV=b4\\x1a\\x05y;%\\'\\'\\xe7dee\\xf5\\xf0\\x94~vv\\xf6\\xd5\\x13\\'N\\xfc\\xa0\\xb6\\xb6\\x96\\x05 \\x89C\\xe5\\xa4I\\x93FI\"\\xe4\\x89e\\xcb\\x96\\x1d\\x9a6m\\xdaX\\x8e\\xe3vJ\\xbe/\\x8e\\xe3`0\\x18\\x1e\\xcb\\xcf\\xcf\\xcf\\xf6\\x14\\xa7g\\xcf\\x9e}\\xcdf\\xb3Q\\x12\\x12\\x9dNGg\\xcf\\x9e\\xfd\\xf8\\xacY\\xb36\\xfbk\\x87\\x993g\\xeeZ\\xbbv\\xed$\\xa3\\xd1h\\x91\\xb7\\xad\\xcdf\\x8b\\x7f\\xe8\\xa1\\x87n\\xf2\\x17\\xffJ\\xc2\\xaf\\x10u\\x1bv\\xf7$\\x91\\x8aq\\x92\\x08\\xc9\\xc5\\xc3\\xbf(\\xb5\\xbev>\\x0e\\x10\\xd8\\xda\\xb2\\xd6y\\xb5\\x80P\\xe7\\xd0\\xbd\\x08\\xe2\\xb2\\x82$\\x0b\\xc8\\xf5\\x12\\xe0\\x12$\\x9eGlGM\\xe2\\xbcG\\x87\\xa4^h\\xe3q\\x1c\\'\\xb8\\xd5\\x95\\x1e9r\\xc4c\\xb7\\xca\\x13k\\xd6\\xac\\xf9\\xa5\\xa4\\xa4\\xe4\\xef:\\x9d\\xceU/\\x8e\\xe343g\\xce|\\xda[\\x1c\\xf9P8\\xa5\\x14b\\x1b\\xe7Q\\xb5\\xbaGa\\x8a\\x03\\xb4^k\\xd6,\\x0cK\\x1fz\\xe8\\xa1\\x1bsrr\\xfe\\xe9\\xcf\\x07\\x93\\x9b\\x9b\\xbb\\xbc\\xa9\\xa9\\xe9+\\x96e]\\xf9\\n\\x82\\x10\\x9d\\x9b\\x9b\\x9b\\xe1)\\xfc\\xcc\\x993\\xffd2\\x99zHe6\\x1a\\x8d\\x8e\\x95+W\\xce\\xd8\\xbe}{\\x8d\\xbf\\xb2n\\xde\\xbc\\xd9<c\\xc6\\x8c\\xe9\\x06\\x83\\xa1I\\xca\\xcbd2a\\xc2\\x84\\t\\xaf\\xdcs\\xcf=Q\\xee\\xe1\\xedv\\xbb\\xc3\\xfd3p\\xf8\\xf0\\xe1\\x80\\x1bg\\xd6\\xacY\\xbb\\xf7\\xee\\xdd\\xbbB\\xfa\\x0cH\\xaf\\xf8\\xf8\\xf8>\\x81\\xa6q%\\xe0S\\x88\\x08!$\\xb6\\xc7\\xf5\\xa3\\x04\\xbb-(\\xa1p\\n\\x0c\\xbcXA\\xc1\\xa4s\\xde\\xc2\\xf2\\xf6\\xe1\\'\\x84u\\x00\\xe0\\x05Q\\x88:o\\t\\tha\\x15\\xb9\\xbf\\x04\\x9e\\x89\\xefn\\xbc=\\x14\\r\\xe8^\\x1f\\xadV\\x1b\\xd4\\x02\\xdc\\xf7\\xdf\\x7f\\xbfP\\xadV\\xd7H\\xf1\\xadV+RSSG\\xa7\\xa6\\xa6z\\xdc\\xc2\\xa1\\xadb\\xe0/\\xad@\\x04\\xedB\\xf2\\x96\\xc7k\\xb6\\x1a^_\\xbe|\\xf9\\xe9@\\xe3\\xafX\\xb1\\xe2S\\xf7/\\xab\\xc3\\xe1Hq\\x0f7i\\xd2\\xa4kSRR\\x1e\\xb4Z\\xad.\\xcb\\xeb\\xf4\\xe9\\xd3\\x9b\\x9f~\\xfa\\xe9\\x1d\\x81\\xe6\\xb5v\\xed\\xda\\x83\\xa5\\xa5\\xa5K\\xe4\\xf9\\xd9l\\xb6>\\x0f?\\xfcp\\xab\\xbd}<-\\xe8\\xd5\\xeb\\xf5A\\xcdk\\xdb\\xb3g\\xcfZId\\xa5\\x97\\xddn\\xbf\\xa8\\x0f\\xb6ho|\\n\\xd1\\xb8\\x9cG\\xaeV\\x19\\xa2\\xaf\\x13\\x05>H+\\x08A\\xf8\\x82\\xe05\\x9dVB\\xe6\\x06!\\x0c8S\\xe31J)\\xed\\xd8\\xc9\\xd8\\x1f\\xbc\\\\x\\x048-#7a\\x82\\x00X\\x1dHH\\x8e\\x1b\\x16\\x9e&\\r\\x8e\\xc2\\xc2\\xc2S555{\\x18\\xd9V)\\x82 t\\xc8\\xcd\\xcd\\xbdb\\xb7\\xc1\\xa5\\x94\\xd2c\\xc7\\x8e\\x05\\xd5\\xad[\\xb2dI\\xb9(\\x8a-\\xb6z\\xa1\\x94vt\\x0f\\x97\\x95\\x95\\x95)\\x08B\\xact\\xae\\xd3\\xe9PZZ\\xba,\\xd82.X\\xb0`\\t\\xc30\\xae\\x11I\\x8b\\xc5\\x82\\xd4\\xd4\\xd4\\x9cp\\xec}\\xb5b\\xc5\\x8ac\\x94\\xd2\\x16\\xc3\\xbd\\x0c\\xc3\\\\\\xd8\\xaf\\xcce\\x86\\xcfF\\xbdv\\xf0\\xe8\\xdeT\\x14:Kb\\x01\\x99\\xd0\\xf8\\x17\\x98@\\xac \\xb4\\x1c\\xa6\\xa7\\xd4\\xeb0\\xbd\\xc7\\xc2k\\xb4\\xa89zx\\x05!\\x84\\xa4\\x0e\\xb9\\xf6fX9\\xb4\\xf0\\t\\xb9|Cn\\xd6\\x11\\xcf#\\xb6\\xa3\\xf6\\xba\\x9b\\x93bb=&\\x1c\\x04\\xa1\\xb0Pv\\xed\\xda\\xb5[\\xaf\\xd7\\xb7H\\xe3\\xdak\\xaf\\xbd-\\x90\\xfcB\\xd55\\x0b\\xa4\\xec\\xa1\\xb2\\x88(\\xa5P\\xab\\xd5A\\xc5gY\\xb6\\x16\\xc0\\x19\\xb7\\xfc[%2`\\xc0\\x80Q\\x925\\xd4\\xdc>\\xa6\\x15+V\\xec\\r*3\\x00\\x95\\x95\\x95U\\x84\\x90\\x1f\\xa5t\\x04A@\\\\\\\\\\\\JZZZ\\xbc\\xbf\\xba\\xb5\\x01\\x87(\\x8avy\\x1a\\xbf\\xb5\\xcd\\x0e|\\n\\x91\\xbeS\\x8f\\x1b@i\\xb3\\xefE&\\x14\\x1e\\x86\\xed\\x9d7@&\\x1e^\\x86\\xe9\\xdd\\xe3\\x05:\\xdc\\xef\\x0e!\\x0c\\x04\\xceRy\\xfa\\x9bw\\x96,~}\\xe8H\\x08|\\x7f\\xdf\\xd6\\x90\\x9b\\xe3\\xda\\xe1\\xb8\\xc6\\xae\"\\x1e\\'\\xcf\\x05C(\\x84H\\xab\\xd5\\x1e\\x90\\xfb~,\\x16\\x0bRRR\\x12\\t!\\xadL\\xfcPu\\xcd\\xdc}M\\x81\\x10J!jCy\\x1d\\xa2(\\xb6\\xf0\\xc7\\x10BZ$4`\\xc0\\x80\\x98\\x0e\\x1d:\\\\\\'\\xed\\x97D)\\x05\\xcb\\xb2\\xbf\\x1c:t(\\xe8I\\xac\\xd5\\xd5\\xd5\\xb6\\xe2\\xe2\\xe2\\xfd\\xf2\\xee\\x99 \\x08Q\\xf7\\xdf\\x7f\\x7f\\xab\\x07C\\x86\\xe2\\x9e\\x84\\xea\\xbe^\\xae\\xf8\\x14\"\\x91\\xb7\\xf7u5\\x8e\\xdf\\xad8d\\r\\xe96L\\xdf\\xe2\\xbc\\r\\xc3\\xfd\\xee\\x10\\xc2\\x80\\xd5G\\x9e:\\xb0\\xe3\\x9b\\xdc\\xfe\\xfd\\xc1N\\x9e\\x92\\xfc\\x06\\xacv\\xa6\\xa5O\\xc8\\xcf1\\xa8\\xe6\\xf1\\x89\\xbd.X\\x88B\\xc1\\x8a\\x15+~\\x95\\x9f\\x0b\\x82\\x80N\\x9d:u\\x1e6l\\xd8e\\xb3\\x9fL\\xb8\\x11\\x04\\x81\\x00\\xf0\\xe9{\\xd1\\xe9t]\\x04A\\xb8J:gY\\x16g\\xcf\\x9e=WQQa\\xf6\\x15\\xcf\\x1bg\\xce\\x9c9$\\x9f9\\x0e\\x00\\xbd{\\xf7\\xee\\xdb\\x96\\xb4\\x14|\\xe3\\xc7!F\\xbb{\\xeeRy\\x17\\x0f\\xb8]s\\x9d\\x8b\\x14 \\x04\\x8cJ\\x03if\\xb5H\\x9d+\\xf2[\\xc6\\x17[\\\\s\\x87\\x10\\x06v\\x8b\\xf9\\x9b\\x03;\\xd7=\\xc9\\xed[\\xfd\\xb3\\xf5\\xe4c\\xf9z5\\x12\\xc1IV\\x90\\xdb\\xdc!\\xd7|\"\\xd91\\x9ca\\xfa\\xf42z\\x1c\\xfe\\r\\x14\\xf9//\\xe0l\\x0f\\x87#\\xe0\\xddS]\\x1c>|\\xd8L)\\xe5)\\xa5\\xae\\xfb\\xc1\\xf3|\\xb4\\xddn\\x8f\\x01\\xd0b.\\x89{~m\\xc5=\\x1d\\x7fiy\\xaak\\xa0\\xc8\\x1d\\xbaR\\xdc\\xb6\\xb4\\x93{\\x1a\\x1e\\xba\\xa5Q\\x00\\x0cR\\x18\\x9dN\\x87\\xef\\xbe\\xfb\\xae\\xa9w\\xef\\xdeA\\xe7\\x05\\x00,\\xcb\\x9e\\x91,G)O\\xbb\\xdd~\\x95<\\x8c\\xa7\\x05\\xbd\\xa1\\xa8\\xdbo\\r\\x9fBD)\\x8d\\x91\\x84\\xc4\\x9f\\xe0x\\x16%\\x11\\x00\\x03F\\xa5\\x02%\\xe4\\x98\\xdd\\\\_m\\xaa\\xde\\xd7@AEPJD\\xa9\\xe1!\\x02\"\\x05h\\xf3#@\\x9b\\xbbk\\xe7!\\x84\\x00\\x9c\\xc5N\\x0f[kk6\\xd6\\xee\\xce\\xdb\\x91s\\xcf\\xf3Q\\xb6\\xe3\\x8f\\xac\\xd4\\xeb\\xd4\\xd9\\xe0\\x1c\\x1e\\x85\\xa6\\xc5\\xb1|H\\xbf9m;\\xc7w\\x0ey\\x8b\\xb6\\x01\\x86a8J)\\x07\\xd9\\xfd\\xa0\\x94\\xea\\x9b\\x17\\xc9*\\x04\\x08\\xcf\\xf3->\\xcf\\x94R0\\x0cs!3\\xe8==\\x8aG\\xb9\\'a\\xc0\\xdf\\x10\\xa1Z\\xde\\x05\\xf3f\\x19y\\xb6\\x82D0j\\x1d\\x1cV\\xf3\\xf6\\xa3E_-8\\xb9\\xfd\\xabo(=\\x11\\xf0\\x1c\\x1bod\\xdf\\xd3\\xa5S\\xf9\\xd6\\xf1O\\xe6\\xaf\\x982\\x07f{\\x0f\\xd8\\xecp\\n\\x8b\\x9b\\xd0\\xb4\\x12$\\xb7k\"\\x00J#.\\xb4<\\xe1\\xb0P\\x9aQ\\xc1\\xcb\\xfd\\xf1c\\x15\\x04\\x9d_\\xb0>\\xa2`\\xe2\\x84\"\\xae{:\\xee\\xe9I\\x10B\\xa8\\xfbuA\\x10\\xda\\xbc\\x9f9\\xa5\\x94x\\xb0\\x1c[\\xad\\xed\\x0bE\\xdd\\x02\\xb0\\xf6\\xaeh\\xfcXDh\\xe1\\x1clm\\x05\\x01\\xa0nNOJA\\xa9\\x08V\\x1b\\xc1\\x9f\\xaa\\xdc\\xfe\\xfc\\x8fk\\xdfx\\x03\\x98\\x8c\\xc5\\xef\\xdc6j\\xeb\\xbf\\xc6\\xdd\\xc6R\\xf55\\x144\\xb0y\\x16\\x14\\x00\\x04\\x10B)\\x15\\xa9fpZ\\xe7\\xce\\x85+\\'\\xf6\\x83\\x9d\\xef\\x88F\\x1bZ\\x08\\x90Wk\\xc8[W\\xad\\xf9\\xda\\x05\\x12\\x8a\\x0f!\\xc30,\\xa5\\x94\\x95\\xc7\\x17EQ\\x10E\\xb1\\xd5\\xd0I(M\\xf8`?\\xf8m\\xcd;T\\xfb\\x11\\xf9K\\x83Rj\\xa5\\x94\\n\\x94R\\x16p\\x0e\\xb9\\xa7\\xa5\\xa5E\\xb6)3gzF\\x0fy\\xb6\\x9a1\\x7f1\\xeav\\xa5\\xe3\\xafkV/\\t\\x8f\\xbf\\xae\\x99\\xfc\\x9c\\xd1h\\xc5\\xe3e\\xffy\\xf4\\xf0\\x17\\x0b>\\xfd\\xf8\\x9d\\x8c\\xdb\\x1f\\xb8\\x7f\\xc0[\\x8f<:8\\x11B\\x10_|*\\xb4\\x16\\x10\\xab\\x1dh\\xb0\\xa2\\xa5\\xe8\\x04\\xe2\\x13\\x92_\\x93\\xc2S\\x10\\xd0691\\xdd\\xda\\xc8\\xe3q0\\xf0<\\xafG\\xeb\\xdd\\x9alh\\xb9s\\\\\\xc8\\xf2kk:\\x17\\x92w(\\xca-\\x17KOi\\xa8T\\xaa:Q\\x14\\xeb\\x01t\\x00\\x9c~\\xad\\x0e\\x1d:D\\x13BX*{\\x02j\\xa0\\xf0<\\xdf\\xd1\\xbd\\xdc,\\xcb\\xb6zDO(\\xea\\x16\\xaa\\xfbz\\xb9\\xe2\\xbbkF\\xc5\\xe3.\\x11r[\\t\\xdfb\\xd4\\x0cp\\x9d3*5\\xea\\x8f\\x1f^t\\xf8\\x8b\\x05\\x9f\\xae[2*{\\xfa\\xccay\\xa8\\xb3i\\xd0\\x18\\xe0>S\\x1e\\xfd:>,\\x1a\\xafB\\xe3G\\xa4(\\x03\\r+^\\xf0\\xdeD\\xa1\\xf8%\\x9b8qb\\x07\\xa9\\x1b A\\x08\\xa9s8\\x1c\\xadv\\xf0\\x0b\\xd5/\\xa7\\xbb\\x136\\x10\\xda\\xbbk\\xe6/\\x8dS\\xa7N\\x9dbY\\xf6\\x14\\xa5\\xb4\\x83tM\\x10\\x84\\xab\\xd3\\xd2\\xd2:\\x03\\xf8\\xb5U\\x04?t\\xec\\xd8\\xb1\\xa7\\xe4h\\x97\\xf2,((\\xf8i\\xc2\\x84\\tA\\x95+\\x10~\\xeb\\x16\\x91\\xef%\\x1e*\\xd5O\\x94\\xb6\\x14 x\\x9a+$\\xb3\\x8c\\x08\\xa3:Q\\xb9u\\xc9K\\xb9c{\\xf5\\xcd\\xccI\\xfd\\'\\xceZ5\\x10\\x02iX\\x8a\\xf3\\xf3\\x7f\\xdc\\'$z\\x1a~w_\\xca!\\x8f\\xebe\\xee\\x90+\\xae\\xf3\\xf8\\xe7#\\x96\\xff^H\\xe3\\xc9G\\x92<\\xf9,\\x02\\xa5g\\xcf\\x9e\\xfd\\x80\\xf3\\xed\\xc80\\x0c\\xce\\x9e={\\xa2\\xac\\xac\\xac\\xde=\\xac{~\\x94\\x06\\xd8\\xcd\\xf5\\x9f\\x8e\\xcf\\xf0\\x9e\\x962\\xf0|\\xe0[!\\x85\\xa2\\x9d\\xdc\\xd3p\\xefNVWW\\xdbJJJ\\xf6k\\xb5Zy\\xb8\\xab\\xbaw\\xef\\xde3\\xd8\\xbc\\x08!Lzzzo\\xf9\\xe4HB\\xc8\\xa9C\\x87\\x0e\\x1d\\x92\\x87\\x0b\\xe53\\xdb|\\xd5\\xedJ\\xc7\\xa7\\x10\\x99O\\x9d8\\x10X\\xd7\\xcciy0*5j\\x8f\\xfd\\xb4\\x8a\\x1e\\xad\\xac{\\xf6\\x8f7?\\x0f\\x93#\\xb0\\xfe\\xb9\\xfb\\x02\\xd5Vk\\xc6|\\xcc\\x0b\\xf2!4\\xad\\'86\\x1f\\x8b\"@\\xc4\\x86\\x7f\\xac\\xac\\xbe !\\n\\x15\\x91\\x91\\x91C\\xe43i\\xb5Z-\\xca\\xcb\\xcbw\\x05\\x12\\x97\\xe7yc\\xd8\\n\\xe6?\\xef\\xf6\\xca\\xda+\\xb5\\xb5\\xb5\\xfffZ>Y\\x98\\x990a\\xc2\\xf0`\\xd3\\xc9\\xcc\\xcc\\xec\\xce\\xf3\\xbck\\xe1)\\xcb\\xb2hll\\xdc\\xb3o\\xdf\\xbe\\x80\\xd7\\xc7)\\x04\\x8eO!:\\xb1g\\xfda\\nr\\x1abk\\x11j}\\x0e\\x80\\x10\\x9c\\xf9\\xa9\\xea\\xcbA}:D\\xdd\\x90\\xde\\xf5v\\xd8\\xfc}Pi`\\xc2\\xe1Kt\\x82=\\x86\\x080\"\\xea\\xceq\\x07\\xf6T\\xda\\x8e\\xf9.\\x9f\\x7f.\\xf4\\xd7p\\xe4\\xc8\\x91q\\x03\\x07\\x0e\\x1c&\\xff\\xe5e\\x18\\x86\\x9e8qb\\xa3{X\\x95J%\\x8a\\xa2H\\xa5p6\\x9b\\r\\xe9\\xe9\\xe9mZ\\xa5\\x1dl\\xb9\\xdd\\xac\\x0cPJ\\x11\\x1f\\x1f\\x1fp\\x85\\xc3a\\x11yJg\\xdd\\xbau[\\x08!5\\xf26JII\\xc9\"\\x84\\x045z\\x96\\x9d\\x9d}+!$FJ\\xc7`0`\\xf5\\xea\\xd5\\xf9\\x9e\\xc2\\x86\\xa3n\\xbf5|\\n\\xd1\\xfa\\x15\\x9f\\xfe\\xca\\x99\\xea~\\x06\\xe3\\xfehhw\\xab\\xa8\\xb9!E\\xca\\x9f\\xde\\xbf\\xf5(\\x1bC\\xbbC\\xa0W\\xfb\\xce\\x9a\\x06&4m\\x16)\\xc1s\\\\*\\x02Z\\xa0\\xaa\\xbc~\\x13m\\x83\\x03\\xd3\\x1f\\x0e\\x87\\xc3\\xd3\\xdc\\x13\\xaf<\\xfd\\xf4\\xd3\\xd9\\x1c\\xc7\\xb9V\\xda3\\x0c\\x83\\x86\\x86\\x86\\xca9s\\xe6\\xfc\\xe0\\x1eV\\xa5R5\\xb0,\\xeb\\xda\\x9e\\x82\\xe7y\\xc4\\xc5\\xc5\\xa5\\x8f\\x1a5\\xaaG0yRJEBHP\\xb6\\x7fuuu\\xab\\xb6\\x9a4i\\xd2%7\\xa7\\xa6\\xb0\\xb0\\xf0Tyyy^\\xf3V\\xb0\\x92\\xc3:\\xf5\\xd5W_\\xf5\\xbdm\\xa4\\x0cB\\x08INN\\xfe\\xbd\\xb4\\x8dk\\xf3=\\xd9\\xb7h\\xd1\\xa2\\x7f\\x87\\xa7\\xd4\\n>\\x85\\x88RJ\\x1b\\x8f\\xfd\\xb4\\x85\\xa84^\\xac\\xa0V\\xe7\\x02\\x08+0\"\\xeb{\\xd31\\x7f\\x96\\xcb\\x85\\x08\\x8dW\\x1fSs8Q\\x00\\x88`\\xfft\\xdd\\x99u\\xa1h@y\\x1b\\x08\\x82@\\xd2\\xd2\\xd2z\\x06\\x1aw\\xcc\\x981\\xddSRR\\x9e\\xb3\\xd9lp\\xfb\\xe5]H\\x9d\\x13\\x1c[PTTd-//\\xaf\\x90\\xef_d\\xb1X\\xe2\\xde~\\xfb\\xed\\x17\\x83)snnn\\x17\\x9e\\xe7c\\x82\\xf9\\x15.((\\xa8\\xa7N\\\\\\xe1\\xcdf\\xf3\\xb5\\x81\\xe4\\x17.?\\x8a7\\x16/^\\xfc\\xb6\\xc1`\\xf8U\\nc6\\x9bIVV\\xd6+\\x19\\x19\\x19\\x01\\xcd\\x1b[\\xbcx\\xf1\\xd4\\xd8\\xd8\\xd8aR\\xb9\\x9b\\xef\\xc9\\x0b\\'N\\xb4\\x9e\\x07\\xe7\\xbefO\\xb1\\x88\\xda\\x86\\xdf-\\r~\\xad\\xfc\\xe6_\\x04\\xe0<\\xfb\\x86\\xe4\"\\xe4\\x1a\\x16\\'<\\xf1\\xb6\\xa14\\rLt\\x02:\\xf6\"4^EJ\\xea\\x96Q\\x98\\x1b\\x85\\xed\\x9f\\x7fqz\\x7f(\\x1aP\\xde\\x0eV\\xab\\x95\\xfc\\xf5\\xaf\\x7f\\xcd\\xdb\\xbcy\\xf3\\x1b\\xd9\\xd9\\xd9\\xadVi\\xcb\\xc9\\xce\\xce\\x8e\\x7f\\xe3\\x8d7V\\x98\\xcd\\xe6ke]2\\xd4\\xd7\\xd7\\x7f\\xfb\\xdcs\\xcfy\\xec\\x02\\x00@YY\\xd9?\\xd5j\\xb5+O\\x9e\\xe7\\xa1\\xd5j\\x1f\\xdc\\xbau\\xeb;\\xfe\\xbeh\\xe9\\xe9\\xe9\\xd1\\x1f}\\xf4\\xd1\\x13\\x0b\\x16,\\xf8\\xc1f\\xb3\\xf5\\x0e\\xe6\\x83\\xaf\\xd7\\xeb\\x0f\\x13B\\x8e\\xcb\\xbb<\\x03\\x07\\x0e\\x1c\\xef7b3\\x17\\xf3\\xcb\\xbaf\\xcd\\x9a_\\xd6\\xacY3\\xc7`0\\xc8\\xdb(\\xf1\\xe3\\x8f?\\xfe$##C\\xe7+\\x8f\\x8f>\\xfahDff\\xe6B\\x93\\xc9\\xb97\\xbbZ\\xadFSS\\xd3\\'s\\xe7\\xce\\xfd\\xd7\\xa5P\\xb7+\\x15\\xbfB\\xd4th\\xcf~\\xbb\\xd5\\xbc\\x12\\x848\\x05\\xa7\\xc5\\xb0\\xbd\\\\\\x94\\xe0\\xbb\\x01[\\x8dx\\x05\\xdb\\x05\\xf36Z\\xe6A\\x98|9\\xbd\\x8d,\\n\\xbf8\\xb3\\x90\\x86\\xe9Y\\xd5f\\xb39\\xe6\\xfa\\xeb\\xaf\\xff\\xd3\\xc2\\x85\\x0bK\\xb6l\\xd9\\x92\\xf7\\xdak\\xaf\\x8dKKK\\xbb>99\\xb9szzz\\x97\\xac\\xac\\xac\\xd4-[\\xb6\\xfc\\xe5\\xddw\\xdf\\xdd\\xa9\\xd1h\\x06K\\x0e_J)\\xa2\\xa2\\xa2N\\xcd\\x993\\xe7q\\xea\\xb67\\x8d\\x9cg\\x9f}vkcc\\xe3\\xa7\\x92\\x18\\x01\\xce\\xedL\\xfb\\xf5\\xeb7k\\xd1\\xa2E?\\xac\\\\\\xb9rVVVVjrrr\\xb7\\xe6<{\\xbf\\xfa\\xea\\xab\\x19\\x9b7o~c\\xc3\\x86\\r\\xc5w\\xdf}\\xf7\\xfb\\xf5\\xf5\\xf5Au\\xe5\\x00\\xa0\\xa8\\xa8\\xa8\\xb6\\xaa\\xaa\\xaa@\\xfe\\xe5\\x8e\\x89\\x89\\xb9c\\xf1\\xe2\\xc5/\\'$$\\\\\\xf0\\x0c\\xf5P3}\\xfa\\xf4e\\x07\\x0f\\x1e\\x9c\\x1f\\x1d\\x1d\\rJ)8\\x8e\\x83J\\xa5\\xca\\xfe\\xf0\\xc3\\x0f7\\xbd\\xf6\\xdak\\xb7\\xa6\\xa7\\xa7\\xb7\\xd8Bd\\xfc\\xf8\\xf1\\xbd6o\\xde<\\xef\\xde{\\xef\\xfd\\xa2\\xae\\xae.J\\x12!\\x87\\xc3\\xf1]VV\\xd6\\xac\\xf6\\xaa\\xc7o\\x85\\x80v\\x81\\xab\\\\\\xb3\\xe0\\xff\\xd2r^\\xc8\\xb0\\x9b\\x1a\\xae\\xa5\\xd2*|\\xd96\\x1dT>\\xc7\\xa8\\x15\\xd2\\xb0\\xbf$\\x10\\xf2y=\\xcd\\xe7\\xad\\xe6\\xffx\\xba&\\xc5\\xa1~\\xe2\\xba\\xe7!\\x85\\x01\\xa0f\\xc0\\x99\\x85/\\xa7\\xcd;\\xb4\\xf1\\xa1\\xe7/\\xa8\\xdd\\xce\\xd7\\xae\\xe5/\\x98\\xa0\\xd5j-\\x00\"\\x1b\\x1b\\x1b\\xe3\\xfa\\xf5\\xeb\\x97s\\xc3\\r7\\xe4\\xe4\\xe6\\xe6\\x9a\\x01\\x9c\\xa3\\x94\\xb2\\x84\\x90.\\xa2(2\\x8d\\x8d\\xe7\\xf7\\xf8b\\x18\\x06QQQ5\\xabW\\xaf\\x9e\\xb4~\\xfd\\xfa\\x1f\\xfd\\xe4G\\x87\\x0c\\x192c\\xe9\\xd2\\xa5qF\\xa31SzV\\x98\\xd9l\\x86^\\xafO\\x18:t\\xe8;C\\x87\\x0e\\x15)\\xa5g\\x08!vJi$!$V\\x14E466B\\xa5R\\xc1`0\\x80\\xe3\\xb8\\x16\\x8f\\x0b\\x12E\\xd1\\xef\\xcf\\xf0\\xb3\\xcf>\\xfbZAAA\\x86F\\xa3\\xb9\\xd1n\\xb7\\xc3l6\\x93\\x91#G\\xce\\xbb\\xf7\\xde{\\xb37l\\xd8\\xf0\\xbd\\xd5j\\xdd_\\\\\\\\\\xbc\\xee\\xcd7\\xdf\\xac\\xf6\\xd5N\\x17j5\\xc8\\xca\\xec3\\xfc\\xed\\xb7\\xdf>w\\xcb\\x96-4!!\\xe1\\xcf\\x16\\x8bE\\x12\\xa3\\xe1\\xb9\\xb9\\xb9\\xdfN\\x9d:\\xb5\\xe2\\xcb/\\xbf\\xfc\\xa5\\xbe\\xbe^HII\\xe9\\xf8\\xee\\xbb\\xef^\\xcf\\xf3|\\xac\\xd4\\x9eF\\xa3\\x11\\x16\\x8b\\xe5\\xdfS\\xa7N}\\xc0\\xdf\\xea\\xfd\\xf6\\xa8\\xdb\\x95F@\\xbb\\xcd\\xd5\\x1d\\xd8y\\xf4D\\xd9\\x7f\\xeeg\\xf5\\x91\\xbf0\\xac\\x1a\\xaeQ4\\xf7-=\\xdco\\x82\\xbbO\\'\\x18+\\x06\\x1e,\\x9a69\\xae\\x9bo\\xa8\\x81\\x05\\'\\x88U\\x13\\x1e\\xd9\\xffd\\xb8\\xac!B\\x88\\xf8\\xde{\\xefM)++{=**\\xaa\\x86a\\x18\\xd8l6\\x98\\xcdf\\xa3\\xc5b\\xe9n\\xb5Z\\xbbZ,\\x16F\\xf2\\t1\\x0c\\x83\\xc8\\xc8H8\\x1c\\x8em\\x1f\\x7f\\xfc\\xf1m\\x8f=\\xf6\\xd8\\xb7\\x81\\xe4STTd\\xcd\\xcc\\xcc\\x9c\\xb8\\x7f\\xff\\xfe\\xbfEFF\\x9a\\xa5\\x11-A\\x10`\\xb1X`\\xb1X\\x18\\xab\\xd5z\\xb5\\xc5b\\xe9n\\xb1Xb\\x05A\\x90\\xc4\\xcea\\xb1Xv\\x7f\\xfb\\xed\\xb7O\\xd4\\xd6\\xd6\\x16\\xca\\x87\\xb9\\t!~\\x9d\\xec%%%\\r\\x8f<\\xf2\\xc8X\\x87\\xc3\\xf1\\xaf\\xc8\\xc8Hh\\xb5ZX\\xadV455\\xf5MJJz\\xf8\\xf6\\xdbo\\x7f+==\\xfdf\\xf7xZ\\xadVm0\\x18 {1,\\xcb\\x06\\xb5\\xd3!\\xcf\\xf3\\xc4\\xe0\\xc4\\x95\\x8eNz\\x00\\x9a\\x17(\\xa5\\xf4\\x8e;\\xee\\x98\\x9b\\x9f\\x9f\\x7f?\\xcf\\xf3?FEEI\\xbe-455%\\'&&\\x8e\\x1a>|\\xf8\\x18\\x9dN7\\xa4\\xa9\\xa9)\\xd6n\\xb7\\xc3`0 22\\xf2\\xf4\\xfe\\xfd\\xfb\\x9f\\xbb\\xef\\xbe\\xfb\\xc6\\xf9{,\\xb4F\\xa3\\xb9\\xe0\\xba\\xa9T*\\xc6`0\\x18\\xdd\\xea\\x16\\xdc\\xceq\\x979\\x01\\xef\\x8b{p\\xd5\\xebE\\xb17\\x8c\\x18\\xd6k\\xe8\\xbd\\xcf\\x19\\xbb\\xc4\\xdfC\\x05\\xb1\\xdby\\x1f\\x91\\x08\\x91R0*\\xad\\x16T\\xed\\xbc\\t\\x1e\\xad\\x16\\x99\\x85\\xe2\\xc9\\xbaa(\\xa0%\\x00\\x188\\x8d.\\xd1\\xc3\\xb1da\\x118\\x97\\xac\\xd1\\xe6w\\xd2\\xfc?\\xd9\\xb1\\xa4\\xb3\\x0c9]\\xb9\\xdf\\xf4\\xe5\\x9f^?8\\xef\\xab\\x1d\\xe6\\xa0g\\xd8z\\xc3}k\\x0c\\xbd^\\xcfn\\xdc\\xb8\\xf1\\x7fo\\xbe\\xf9\\xe6\\x86\\xac\\xac\\xac\\x0f\\xb3\\xb2\\xb22\\x13\\x13\\x133\\xe3\\xe2\\xe2\\xae\\x13EQ\\xbe\\x07\\xb5\\xc80\\xcc\\x89\\xc6\\xc6\\xc6\\xca\\xa5K\\x97.\\x9d;w\\xeeZ\\xeaa1\\xa5/\\xaa\\xaa\\xaa\\xec\\x00\\x9e\\xcf\\xcc\\xcc\\\\\\xf9\\xd8c\\x8f\\xfd>11q\\xb8(\\x8a\\xdd(\\xa5F8[\\xccJ\\x08ibY\\xf6LII\\xc9\\x7f-\\x16\\xcbw\\x85\\x85\\x85?\\xac]\\xbb\\xb6\"11\\x11\\x9f\\x7f\\xfey\\xff\\x11#F\\xc0b\\xb1Hu\\x08h\\xea\\xfb\\xb6m\\xdbN\\x01\\x18\\xf7\\xfa\\xeb\\xaf\\x8fLNN\\x9e\\x94\\x94\\x94\\x94,\\x08Bg8W\\xa5SBH\\xa3{\\x9c\\xd2\\xd2\\xd2\\x83\\x94\\xd2e\\x1c\\xc7\\xf1\\x84\\x10\\xa2\\xd1h\\x84\\x9a\\x9a\\x1a\\xbf\\x1b\\xd9\\xcb\\xe18\\xce\\xf1\\xf5\\xd7_/\\xe78\\xae\\x1b\\x9c\\x96\\xa7\\xaa\\xac\\xacl\\xa7\\xfb,gO\\xcc\\x993ge\\xef\\xde\\xbd\\xbfz\\xf4\\xd1G3G\\x8f\\x1e=>**\\xeazQ\\x14\\xaf\\x06`\\xa4\\x94B\\xa3\\xd1\\xd8X\\x96\\xad\\xa9\\xad\\xad=\\\\RR\\xb2~\\xc5\\x8a\\x15\\xab\\xd7\\xad[w\\xbc\\xaa\\xca\\xff3\\x1cKKK\\xab\\x00\\\\P\\x01\\x7f\\t\\xb6\\x00\\x00\\x07\\x1cIDAT\\xdd\\x1a\\x1b\\x1b\\xeb\\xbe\\xfe\\xfa\\xeb\\xc5v\\xbb]G)\\xa5Z\\xadVU^^^\\x11H\\xdd\\xae\\x14\\x82~\\xe44\\x00DtN\\xb8\\x9a\\xd5\\x88=EB[\\xfe\"\\x11\"\\x9a\\x8e\\x1f,\\xbe\\xf5\\xc6\\xce)\\xdf~\\xfd@\\x11\\xcc\\x9c\\x07Ar\\x13&\\xa9\\x1b\\xa5#(\\xde}\\xfa\\x95\\xc7\\xe6\\xee\\nj\\x88\\x94RJ\"\\xf4T\\xc3\\xb2\\xaa\\xe6\\x19\\xc6-\\xbf\\xcf\\x02\\x88\\x83\\x10\\xfe\\xd8w{,\\xc7\\x83\\xae\\xa8\\x1f>\\xfb\\xec\\xb3\\xdbF\\x8c\\x18\\xb1Uzb\\xaa\\xc1`\\x10\\xc7\\x8d\\x1b7\\xb0\\xa4\\xa4\\xa4\\xc5#kRSS\\xafQ\\xab\\xd5\\xd7H\"!\\x8a\\xa2I\\xa5R\\x9d\\xd8\\xb5kW\\xc8&\\xc7%$$h\\x0c\\x06C7Q\\x14\\x8d\\xcd\\xab\\xd0\\xad\\xa2(6\\x96\\x96\\x96z\\xfcR,]\\xba\\xf4\\x93\\xe1\\xc3\\x87O\\xb3X,0\\x18\\x0c\\xd8\\xb6m\\xdb\\xe7S\\xa7N}(\\xd8|\\xd3\\xd3\\xd3\\xd5<\\xcfwfYV\\xcf\\xb2\\xacx\\xe2\\xc4\\x89S\\x9eF\\x97.%\\x92\\x92\\x92b\\xd5j\\xf5\\xd5*\\x95\\xcaH\\x9dKk\\xacv\\xbb\\xfdLEEEP\\x8f\\xb2V\\x08\\x1dmzR\\x80\\xe9L\\xd5)\\x00\\xa7\\xbc\\xfd\\xff\\x96\\xc1]\\x99\\xf3]*ok\\xc2\\xdc}=\\x04\\x00=\\xcb\\xdb\\xc5\\xff\\t:\\x1a\\x90i\\xab\\x13)\\xb1\\xc0b/-\\xa5\\xe7\\xdaR\\x8f\\x8bEii\\xe9I\\x00\\x17\\xbc\\xae\\xcd\\x17\\xcd\\x16\\xd2\\xff\\x02\\r/\\x08B\\x8b\\x1f\\x11B\\x88\\xcf.\\x887JJJ\\x1c\\x00N\\xb4%n{\\xd1\\xfc\\xe0\\xc2\\xdf\\xcc\\xc3\\x0b/\\x07\\xc2\\xf7\\xc8\\x92\\x16>\\x9a\\x00\\x1c\\xcc\\x16\\x8a\\x81I\\xd1\\xafV\\xec\\xb8\\xe7\\x05P\\x91\\xb4\\xb4\\x98\\xe4\\x02&\\xc8\\xaf\\x13\\x18\\xf1\\xbf\\x8c\\x01\\xb1\\xb7m+\\xabk\\xb5.\\xebb\\x10\\nGe{\\xd0\\xa1C\\x87Nn\\xf3{B\\xd6eUP\\x08\\x960>;I\\xee`\\xf62\\x92\\xe5.R\\x025\\xc0\\xcc\\x1b|\\x8f\\x82\\xb9\\x8b\\x19\\x13\\xc7\\x0bm[\\xf8\\x19\\n.G!\"\\x84\\x90\\xa3G\\x8f\\xc6J\\x8f\\x8f\\xa6\\x94\\x82e\\xd9V#]\\n\\n\\x17\\x8b\\x90?\\xa3\\xc9\\x85\\xdf\\x99\\xd1\\xf2Q0o\\xa3eRx+ \\x98\\x9b_67\\x81\\x13/\\xbd\\x95\\x97\\x978\\t\\t\\t\\x9d\\xe5\\xcesJ)\\xbfj\\xd5\\xaa\\x80\\xbbu\\n\\n\\xa1&L\\x16\\x11\\xef6\\xb4\\xee\\xad{\\xe6\\xad\\xcb&\\xfb\\x9fh\\x03t\\xd7\\x01\\xd1w9\\xaf\\xd5o\\x04,\\xfb\\x01\\xa2\\tO\\xd1\\x83\\xe4r\\xb4\\x88\\xc6\\x8f\\x1f\\x9f\\x0c\\xa0\\x8bT^\\x86a\\x8eWUU)B\\xa4\\xd0n\\\\\\x1c\\x1f\\x91\\xaf\\xd12\\xaf]5\\n\\x88\\x1c\\xa0\\xed\\x05t\\xff;\\xc0F;\\xd3\\x8d\\xbe\\x03\\xa8~\\x12\\xb0\\x1d\\xbad\\xc4\\xe8rc\\xdc\\xb8qO[\\xadV\\x028W\\xd5\\xef\\xdb\\xb7o\\xfb\\xe1\\xc3\\x87[m\\x81\\xaa\\xa0p\\xb1\\x08K\\xd7\\x8c\\x08\\xa0\\x9e\\xd7}\\xc9\\xbbj\\x1e&2\\xb6\\x98\\xb0(8\\x85(j\\xc4y\\x11\\x02\\x006\\xc6i\\x1dI\\x0b\\xe7U\\x0cu\\x18\\x1a\\xda\\xe5\\xb1\\x98\\xa1\\\\\\xccy\\xb1\\xf8\\xe0\\x83\\x0f^6\\x1a\\x8d#\\xa5\\xb2\\xab\\xd5jq\\xef\\xde\\xbd\\x1f\\xb6w\\xb9\\x14~\\xdb\\x84\\xc7GD\\xc8\\xaf B\\xa3_\\xa1\\thf\\xb4\\x87eW\\x92\\x08\\xb1\\x04ug\\x1d5\\xbbw\\xc3\\x14\\x96z\\x04\\xc0\\xe5\"D\\xa3F\\x8d\\xeaQQQ\\xf1\\xd9\\xc8\\x91#\\xe7\\x99\\xcdfH\\xab\\xca\\xab\\xaa\\xaa\\xde~\\xe1\\x85\\x17\\x02\\xda\\x84MA!\\\\\\x84E\\x88\\xb6\\xef9}\\xd4\\xd2h\\xfb\\x16\\x8c\\xdc\\xf2i\\xc3\\xbeC\\x84\\x00\\xf5\\x9b\\x00\\x87l\\x9e\\x99\\xe34\\xd0\\xb0\\t *\\xc0\\xc0b\\xff\\xfe\\xc65\\xe1Z\\xb2q\\xb9\\x93\\x9a\\x9az\\xcd\\xcb/\\xbf<b\\xc3\\x86\\r\\xef\\xbf\\xf7\\xde{\\xc5*\\x95\\xeaAiU\\xb9\\xc1`\\x80\\xc5b\\xc9\\xfb\\xf3\\x9f\\xff\\xfc\\\\{\\x97SA!,>\"J\\xa9\\xf8\\xcfW\\xd3\\xe6\\xfd\\xfe\\x89\\xebo\\xc59G4\\xe0m(\\xde\\x83o\\xa8\\x85\\x9fH\\x05p\\xd5\\xc0\\x91\\x99@\\xf4\\x9d\\xce\\xc4\\x1b\\xb6\\x00\\xb6j@\\xa7\\x07g\\xe2\\xcb_}\\xff\\xe4\\xc7\\x1bs\\xc3Q\\x8b\\xc0\\xb8\\x94\\x9c\\xd5\\x05\\x05\\x05\\xb7\\x99\\xcd\\xe6\\x01\\x0c\\xc3\\xf4OLL\\xec\\xbbf\\xcd\\x9a\\x9e\\x82 \\\\#\\x08\\x02\\x9a\\x9a\\x9a\\x008}Bj\\xb5\\xba\\xf1\\xc0\\x81\\x03\\xaf\\x8d\\x1e=z\\xbe\"\\xe2\\n\\x97\\x02asV\\xff\\xfe\\xb9\\xbd\\x95\\xeb>\\x1e<)s|\\xcf<\\xd4\\xdb:\\x80\\xf70\"\\xe6k\\x82\\xa3\\x04\\xd1\\x02\\xdc\\x11\\xe0\\xf4\\x07\\xe7\\x8b\\x1ci\\x00g\\x15\\xf7\\x8d{\\xb4r\\xe2\\xc6]\\x8d\\xad\\xd66],4\\x1a\\rc0\\x18`\\xb3\\xd9 \\xdfs\\xba\\xbd\\x88\\x89\\x89\\x991l\\xd8\\xb0\\xfb8\\x8e\\x83\\xcdf\\x83\\xb4\\xc2\\x9feY\\x18\\x0c\\x06\\x10B\\x1a\\xab\\xaa\\xaa\\xd6|\\xf2\\xc9\\'\\x0b\\xd6\\xaf_\\xbf\\xbf\\xbd\\x85SAA\"|\\xf3\\x88\\x00dN\\xffa\\xd3\\x03\\x0f\\x7fw3\\xc7\\xf3\\xeb\\x11\\xc98\\x9f\\xdc\\xd5j\\x8e\\x90\\x07?\\x91;D\\r0z@o\\x04\\xa2\\xf5\\xe6}\\x07\\xcd\\x8bF=X\\x91\\xf1\\xef\\x1d\\x8d?\\x87\\xb3\\xfc\\xfe\\xf8\\xec\\xb3\\xcfJ\\xbe\\xf9\\xe6\\x9b\\xd9V\\xabugDD\\x04\\xaf\\xd7\\xeb\\x83^y\\x1dJN\\x9f>\\xbd\\x9eeYPJ\\xa1\\xd5j\\xa5\\x95\\xe4\\xbfZ,\\x96mEEE\\xb3\\xe7\\xcc\\x993p\\xec\\xd8\\xb1\\xd3\\xd6\\xaf_\\x1f\\x92M\\xe1\\x14\\x14BE\\x9b\\x16\\xbd\\xb6\\x85\\x7f\\xbe\\x9e8\\xfc\\xc6\\xe4\\xe8\\x07\\x93\\x92\\xa3\\x87\\x83\\x17z8gR\\x0b\\x80U&DrX\\x02h\\xa5\\xef4\\xa5`\\x99\\x03\\x95\\x95M\\x1b\\xe7\\xff\\xf3\\xc8\\xe7\\xf9\\xeb\\xce\\x1d\\xb8(\\x85\\x0e\\x82\\xb1c\\xc7\\x0e\\x98<y\\xf2]\\xcf?\\xff\\xfc\\xaaC\\x87\\x0e\\x1dn\\x8f2\\x0c\\x192\\xa4\\xeb\\xe3\\x8f?\\xfe$\\xc7q\\x8d\\x1a\\x8d\\xe6\\x97\\xd5\\xabW\\x1f9v\\xecXuyy\\xf9e\\xb5\\x16L\\xe1\\xb7\\xc7E\\x13\"\\x89\\xf4\\xbe\\xa4\\xe3\\x03\\xe3\\xbb&\\xc7\\xf70\\x0c\\xea` \\xe9C\\xd2\\xa2\\xba\\x81\\x17\\xe3\\x00\\xe8\\x01\\xca\\x80\\x82\\x07\\xcb4\\x9d;\\xc7\\xd5\\xfePi:\\x04\\x16\\xbb>Yu\\xa6\\xb8\\xe4\\x90\\xe5\\xc0\\xf1\\xe3\\xb4\\xd5\\x93O\\x15\\x14\\x14.\\x7f.\\xba\\x10y\\xa4\\xe1\\xfbX\\xf0\\xac\\x01D\\xc5@dx\\xd0\\xa6&t\\x1a\\xdenC\\xf2\\n\\n\\n\\x17\\x97KC\\x88\\x14\\x14\\x14~\\xd3\\xb4\\x9bcUAAAA\"\\x8c\\xdb\\x80\\x9c\\x87\\x10\"\\xdf\\xa6#\\xd8-;\\\\&\\x1bU\\xcc7\\x05\\x85+\\x92\\x0b\\xee\\x9a\\xc9D\\xa6y\\xb3h0^\\x8e=\\xbd \\x8b\\x0b\\xc8D\\xa7\\xf9\\xd8\\xdbK\\xf4r\\xac\\x88\\x95\\x82\\xc2eH\\xd0B\\xd4,<\\x92\\xc8x{\\xb1^\\xae{\\x13\\'9\\xdeDG\\xf4\\xf0\\x12\\xbc\\\\\\x97^T\\x11&\\x05\\x85K\\x9f\\x80\\x85\\x88\\x10\\xe2Ml\\xd8\\x00_\\xee\\x02%\\x89\\x12\\xd0\\xda\"r\\x17\\x1fA\\xf6\\x1e\\xc8\\xab\\x95H)K\\x19\\x14\\x14.]\\x02\\xf2\\x11\\xc9D\\xc8\\x9b\\xf8\\xa8d\\xef\\x9e\\x8e\\xdd\\xc3y\\xb2\\x94\\x00\\xcf\\x96\\x8f\\x00\\xe7\\xa39\\xe4B\\xc3\\xcb\\xae\\xb9\\x1f3\\xcd\\xc7D\\xf6\\x0eB\\x08\\x141RP\\xb84\\t\\x85\\xb3\\x9a\\xb8\\xbd\\xbb\\x1fK\\xe7\\xc4-\\xac/\\x7f\\x91\\xb7\\xb0\\x9e\\xf2\\xf5V\\x06\\x05\\x05\\x85\\xcb\\x84\\x80\\x84\\x88R*\\xca\\x06\\xbe<\\xf9pX8\\xad\\x0f\\x15\\xce[&\\x81v\\xcd\\x9a\\x9f\\x92\\x08\\xc8\\x8e\\x83\\xed\\x9a\\xc9-&\\xd1\\xedX\\xe9\\x9a)(\\\\\\xe2\\x84\\xdaY\\xcdz9\\x0e\\x87\\xb3Z\\xf0r\\xac8\\xab\\x15\\x14.3B5|/\\x89\\x89\\'\\xb1\\xf15\\x84\\xefJ\\xa6\\xf9=\\x90\\xe1{OC\\xf7\\x92\\xb5\\xa3\\x08\\x8f\\x82\\xc2eH\\xd8\\x97x\\xf8\\x99\\xcc\\xe8\\xcd\\xa7\\xe3^(eR\\xa3\\x82\\xc2\\x15\\x8c\\xb2\\xd6LAA\\xa1\\xddQ\\xd6\\x9a)((\\xb4;\\xff\\x0f\\xfe\\xb4\\x8cc\\xf2R.\\xc2\\x00\\x00\\x00\\x00IEND\\xaeB`\\x82'"
      ]
     },
     "execution_count": 43,
     "metadata": {},
     "output_type": "execute_result"
    }
   ],
   "source": [
    "image_link.content"
   ]
  },
  {
   "cell_type": "code",
   "execution_count": 44,
   "id": "14414bf7",
   "metadata": {},
   "outputs": [],
   "source": [
    "f = open('python.jpg', 'wb')\n",
    "f.write(image_link.content)\n",
    "f.close()"
   ]
  },
  {
   "cell_type": "markdown",
   "id": "cf19d06b",
   "metadata": {},
   "source": [
    "![python](./python.jpg)"
   ]
  }
 ],
 "metadata": {
  "kernelspec": {
   "display_name": "Python 3 (ipykernel)",
   "language": "python",
   "name": "python3"
  },
  "language_info": {
   "codemirror_mode": {
    "name": "ipython",
    "version": 3
   },
   "file_extension": ".py",
   "mimetype": "text/x-python",
   "name": "python",
   "nbconvert_exporter": "python",
   "pygments_lexer": "ipython3",
   "version": "3.10.3"
  }
 },
 "nbformat": 4,
 "nbformat_minor": 5
}
