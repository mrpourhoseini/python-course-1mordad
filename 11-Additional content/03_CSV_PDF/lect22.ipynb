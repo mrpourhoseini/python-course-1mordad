{
 "cells": [
  {
   "cell_type": "code",
   "execution_count": 1,
   "id": "7a2fb907",
   "metadata": {},
   "outputs": [],
   "source": [
    "f = open(\"example.csv\")"
   ]
  },
  {
   "cell_type": "code",
   "execution_count": 2,
   "id": "9b217c75",
   "metadata": {},
   "outputs": [
    {
     "data": {
      "text/plain": [
       "<_io.TextIOWrapper name='example.csv' mode='r' encoding='cp1252'>"
      ]
     },
     "execution_count": 2,
     "metadata": {},
     "output_type": "execute_result"
    }
   ],
   "source": [
    "f"
   ]
  },
  {
   "cell_type": "markdown",
   "id": "29477592",
   "metadata": {},
   "source": [
    "# CSV file"
   ]
  },
  {
   "cell_type": "code",
   "execution_count": 1,
   "id": "25870c3b",
   "metadata": {},
   "outputs": [],
   "source": [
    "import csv"
   ]
  },
  {
   "cell_type": "code",
   "execution_count": 2,
   "id": "ed659a5e",
   "metadata": {},
   "outputs": [],
   "source": [
    "csv_file = open(\"example.csv\",encoding=\"utf-8\")"
   ]
  },
  {
   "cell_type": "code",
   "execution_count": 3,
   "id": "f5cd0f8f",
   "metadata": {},
   "outputs": [],
   "source": [
    "csv_data = csv.reader(csv_file)"
   ]
  },
  {
   "cell_type": "code",
   "execution_count": 4,
   "id": "629a8e2b",
   "metadata": {},
   "outputs": [],
   "source": [
    "csv_list = list(csv_data)"
   ]
  },
  {
   "cell_type": "markdown",
   "id": "44e4e9a2",
   "metadata": {},
   "source": [
    "# تمرین 1"
   ]
  },
  {
   "cell_type": "code",
   "execution_count": 5,
   "id": "74702939",
   "metadata": {},
   "outputs": [
    {
     "data": {
      "text/plain": [
       "[['id', 'first_name', 'last_name', 'email', 'gender', 'ip_address', 'city'],\n",
       " ['1',\n",
       "  'Joseph',\n",
       "  'Zaniolini',\n",
       "  'jzaniolini0@simplemachines.org',\n",
       "  'Male',\n",
       "  '163.168.68.132',\n",
       "  'Pedro Leopoldo'],\n",
       " ['2',\n",
       "  'Freida',\n",
       "  'Drillingcourt',\n",
       "  'fdrillingcourt1@umich.edu',\n",
       "  'Female',\n",
       "  '97.212.102.79',\n",
       "  'Buri']]"
      ]
     },
     "execution_count": 5,
     "metadata": {},
     "output_type": "execute_result"
    }
   ],
   "source": [
    "csv_list[:3]"
   ]
  },
  {
   "cell_type": "markdown",
   "id": "b4547436",
   "metadata": {},
   "source": [
    "# تمرین 2"
   ]
  },
  {
   "cell_type": "code",
   "execution_count": 8,
   "id": "84f86e8e",
   "metadata": {},
   "outputs": [
    {
     "name": "stdout",
     "output_type": "stream",
     "text": [
      "['1', 'Joseph', 'Zaniolini', 'jzaniolini0@simplemachines.org', 'Male', '163.168.68.132', 'Pedro Leopoldo']\n",
      "['2', 'Freida', 'Drillingcourt', 'fdrillingcourt1@umich.edu', 'Female', '97.212.102.79', 'Buri']\n",
      "['3', 'Nanni', 'Herity', 'nherity2@statcounter.com', 'Female', '145.151.178.98', 'Claver']\n",
      "['4', 'Orazio', 'Frayling', 'ofrayling3@economist.com', 'Male', '25.199.143.143', 'Kungur']\n",
      "['5', 'Julianne', 'Murrison', 'jmurrison4@cbslocal.com', 'Female', '10.186.243.144', 'Sainte-Luce-sur-Loire']\n"
     ]
    }
   ],
   "source": [
    "for item in csv_list[1:6]:\n",
    "    print(item)"
   ]
  },
  {
   "cell_type": "markdown",
   "id": "914819b8",
   "metadata": {},
   "source": [
    "# تمرین 3"
   ]
  },
  {
   "cell_type": "code",
   "execution_count": 11,
   "id": "505e0ce0",
   "metadata": {},
   "outputs": [],
   "source": [
    "emails = []\n",
    "for item in csv_list[1:16]:\n",
    "    emails.append(item[3])"
   ]
  },
  {
   "cell_type": "code",
   "execution_count": 12,
   "id": "9c6dfd0d",
   "metadata": {},
   "outputs": [
    {
     "data": {
      "text/plain": [
       "['jzaniolini0@simplemachines.org',\n",
       " 'fdrillingcourt1@umich.edu',\n",
       " 'nherity2@statcounter.com',\n",
       " 'ofrayling3@economist.com',\n",
       " 'jmurrison4@cbslocal.com',\n",
       " 'lgamet5@list-manage.com',\n",
       " 'dhowatt6@amazon.com',\n",
       " 'kherion7@amazon.com',\n",
       " 'chedworth8@china.com.cn',\n",
       " 'hgasquoine9@google.ru',\n",
       " 'ftarra@shareasale.com',\n",
       " 'abathb@umn.edu',\n",
       " 'lchastangc@goo.gl',\n",
       " 'cceried@yale.edu',\n",
       " 'ajeppe@umich.edu']"
      ]
     },
     "execution_count": 12,
     "metadata": {},
     "output_type": "execute_result"
    }
   ],
   "source": [
    "emails"
   ]
  },
  {
   "cell_type": "markdown",
   "id": "6c372886",
   "metadata": {},
   "source": [
    "# تمرین 4"
   ]
  },
  {
   "cell_type": "code",
   "execution_count": 13,
   "id": "369ad212",
   "metadata": {},
   "outputs": [],
   "source": [
    "full_name = []\n",
    "for item in csv_list[1:16]:\n",
    "    full_name.append(item[1] + \" \" + item[2])"
   ]
  },
  {
   "cell_type": "code",
   "execution_count": 14,
   "id": "c365a87d",
   "metadata": {},
   "outputs": [
    {
     "data": {
      "text/plain": [
       "['Joseph Zaniolini',\n",
       " 'Freida Drillingcourt',\n",
       " 'Nanni Herity',\n",
       " 'Orazio Frayling',\n",
       " 'Julianne Murrison',\n",
       " 'Lucy Gamet',\n",
       " 'Dyana Howatt',\n",
       " 'Kassey Herion',\n",
       " 'Chrissy Hedworth',\n",
       " 'Hyatt Gasquoine',\n",
       " 'Felicdad Tarr',\n",
       " 'Andrew Bath',\n",
       " 'Lucais Chastang',\n",
       " 'Car Cerie',\n",
       " 'Alvera Jepp']"
      ]
     },
     "execution_count": 14,
     "metadata": {},
     "output_type": "execute_result"
    }
   ],
   "source": [
    "full_name"
   ]
  },
  {
   "cell_type": "markdown",
   "id": "bef163ad",
   "metadata": {},
   "source": [
    "# تمرین 5"
   ]
  },
  {
   "cell_type": "code",
   "execution_count": 17,
   "id": "8eb4764c",
   "metadata": {},
   "outputs": [],
   "source": [
    "gender = []\n",
    "for item in csv_list[1:]:\n",
    "    gender.append(item[4])"
   ]
  },
  {
   "cell_type": "code",
   "execution_count": 22,
   "id": "e7738b86",
   "metadata": {},
   "outputs": [
    {
     "name": "stdout",
     "output_type": "stream",
     "text": [
      "486\n",
      "514\n"
     ]
    }
   ],
   "source": [
    "print(gender.count(\"Male\"))\n",
    "print(gender.count(\"Female\"))"
   ]
  },
  {
   "cell_type": "code",
   "execution_count": 23,
   "id": "0d0afd71",
   "metadata": {},
   "outputs": [],
   "source": [
    "csv_file.close()"
   ]
  },
  {
   "cell_type": "markdown",
   "id": "b0462e2a",
   "metadata": {},
   "source": [
    "# PDF file"
   ]
  },
  {
   "cell_type": "code",
   "execution_count": null,
   "id": "4609f7c5",
   "metadata": {},
   "outputs": [],
   "source": [
    "! pip install PyPDF2"
   ]
  },
  {
   "cell_type": "code",
   "execution_count": 24,
   "id": "dc587065",
   "metadata": {},
   "outputs": [],
   "source": [
    "import PyPDF2"
   ]
  },
  {
   "cell_type": "code",
   "execution_count": 26,
   "id": "46492c35",
   "metadata": {},
   "outputs": [],
   "source": [
    "pdf_file = open(\"Chapter11_Additional_content_part2.pdf\",mode=\"rb\")"
   ]
  },
  {
   "cell_type": "code",
   "execution_count": 27,
   "id": "23fed98b",
   "metadata": {},
   "outputs": [],
   "source": [
    "pdf_reader = PyPDF2.PdfFileReader(pdf_file)"
   ]
  },
  {
   "cell_type": "code",
   "execution_count": 28,
   "id": "1cebf7e6",
   "metadata": {},
   "outputs": [
    {
     "data": {
      "text/plain": [
       "18"
      ]
     },
     "execution_count": 28,
     "metadata": {},
     "output_type": "execute_result"
    }
   ],
   "source": [
    "pdf_reader.numPages"
   ]
  },
  {
   "cell_type": "code",
   "execution_count": 33,
   "id": "f5623fab",
   "metadata": {},
   "outputs": [],
   "source": [
    "get_page_one = pdf_reader.getPage(1)"
   ]
  },
  {
   "cell_type": "code",
   "execution_count": 34,
   "id": "e7471a05",
   "metadata": {},
   "outputs": [],
   "source": [
    "page_one_text = get_page_one.extractText()"
   ]
  },
  {
   "cell_type": "code",
   "execution_count": 35,
   "id": "c38d8c0c",
   "metadata": {},
   "outputs": [
    {
     "name": "stdout",
     "output_type": "stream",
     "text": [
      "کار با تصاویر در پایتون\n",
      "•معرفی متد ها و دستورات کتابخانه  pillow\n",
      "•  برای دسترسی به یک تصویر از متد open() استفاده میکنیم، این متد آدرس تصویر مد\n",
      "نظر را به عنوان ورودی دریافت میکند19\n",
      "\n"
     ]
    }
   ],
   "source": [
    "print(page_one_text)"
   ]
  },
  {
   "cell_type": "code",
   "execution_count": null,
   "id": "f91317cc",
   "metadata": {},
   "outputs": [],
   "source": []
  }
 ],
 "metadata": {
  "kernelspec": {
   "display_name": "Python 3 (ipykernel)",
   "language": "python",
   "name": "python3"
  },
  "language_info": {
   "codemirror_mode": {
    "name": "ipython",
    "version": 3
   },
   "file_extension": ".py",
   "mimetype": "text/x-python",
   "name": "python",
   "nbconvert_exporter": "python",
   "pygments_lexer": "ipython3",
   "version": "3.10.3"
  }
 },
 "nbformat": 4,
 "nbformat_minor": 5
}
