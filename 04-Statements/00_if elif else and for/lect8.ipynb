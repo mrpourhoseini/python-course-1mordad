{
 "cells": [
  {
   "cell_type": "markdown",
   "id": "8b2b6d70",
   "metadata": {},
   "source": [
    "# if, elif, else"
   ]
  },
  {
   "cell_type": "code",
   "execution_count": 1,
   "id": "037b358f",
   "metadata": {},
   "outputs": [
    {
     "name": "stdout",
     "output_type": "stream",
     "text": [
      "Hello World\n"
     ]
    }
   ],
   "source": [
    "if True:\n",
    "    print('Hello World')"
   ]
  },
  {
   "cell_type": "code",
   "execution_count": 7,
   "id": "5aa32c7a",
   "metadata": {},
   "outputs": [],
   "source": [
    "is_active = False\n",
    "\n",
    "if is_active:\n",
    "    print('User is activate')"
   ]
  },
  {
   "cell_type": "code",
   "execution_count": 10,
   "id": "7a9a630c",
   "metadata": {},
   "outputs": [
    {
     "name": "stdout",
     "output_type": "stream",
     "text": [
      "User is not active\n"
     ]
    }
   ],
   "source": [
    "is_active = False\n",
    "\n",
    "if is_active:\n",
    "    print('User is activate')\n",
    "else:\n",
    "    print('User is not active')"
   ]
  },
  {
   "cell_type": "code",
   "execution_count": 14,
   "id": "59a611b3",
   "metadata": {},
   "outputs": [
    {
     "name": "stdout",
     "output_type": "stream",
     "text": [
      "Welcome Editor!\n"
     ]
    }
   ],
   "source": [
    "role = 'editor'\n",
    "\n",
    "if role == 'admin':\n",
    "    print('Welcome Admin!')\n",
    "elif role == 'author':\n",
    "    print('Welcome Author!')\n",
    "elif role == 'editor':\n",
    "    print('Welcome Editor!')\n",
    "else:\n",
    "    print('Welcome User')"
   ]
  },
  {
   "cell_type": "markdown",
   "id": "23642a35",
   "metadata": {},
   "source": [
    "# for loops"
   ]
  },
  {
   "cell_type": "code",
   "execution_count": 23,
   "id": "912b0d99",
   "metadata": {},
   "outputs": [],
   "source": [
    "list1 = [1, 2, 3, 4, 5, 6, 7, 8, 9, 10]"
   ]
  },
  {
   "cell_type": "markdown",
   "id": "e62c0bd1",
   "metadata": {},
   "source": [
    "### example 1"
   ]
  },
  {
   "cell_type": "code",
   "execution_count": 20,
   "id": "829fa4b6",
   "metadata": {},
   "outputs": [
    {
     "name": "stdout",
     "output_type": "stream",
     "text": [
      "1\n",
      "2\n",
      "3\n",
      "4\n",
      "5\n",
      "6\n",
      "7\n",
      "8\n",
      "9\n",
      "10\n"
     ]
    }
   ],
   "source": [
    "for num in list1:\n",
    "    print(num)"
   ]
  },
  {
   "cell_type": "markdown",
   "id": "6e74981b",
   "metadata": {},
   "source": [
    "### example 2"
   ]
  },
  {
   "cell_type": "code",
   "execution_count": 24,
   "id": "31f8531e",
   "metadata": {},
   "outputs": [
    {
     "name": "stdout",
     "output_type": "stream",
     "text": [
      "2\n",
      "4\n",
      "6\n",
      "8\n",
      "10\n"
     ]
    }
   ],
   "source": [
    "for num in list1:\n",
    "    if num % 2 == 0:\n",
    "        print(num)"
   ]
  },
  {
   "cell_type": "markdown",
   "id": "e9585b5b",
   "metadata": {},
   "source": [
    "### example 3"
   ]
  },
  {
   "cell_type": "code",
   "execution_count": 32,
   "id": "91cbf9d8",
   "metadata": {},
   "outputs": [],
   "source": [
    "odd_list = []\n",
    "even_list = []"
   ]
  },
  {
   "cell_type": "code",
   "execution_count": 33,
   "id": "557e1d88",
   "metadata": {},
   "outputs": [],
   "source": [
    "# for num in list1:\n",
    "#     if num % 2 == 0:\n",
    "#         even_list.append(num)\n",
    "#     else:\n",
    "#         odd_list.append(num)\n",
    "for num in list1:\n",
    "    if num % 2 == 1:\n",
    "        odd_list.append(num)\n",
    "    else:\n",
    "        even_list.append(num)"
   ]
  },
  {
   "cell_type": "code",
   "execution_count": 34,
   "id": "2e58e2c8",
   "metadata": {},
   "outputs": [
    {
     "name": "stdout",
     "output_type": "stream",
     "text": [
      "[1, 3, 5, 7, 9]\n",
      "[2, 4, 6, 8, 10]\n"
     ]
    }
   ],
   "source": [
    "print(odd_list)\n",
    "print(even_list)"
   ]
  },
  {
   "cell_type": "markdown",
   "id": "62adb4ea",
   "metadata": {},
   "source": [
    "### example 4"
   ]
  },
  {
   "cell_type": "code",
   "execution_count": 35,
   "id": "e9e34acb",
   "metadata": {},
   "outputs": [
    {
     "data": {
      "text/plain": [
       "[1, 2, 3, 4, 5, 6, 7, 8, 9, 10]"
      ]
     },
     "execution_count": 35,
     "metadata": {},
     "output_type": "execute_result"
    }
   ],
   "source": [
    "list1"
   ]
  },
  {
   "cell_type": "code",
   "execution_count": 36,
   "id": "adc7b4ca",
   "metadata": {},
   "outputs": [],
   "source": [
    "list_sum = 0\n",
    "\n",
    "for num in list1:\n",
    "    list_sum += num"
   ]
  },
  {
   "cell_type": "code",
   "execution_count": 37,
   "id": "264ed3a7",
   "metadata": {},
   "outputs": [
    {
     "name": "stdout",
     "output_type": "stream",
     "text": [
      "55\n"
     ]
    }
   ],
   "source": [
    "print(list_sum)"
   ]
  },
  {
   "cell_type": "markdown",
   "id": "56845b40",
   "metadata": {},
   "source": [
    "### example 5"
   ]
  },
  {
   "cell_type": "code",
   "execution_count": 41,
   "id": "96117fa6",
   "metadata": {},
   "outputs": [
    {
     "name": "stdout",
     "output_type": "stream",
     "text": [
      "25\n",
      "3840\n"
     ]
    }
   ],
   "source": [
    "even_sum = 0\n",
    "odd_sum = 1\n",
    "\n",
    "for num in list1:\n",
    "    if num % 2 == 1:\n",
    "        even_sum += num\n",
    "    else:\n",
    "        odd_sum *= num\n",
    "        \n",
    "print(even_sum)\n",
    "print(odd_sum)"
   ]
  },
  {
   "cell_type": "markdown",
   "id": "0e50d0c3",
   "metadata": {},
   "source": [
    "### example 6"
   ]
  },
  {
   "cell_type": "code",
   "execution_count": 42,
   "id": "9c1e654f",
   "metadata": {},
   "outputs": [
    {
     "name": "stdout",
     "output_type": "stream",
     "text": [
      "H\n",
      "e\n",
      "l\n",
      "l\n",
      "o\n",
      " \n",
      "W\n",
      "o\n",
      "r\n",
      "l\n",
      "d\n"
     ]
    }
   ],
   "source": [
    "for letter in 'Hello World':\n",
    "    print(letter)"
   ]
  },
  {
   "cell_type": "markdown",
   "id": "3b010cf0",
   "metadata": {},
   "source": [
    "### example 7"
   ]
  },
  {
   "cell_type": "code",
   "execution_count": 43,
   "id": "11c765c3",
   "metadata": {},
   "outputs": [],
   "source": [
    "tup = (1, 2, 3, 4, 5)"
   ]
  },
  {
   "cell_type": "code",
   "execution_count": 44,
   "id": "00dbb036",
   "metadata": {},
   "outputs": [
    {
     "name": "stdout",
     "output_type": "stream",
     "text": [
      "1\n",
      "2\n",
      "3\n",
      "4\n",
      "5\n"
     ]
    }
   ],
   "source": [
    "for t in tup:\n",
    "    print(t)"
   ]
  },
  {
   "cell_type": "markdown",
   "id": "a0fcd69b",
   "metadata": {},
   "source": [
    "### example 8"
   ]
  },
  {
   "cell_type": "code",
   "execution_count": 45,
   "id": "24fb42c0",
   "metadata": {},
   "outputs": [],
   "source": [
    "list2 = [(1, 2), (3, 4), (5, 6)]"
   ]
  },
  {
   "cell_type": "code",
   "execution_count": 46,
   "id": "13793818",
   "metadata": {},
   "outputs": [
    {
     "name": "stdout",
     "output_type": "stream",
     "text": [
      "(1, 2)\n",
      "(3, 4)\n",
      "(5, 6)\n"
     ]
    }
   ],
   "source": [
    "for tup in list2:\n",
    "    print(tup)"
   ]
  },
  {
   "cell_type": "markdown",
   "id": "47b0f337",
   "metadata": {},
   "source": [
    "### example 9"
   ]
  },
  {
   "cell_type": "markdown",
   "id": "07a44436",
   "metadata": {},
   "source": [
    "#### آنپک کردن تاپل"
   ]
  },
  {
   "cell_type": "code",
   "execution_count": 50,
   "id": "c12602c5",
   "metadata": {},
   "outputs": [
    {
     "name": "stdout",
     "output_type": "stream",
     "text": [
      "1 \t 2\n",
      "3 \t 4\n",
      "5 \t 6\n"
     ]
    }
   ],
   "source": [
    "for t1,t2 in list2:\n",
    "    print(t1, '\\t' ,t2)"
   ]
  },
  {
   "cell_type": "markdown",
   "id": "b1cd2164",
   "metadata": {},
   "source": [
    "### example 10"
   ]
  },
  {
   "cell_type": "code",
   "execution_count": 51,
   "id": "8ee9a8e2",
   "metadata": {},
   "outputs": [],
   "source": [
    "d = {'k1': 1, 'k2': 2, 'k3': 3}"
   ]
  },
  {
   "cell_type": "code",
   "execution_count": 52,
   "id": "6c4a401c",
   "metadata": {},
   "outputs": [
    {
     "name": "stdout",
     "output_type": "stream",
     "text": [
      "k1\n",
      "k2\n",
      "k3\n"
     ]
    }
   ],
   "source": [
    "for item in d:\n",
    "    print(item)"
   ]
  },
  {
   "cell_type": "code",
   "execution_count": 53,
   "id": "68832833",
   "metadata": {},
   "outputs": [
    {
     "data": {
      "text/plain": [
       "dict_items([('k1', 1), ('k2', 2), ('k3', 3)])"
      ]
     },
     "execution_count": 53,
     "metadata": {},
     "output_type": "execute_result"
    }
   ],
   "source": [
    "d.items()"
   ]
  },
  {
   "cell_type": "markdown",
   "id": "f135aac3",
   "metadata": {},
   "source": [
    "#### آنپک کردن دیکشنری"
   ]
  },
  {
   "cell_type": "code",
   "execution_count": 56,
   "id": "b1a3c42a",
   "metadata": {},
   "outputs": [
    {
     "name": "stdout",
     "output_type": "stream",
     "text": [
      "k1 \t 1\n",
      "k2 \t 2\n",
      "k3 \t 3\n"
     ]
    }
   ],
   "source": [
    "for key,value in d.items():\n",
    "    print(key, '\\t' ,value)"
   ]
  },
  {
   "cell_type": "markdown",
   "id": "9e1f07ed",
   "metadata": {},
   "source": [
    "### تمرین: برنامه ای بنویسید که مجموع ارقام دیکشنری را محاسبه کند"
   ]
  },
  {
   "cell_type": "code",
   "execution_count": 1,
   "id": "544fea29",
   "metadata": {},
   "outputs": [],
   "source": [
    "my_d = {'k1': 1, 'k2': 2, 'k3': 3}"
   ]
  },
  {
   "cell_type": "code",
   "execution_count": 3,
   "id": "0d49ff0f",
   "metadata": {},
   "outputs": [
    {
     "name": "stdout",
     "output_type": "stream",
     "text": [
      "6\n"
     ]
    }
   ],
   "source": [
    "sum = 0\n",
    "for value in my_d.values():\n",
    "    sum += value\n",
    "print(sum)"
   ]
  }
 ],
 "metadata": {
  "kernelspec": {
   "display_name": "Python 3 (ipykernel)",
   "language": "python",
   "name": "python3"
  },
  "language_info": {
   "codemirror_mode": {
    "name": "ipython",
    "version": 3
   },
   "file_extension": ".py",
   "mimetype": "text/x-python",
   "name": "python",
   "nbconvert_exporter": "python",
   "pygments_lexer": "ipython3",
   "version": "3.10.3"
  }
 },
 "nbformat": 4,
 "nbformat_minor": 5
}
