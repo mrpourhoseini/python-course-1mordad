{
 "cells": [
  {
   "cell_type": "markdown",
   "id": "2c29ec67",
   "metadata": {
    "tags": []
   },
   "source": [
    "# وراثت"
   ]
  },
  {
   "cell_type": "code",
   "execution_count": 2,
   "id": "f2a13323",
   "metadata": {},
   "outputs": [],
   "source": [
    "class Person:\n",
    "    def __init__(self,first_name=\"\",last_name=\"\"):\n",
    "        self.first_name = first_name\n",
    "        self.last_name = last_name\n",
    "        \n",
    "    def hello(self,fname,lname):\n",
    "        self.first_name = fname\n",
    "        self.last_name = lname\n",
    "        print(f\"Hello {fname} {lname}\")"
   ]
  },
  {
   "cell_type": "code",
   "execution_count": 3,
   "id": "e3f7dcd4",
   "metadata": {},
   "outputs": [],
   "source": [
    "student = Person()"
   ]
  },
  {
   "cell_type": "code",
   "execution_count": 4,
   "id": "0a270fea",
   "metadata": {},
   "outputs": [
    {
     "name": "stdout",
     "output_type": "stream",
     "text": [
      "Hello Ali Hoseeini\n"
     ]
    }
   ],
   "source": [
    "student.hello(\"Ali\", \"Hoseeini\")"
   ]
  },
  {
   "cell_type": "code",
   "execution_count": 22,
   "id": "43e46b53",
   "metadata": {},
   "outputs": [],
   "source": [
    "class Student(Person):\n",
    "    def __init__(self,role=\"student\",score=None):\n",
    "        self.role = role\n",
    "        self.score = score\n",
    "        \n",
    "    def avrage(self,*args):\n",
    "        self.score = args\n",
    "        result = 0\n",
    "        for num in args:\n",
    "            result += num\n",
    "        print(f\"You're avrage = {result/len(args)}\")"
   ]
  },
  {
   "cell_type": "code",
   "execution_count": 23,
   "id": "f067f00b",
   "metadata": {},
   "outputs": [],
   "source": [
    "reza = Student()"
   ]
  },
  {
   "cell_type": "code",
   "execution_count": 24,
   "id": "2b5c6885",
   "metadata": {},
   "outputs": [
    {
     "data": {
      "text/plain": [
       "'student'"
      ]
     },
     "execution_count": 24,
     "metadata": {},
     "output_type": "execute_result"
    }
   ],
   "source": [
    "reza.role"
   ]
  },
  {
   "cell_type": "code",
   "execution_count": 25,
   "id": "7401a577",
   "metadata": {},
   "outputs": [
    {
     "name": "stdout",
     "output_type": "stream",
     "text": [
      "Hello Reza Ahmadi\n"
     ]
    }
   ],
   "source": [
    "reza.hello(\"Reza\", \"Ahmadi\")"
   ]
  },
  {
   "cell_type": "code",
   "execution_count": 26,
   "id": "5ea1a472-f4b2-4b45-9538-74b442d9814a",
   "metadata": {},
   "outputs": [
    {
     "name": "stdout",
     "output_type": "stream",
     "text": [
      "You're avrage = 15.0\n"
     ]
    }
   ],
   "source": [
    "reza.avrage(15,20,13,12,10,20)"
   ]
  },
  {
   "cell_type": "code",
   "execution_count": 27,
   "id": "c05cff50-84dd-4e5c-b0fd-60d3d4d15eb9",
   "metadata": {},
   "outputs": [
    {
     "data": {
      "text/plain": [
       "(15, 20, 13, 12, 10, 20)"
      ]
     },
     "execution_count": 27,
     "metadata": {},
     "output_type": "execute_result"
    }
   ],
   "source": [
    "reza.score"
   ]
  },
  {
   "cell_type": "code",
   "execution_count": 13,
   "id": "94cf4980",
   "metadata": {},
   "outputs": [],
   "source": [
    "mohammad = Student()"
   ]
  },
  {
   "cell_type": "code",
   "execution_count": 14,
   "id": "d1d10e31",
   "metadata": {},
   "outputs": [
    {
     "data": {
      "text/plain": [
       "'student'"
      ]
     },
     "execution_count": 14,
     "metadata": {},
     "output_type": "execute_result"
    }
   ],
   "source": [
    "mohammad.role"
   ]
  },
  {
   "cell_type": "code",
   "execution_count": 15,
   "id": "2616c735",
   "metadata": {},
   "outputs": [
    {
     "name": "stdout",
     "output_type": "stream",
     "text": [
      "Hello Mohammad Mohammadi\n"
     ]
    }
   ],
   "source": [
    "mohammad.hello(\"Mohammad\",\"Mohammadi\")"
   ]
  },
  {
   "cell_type": "code",
   "execution_count": 16,
   "id": "0b9e9755",
   "metadata": {},
   "outputs": [],
   "source": [
    "class Teacher(Person):\n",
    "    def __init__(self,role=\"teacher\"):\n",
    "        self.role = role "
   ]
  },
  {
   "cell_type": "code",
   "execution_count": 17,
   "id": "75b45f9f",
   "metadata": {},
   "outputs": [],
   "source": [
    "mazzdak = Teacher()"
   ]
  },
  {
   "cell_type": "code",
   "execution_count": 18,
   "id": "af523476",
   "metadata": {},
   "outputs": [
    {
     "name": "stdout",
     "output_type": "stream",
     "text": [
      "Hello Mazzdak Godarzi\n"
     ]
    }
   ],
   "source": [
    "mazzdak.hello(\"Mazzdak\", \"Godarzi\")"
   ]
  },
  {
   "cell_type": "markdown",
   "id": "daf1c9dd-a171-4e3d-be86-1459d9cb406b",
   "metadata": {},
   "source": [
    "# چندریختی"
   ]
  },
  {
   "cell_type": "markdown",
   "id": "ef935d48-9997-47aa-bb14-ad84401b5518",
   "metadata": {},
   "source": [
    "`class StudentTwo:\n",
    "    def __init__(self,name):\n",
    "        self.name = name\n",
    "        \n",
    "    def hello(self):\n",
    "        return self.name + \" is student\"`"
   ]
  },
  {
   "cell_type": "markdown",
   "id": "336e2b34-d6b6-44a8-a5ce-12b73efc6a9c",
   "metadata": {},
   "source": [
    "`class TeacherTwo:\n",
    "    def __init__(self,name):\n",
    "        self.name = name\n",
    "        \n",
    "    def hello(self):\n",
    "        return self.name + \" is teacher\"`"
   ]
  },
  {
   "cell_type": "code",
   "execution_count": 41,
   "id": "c039e9c9-6dcd-4960-b319-3300c7e2484b",
   "metadata": {},
   "outputs": [],
   "source": [
    "class PersonTwo:\n",
    "    def __init__(self,name):\n",
    "        self.name = name\n",
    "        \n",
    "    def hello(self):\n",
    "        pass"
   ]
  },
  {
   "cell_type": "code",
   "execution_count": 42,
   "id": "55ff846d-6a07-4a8c-a3c1-12d15f271293",
   "metadata": {},
   "outputs": [],
   "source": [
    "class StudentTwo(PersonTwo):\n",
    "    def hello(self):\n",
    "        return self.name + \" is student\"\n",
    "\n",
    "\n",
    "class TeacherTwo(PersonTwo):\n",
    "    def hello(self):\n",
    "        return self.name + \" is teacher\""
   ]
  },
  {
   "cell_type": "code",
   "execution_count": 43,
   "id": "29228639-ed32-492d-8970-49680762fe54",
   "metadata": {},
   "outputs": [],
   "source": [
    "student2 = StudentTwo(\"Ali\")\n",
    "teacher2 = TeacherTwo(\"Reza\")"
   ]
  },
  {
   "cell_type": "code",
   "execution_count": 44,
   "id": "94166168-4084-421d-848b-be718c529960",
   "metadata": {},
   "outputs": [
    {
     "data": {
      "text/plain": [
       "'Ali is student'"
      ]
     },
     "execution_count": 44,
     "metadata": {},
     "output_type": "execute_result"
    }
   ],
   "source": [
    "student2.hello()"
   ]
  },
  {
   "cell_type": "code",
   "execution_count": 45,
   "id": "5a1ff58f-c84a-463c-9d29-505801213ac9",
   "metadata": {},
   "outputs": [
    {
     "data": {
      "text/plain": [
       "'Reza is teacher'"
      ]
     },
     "execution_count": 45,
     "metadata": {},
     "output_type": "execute_result"
    }
   ],
   "source": [
    "teacher2.hello()"
   ]
  }
 ],
 "metadata": {
  "kernelspec": {
   "display_name": "Python 3 (ipykernel)",
   "language": "python",
   "name": "python3"
  },
  "language_info": {
   "codemirror_mode": {
    "name": "ipython",
    "version": 3
   },
   "file_extension": ".py",
   "mimetype": "text/x-python",
   "name": "python",
   "nbconvert_exporter": "python",
   "pygments_lexer": "ipython3",
   "version": "3.10.3"
  }
 },
 "nbformat": 4,
 "nbformat_minor": 5
}
