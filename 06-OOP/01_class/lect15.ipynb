{
 "cells": [
  {
   "cell_type": "markdown",
   "id": "8ed850b8",
   "metadata": {},
   "source": [
    "# class"
   ]
  },
  {
   "cell_type": "code",
   "execution_count": 1,
   "id": "869ae15c",
   "metadata": {},
   "outputs": [],
   "source": [
    "class Sample:\n",
    "    pass\n",
    "\n",
    "x = Sample()"
   ]
  },
  {
   "cell_type": "code",
   "execution_count": 3,
   "id": "ff445743",
   "metadata": {},
   "outputs": [
    {
     "data": {
      "text/plain": [
       "__main__.Sample"
      ]
     },
     "execution_count": 3,
     "metadata": {},
     "output_type": "execute_result"
    }
   ],
   "source": [
    "type(x)"
   ]
  },
  {
   "cell_type": "code",
   "execution_count": 4,
   "id": "91d69c62",
   "metadata": {},
   "outputs": [
    {
     "name": "stdout",
     "output_type": "stream",
     "text": [
      "<class '__main__.Sample'>\n"
     ]
    }
   ],
   "source": [
    "print(type(x))"
   ]
  },
  {
   "cell_type": "markdown",
   "id": "21ded86c",
   "metadata": {},
   "source": [
    "---"
   ]
  },
  {
   "cell_type": "code",
   "execution_count": 44,
   "id": "564d1d77",
   "metadata": {},
   "outputs": [],
   "source": [
    "class Person:\n",
    "    \"\"\"This is a Person class\"\"\"\n",
    "    def __init__(self,name=\"User\",age=0):\n",
    "        self.name = name\n",
    "        self.age = age\n",
    "    \n",
    "    def hello(self):\n",
    "        print(f\"Hello {self.name},Your're {self.age} years old\")"
   ]
  },
  {
   "cell_type": "code",
   "execution_count": 45,
   "id": "009aa3e7",
   "metadata": {},
   "outputs": [],
   "source": [
    "student = Person(\"Reza\", 25)"
   ]
  },
  {
   "cell_type": "code",
   "execution_count": 46,
   "id": "53ea6999",
   "metadata": {},
   "outputs": [
    {
     "name": "stdout",
     "output_type": "stream",
     "text": [
      "Hello Reza,Your're 25 years old\n"
     ]
    }
   ],
   "source": [
    "student.hello()"
   ]
  },
  {
   "cell_type": "code",
   "execution_count": 47,
   "id": "262a2903",
   "metadata": {},
   "outputs": [
    {
     "data": {
      "text/plain": [
       "'Reza'"
      ]
     },
     "execution_count": 47,
     "metadata": {},
     "output_type": "execute_result"
    }
   ],
   "source": [
    "student.name"
   ]
  },
  {
   "cell_type": "code",
   "execution_count": 34,
   "id": "7fd8052b",
   "metadata": {},
   "outputs": [
    {
     "data": {
      "text/plain": [
       "25"
      ]
     },
     "execution_count": 34,
     "metadata": {},
     "output_type": "execute_result"
    }
   ],
   "source": [
    "student.age"
   ]
  },
  {
   "cell_type": "markdown",
   "id": "f5e72e18",
   "metadata": {},
   "source": [
    "# class/method/attribute"
   ]
  },
  {
   "cell_type": "code",
   "execution_count": 55,
   "id": "6ab2409f",
   "metadata": {},
   "outputs": [],
   "source": [
    "class Circle:\n",
    "    pi = 3.14\n",
    "\n",
    "    def __init__(self,radius=1):\n",
    "        self.radius = radius\n",
    "        \n",
    "    def masahat(self,r=1):\n",
    "        self.radius = r\n",
    "        print(f\"circle masahat with {r} radius: {self.pi*r**2}\")\n",
    "        \n",
    "    def mohit(self,r=1):\n",
    "        self.radius = r\n",
    "        print(f\"circle mohit with {r} radius: {self.pi*r*2}\")"
   ]
  },
  {
   "cell_type": "code",
   "execution_count": 56,
   "id": "fbecacf8",
   "metadata": {},
   "outputs": [],
   "source": [
    "c = Circle()"
   ]
  },
  {
   "cell_type": "code",
   "execution_count": 57,
   "id": "42c5cf1b",
   "metadata": {},
   "outputs": [
    {
     "name": "stdout",
     "output_type": "stream",
     "text": [
      "circle masahat with 3 radius: 28.26\n"
     ]
    }
   ],
   "source": [
    "c.masahat(3)"
   ]
  },
  {
   "cell_type": "code",
   "execution_count": 58,
   "id": "ef8671be",
   "metadata": {},
   "outputs": [
    {
     "name": "stdout",
     "output_type": "stream",
     "text": [
      "circle mohit with 3 radius: 18.84\n"
     ]
    }
   ],
   "source": [
    "c.mohit(3)"
   ]
  },
  {
   "cell_type": "code",
   "execution_count": 59,
   "id": "2e588209",
   "metadata": {},
   "outputs": [
    {
     "data": {
      "text/plain": [
       "3"
      ]
     },
     "execution_count": 59,
     "metadata": {},
     "output_type": "execute_result"
    }
   ],
   "source": [
    "c.radius"
   ]
  },
  {
   "cell_type": "code",
   "execution_count": 62,
   "id": "03fd466b",
   "metadata": {},
   "outputs": [],
   "source": [
    "class Circle2:\n",
    "    pi = 3.14\n",
    "\n",
    "    def __init__(self,radius=1):\n",
    "        self.radius = radius\n",
    "        self.masahat = self.pi*radius**2\n",
    "        self.mohit = self.pi*radius*2\n",
    "        \n",
    "    def show(self):\n",
    "        print(f\"Redius = {self.radius}\")\n",
    "        print(f\"masahat = {self.masahat}\")        \n",
    "        print(f\"mohit = {self.mohit}\")"
   ]
  },
  {
   "cell_type": "code",
   "execution_count": 65,
   "id": "99a6b87f",
   "metadata": {},
   "outputs": [],
   "source": [
    "c2 = Circle2(3)"
   ]
  },
  {
   "cell_type": "code",
   "execution_count": 66,
   "id": "7ff25822",
   "metadata": {},
   "outputs": [
    {
     "name": "stdout",
     "output_type": "stream",
     "text": [
      "Redius = 3\n",
      "masahat = 28.26\n",
      "mohit = 18.84\n"
     ]
    }
   ],
   "source": [
    "c2.show()"
   ]
  },
  {
   "cell_type": "code",
   "execution_count": 67,
   "id": "9dd920ce",
   "metadata": {},
   "outputs": [
    {
     "data": {
      "text/plain": [
       "28.26"
      ]
     },
     "execution_count": 67,
     "metadata": {},
     "output_type": "execute_result"
    }
   ],
   "source": [
    "c2.masahat"
   ]
  },
  {
   "cell_type": "code",
   "execution_count": null,
   "id": "2ff95dd9",
   "metadata": {},
   "outputs": [],
   "source": []
  }
 ],
 "metadata": {
  "kernelspec": {
   "display_name": "Python 3 (ipykernel)",
   "language": "python",
   "name": "python3"
  },
  "language_info": {
   "codemirror_mode": {
    "name": "ipython",
    "version": 3
   },
   "file_extension": ".py",
   "mimetype": "text/x-python",
   "name": "python",
   "nbconvert_exporter": "python",
   "pygments_lexer": "ipython3",
   "version": "3.10.3"
  }
 },
 "nbformat": 4,
 "nbformat_minor": 5
}
