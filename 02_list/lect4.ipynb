{
 "cells": [
  {
   "cell_type": "markdown",
   "id": "f4775b9b",
   "metadata": {
    "jp-MarkdownHeadingCollapsed": true,
    "tags": []
   },
   "source": [
    "# List"
   ]
  },
  {
   "cell_type": "code",
   "execution_count": 1,
   "id": "2c9bf9f9",
   "metadata": {},
   "outputs": [],
   "source": [
    "my_list = ['Hello', 1, 2, 3.5, 'World', True]"
   ]
  },
  {
   "cell_type": "code",
   "execution_count": 2,
   "id": "c31a04b8",
   "metadata": {},
   "outputs": [
    {
     "data": {
      "text/plain": [
       "['Hello', 1, 2, 3.5, 'World', True]"
      ]
     },
     "execution_count": 2,
     "metadata": {},
     "output_type": "execute_result"
    }
   ],
   "source": [
    "my_list"
   ]
  },
  {
   "cell_type": "code",
   "execution_count": 5,
   "id": "489a4ba5",
   "metadata": {},
   "outputs": [
    {
     "name": "stdout",
     "output_type": "stream",
     "text": [
      "<class 'list'>\n"
     ]
    }
   ],
   "source": [
    "print(type(my_list))"
   ]
  },
  {
   "cell_type": "markdown",
   "id": "3f91d42a",
   "metadata": {
    "jp-MarkdownHeadingCollapsed": true,
    "tags": []
   },
   "source": [
    "## دسترسی به آیتم های لیست با اندیس"
   ]
  },
  {
   "cell_type": "code",
   "execution_count": 6,
   "id": "14e3f3d8",
   "metadata": {},
   "outputs": [
    {
     "data": {
      "text/plain": [
       "'Hello'"
      ]
     },
     "execution_count": 6,
     "metadata": {},
     "output_type": "execute_result"
    }
   ],
   "source": [
    "my_list[0]"
   ]
  },
  {
   "cell_type": "code",
   "execution_count": 7,
   "id": "3e9d7b53",
   "metadata": {},
   "outputs": [
    {
     "data": {
      "text/plain": [
       "True"
      ]
     },
     "execution_count": 7,
     "metadata": {},
     "output_type": "execute_result"
    }
   ],
   "source": [
    "my_list[5]"
   ]
  },
  {
   "cell_type": "code",
   "execution_count": 8,
   "id": "2edbfb8b",
   "metadata": {},
   "outputs": [
    {
     "data": {
      "text/plain": [
       "3.5"
      ]
     },
     "execution_count": 8,
     "metadata": {},
     "output_type": "execute_result"
    }
   ],
   "source": [
    "my_list[3]"
   ]
  },
  {
   "cell_type": "code",
   "execution_count": 9,
   "id": "8296f144",
   "metadata": {},
   "outputs": [
    {
     "data": {
      "text/plain": [
       "True"
      ]
     },
     "execution_count": 9,
     "metadata": {},
     "output_type": "execute_result"
    }
   ],
   "source": [
    "my_list[-1]"
   ]
  },
  {
   "cell_type": "code",
   "execution_count": 10,
   "id": "efad8545",
   "metadata": {},
   "outputs": [
    {
     "data": {
      "text/plain": [
       "3.5"
      ]
     },
     "execution_count": 10,
     "metadata": {},
     "output_type": "execute_result"
    }
   ],
   "source": [
    "my_list[-3]"
   ]
  },
  {
   "cell_type": "code",
   "execution_count": 11,
   "id": "b3aaf2dc",
   "metadata": {},
   "outputs": [
    {
     "data": {
      "text/plain": [
       "'Hello'"
      ]
     },
     "execution_count": 11,
     "metadata": {},
     "output_type": "execute_result"
    }
   ],
   "source": [
    "my_list[-6]"
   ]
  },
  {
   "cell_type": "code",
   "execution_count": 16,
   "id": "81555e54",
   "metadata": {},
   "outputs": [
    {
     "name": "stdout",
     "output_type": "stream",
     "text": [
      "Hello World\n"
     ]
    }
   ],
   "source": [
    "print(f\"{my_list[0]} {my_list[-2]}\")"
   ]
  },
  {
   "cell_type": "code",
   "execution_count": 12,
   "id": "eabb5376",
   "metadata": {},
   "outputs": [
    {
     "ename": "IndexError",
     "evalue": "list index out of range",
     "output_type": "error",
     "traceback": [
      "\u001b[1;31m---------------------------------------------------------------------------\u001b[0m",
      "\u001b[1;31mIndexError\u001b[0m                                Traceback (most recent call last)",
      "Input \u001b[1;32mIn [12]\u001b[0m, in \u001b[0;36m<cell line: 1>\u001b[1;34m()\u001b[0m\n\u001b[1;32m----> 1\u001b[0m \u001b[43mmy_list\u001b[49m\u001b[43m[\u001b[49m\u001b[38;5;241;43m8\u001b[39;49m\u001b[43m]\u001b[49m\n",
      "\u001b[1;31mIndexError\u001b[0m: list index out of range"
     ]
    }
   ],
   "source": [
    "my_list[8]"
   ]
  },
  {
   "cell_type": "code",
   "execution_count": 13,
   "id": "b72809fb",
   "metadata": {},
   "outputs": [
    {
     "ename": "IndexError",
     "evalue": "list index out of range",
     "output_type": "error",
     "traceback": [
      "\u001b[1;31m---------------------------------------------------------------------------\u001b[0m",
      "\u001b[1;31mIndexError\u001b[0m                                Traceback (most recent call last)",
      "Input \u001b[1;32mIn [13]\u001b[0m, in \u001b[0;36m<cell line: 1>\u001b[1;34m()\u001b[0m\n\u001b[1;32m----> 1\u001b[0m \u001b[43mmy_list\u001b[49m\u001b[43m[\u001b[49m\u001b[38;5;241;43m-\u001b[39;49m\u001b[38;5;241;43m7\u001b[39;49m\u001b[43m]\u001b[49m\n",
      "\u001b[1;31mIndexError\u001b[0m: list index out of range"
     ]
    }
   ],
   "source": [
    "my_list[-7]"
   ]
  },
  {
   "cell_type": "markdown",
   "id": "16f228a9",
   "metadata": {
    "jp-MarkdownHeadingCollapsed": true,
    "tags": []
   },
   "source": [
    "## برش لیست"
   ]
  },
  {
   "cell_type": "code",
   "execution_count": 14,
   "id": "1ecaea45",
   "metadata": {},
   "outputs": [
    {
     "data": {
      "text/plain": [
       "['Hello', 1, 2, 3.5, 'World', True]"
      ]
     },
     "execution_count": 14,
     "metadata": {},
     "output_type": "execute_result"
    }
   ],
   "source": [
    "my_list"
   ]
  },
  {
   "cell_type": "code",
   "execution_count": 17,
   "id": "b180709a",
   "metadata": {},
   "outputs": [
    {
     "data": {
      "text/plain": [
       "['Hello', 1, 2, 3.5, 'World', True]"
      ]
     },
     "execution_count": 17,
     "metadata": {},
     "output_type": "execute_result"
    }
   ],
   "source": [
    "my_list[:]"
   ]
  },
  {
   "cell_type": "code",
   "execution_count": 18,
   "id": "c077196f",
   "metadata": {},
   "outputs": [
    {
     "data": {
      "text/plain": [
       "[1, 2, 3.5]"
      ]
     },
     "execution_count": 18,
     "metadata": {},
     "output_type": "execute_result"
    }
   ],
   "source": [
    "my_list[1:4]"
   ]
  },
  {
   "cell_type": "code",
   "execution_count": 19,
   "id": "12185fa1",
   "metadata": {},
   "outputs": [
    {
     "data": {
      "text/plain": [
       "[True, 'World', 3.5, 2, 1, 'Hello']"
      ]
     },
     "execution_count": 19,
     "metadata": {},
     "output_type": "execute_result"
    }
   ],
   "source": [
    "my_list[::-1]"
   ]
  },
  {
   "cell_type": "code",
   "execution_count": 20,
   "id": "5c29d84b",
   "metadata": {},
   "outputs": [],
   "source": [
    "my_list[2] = 5"
   ]
  },
  {
   "cell_type": "code",
   "execution_count": 21,
   "id": "35cbe99c",
   "metadata": {},
   "outputs": [
    {
     "data": {
      "text/plain": [
       "['Hello', 1, 5, 3.5, 'World', True]"
      ]
     },
     "execution_count": 21,
     "metadata": {},
     "output_type": "execute_result"
    }
   ],
   "source": [
    "my_list"
   ]
  },
  {
   "cell_type": "code",
   "execution_count": 24,
   "id": "60419ed7",
   "metadata": {},
   "outputs": [
    {
     "ename": "TypeError",
     "evalue": "'str' object does not support item assignment",
     "output_type": "error",
     "traceback": [
      "\u001b[1;31m---------------------------------------------------------------------------\u001b[0m",
      "\u001b[1;31mTypeError\u001b[0m                                 Traceback (most recent call last)",
      "Input \u001b[1;32mIn [24]\u001b[0m, in \u001b[0;36m<cell line: 1>\u001b[1;34m()\u001b[0m\n\u001b[1;32m----> 1\u001b[0m my_list[\u001b[38;5;241m0\u001b[39m][\u001b[38;5;241m0\u001b[39m] \u001b[38;5;241m=\u001b[39m \u001b[38;5;124m\"\u001b[39m\u001b[38;5;124mG\u001b[39m\u001b[38;5;124m\"\u001b[39m\n",
      "\u001b[1;31mTypeError\u001b[0m: 'str' object does not support item assignment"
     ]
    }
   ],
   "source": [
    "my_list[0][0] = \"G\""
   ]
  },
  {
   "cell_type": "markdown",
   "id": "2a32ec92",
   "metadata": {
    "jp-MarkdownHeadingCollapsed": true,
    "tags": []
   },
   "source": [
    "## تخصیص مجدد مقدار به لیست"
   ]
  },
  {
   "cell_type": "code",
   "execution_count": 25,
   "id": "f89d0658",
   "metadata": {},
   "outputs": [
    {
     "data": {
      "text/plain": [
       "['Hello', 1, 5, 3.5, 'World', True]"
      ]
     },
     "execution_count": 25,
     "metadata": {},
     "output_type": "execute_result"
    }
   ],
   "source": [
    "my_list"
   ]
  },
  {
   "cell_type": "code",
   "execution_count": 26,
   "id": "cf70b1cb",
   "metadata": {},
   "outputs": [
    {
     "data": {
      "text/plain": [
       "['Hello', 1, 5, 3.5, 'World', True, 'New Item']"
      ]
     },
     "execution_count": 26,
     "metadata": {},
     "output_type": "execute_result"
    }
   ],
   "source": [
    "my_list + ['New Item']"
   ]
  },
  {
   "cell_type": "code",
   "execution_count": 27,
   "id": "7d20b206",
   "metadata": {},
   "outputs": [
    {
     "data": {
      "text/plain": [
       "['Hello', 1, 5, 3.5, 'World', True]"
      ]
     },
     "execution_count": 27,
     "metadata": {},
     "output_type": "execute_result"
    }
   ],
   "source": [
    "my_list"
   ]
  },
  {
   "cell_type": "code",
   "execution_count": 28,
   "id": "393bc246",
   "metadata": {},
   "outputs": [],
   "source": [
    "my_list = my_list + ['New Item']"
   ]
  },
  {
   "cell_type": "code",
   "execution_count": 29,
   "id": "d852576e",
   "metadata": {},
   "outputs": [
    {
     "data": {
      "text/plain": [
       "['Hello', 1, 5, 3.5, 'World', True, 'New Item']"
      ]
     },
     "execution_count": 29,
     "metadata": {},
     "output_type": "execute_result"
    }
   ],
   "source": [
    "my_list"
   ]
  },
  {
   "cell_type": "code",
   "execution_count": 30,
   "id": "80bdf43f",
   "metadata": {},
   "outputs": [],
   "source": [
    "my_list += [10]"
   ]
  },
  {
   "cell_type": "code",
   "execution_count": 31,
   "id": "0b45c04f",
   "metadata": {},
   "outputs": [
    {
     "data": {
      "text/plain": [
       "['Hello', 1, 5, 3.5, 'World', True, 'New Item', 10]"
      ]
     },
     "execution_count": 31,
     "metadata": {},
     "output_type": "execute_result"
    }
   ],
   "source": [
    "my_list"
   ]
  },
  {
   "cell_type": "markdown",
   "id": "4f77c974",
   "metadata": {},
   "source": [
    "## duplication"
   ]
  },
  {
   "cell_type": "code",
   "execution_count": 32,
   "id": "51f53f13",
   "metadata": {},
   "outputs": [
    {
     "data": {
      "text/plain": [
       "['Hello', 1, 5, 3.5, 'World', True, 'New Item', 10]"
      ]
     },
     "execution_count": 32,
     "metadata": {},
     "output_type": "execute_result"
    }
   ],
   "source": [
    "my_list"
   ]
  },
  {
   "cell_type": "code",
   "execution_count": 36,
   "id": "3f3d0ead",
   "metadata": {},
   "outputs": [
    {
     "data": {
      "text/plain": [
       "['Hello',\n",
       " 1,\n",
       " 5,\n",
       " 3.5,\n",
       " 'World',\n",
       " True,\n",
       " 'New Item',\n",
       " 10,\n",
       " 'Hello',\n",
       " 1,\n",
       " 5,\n",
       " 3.5,\n",
       " 'World',\n",
       " True,\n",
       " 'New Item',\n",
       " 10]"
      ]
     },
     "execution_count": 36,
     "metadata": {},
     "output_type": "execute_result"
    }
   ],
   "source": [
    "my_list * 2"
   ]
  },
  {
   "cell_type": "code",
   "execution_count": 35,
   "id": "0b5e6dc8",
   "metadata": {},
   "outputs": [
    {
     "data": {
      "text/plain": [
       "list"
      ]
     },
     "execution_count": 35,
     "metadata": {},
     "output_type": "execute_result"
    }
   ],
   "source": [
    "type(my_list * 3)"
   ]
  },
  {
   "cell_type": "markdown",
   "id": "5fa7798c-27e2-445a-8757-466dded51313",
   "metadata": {},
   "source": [
    "# متدهای لیست"
   ]
  },
  {
   "cell_type": "markdown",
   "id": "e11983cc-9c2c-4eae-b024-200295924a14",
   "metadata": {
    "jp-MarkdownHeadingCollapsed": true,
    "tags": []
   },
   "source": [
    "### 1. append"
   ]
  },
  {
   "cell_type": "code",
   "execution_count": 1,
   "id": "8f9706d7-4e2e-43d7-a2cc-2cdb57734944",
   "metadata": {},
   "outputs": [],
   "source": [
    "my_lst = [1, 2, True, 2.5]"
   ]
  },
  {
   "cell_type": "code",
   "execution_count": 2,
   "id": "9b1ff5eb-8741-499e-a378-9817afea613e",
   "metadata": {},
   "outputs": [
    {
     "data": {
      "text/plain": [
       "[1, 2, True, 2.5]"
      ]
     },
     "execution_count": 2,
     "metadata": {},
     "output_type": "execute_result"
    }
   ],
   "source": [
    "my_lst"
   ]
  },
  {
   "cell_type": "code",
   "execution_count": 3,
   "id": "d3d74280-ccf0-4a0c-9080-fc3be51c4757",
   "metadata": {},
   "outputs": [],
   "source": [
    "my_lst.append('Hello World')"
   ]
  },
  {
   "cell_type": "code",
   "execution_count": 4,
   "id": "a946cfb5-80ac-4557-9d33-ccf3281aee2a",
   "metadata": {},
   "outputs": [
    {
     "data": {
      "text/plain": [
       "[1, 2, True, 2.5, 'Hello World']"
      ]
     },
     "execution_count": 4,
     "metadata": {},
     "output_type": "execute_result"
    }
   ],
   "source": [
    "my_lst"
   ]
  },
  {
   "cell_type": "code",
   "execution_count": 5,
   "id": "0b190ccd-e935-45ef-8114-22554a798186",
   "metadata": {},
   "outputs": [],
   "source": [
    "my_lst.append([1, 2, 3])"
   ]
  },
  {
   "cell_type": "code",
   "execution_count": 6,
   "id": "45de9d20-d83a-4c78-b120-cf8eaad57b06",
   "metadata": {},
   "outputs": [
    {
     "data": {
      "text/plain": [
       "[1, 2, True, 2.5, 'Hello World', [1, 2, 3]]"
      ]
     },
     "execution_count": 6,
     "metadata": {},
     "output_type": "execute_result"
    }
   ],
   "source": [
    "my_lst"
   ]
  },
  {
   "cell_type": "code",
   "execution_count": 7,
   "id": "809159a6-7624-4181-9848-aacb29dc54d7",
   "metadata": {},
   "outputs": [
    {
     "data": {
      "text/plain": [
       "[1, 2, 3]"
      ]
     },
     "execution_count": 7,
     "metadata": {},
     "output_type": "execute_result"
    }
   ],
   "source": [
    "my_lst[-1]"
   ]
  },
  {
   "cell_type": "code",
   "execution_count": 8,
   "id": "a02a0ac5-e25a-4e67-8949-6b679d9470fe",
   "metadata": {},
   "outputs": [],
   "source": [
    "my_lst[-1].append(10)"
   ]
  },
  {
   "cell_type": "code",
   "execution_count": 9,
   "id": "cc2cb2e0-6af0-4756-9b01-b619990b8722",
   "metadata": {},
   "outputs": [
    {
     "data": {
      "text/plain": [
       "[1, 2, True, 2.5, 'Hello World', [1, 2, 3, 10]]"
      ]
     },
     "execution_count": 9,
     "metadata": {},
     "output_type": "execute_result"
    }
   ],
   "source": [
    "my_lst"
   ]
  },
  {
   "cell_type": "code",
   "execution_count": 10,
   "id": "773eb6e5-400d-430d-bd67-780b444dded9",
   "metadata": {},
   "outputs": [
    {
     "data": {
      "text/plain": [
       "3"
      ]
     },
     "execution_count": 10,
     "metadata": {},
     "output_type": "execute_result"
    }
   ],
   "source": [
    "my_lst[-1][-2]"
   ]
  },
  {
   "cell_type": "markdown",
   "id": "3df8155c-3c32-463e-ab54-5b7c4e97c0dd",
   "metadata": {
    "jp-MarkdownHeadingCollapsed": true,
    "tags": []
   },
   "source": [
    "### 2. insert()"
   ]
  },
  {
   "cell_type": "code",
   "execution_count": 11,
   "id": "e8e4d6f1-d73f-4000-be6a-30476b8eda70",
   "metadata": {},
   "outputs": [
    {
     "data": {
      "text/plain": [
       "[1, 2, True, 2.5, 'Hello World', [1, 2, 3, 10]]"
      ]
     },
     "execution_count": 11,
     "metadata": {},
     "output_type": "execute_result"
    }
   ],
   "source": [
    "my_lst"
   ]
  },
  {
   "cell_type": "code",
   "execution_count": 12,
   "id": "a0599e14-c55e-4055-a91a-b956d4236e60",
   "metadata": {},
   "outputs": [],
   "source": [
    "my_lst.insert(2, False)"
   ]
  },
  {
   "cell_type": "code",
   "execution_count": 13,
   "id": "edf1ae54-c71c-4b5c-ba5e-e6296c781d0f",
   "metadata": {},
   "outputs": [
    {
     "data": {
      "text/plain": [
       "[1, 2, False, True, 2.5, 'Hello World', [1, 2, 3, 10]]"
      ]
     },
     "execution_count": 13,
     "metadata": {},
     "output_type": "execute_result"
    }
   ],
   "source": [
    "my_lst"
   ]
  },
  {
   "cell_type": "code",
   "execution_count": 14,
   "id": "18578202-1f6b-464d-a700-711f92581b92",
   "metadata": {},
   "outputs": [],
   "source": [
    "my_lst.insert(-2, 'Ali')"
   ]
  },
  {
   "cell_type": "code",
   "execution_count": 15,
   "id": "fedf8217-c854-4a1a-ae7a-6bf528cf1895",
   "metadata": {},
   "outputs": [
    {
     "data": {
      "text/plain": [
       "[1, 2, False, True, 2.5, 'Ali', 'Hello World', [1, 2, 3, 10]]"
      ]
     },
     "execution_count": 15,
     "metadata": {},
     "output_type": "execute_result"
    }
   ],
   "source": [
    "my_lst"
   ]
  },
  {
   "cell_type": "code",
   "execution_count": 16,
   "id": "f433f881-73cd-4a1b-8f3d-116fb5a3c39f",
   "metadata": {},
   "outputs": [],
   "source": [
    "my_lst.insert(-1, 'Hello')"
   ]
  },
  {
   "cell_type": "code",
   "execution_count": 17,
   "id": "90b1a023-0210-409e-9c50-ab1515576248",
   "metadata": {},
   "outputs": [
    {
     "data": {
      "text/plain": [
       "[1, 2, False, True, 2.5, 'Ali', 'Hello World', 'Hello', [1, 2, 3, 10]]"
      ]
     },
     "execution_count": 17,
     "metadata": {},
     "output_type": "execute_result"
    }
   ],
   "source": [
    "my_lst"
   ]
  },
  {
   "cell_type": "markdown",
   "id": "75107f14-ab96-4ef7-bb09-f3214b1d3e76",
   "metadata": {
    "jp-MarkdownHeadingCollapsed": true,
    "tags": []
   },
   "source": [
    "### 3. pop()"
   ]
  },
  {
   "cell_type": "code",
   "execution_count": 18,
   "id": "34bd892f-bc67-43b8-9410-264577c5e30c",
   "metadata": {},
   "outputs": [
    {
     "data": {
      "text/plain": [
       "[1, 2, False, True, 2.5, 'Ali', 'Hello World', 'Hello', [1, 2, 3, 10]]"
      ]
     },
     "execution_count": 18,
     "metadata": {},
     "output_type": "execute_result"
    }
   ],
   "source": [
    "my_lst"
   ]
  },
  {
   "cell_type": "code",
   "execution_count": 19,
   "id": "9fe946bb-b5c2-45ff-8ba3-6a3e772454e4",
   "metadata": {},
   "outputs": [
    {
     "data": {
      "text/plain": [
       "[1, 2, 3, 10]"
      ]
     },
     "execution_count": 19,
     "metadata": {},
     "output_type": "execute_result"
    }
   ],
   "source": [
    "my_lst.pop()"
   ]
  },
  {
   "cell_type": "code",
   "execution_count": 20,
   "id": "5f0a74d5-e867-4437-a7dd-762f067dfdd4",
   "metadata": {},
   "outputs": [
    {
     "data": {
      "text/plain": [
       "[1, 2, False, True, 2.5, 'Ali', 'Hello World', 'Hello']"
      ]
     },
     "execution_count": 20,
     "metadata": {},
     "output_type": "execute_result"
    }
   ],
   "source": [
    "my_lst"
   ]
  },
  {
   "cell_type": "code",
   "execution_count": 21,
   "id": "fce96e47-527f-4297-9be9-643565dac2b8",
   "metadata": {},
   "outputs": [],
   "source": [
    "hello_world = my_lst.pop(-2)"
   ]
  },
  {
   "cell_type": "code",
   "execution_count": 22,
   "id": "cb5f2e98-52b8-435d-8c3a-056d07f81b22",
   "metadata": {},
   "outputs": [
    {
     "data": {
      "text/plain": [
       "[1, 2, False, True, 2.5, 'Ali', 'Hello']"
      ]
     },
     "execution_count": 22,
     "metadata": {},
     "output_type": "execute_result"
    }
   ],
   "source": [
    "my_lst"
   ]
  },
  {
   "cell_type": "code",
   "execution_count": 23,
   "id": "5e018505-1f22-4c0d-b338-bc2bc3c8b93a",
   "metadata": {},
   "outputs": [
    {
     "name": "stdout",
     "output_type": "stream",
     "text": [
      "Hello World\n"
     ]
    }
   ],
   "source": [
    "print(hello_world)"
   ]
  },
  {
   "cell_type": "code",
   "execution_count": 24,
   "id": "b89de905-4591-41ba-b5f8-b7a321c4c9ff",
   "metadata": {},
   "outputs": [
    {
     "ename": "TypeError",
     "evalue": "pop expected at most 1 argument, got 2",
     "output_type": "error",
     "traceback": [
      "\u001b[1;31m---------------------------------------------------------------------------\u001b[0m",
      "\u001b[1;31mTypeError\u001b[0m                                 Traceback (most recent call last)",
      "Input \u001b[1;32mIn [24]\u001b[0m, in \u001b[0;36m<cell line: 1>\u001b[1;34m()\u001b[0m\n\u001b[1;32m----> 1\u001b[0m \u001b[43mmy_lst\u001b[49m\u001b[38;5;241;43m.\u001b[39;49m\u001b[43mpop\u001b[49m\u001b[43m(\u001b[49m\u001b[38;5;241;43m0\u001b[39;49m\u001b[43m,\u001b[49m\u001b[43m \u001b[49m\u001b[38;5;241;43m1\u001b[39;49m\u001b[43m)\u001b[49m\n",
      "\u001b[1;31mTypeError\u001b[0m: pop expected at most 1 argument, got 2"
     ]
    }
   ],
   "source": [
    "my_lst.pop(0, 1)"
   ]
  },
  {
   "cell_type": "markdown",
   "id": "0b36e849-a6fe-4ee3-bda6-165861588b28",
   "metadata": {
    "jp-MarkdownHeadingCollapsed": true,
    "tags": []
   },
   "source": [
    "### 4. reverse()"
   ]
  },
  {
   "cell_type": "code",
   "execution_count": 25,
   "id": "e5164ad0-8555-4ae2-925e-8e2cbf73396d",
   "metadata": {},
   "outputs": [
    {
     "data": {
      "text/plain": [
       "[1, 2, False, True, 2.5, 'Ali', 'Hello']"
      ]
     },
     "execution_count": 25,
     "metadata": {},
     "output_type": "execute_result"
    }
   ],
   "source": [
    "my_lst"
   ]
  },
  {
   "cell_type": "code",
   "execution_count": 26,
   "id": "7ba3978e-8819-4e2b-89f2-96d68a371bad",
   "metadata": {},
   "outputs": [],
   "source": [
    "my_lst.reverse()"
   ]
  },
  {
   "cell_type": "code",
   "execution_count": 27,
   "id": "629c5e3b-48bc-4aad-bc9e-c6a686727711",
   "metadata": {},
   "outputs": [
    {
     "data": {
      "text/plain": [
       "['Hello', 'Ali', 2.5, True, False, 2, 1]"
      ]
     },
     "execution_count": 27,
     "metadata": {},
     "output_type": "execute_result"
    }
   ],
   "source": [
    "my_lst"
   ]
  },
  {
   "cell_type": "markdown",
   "id": "8567485a-f017-43cd-93ce-f4d52ce1029a",
   "metadata": {
    "jp-MarkdownHeadingCollapsed": true,
    "tags": []
   },
   "source": [
    "### 5. len() Function"
   ]
  },
  {
   "cell_type": "code",
   "execution_count": 28,
   "id": "caa6d14b-6e7b-4f94-9a95-ca2b5c3aabe6",
   "metadata": {},
   "outputs": [
    {
     "data": {
      "text/plain": [
       "['Hello', 'Ali', 2.5, True, False, 2, 1]"
      ]
     },
     "execution_count": 28,
     "metadata": {},
     "output_type": "execute_result"
    }
   ],
   "source": [
    "my_lst"
   ]
  },
  {
   "cell_type": "code",
   "execution_count": 29,
   "id": "fc442085-21c8-4a33-9749-676a5d792354",
   "metadata": {},
   "outputs": [
    {
     "data": {
      "text/plain": [
       "7"
      ]
     },
     "execution_count": 29,
     "metadata": {},
     "output_type": "execute_result"
    }
   ],
   "source": [
    "len(my_lst)"
   ]
  },
  {
   "cell_type": "markdown",
   "id": "12e81002-220a-49f7-beee-4ee801fd9138",
   "metadata": {
    "jp-MarkdownHeadingCollapsed": true,
    "tags": []
   },
   "source": [
    "### 6. sort()"
   ]
  },
  {
   "cell_type": "code",
   "execution_count": 30,
   "id": "91fc416a-9f06-43b4-97a1-d898b238752b",
   "metadata": {},
   "outputs": [],
   "source": [
    "char_list = ['n', 'u', 'd', 'a', 'c', 'b']\n",
    "num_list = [20, 2, 1, 3, 10, 200, 60]"
   ]
  },
  {
   "cell_type": "code",
   "execution_count": 31,
   "id": "47faec41-1d99-4f36-b625-f22812bfc0e3",
   "metadata": {},
   "outputs": [],
   "source": [
    "char_list.sort()"
   ]
  },
  {
   "cell_type": "code",
   "execution_count": 32,
   "id": "dd95ebf1-9a6f-41f8-abf9-3f8bfd531415",
   "metadata": {},
   "outputs": [
    {
     "data": {
      "text/plain": [
       "['a', 'b', 'c', 'd', 'n', 'u']"
      ]
     },
     "execution_count": 32,
     "metadata": {},
     "output_type": "execute_result"
    }
   ],
   "source": [
    "char_list"
   ]
  },
  {
   "cell_type": "code",
   "execution_count": 33,
   "id": "0da0b5b7-e8e0-4eab-a261-bd655297bf43",
   "metadata": {},
   "outputs": [],
   "source": [
    "num_list.sort()"
   ]
  },
  {
   "cell_type": "code",
   "execution_count": 34,
   "id": "7fb3a4f5-2c8d-4ed2-bc4c-b82a28d4bf04",
   "metadata": {},
   "outputs": [
    {
     "data": {
      "text/plain": [
       "[1, 2, 3, 10, 20, 60, 200]"
      ]
     },
     "execution_count": 34,
     "metadata": {},
     "output_type": "execute_result"
    }
   ],
   "source": [
    "num_list"
   ]
  },
  {
   "cell_type": "code",
   "execution_count": 35,
   "id": "31acaf9b-a91b-4890-aef0-a874abbcf23f",
   "metadata": {},
   "outputs": [],
   "source": [
    "my_l = [20, 2, 1, 3, 'a', 'c', 'b']"
   ]
  },
  {
   "cell_type": "code",
   "execution_count": 36,
   "id": "77a80068-28d5-41b3-9df9-1ef2b48b2f17",
   "metadata": {},
   "outputs": [
    {
     "data": {
      "text/plain": [
       "[20, 2, 1, 3, 'a', 'c', 'b']"
      ]
     },
     "execution_count": 36,
     "metadata": {},
     "output_type": "execute_result"
    }
   ],
   "source": [
    "my_l"
   ]
  },
  {
   "cell_type": "code",
   "execution_count": 37,
   "id": "3cbe5f14-5778-4f3e-991b-c5f9ea3f11d1",
   "metadata": {},
   "outputs": [
    {
     "ename": "TypeError",
     "evalue": "'<' not supported between instances of 'str' and 'int'",
     "output_type": "error",
     "traceback": [
      "\u001b[1;31m---------------------------------------------------------------------------\u001b[0m",
      "\u001b[1;31mTypeError\u001b[0m                                 Traceback (most recent call last)",
      "Input \u001b[1;32mIn [37]\u001b[0m, in \u001b[0;36m<cell line: 1>\u001b[1;34m()\u001b[0m\n\u001b[1;32m----> 1\u001b[0m \u001b[43mmy_l\u001b[49m\u001b[38;5;241;43m.\u001b[39;49m\u001b[43msort\u001b[49m\u001b[43m(\u001b[49m\u001b[43m)\u001b[49m\n",
      "\u001b[1;31mTypeError\u001b[0m: '<' not supported between instances of 'str' and 'int'"
     ]
    }
   ],
   "source": [
    "my_l.sort()"
   ]
  },
  {
   "cell_type": "code",
   "execution_count": 38,
   "id": "459b9e2e-6628-4619-8286-56b00767f4f1",
   "metadata": {},
   "outputs": [],
   "source": [
    "str_list = ['Hello', 'hello', 'world', 'Ali', 'World']"
   ]
  },
  {
   "cell_type": "code",
   "execution_count": 39,
   "id": "e0d1ae96-3c25-494e-b8cd-dbc79081f3f9",
   "metadata": {},
   "outputs": [],
   "source": [
    "str_list.sort()"
   ]
  },
  {
   "cell_type": "code",
   "execution_count": 40,
   "id": "17d67700-1a34-4d2f-ba37-cff59fa50eda",
   "metadata": {},
   "outputs": [
    {
     "data": {
      "text/plain": [
       "['Ali', 'Hello', 'World', 'hello', 'world']"
      ]
     },
     "execution_count": 40,
     "metadata": {},
     "output_type": "execute_result"
    }
   ],
   "source": [
    "str_list"
   ]
  },
  {
   "cell_type": "code",
   "execution_count": 41,
   "id": "241f2a6b-6388-4a28-92bf-eb1f8a6a3c45",
   "metadata": {},
   "outputs": [],
   "source": [
    "float_list = [2, 0.75, 0.1, 10, -0.5, 0]"
   ]
  },
  {
   "cell_type": "code",
   "execution_count": 42,
   "id": "00db1317-4a10-426c-8153-ef3b83b4f731",
   "metadata": {},
   "outputs": [],
   "source": [
    "float_list.sort()"
   ]
  },
  {
   "cell_type": "code",
   "execution_count": 43,
   "id": "d76f42bc-d8d0-433e-ac29-12a91e9dc2c7",
   "metadata": {},
   "outputs": [
    {
     "data": {
      "text/plain": [
       "[-0.5, 0, 0.1, 0.75, 2, 10]"
      ]
     },
     "execution_count": 43,
     "metadata": {},
     "output_type": "execute_result"
    }
   ],
   "source": [
    "float_list"
   ]
  },
  {
   "cell_type": "code",
   "execution_count": 44,
   "id": "b81886ad-22bf-4a1a-9ffb-bcd6cd765b36",
   "metadata": {},
   "outputs": [],
   "source": [
    "float_list.reverse()"
   ]
  },
  {
   "cell_type": "code",
   "execution_count": 45,
   "id": "908bb01f-c472-475a-abbd-773050b9e91b",
   "metadata": {},
   "outputs": [
    {
     "data": {
      "text/plain": [
       "[10, 2, 0.75, 0.1, 0, -0.5]"
      ]
     },
     "execution_count": 45,
     "metadata": {},
     "output_type": "execute_result"
    }
   ],
   "source": [
    "float_list"
   ]
  },
  {
   "cell_type": "markdown",
   "id": "9cba550e-b204-4316-90ef-7b7ef70b6f6c",
   "metadata": {
    "jp-MarkdownHeadingCollapsed": true,
    "tags": []
   },
   "source": [
    "# لیست های تو در تو"
   ]
  },
  {
   "cell_type": "code",
   "execution_count": 46,
   "id": "04a6655e-f72a-4696-be1b-696b5675f1f4",
   "metadata": {},
   "outputs": [],
   "source": [
    "lst_1 = [1, 2, 3]\n",
    "lst_2 = [10, 20, 30]\n",
    "lst_3 = [100, 200, 300]"
   ]
  },
  {
   "cell_type": "code",
   "execution_count": 47,
   "id": "50eddddb-7c49-440c-9311-832857e253e4",
   "metadata": {},
   "outputs": [],
   "source": [
    "matrix = [lst_1, lst_2, lst_3]"
   ]
  },
  {
   "cell_type": "code",
   "execution_count": 48,
   "id": "4bcd14f7-5420-4534-a6bb-bad9d0e4c32c",
   "metadata": {},
   "outputs": [
    {
     "data": {
      "text/plain": [
       "[[1, 2, 3], [10, 20, 30], [100, 200, 300]]"
      ]
     },
     "execution_count": 48,
     "metadata": {},
     "output_type": "execute_result"
    }
   ],
   "source": [
    "matrix"
   ]
  },
  {
   "cell_type": "code",
   "execution_count": 49,
   "id": "ee722a44-768e-4141-8001-0b4c4ba0e385",
   "metadata": {},
   "outputs": [
    {
     "data": {
      "text/plain": [
       "[10, 20, 30]"
      ]
     },
     "execution_count": 49,
     "metadata": {},
     "output_type": "execute_result"
    }
   ],
   "source": [
    "matrix[1]"
   ]
  },
  {
   "cell_type": "code",
   "execution_count": 50,
   "id": "46513890-17d1-448e-957d-78b5d6830515",
   "metadata": {},
   "outputs": [
    {
     "data": {
      "text/plain": [
       "20"
      ]
     },
     "execution_count": 50,
     "metadata": {},
     "output_type": "execute_result"
    }
   ],
   "source": [
    "matrix[1][1]"
   ]
  },
  {
   "cell_type": "code",
   "execution_count": 51,
   "id": "d3a0d72a-6c7b-4e40-beeb-61e76dc866a4",
   "metadata": {},
   "outputs": [
    {
     "data": {
      "text/plain": [
       "300"
      ]
     },
     "execution_count": 51,
     "metadata": {},
     "output_type": "execute_result"
    }
   ],
   "source": [
    "matrix[-1][-1]"
   ]
  },
  {
   "cell_type": "code",
   "execution_count": 52,
   "id": "8d922aba-bcf8-4b8d-9e06-9c6f77934a65",
   "metadata": {},
   "outputs": [
    {
     "data": {
      "text/plain": [
       "300"
      ]
     },
     "execution_count": 52,
     "metadata": {},
     "output_type": "execute_result"
    }
   ],
   "source": [
    "matrix[2][2]"
   ]
  },
  {
   "cell_type": "code",
   "execution_count": 53,
   "id": "12238af3-2977-48c9-b365-cd507daa3f0a",
   "metadata": {},
   "outputs": [
    {
     "data": {
      "text/plain": [
       "3"
      ]
     },
     "execution_count": 53,
     "metadata": {},
     "output_type": "execute_result"
    }
   ],
   "source": [
    "matrix[0].pop()"
   ]
  },
  {
   "cell_type": "code",
   "execution_count": 54,
   "id": "30070956-3471-4a7a-aa70-15fc04bc237e",
   "metadata": {},
   "outputs": [
    {
     "data": {
      "text/plain": [
       "20"
      ]
     },
     "execution_count": 54,
     "metadata": {},
     "output_type": "execute_result"
    }
   ],
   "source": [
    "matrix[1].pop(1)"
   ]
  },
  {
   "cell_type": "code",
   "execution_count": 55,
   "id": "2ab1e007-3993-4aa2-b71a-4c8d75671a54",
   "metadata": {},
   "outputs": [
    {
     "data": {
      "text/plain": [
       "[[1, 2], [10, 30], [100, 200, 300]]"
      ]
     },
     "execution_count": 55,
     "metadata": {},
     "output_type": "execute_result"
    }
   ],
   "source": [
    "matrix"
   ]
  },
  {
   "cell_type": "code",
   "execution_count": null,
   "id": "88ee1a46-6370-471e-8017-985fdaeba8d4",
   "metadata": {},
   "outputs": [],
   "source": []
  }
 ],
 "metadata": {
  "kernelspec": {
   "display_name": "Python 3 (ipykernel)",
   "language": "python",
   "name": "python3"
  },
  "language_info": {
   "codemirror_mode": {
    "name": "ipython",
    "version": 3
   },
   "file_extension": ".py",
   "mimetype": "text/x-python",
   "name": "python",
   "nbconvert_exporter": "python",
   "pygments_lexer": "ipython3",
   "version": "3.10.3"
  }
 },
 "nbformat": 4,
 "nbformat_minor": 5
}
